{
 "cells": [
  {
   "cell_type": "markdown",
   "metadata": {},
   "source": [
    "# <center> Chapitre 13 : Révisions - Les huîtres (Corrigé) </center>\n",
    "\n",
    "\n",
    "## Question 1 : Une dictionnaire pour les huîtres.\n",
    "On souhaite développer un programme de simulation de culture ostréicole (culture des huîtres). Pour cela, on a besoin d'un dictionnaire `huitre` comprenant les champs :\n",
    "- `contaminee` qui décrit si l'huître est malade ou non,\n",
    "- `perles` qui décrit le nombre de perles contenues dans l'huître,\n",
    "- `poids` décrivant le poids en grammes de l'huître (avec une précision au dixième de gramme).\n",
    "\n",
    "Quel est le type adapté à chacun de ces champs  ?"
   ]
  },
  {
   "cell_type": "markdown",
   "metadata": {},
   "source": [
    "**CORRECTION**\n",
    "- `contaminee` est un booléen\n",
    "- `perles` est un entier\n",
    "- `poids` est un flottant"
   ]
  },
  {
   "cell_type": "markdown",
   "metadata": {},
   "source": [
    "## Question 2 : Saisie contrôlée d'entiers positifs\n",
    "Définir une fonction de saisie contrôlée `saisie_ent_pos_st()` répondant aux spécifications suivantes:\n",
    "- La fonction renvoie un entier saisi par un utilisateur et dont la saisie est contrôlées de sorte que l'entier soit strictement positif.\n",
    "- La fonction affiche le message d'invite suivant avant chaque saisie:\n",
    "```\n",
    "Saisir un entier strictement positif\n",
    "```"
   ]
  },
  {
   "cell_type": "code",
   "execution_count": null,
   "metadata": {},
   "outputs": [],
   "source": [
    "def saisie_ent_pos_st() :\n",
    "    res=-1\n",
    "    while res <=0 :\n",
    "        print(\"Saisir un entier strictement positif\")\n",
    "        res=int(input())\n",
    "    return res"
   ]
  },
  {
   "cell_type": "markdown",
   "metadata": {},
   "source": [
    "## Question 3 : Affichage d'une huître\n",
    "Proposer une fonction `affiche_huitre()` qui affiche de façon formatée une huître passée en paramètre. L'affichage prendra la forme suivante:\n",
    "-  `H[Saine, 10.3, ]`, pour une huître non contaminée d'un poids de 10.3 grammes et contenant aucune perle;\n",
    "- `H[Infec, 70.9, 3]`, pour une huître contaminée d'un poids de 70.9 grammes et contenant 3 perles."
   ]
  },
  {
   "cell_type": "code",
   "execution_count": null,
   "metadata": {},
   "outputs": [],
   "source": [
    "def affiche_huitre(h) :\n",
    "    if h['contaminee'] :\n",
    "        contagion=\"Infec\"\n",
    "    else :\n",
    "        contagion=\"Saine\"\n",
    "    print(\"H[\", contagion, \", \", h['poids'], \", \", h['perles'], \"]\") "
   ]
  },
  {
   "cell_type": "markdown",
   "metadata": {},
   "source": [
    "## Question 4 : Croissance d'une huître\n",
    "Définir une fonction `croissance()` qui permet de simuler la croissance d'une huitre passée en paramètre. Le taux de croissance est également passé en paramètre, sous forme d'un pourcentage. Par exemple avec un taux de croissance de 10\\% le poids de l'huître croît de 10\\%."
   ]
  },
  {
   "cell_type": "code",
   "execution_count": null,
   "metadata": {},
   "outputs": [],
   "source": [
    "def croissance(h, taux ) : \n",
    "    h['poids'] *= 1. + taux / 100 "
   ]
  },
  {
   "cell_type": "markdown",
   "metadata": {},
   "source": [
    "## Question 5 : Un programme principal\n",
    "\n",
    "- Ecrire un programme principal permettant d'initialiser le contenu d'un tableau `casier` avec un nombre d'huitres demandé à l'utilisateur. Pour cela on utilisera la fonction `saisie_ent_pos_st()` définie précédemment. Le casier est initialisé avec des huitres non-contaminées, ne contenant pas de perle et dont le poids est un nombre aléatoire compris entre 3 et 5 grammes.\n",
    "\n",
    "On rappelle que la fonction `random()` renvoie un flottant compris entre 0 et 1."
   ]
  },
  {
   "cell_type": "code",
   "execution_count": null,
   "metadata": {},
   "outputs": [],
   "source": [
    "from random import *\n",
    "\n",
    "casier=[]\n",
    "nb_huitres = saisie_ent_pos_st(\"Saisie du nombre d'huître :\") \n",
    "h=0\n",
    "while (h < nb_huitres) :\n",
    "    huitre={'contaminee' : False, 'perles':0, 'poids':3.0 + 2.0 * random()}\n",
    "    casier.append(huitre)\n",
    "    h=h+1"
   ]
  },
  {
   "cell_type": "markdown",
   "metadata": {},
   "source": [
    "- Ajouter au programme principal une opération permettant d'initialiser un tableau `tab_poids` contenant les poids des huitres d'un casier. La taille  de ce tableau est la même que celle du casier. **Par la suite, on supposera que l'on dispose de ce tableau de poids.**"
   ]
  },
  {
   "cell_type": "code",
   "execution_count": null,
   "metadata": {},
   "outputs": [],
   "source": [
    "tab_poids = [] \n",
    "h=0\n",
    "while h < len(casier):\n",
    "    tmp=casier[h]\n",
    "    tab_poids.append(tmp['poids'])\n",
    "    h=h+1"
   ]
  },
  {
   "cell_type": "markdown",
   "metadata": {},
   "source": [
    "## Question 6 : Simulation d'un parc à huitres\n",
    "\n",
    "L'ostréiculteur souhaite déterminer le nombre de semaines d'attente nécessaires avant de sortir les huitres de leur milieu de culture pour les mettre en bourriches. Pour cela il va simuler de façon simplifiée la croissance des huitres en ne considérant dans un premier temps que le facteur de poids. \n",
    "\n",
    "**À partir d'ici, la notion de casier est abandonnée.** Chaque huître est représentée par un poids mémorisé dans un tableau (celui défini à la question précédente). <br>\n",
    "*À partir d'ici, on ne manipule donc plus qu'un tableau de poids `tab_poids`.*\n",
    "\t\t\n",
    "Les huîtres croissent en une semaine selon les règles suivantes :\n",
    "\n",
    "Le poids d'une huître `h_i` à une semaine `s` (noté `poids(h_i,s)`) dépend de son propre poids à la semaine `s-1` et du poids des huîtres adjacentes (dans le tableau) à la semaine `s-1` :\n",
    "- Si le poids de l'huître `h_i` est égale à la moyenne des poids des huîtres adjacentes à plus ou moins 10\\% près alors le poids de l'huître `h_i` augmente de 15\\%.\n",
    "- Si le poids de l'huître `h_i` est supérieur à cette fourchette alors le poids de l'huître `h_i` augmente 20 grammes,\n",
    "- Si le poids de l'huître`h_i` est inférieur à cette fourchette alors le poids de l'huître ne change pas.\n",
    "- Dans tous les cas une huître ne peut dépasser le poids de 200 grammes.\n",
    "\n",
    "Pour les huîtres des extrémités (celles du début et de la fin du tableau) la formule ne peut être la même car elles n'ont qu'un seul voisin. Dans ce cas, dans les règles précédentes, la moyenne des poids des 2 voisins est remplacée par le poids de l'unique voisin.\n",
    "\t\t\n",
    "- Définir une fonction `poids_suivant()` qui prend 2 paramètres: le poids d'une huître et le poids moyen de ses deux voisines `vois` (ou le poids de son unique voisin) et renvoie le poids de l'huître après une semaine de croissance."
   ]
  },
  {
   "cell_type": "code",
   "execution_count": null,
   "metadata": {},
   "outputs": [],
   "source": [
    "def poids_suivant(p_h, p_vois) :\n",
    "    if p_h <= 1.1*p_vois and p_h >= 0.9*p_vois :\n",
    "        res = 1.15*p_h \n",
    "    elif p_h > 1.1 * p_vois :\n",
    "        res = 20.0 + p_h \n",
    "    else :  #p_h < 0.9 * p_vois  \n",
    "        res = p_h \n",
    "    if  res > 200 :\n",
    "        return 200 \n",
    "    else :\n",
    "        return res "
   ]
  },
  {
   "cell_type": "markdown",
   "metadata": {},
   "source": [
    "- Définir une fonction `cycle()` permettant d'appliquer un cycle de croissance d'une semaine à l'ensemble d'un tableau de poids passé en paramètre. Les poids du tableau sont modifiés par la fonction et les modification répercutées dans le programme appelant. On utilisera la fonction `poid_suivant()` et on fera attention aux cas des cases de début et de fin du tableau.\n",
    "\n",
    "**Attention:** Lors de cette procédure de mise à jour des poids, on veillera à ne pas écraser le contenu d'une case du tableau tant qu'on en aura besoin. Par exemple, on ne peut pas modifier le poids de l'huitre `h_i` avant d'avoir calculé le nouveau poids de l'huitre `h_{i+1}`."
   ]
  },
  {
   "cell_type": "code",
   "execution_count": null,
   "metadata": {},
   "outputs": [],
   "source": [
    "def  cycle(tab_poids):\n",
    "    buf =[]\n",
    "    h=0\n",
    "    while h < len(tab_poids) :\n",
    "        if  h == 0  :\n",
    "            p_vois = tab_poids[h+1] \n",
    "        elif h == neff - 1 :\n",
    "            p_vois = tab_poids[h-1] \n",
    "        else :\n",
    "            p_vois = ( tab_poids[h-1] + tab_poids[h+1] ) / 2\n",
    "    buf[h] = poids_suivant( p_h, p_vois) \n",
    "    h=0\n",
    "    while  h < len(tab_poids) :\n",
    "        tab_poids[h] = buf[h] \n",
    "        h+=1"
   ]
  },
  {
   "cell_type": "markdown",
   "metadata": {},
   "source": [
    "- Définir un programme principal qui permet de calculer et d'afficher le nombre de semaines nécessaires pour que la somme des poids du huitres atteigne un poids total de 5 kilogrammes (*i.e.*, le nombre de `cycle` à appliquer au tableau pour que la somme de ses éléments atteigne un total de 5 kilogrammes)."
   ]
  },
  {
   "cell_type": "code",
   "execution_count": null,
   "metadata": {},
   "outputs": [],
   "source": [
    "def poids_total(tab):\n",
    "    somme = 0\n",
    "    h =0\n",
    "    while h < len(tab_poids):\n",
    "        somme = tab_poids[h]\n",
    "        h+=1\n",
    "    return somme\n",
    "\n",
    "nb_cycles=0\n",
    "while poids_total(tab_poids) < 5000 : \n",
    "    cycle(tab_poids)   \n",
    "    nb_cycles+=1\n",
    "\n",
    "print(\"Nombre de cycles = \", nb_cycles) "
   ]
  },
  {
   "cell_type": "markdown",
   "metadata": {},
   "source": [
    "Sur le marché les huitres se vendent en petites bourriches de 20 huitres de même calibre. On considère qu'il existe 2 calibres:\n",
    "- [Calibre 1] les huitres dont le poids est inférieur à 150 grammes.\n",
    "- [Calibre 2] les huitres dont le poids est supérieur ou égal à 150 grammes. <br>\n",
    "\t\n",
    "    \n",
    "- Définir une fonction `nombre_bourriches()` qui prend en paramètre un tableau de poids et qui affiche le nombre de bourriches complètes de chaque calibre qu'il est possible de faire."
   ]
  },
  {
   "cell_type": "code",
   "execution_count": null,
   "metadata": {},
   "outputs": [],
   "source": [
    "def nombre_bourriches(tab_poids):\n",
    "    cal_1 = 0\n",
    "    cal_2 = 0\n",
    "    h=0\n",
    "    while h < len(tab_poids):\n",
    "        if tab_poids < 150 :\n",
    "            cal_1 +=1\n",
    "        else :\n",
    "            cal_2 +=1\n",
    "        h=h+1 \n",
    "    print(cal_1//20, \"bourriches complètes de Calibre 1\")\n",
    "    print(cal_2//20, \"bourriches complètes de Calibre 2\")"
   ]
  },
  {
   "cell_type": "markdown",
   "metadata": {},
   "source": [
    "- Quelles sont les modifications à apporter à la fonction `nombre_bourriches()` pour qu'elle puisse selon les cas (selon le choix de celui qui l'utilise), alternativement renvoyer le nombre de bourriches complètes ou le nombre de bourriches total (complètes + commencées). "
   ]
  },
  {
   "cell_type": "markdown",
   "metadata": {},
   "source": [
    "**Correction** :\n",
    "\n",
    "Il faut prévoir un paramètre booléen permettant à l'utilisateur de décider ce qu'il veut: nombre de bourriches complètes ou nombre de total de bourriches, et ajouter une alternative permettant d'ajouter 1 au nombre de bourriches si le reste de la division par 20 n'est pas nul."
   ]
  },
  {
   "cell_type": "markdown",
   "metadata": {},
   "source": [
    "- Proposer un programme principal permettant d'afficher le nombre de bourriches complètes de chaque calibre en utiisant la fonction `nombre_bourriches()`."
   ]
  },
  {
   "cell_type": "code",
   "execution_count": null,
   "metadata": {},
   "outputs": [],
   "source": [
    "nombre_bourriches(tab_poids)"
   ]
  }
 ],
 "metadata": {
  "kernelspec": {
   "display_name": "Python 3",
   "language": "python",
   "name": "python3"
  },
  "language_info": {
   "codemirror_mode": {
    "name": "ipython",
    "version": 3
   },
   "file_extension": ".py",
   "mimetype": "text/x-python",
   "name": "python",
   "nbconvert_exporter": "python",
   "pygments_lexer": "ipython3",
   "version": "3.7.4"
  },
  "latex_envs": {
   "LaTeX_envs_menu_present": true,
   "autoclose": false,
   "autocomplete": true,
   "bibliofile": "biblio.bib",
   "cite_by": "apalike",
   "current_citInitial": 1,
   "eqLabelWithNumbers": true,
   "eqNumInitial": 1,
   "hotkeys": {
    "equation": "Ctrl-E",
    "itemize": "Ctrl-I"
   },
   "labels_anchors": false,
   "latex_user_defs": false,
   "report_style_numbering": false,
   "user_envs_cfg": false
  }
 },
 "nbformat": 4,
 "nbformat_minor": 2
}
