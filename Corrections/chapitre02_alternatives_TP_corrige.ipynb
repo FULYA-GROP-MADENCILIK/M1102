{
 "cells": [
  {
   "cell_type": "markdown",
   "metadata": {},
   "source": [
    "# <center>Chapitre 2 : Alternatives - TP corrigé</center>"
   ]
  },
  {
   "cell_type": "markdown",
   "metadata": {
    "deletable": false,
    "editable": false,
    "run_control": {
     "frozen": true
    }
   },
   "source": [
    "## Lien avec Python Tutor\n",
    "\n",
    "Le site Web [Python Tutor](http://pythontutor.com/) permet de visualiser l'exécution d'un code en python, ce qui aide à comprendre son fonctionnement. On utilisera l'extension *tutormagic* qui permet de créer des fenêtres ou des liens hypertexte sur Python Tutor avec le code écrit dans une cellule.\n",
    "\n",
    "Pour cela, il faut exécuter une seule fois le code de la première cellule (pour charger tutormagic)"
   ]
  },
  {
   "cell_type": "code",
   "execution_count": null,
   "metadata": {},
   "outputs": [],
   "source": [
    "# Cellule à exécuter pour pouvoir exécuter le code suivant\n",
    "%load_ext tutormagic"
   ]
  },
  {
   "cell_type": "markdown",
   "metadata": {
    "deletable": false,
    "editable": false,
    "run_control": {
     "frozen": true
    }
   },
   "source": [
    "Pour visualiser l'exécution d'un code, il suffit d'ajouter tout au début de la cellule où se trouve ce code l'une ou l'autre des deux lignes de code suivantes : \n",
    "```python\n",
    "%%tutor -r -l python3 # Lorsque ce code est exécuté, une  pythontutor s'ouvre dans le notebook\n",
    "```\n",
    "ou \n",
    "```python\n",
    "%%tutor -k #Lorsque ce code est exécuté, un lien hypertexte vers pythontutor est créé.\n",
    "```\n",
    "Cela crée  en dessous de la cellule contenant le code une fenêtre ou un lien hypertexte vers le site web Python Tutor permettant la visualisation de ce code. \n",
    "\n",
    "Python Tutor est très facile à utiliser. À gauche se trouve le code que l'on souhaite visualiser. En dessous se trouvent des flèches permettant d'exécuter les instructions du programme les unes à la suite des autres. A gauche du code se trouvent deux flèches  permattant de suivre l'évolution de l'exécution du code : \n",
    "* une flèche verte indique l'instruction qui vient d'être exécutée,\n",
    "* une flèche rouge indique la prochaine instruction qui sera exécutée.\n",
    "\n",
    "La partie droite représente l'état de la mémoire de l'ordinateur ainsi que l'affichage produit par le code durant l'exécution du programme."
   ]
  },
  {
   "cell_type": "markdown",
   "metadata": {
    "deletable": false,
    "editable": false,
    "run_control": {
     "frozen": true
    }
   },
   "source": [
    "## Exercice 1 : Exécution du programme avec Python Tutor.\n",
    "\n",
    "1. Déterminer sur une feuille l'affichage obtenu par l'exécution du programme.\n",
    "\n",
    "2. Exécuter ensuite ce programme puis cliquer sur le lien hypertexte. Suivre pas à pas l'exécution du programme pour comprendre son fonctionnement. Vérifier que l'affichage obtenu est celui prédit."
   ]
  },
  {
   "cell_type": "code",
   "execution_count": null,
   "metadata": {},
   "outputs": [],
   "source": [
    "%%tutor -k\n",
    "\n",
    "interrupteur = False\n",
    "intensite = 0\n",
    "interrupteur = not(interrupteur)\n",
    "if interrupteur: \n",
    "    print(\"lampe allumée\")\n",
    "    intensite = intensite+1\n",
    "else:\n",
    "    print(\"lampe éteinte\")\n",
    "\n",
    "interrupteur = not(interrupteur)\n",
    "\n",
    "if interrupteur: \n",
    "    print(\"lampe allumée\")\n",
    "    intensite = intensite+1\n",
    "else:\n",
    "    print(\"lampe éteinte\")\n",
    "\n",
    "interrupteur = not(interrupteur)\n",
    "\n",
    "if interrupteur : \n",
    "    print(\"lampe allumée\")\n",
    "    intensite = intensite+1\n",
    "else:\n",
    "    print(\"lampe éteinte\")\n",
    "\n",
    "interrupteur = not(interrupteur)\n",
    "\n",
    "if interrupteur: \n",
    "    print(\"lampe allumée\")\n",
    "    intensite = intensite+1\n",
    "else:\n",
    "    print(\"lampe éteinte\")\n",
    "\n",
    "interrupteur = not(interrupteur)\n",
    "\n",
    "if interrupteur: \n",
    "    print(\"lampe allumée\")\n",
    "    intensite = intensite+1\n",
    "else:\n",
    "    print(\"lampe éteinte\")\n",
    "print(\"Intensité : \" + str(intensite))"
   ]
  },
  {
   "cell_type": "markdown",
   "metadata": {
    "deletable": false,
    "editable": false,
    "run_control": {
     "frozen": true
    }
   },
   "source": [
    "## Exercice 2 : Pair ou impair ?\n",
    "\n",
    "Écrire un programme demandant à l'utilisateur de saisir un nombre entier. Le programme affiche alors si l'entier saisi est pair ou impair."
   ]
  },
  {
   "cell_type": "code",
   "execution_count": null,
   "metadata": {},
   "outputs": [],
   "source": [
    "#------------------------------#\n",
    "#    CORRECTION  ! ! ! ! ! !   #\n",
    "#------------------------------#\n",
    "nb = int(input())\n",
    "if nb%2==0:\n",
    "    print(nb, \"est pair\")\n",
    "else:\n",
    "    print(nb, \"est impair\")"
   ]
  },
  {
   "cell_type": "markdown",
   "metadata": {
    "deletable": false,
    "editable": false,
    "run_control": {
     "frozen": true
    }
   },
   "source": [
    "## Exercice 3 : Exécution du programme avec Python tutor\n",
    "\n",
    "### Question 1\n",
    "\n",
    "1. Exécuter la cellule suivante puis cliquer sur le lien hypertexte. En visualisant étape par étape le déroulement de l'algorithme, déterminer combien de comparaisons sont faites lorsque `nb` vaut 14.\n",
    "\n",
    "2. Même question lorsque `nb` vaut 10.\n",
    "\n",
    "3. Même question lorsque `nb` vaut 2."
   ]
  },
  {
   "cell_type": "code",
   "execution_count": null,
   "metadata": {},
   "outputs": [],
   "source": [
    "%%tutor -k #Lorsque vous exécuter ce code, cela crée en plus un lien hypertexte vers pythontutor.\n",
    "nb = 14\n",
    "if nb < 4 :\n",
    "    print(\"Quelques\")\n",
    "elif nb < 7 :\n",
    "    print(\"Un peu\")\n",
    "elif nb < 15 :\n",
    "    print(\"Pas mal\")\n",
    "elif nb < 50 : \n",
    "    print(\"Beaucoup\")\n",
    "else :\n",
    "    print(\"Innombrables\")"
   ]
  },
  {
   "cell_type": "markdown",
   "metadata": {},
   "source": [
    "**CORRECTION :** \n",
    "- Quand `nb` vaut 14, 3 comparaisons sont effectuées.\n",
    "- Quand `nb' vaut 5, 2 comparaisons sont effectuées \n",
    "- Quand `nb`vaut 2, 1 comparaison est effectuée."
   ]
  },
  {
   "cell_type": "markdown",
   "metadata": {
    "deletable": false,
    "editable": false,
    "run_control": {
     "frozen": true
    }
   },
   "source": [
    "### Question 2\n",
    "\n",
    "Le code suivant produit le même affichage (lorsque `nb` vaut 2). Compter le nombre de comparaisons effectuées par rapport au premier code. Quel est le meilleur code ?\n",
    "\n",
    "**Attention :** Un test peut contenir plusieurs comparaisons."
   ]
  },
  {
   "cell_type": "code",
   "execution_count": null,
   "metadata": {},
   "outputs": [],
   "source": [
    "%%tutor -k #Lorsque vous exécuter ce code, cela crée en plus un lien hypertexte vers pythontutor.\n",
    "nb = 2\n",
    "if nb < 4 :\n",
    "    print(\"Quelques\")\n",
    "if nb >= 4 and nb < 7 :\n",
    "    print(\"Un peu\")\n",
    "if nb >= 7 and nb < 15 :\n",
    "    print(\"Pas mal\")\n",
    "if nb >= 15 and nb < 50 : \n",
    "    print(\"Beaucoup\")\n",
    "if nb >= 50 :\n",
    "    print(\"Innombrables\")"
   ]
  },
  {
   "cell_type": "markdown",
   "metadata": {
    "deletable": false,
    "editable": false,
    "run_control": {
     "frozen": true
    }
   },
   "source": [
    "**CORRECTION :**\n",
    "\n",
    "Les deux algorithmes produisent le même résultat mais le deuxième effectue davantage de comparaisons.\n",
    "Par exemple, lorsque `nb` vaut 2, le premier algorithme fait 1 comparaison alors que le deuxième en fait 8. D'une manière plus générale, le premier algorithme fait entre 1 et 4 comparaisons alors que le deuxième en fait toujours 8.\n",
    "\n",
    "Utiliser les `if`/`elif`/`else` permet d'écrire des codes plus rapides et plus clairs. "
   ]
  },
  {
   "cell_type": "markdown",
   "metadata": {
    "deletable": false,
    "editable": false,
    "run_control": {
     "frozen": true
    }
   },
   "source": [
    "## Exercice 4 : Celsius vs Farhenheit\n",
    "\n",
    "Pour mesurer une température, il existe plusieurs unités de mesure. Il est notamment possible de mesurer une température en degrés Celsius ou en degré Farhenheit et la relation est la suivante : \n",
    "\n",
    "$$T(°F) = \\frac{9}{5} T(°C) + 32.$$\n",
    "\n",
    "### Question 1 :\n",
    "Écrire un programme permettant à l'utilisateur de saisir une valeur flottante ainsi que son choix : \n",
    "1. Convertir cette valeur en degrés Farhenheit (la valeur saisie est en Celsius)\n",
    "2. Convertir cette valeur en degrés Celsius (la valeur saisie est en Farhenheit)\n",
    "\n",
    "Le programme affiche alors la température convertie."
   ]
  },
  {
   "cell_type": "code",
   "execution_count": null,
   "metadata": {},
   "outputs": [],
   "source": [
    "#------------------------------#\n",
    "#    CORRECTION  ! ! ! ! ! !   #\n",
    "#------------------------------#\n",
    "print(\"Saisir la température : \")\n",
    "temperature = float(input())\n",
    "print(\"Convertir : \")\n",
    "print(\"    1 - en degrés Farhenheit\")\n",
    "print(\"    2 - en degrés Celsius\")\n",
    "print(\"Quel est votre choix ?\")\n",
    "choix = int(input())\n",
    "if choix == 1:\n",
    "    temperature = temperature * 9 / 5 + 32\n",
    "else:\n",
    "    temperature = (temperature - 32) * 5/9\n",
    "print(\"Température convertie : \",temperature)"
   ]
  },
  {
   "cell_type": "markdown",
   "metadata": {
    "deletable": false,
    "editable": false,
    "run_control": {
     "frozen": true
    }
   },
   "source": [
    "### Question 2 :\n",
    "\n",
    "Écrire un programme permettant à l'utilisateur de saisir deux températures, la première en degrés Celsius et la seconde en degrés Farhenheit. Le programme affiche alors si les deux températures sont équivalentes ou non.\n",
    "\n",
    "**Attention :** Les valeurs à comparer sont des flottants et ne peuvent donc pas être comparés avec le symbole `==`. "
   ]
  },
  {
   "cell_type": "code",
   "execution_count": null,
   "metadata": {},
   "outputs": [],
   "source": [
    "#------------------------------#\n",
    "#    CORRECTION  ! ! ! ! ! !   #\n",
    "#------------------------------#\n",
    "import math\n",
    "\n",
    "print(\"Température en degrés Celsius : \")\n",
    "celsius = float(input())\n",
    "print(\"Température en degrés Farhenheit : \")\n",
    "farhenheit = float(input())\n",
    "\n",
    "if math.isclose(celsius * 9 / 5 + 32, farhenheit):\n",
    "    print(\"Les températures sont identiques\")\n",
    "else:\n",
    "    print(\"Les températures sont différentes\")"
   ]
  },
  {
   "cell_type": "markdown",
   "metadata": {
    "deletable": false,
    "editable": false,
    "run_control": {
     "frozen": true
    }
   },
   "source": [
    "## Exercice 5 : Facture pour la reprographie\n",
    "\n",
    "Un magasin de reprographie facture 0,10&euro; les dix premières photocopies, 0,09&euro; les vingt\n",
    " suivantes et 0,08&euro; au-delà. Ainsi, 18 photocopies coûtent 1,72&euro; (10\\*0,10+8\\*0,09=1,72). \n",
    " \n",
    "Ecrire un algorithme qui demande à l'utilisateur le nombre de photocopies effectuées et qui affiche la facture correspondante. Veiller à faire le moins possible  de tests."
   ]
  },
  {
   "cell_type": "code",
   "execution_count": null,
   "metadata": {},
   "outputs": [],
   "source": [
    "#------------------------------#\n",
    "#    CORRECTION  ! ! ! ! ! !   #\n",
    "#------------------------------#\n",
    "print(\"Nombre de photocopies : \")\n",
    "n = int(input())\n",
    "if n <= 10 :\n",
    "    p  = n * 0.1\n",
    "elif  n <= 30 :\n",
    "    p  = 10 * 0.1 + (n - 10) * 0.09\n",
    "else:\n",
    "    p = 10 * 0.1 + 20 * 0.09 + (n - 30) * 0.08\n",
    "\n",
    "print(\"Le prix total est: \",p, \" euros.\")"
   ]
  },
  {
   "cell_type": "markdown",
   "metadata": {
    "deletable": false,
    "editable": false,
    "run_control": {
     "frozen": true
    }
   },
   "source": [
    "## Exercice 6 : L'impôt au pays de *Zorglubland*\n",
    "\n",
    "Les habitants de *Zorglubland* paient l'impôt selon les règles suivantes :\n",
    "*  les hommes de plus de 20 ans paient l'impôt,\n",
    "*  les femmes paient l'impôt si elles ont entre 18 et 35 ans,\n",
    "*  les autres ne paient pas d'impôt.\n",
    "\n",
    "Écrire un programme demandant l'âge et le sexe du *Zorglubien* et affichant si l'habitant est imposable ou pas."
   ]
  },
  {
   "cell_type": "code",
   "execution_count": null,
   "metadata": {},
   "outputs": [],
   "source": [
    "#------------------------------#\n",
    "#    CORRECTION  ! ! ! ! ! !   #\n",
    "#------------------------------#\n",
    "print(\"Entrez le sexe (M/F) :\")\n",
    "sexe = input()\n",
    "print(\"Entrez un age :\")\n",
    "age = int(input())\n",
    "if (sexe == \"M\" and  age > 20) or (sexe == \"F\" and age > 18 and age < 35):\n",
    "    print(\"Vous êtes imposable.\")\n",
    "else:\n",
    "    print(\"Vous n'êtes pas imposable.\")  "
   ]
  },
  {
   "cell_type": "markdown",
   "metadata": {
    "deletable": false,
    "editable": false,
    "run_control": {
     "frozen": true
    }
   },
   "source": [
    "## Exercice 7 : Dans une seconde, il sera ...\n",
    "\n",
    "Écrire un algorithme qui demande à l'utilisateur l'heure, les minutes et les secondes, et affiche\n",
    "l'heure qu'il sera une seconde plus tard. \n",
    "Par exemple, si l'utilisateur tape 21 puis 32 puis 8, l'algorithme doit répondre :\n",
    "```\n",
    "Dans une seconde, il sera 21 heure(s) 32 minute(s) et 9 secondes\".\n",
    "```\n",
    "**Remarque :** On commencera par vérifier que l'utilisateur entre une heure\n",
    " valide. "
   ]
  },
  {
   "cell_type": "code",
   "execution_count": null,
   "metadata": {},
   "outputs": [],
   "source": [
    "#------------------------------#\n",
    "#    CORRECTION  ! ! ! ! ! !   #\n",
    "#------------------------------#\n",
    "print(\"heure :\")\n",
    "h = int(input())\n",
    "print(\"minutes :\")\n",
    "m = int(input())\n",
    "print(\"secondes :\")\n",
    "s = int(input())\n",
    "\n",
    "if s < 0 or s > 59 or m < 0 or m > 59 or h < 0 or h > 23:\n",
    "    print(\"heure invalide\")\n",
    "else :\n",
    "    s = s + 1\n",
    "    if s == 60:\n",
    "        s = 0 \n",
    "        m = m + 1 \n",
    "        if m == 60:\n",
    "            m = 0 \n",
    "            h = h + 1 \n",
    "            if h == 24: \n",
    "                h = 0 \n",
    "    print(\"Dans une seconde, il sera \",h ,\" heure(s) \",m ,\" minute(s) et \", s ,\" seconde(s)\")"
   ]
  }
 ],
 "metadata": {
  "kernelspec": {
   "display_name": "Python 3",
   "language": "python",
   "name": "python3"
  },
  "language_info": {
   "codemirror_mode": {
    "name": "ipython",
    "version": 3
   },
   "file_extension": ".py",
   "mimetype": "text/x-python",
   "name": "python",
   "nbconvert_exporter": "python",
   "pygments_lexer": "ipython3",
   "version": "3.6.4"
  },
  "latex_envs": {
   "LaTeX_envs_menu_present": true,
   "autoclose": false,
   "autocomplete": true,
   "bibliofile": "biblio.bib",
   "cite_by": "apalike",
   "current_citInitial": 1,
   "eqLabelWithNumbers": true,
   "eqNumInitial": 1,
   "hotkeys": {
    "equation": "Ctrl-E",
    "itemize": "Ctrl-I"
   },
   "labels_anchors": false,
   "latex_user_defs": false,
   "report_style_numbering": false,
   "user_envs_cfg": false
  }
 },
 "nbformat": 4,
 "nbformat_minor": 2
}
