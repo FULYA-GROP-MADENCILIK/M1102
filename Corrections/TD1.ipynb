{
 "cells": [
  {
   "cell_type": "markdown",
   "metadata": {},
   "source": [
    "# <center>Chapitre 1 : Séquentialité et variables - TD corrigé</center>"
   ]
  },
  {
   "cell_type": "markdown",
   "metadata": {},
   "source": [
    "## Exercice 1 : Séquences d'instructions*\n",
    "\n",
    "Qu'affichent les programmes suivants ?"
   ]
  },
  {
   "cell_type": "code",
   "execution_count": null,
   "metadata": {},
   "outputs": [],
   "source": [
    "print(1)\n",
    "print(2)\n",
    "print(3)"
   ]
  },
  {
   "cell_type": "code",
   "execution_count": null,
   "metadata": {},
   "outputs": [],
   "source": [
    "print(2)\n",
    "print(1)\n",
    "print(3)"
   ]
  },
  {
   "cell_type": "markdown",
   "metadata": {},
   "source": [
    "### Exercice 2 : Noms de variables*\n",
    "Parmi ces exemples, seuls certains sont des noms de variable valides. Lesquels ?\n",
    "- `x`\n",
    "- `x1`\n",
    "- `X1`\n",
    "- `toto`\n",
    "- `éric`\n",
    "- `_eric`\n",
    "- `t_42`\n",
    "- `24_t`"
   ]
  },
  {
   "cell_type": "markdown",
   "metadata": {},
   "source": [
    "**CORRECTION :**  \n",
    "Le nom `éric` n’est pas valide car il contient un caractère accentué.\n",
    "Le nom `24_t` ne l’est pas non plus car il\n",
    "commence par un chiffre."
   ]
  },
  {
   "cell_type": "markdown",
   "metadata": {},
   "source": [
    "### Exercice 3 : Séquentialité et modifications successives des valeurs des variables*\n",
    "\n",
    "Qu'affiche le programme suivant ? Pour répondre à la question, dessiner les cases mémoire à chaque étape de l'exécution du programme."
   ]
  },
  {
   "cell_type": "code",
   "execution_count": null,
   "metadata": {},
   "outputs": [],
   "source": [
    "toto = 4\n",
    "print(toto)\n",
    "toto = 5 + 5\n",
    "print(toto)\n",
    "tata = toto + 4\n",
    "print(tata)\n",
    "tata = tata + 5\n",
    "print(toto)\n",
    "tata = tata + (toto*2)\n",
    "print(tata)"
   ]
  },
  {
   "cell_type": "code",
   "execution_count": 1,
   "metadata": {},
   "outputs": [],
   "source": [
    "# Cellule à exécuter pour pouvoir exécuter le code suivant\n",
    "%load_ext tutormagic"
   ]
  },
  {
   "cell_type": "code",
   "execution_count": null,
   "metadata": {},
   "outputs": [],
   "source": [
    "#------------------------------#\n",
    "#    CORRECTION  ! ! ! ! ! !   #\n",
    "#------------------------------#"
   ]
  },
  {
   "cell_type": "code",
   "execution_count": 2,
   "metadata": {},
   "outputs": [
    {
     "data": {
      "text/html": [
       "\n",
       "        <iframe\n",
       "            width=\"100%\"\n",
       "            height=\"350\"\n",
       "            src=\"http://pythontutor.com/iframe-embed.html#code=toto%20%3D%204%0Aprint%28toto%29%0Atoto%20%3D%205%20%2B%205%0Aprint%28toto%29%0Atata%20%3D%20toto%20%2B%204%0Aprint%28tata%29%0Atata%20%3D%20tata%20%2B%205%0Aprint%28toto%29%0Atata%20%3D%20tata%20%2B%20%28toto%2A2%29%0Aprint%28tata%29%0A&origin=opt-frontend.js&cumulative=false&heapPrimitives=false&textReferences=false&curInstr=0&&verticalStack=false&py=3&rawInputLstJSON=%5B%5D&codeDivWidth=50%25&codeDivHeight=100%25\"\n",
       "            frameborder=\"0\"\n",
       "            allowfullscreen\n",
       "        ></iframe>\n",
       "        "
      ],
      "text/plain": [
       "<IPython.lib.display.IFrame at 0x7fda57d20ed0>"
      ]
     },
     "metadata": {},
     "output_type": "display_data"
    },
    {
     "name": "stdout",
     "output_type": "stream",
     "text": [
      "4\n",
      "10\n",
      "14\n",
      "10\n",
      "39\n"
     ]
    }
   ],
   "source": [
    "%%tutor -r -l python3 #pour visualiser l'exécution du code avec python tutor\n",
    "toto = 4\n",
    "print(toto)\n",
    "toto = 5 + 5\n",
    "print(toto)\n",
    "tata = toto + 4\n",
    "print(tata)\n",
    "tata = tata + 5\n",
    "print(toto)\n",
    "tata = tata + (toto*2)\n",
    "print(tata)"
   ]
  },
  {
   "cell_type": "markdown",
   "metadata": {},
   "source": [
    "### Exercice 4 : Séquentialité et valeur des variables*\n",
    "Qu'affiche le programme suivant ?"
   ]
  },
  {
   "cell_type": "code",
   "execution_count": 3,
   "metadata": {},
   "outputs": [
    {
     "name": "stdout",
     "output_type": "stream",
     "text": [
      "2\n",
      "2\n"
     ]
    }
   ],
   "source": [
    "a=1\n",
    "b=2\n",
    "a=b\n",
    "b=a\n",
    "print(a)\n",
    "print(b)"
   ]
  },
  {
   "cell_type": "markdown",
   "metadata": {},
   "source": [
    "Qu'affiche le programme suivant ? "
   ]
  },
  {
   "cell_type": "code",
   "execution_count": 4,
   "metadata": {},
   "outputs": [
    {
     "name": "stdout",
     "output_type": "stream",
     "text": [
      "1\n",
      "1\n"
     ]
    }
   ],
   "source": [
    "a=1\n",
    "b=2\n",
    "b=a\n",
    "a=b\n",
    "print(a)\n",
    "print(b)"
   ]
  },
  {
   "cell_type": "markdown",
   "metadata": {},
   "source": [
    "### Exercice 5 : Echange des valeurs de deux variables*\n",
    "\n",
    "Que manque-t-il aux programmes précédents pour réaliser un échange\n",
    "entre les valeurs des variables a et b ?\n",
    "\n",
    "Écrire un programme qui\n",
    "réalise un tel échange."
   ]
  },
  {
   "cell_type": "code",
   "execution_count": null,
   "metadata": {},
   "outputs": [],
   "source": [
    "#------------------------------#\n",
    "#    CORRECTION  ! ! ! ! ! !   #\n",
    "#------------------------------#\n",
    "a=1\n",
    "b=2\n",
    "tmp=b  #ajout d'une variable temporaire\n",
    "b=a\n",
    "a=tmp\n",
    "print(a)\n",
    "print(b)"
   ]
  },
  {
   "cell_type": "markdown",
   "metadata": {},
   "source": [
    "### Exercice 6 : Types numériques*"
   ]
  },
  {
   "cell_type": "markdown",
   "metadata": {},
   "source": [
    "A chaque ligne du programme suivant, donner la valeur et le type des\n",
    "variables à gauche de l'opérateur d'affectation."
   ]
  },
  {
   "cell_type": "code",
   "execution_count": null,
   "metadata": {},
   "outputs": [],
   "source": [
    "a = 1.0\n",
    "b = 2\n",
    "c = a + 1\n",
    "d = b + 3\n",
    "c = float(d)\n",
    "a = c / b\n",
    "a = int(c) // b"
   ]
  },
  {
   "cell_type": "code",
   "execution_count": null,
   "metadata": {},
   "outputs": [],
   "source": [
    "#------------------------------#\n",
    "#    CORRECTION  ! ! ! ! ! !   #\n",
    "#------------------------------#\n",
    "a = 1.0         # 1.0 float\n",
    "b = 2           # 2   int\n",
    "c = a + 1       # 2.0 float\n",
    "d = b + 3.      # 5   int\n",
    "c = float(d)    # 5.0 float \n",
    "a = c / b       # 2.5 float\n",
    "a = int(c) // b  # 2   int"
   ]
  },
  {
   "cell_type": "markdown",
   "metadata": {},
   "source": [
    "### Exercice 7 : Types et addition*"
   ]
  },
  {
   "cell_type": "markdown",
   "metadata": {},
   "source": [
    "Donner la valeur des expressions suivantes (**Attention** à la présence des guillemets):\n",
    "- `123 + 123`\n",
    "- `\"123\" + \"123\"`\n",
    "- `123 + \"123\"`\n",
    "- `\"123 + 123\"`"
   ]
  },
  {
   "cell_type": "code",
   "execution_count": null,
   "metadata": {},
   "outputs": [],
   "source": [
    "#------------------------------#\n",
    "#    CORRECTION  ! ! ! ! ! !   #\n",
    "#------------------------------#\n",
    "print(123 + 123)       # 246\n",
    "print(\"123\" + \"123\")   # \"123123\"\n",
    "#print(123 + \"123\")    # TypeError: unsupported operand type(s) for +: 'int' and 'str'\n",
    "print(\"123 + 123\")       # \"123 + 123\""
   ]
  },
  {
   "cell_type": "markdown",
   "metadata": {},
   "source": [
    "### Exercice 8 : Saisie de chaînes de caractères au clavier*"
   ]
  },
  {
   "cell_type": "markdown",
   "metadata": {},
   "source": [
    "Qu'affiche le programme suivant, à supposer que l'utilisateur saisisse `123` puis `456` ?"
   ]
  },
  {
   "cell_type": "code",
   "execution_count": null,
   "metadata": {},
   "outputs": [],
   "source": [
    "a = input()\n",
    "b = input()\n",
    "c = a + b\n",
    "print(c)"
   ]
  },
  {
   "cell_type": "markdown",
   "metadata": {},
   "source": [
    "Quels sont les types de `a`, `b` et `c` ?"
   ]
  },
  {
   "cell_type": "markdown",
   "metadata": {},
   "source": [
    "**CORRECTION :**  \n",
    "Le programme affiche \n",
    "```python\n",
    "123\n",
    "456\n",
    "123456\n",
    "```\n",
    "`a`, `b` et `c` sont des chaînes de caractères (string)."
   ]
  },
  {
   "cell_type": "markdown",
   "metadata": {},
   "source": [
    "### Exercice 9 : Saisie de nombres au clavier*"
   ]
  },
  {
   "cell_type": "markdown",
   "metadata": {},
   "source": [
    "Comment faudrait-il modifier ce programme pour qu'il affiche `579`, à\n",
    "supposer que l'utilisateur saisisse `123` puis `456` ?"
   ]
  },
  {
   "cell_type": "markdown",
   "metadata": {},
   "source": [
    "**NB** : `579` est la somme de `123` et de `456`."
   ]
  },
  {
   "cell_type": "markdown",
   "metadata": {},
   "source": [
    "Désormais, quels sont les types des différentes variables ?"
   ]
  },
  {
   "cell_type": "code",
   "execution_count": 5,
   "metadata": {},
   "outputs": [
    {
     "name": "stdout",
     "output_type": "stream",
     "text": [
      "Quelle est la valeur de a?\n",
      "123\n",
      "Quelle est la valeur de b?\n",
      "456\n",
      "579\n"
     ]
    }
   ],
   "source": [
    "#------------------------------#\n",
    "#    CORRECTION  ! ! ! ! ! !   #\n",
    "#------------------------------#\n",
    "\n",
    "print(\"Quelle est la valeur de a?\")\n",
    "a = int(input())               # a est un int\n",
    "print(\"Quelle est la valeur de b?\")\n",
    "b = int(input())               # b est un int \n",
    "c = a + b                      # c est un int\n",
    "print(c)"
   ]
  },
  {
   "cell_type": "markdown",
   "metadata": {},
   "source": [
    "### Exercice 10 : Adaptation de programmes existants*"
   ]
  },
  {
   "cell_type": "markdown",
   "metadata": {},
   "source": [
    "Que faut-il modifier ce programme pour que ce soit le périmètre qui soit calculé ?"
   ]
  },
  {
   "cell_type": "code",
   "execution_count": null,
   "metadata": {},
   "outputs": [],
   "source": [
    "print('Quelle est la longueur du premier cote ?')\n",
    "cote1 = float(input())\n",
    "print('Quelle est la longueur du deuxieme cote ?')\n",
    "cote2 = float(input())\n",
    "surface = cote1 * cote2\n",
    "print('La surface du rectangle ainsi forme est ', surface)"
   ]
  },
  {
   "cell_type": "code",
   "execution_count": null,
   "metadata": {},
   "outputs": [],
   "source": [
    "#------------------------------#\n",
    "#    CORRECTION  ! ! ! ! ! !   #\n",
    "#------------------------------#\n",
    "\n",
    "#  Pour calculer et afficher le périmètre du rectangle au lieu de sa\n",
    "#  surface, on il faut modifier la ligne 5 du programme précédent :\n",
    "print('Quelle est la longueur du premier cote ?')\n",
    "cote1 = float(input())\n",
    "print('Quelle est la longueur du deuxieme cote ?')\n",
    "cote2 = float(input())\n",
    "perimetre = 2*(cote1 + cote2)\n",
    "print('Le perimetre  du rectangle ainsi forme est ', perimetre)"
   ]
  },
  {
   "cell_type": "markdown",
   "metadata": {},
   "source": [
    "# Pour aller plus loin\n",
    "\n",
    "### Exercice 11 : Calcul de clôture*"
   ]
  },
  {
   "cell_type": "markdown",
   "metadata": {},
   "source": [
    "Écrire un programme qui demande à l'utilisateur les dimensions en mètres d'une zone rectangulaire à clôturer et qui affiche un message intelligible indiquant le nombre de piquets à utiliser, sachant qu'il faut au maximum 2 mètres entre chaque piquet. On suppose que les dimensions en mètres sont des nombres entiers."
   ]
  },
  {
   "cell_type": "code",
   "execution_count": 6,
   "metadata": {},
   "outputs": [
    {
     "name": "stdout",
     "output_type": "stream",
     "text": [
      "Quelle est la longueur du premier cote ?\n",
      "12\n",
      "Quelle est la longueur du deuxieme cote ?\n",
      "25\n",
      "Le perimetre  du rectangle ainsi forme est  74\n",
      "Le nombre maximal de  piquets necessaires pour la cloture est  37.0\n"
     ]
    }
   ],
   "source": [
    "#------------------------------#\n",
    "#    CORRECTION  ! ! ! ! ! !   #\n",
    "#------------------------------#\n",
    "\n",
    "print('Quelle est la longueur du premier cote ?')\n",
    "cote1 = int(input())\n",
    "print('Quelle est la longueur du deuxieme cote ?')\n",
    "cote2 = int(input())\n",
    "perimetre = 2*(cote1 + cote2)\n",
    "print('Le perimetre  du rectangle ainsi forme est ', perimetre)\n",
    "nb_piquets=perimetre/2\n",
    "print('Le nombre maximal de  piquets necessaires pour la cloture est ', nb_piquets)"
   ]
  },
  {
   "cell_type": "markdown",
   "metadata": {},
   "source": [
    "### Exercice 12 : Echange de nombres sans variable intermédiaire**"
   ]
  },
  {
   "cell_type": "markdown",
   "metadata": {},
   "source": [
    "Écrire un programme qui demande à l'utilisateur deux nombres, les affiche, les échange, et les ré-affiche après échange, mais sans utiliser de variable intermédiaire. On pourra utiliser des additions et des soustractions pour ne pas perdre d'information."
   ]
  },
  {
   "cell_type": "markdown",
   "metadata": {},
   "source": [
    "**Remarque :** Cette méthode d'échange sans variable temporaire peut paraît meilleure que la méthode classique.  Elle nécessite cependant que l'ordinateur effectue des additions/soustractions en plus.  Surtout elle est beaucoup moins générale car elle suppose que les variables à échanger sont de type numérique : cette méthode ne fonctionne pas sur des chaînes de caractères par exemple. D'une manière générale, il y a souvent plusieurs manières de résoudre un problème. Le rôle du programmeur consiste à identifier le meilleur algorithme (le meilleur enchaînement d'instructions), compte tenu des hypothèses qu'il lui semble raisonnable de faire."
   ]
  },
  {
   "cell_type": "code",
   "execution_count": null,
   "metadata": {},
   "outputs": [],
   "source": [
    "#------------------------------#\n",
    "#    CORRECTION  ! ! ! ! ! !   #\n",
    "#------------------------------#\n",
    "\n",
    "print('Quel est le premier nombre ?')\n",
    "a=float(input())\n",
    "print('Quel est le deuxieme nombre ?')\n",
    "b=float(input())\n",
    "a=a+b\n",
    "b=a-b\n",
    "a=a-b\n",
    "print('les nombres ont ete echanges')\n",
    "print(a)\n",
    "print(b)"
   ]
  }
 ],
 "metadata": {
  "@webio": {
   "lastCommId": "ac0c2587a1a44e278f0e6a40d954c875",
   "lastKernelId": "198522c3-7f74-423f-8418-baf0d05a6727"
  },
  "kernelspec": {
   "display_name": "Python 3",
   "language": "python",
   "name": "python3"
  },
  "language_info": {
   "codemirror_mode": {
    "name": "ipython",
    "version": 3
   },
   "file_extension": ".py",
   "mimetype": "text/x-python",
   "name": "python",
   "nbconvert_exporter": "python",
   "pygments_lexer": "ipython3",
   "version": "3.7.4"
  },
  "latex_envs": {
   "LaTeX_envs_menu_present": true,
   "autoclose": false,
   "autocomplete": true,
   "bibliofile": "biblio.bib",
   "cite_by": "apalike",
   "current_citInitial": 1,
   "eqLabelWithNumbers": true,
   "eqNumInitial": 1,
   "hotkeys": {
    "equation": "Ctrl-E",
    "itemize": "Ctrl-I"
   },
   "labels_anchors": false,
   "latex_user_defs": false,
   "report_style_numbering": false,
   "user_envs_cfg": false
  },
  "toc": {
   "base_numbering": 1,
   "nav_menu": {},
   "number_sections": true,
   "sideBar": true,
   "skip_h1_title": false,
   "title_cell": "Table of Contents",
   "title_sidebar": "Contents",
   "toc_cell": false,
   "toc_position": {},
   "toc_section_display": true,
   "toc_window_display": false
  },
  "varInspector": {
   "cols": {
    "lenName": 16,
    "lenType": 16,
    "lenVar": 40
   },
   "kernels_config": {
    "python": {
     "delete_cmd_postfix": "",
     "delete_cmd_prefix": "del ",
     "library": "var_list.py",
     "varRefreshCmd": "print(var_dic_list())"
    },
    "r": {
     "delete_cmd_postfix": ") ",
     "delete_cmd_prefix": "rm(",
     "library": "var_list.r",
     "varRefreshCmd": "cat(var_dic_list()) "
    }
   },
   "types_to_exclude": [
    "module",
    "function",
    "builtin_function_or_method",
    "instance",
    "_Feature"
   ],
   "window_display": false
  }
 },
 "nbformat": 4,
 "nbformat_minor": 2
}
