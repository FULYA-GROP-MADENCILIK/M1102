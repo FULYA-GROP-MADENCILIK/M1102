{
 "cells": [
  {
   "cell_type": "markdown",
   "metadata": {},
   "source": [
    "# <center> Chapitre 11 : Chaines de caractères - TD  (Corrigé) </center>"
   ]
  },
  {
   "cell_type": "code",
   "execution_count": null,
   "metadata": {},
   "outputs": [],
   "source": [
    "%load_ext tutormagic"
   ]
  },
  {
   "cell_type": "markdown",
   "metadata": {},
   "source": [
    "## Exercice 1 : Comparaison de chaînes *\n",
    "\n",
    "En Python, on peut comparer 2 chaînes de caractères en utilisant les opérateurs `<`, `>`....\n",
    "Il vous est demandé d'écrire une fonction `compareTo`qui prend deux chaînes `ch1` et `ch2` en entrée  et renvoie\n",
    "- +1 si `ch1` est après `ch2` dans l'ordre lexicographique\n",
    "- -1 si `ch1` est avant `ch2`\n",
    "- 0 sinon\n",
    "\n",
    "sans utiliser les opérateurs entre chaînes précédemment cités !\n"
   ]
  },
  {
   "cell_type": "code",
   "execution_count": null,
   "metadata": {},
   "outputs": [],
   "source": [
    "#------------------------------#\n",
    "#    CORRECTION  ! ! ! ! ! !   #\n",
    "#------------------------------#\n",
    "\n",
    "def compareTo(ch1, ch2):\n",
    "    #parcours de ce qui commun\n",
    "    i=0\n",
    "    while i<len(ch1) and i<len(ch2) and ch1[i] == ch2[i]:\n",
    "        i=i+1\n",
    "    # difference entre ch1 et ch2\n",
    "    if i!=len(ch1) and i != len(ch2):\n",
    "        if ch1[i] < ch2[i] :\n",
    "            res= -1\n",
    "        else :\n",
    "            res= 1\n",
    "    elif len(ch1) > len(ch2) :\n",
    "        res= 1\n",
    "    elif len(ch1) < len(ch2) :\n",
    "        res= -1\n",
    "    else :\n",
    "        res= 0\n",
    "    return res"
   ]
  },
  {
   "cell_type": "code",
   "execution_count": null,
   "metadata": {},
   "outputs": [],
   "source": [
    "def test_compareTo():\n",
    "    assert compareTo(\"Jeu\",\"Jeudi\")==-1\n",
    "    assert compareTo(\"Jeudi\",\"Jeu\")==1\n",
    "    assert compareTo(\"Vendredi\",\"Jeudi\")==1\n",
    "    assert compareTo(\"Mardi\", \"Mercredi\")==-1\n",
    "    assert compareTo(\"Lundi\",\"Lundi\")==0\n",
    "    print(\"test ok\")\n",
    "\n",
    "test_compareTo()"
   ]
  },
  {
   "cell_type": "markdown",
   "metadata": {},
   "source": [
    "## Exercice 2 : Recherche d'un caractère à l'intérieur d'une chaîne de caractères (`index()`)*"
   ]
  },
  {
   "cell_type": "markdown",
   "metadata": {},
   "source": [
    "Un des traitements les plus courants est la recherche d'un (unique) caractère à l'intérieur d'une chaîne de caractères. \n",
    "\n",
    "Ecrire une fonction ``indexOfCar()`` qui prend comme paramètres une chaîne de caractères``chaîne`` et un (unique) caractère ``car`` et qui retourne l'index de la première occurrence de ce  caractère \n",
    "dans la chaîne. Si ``car`` n'apparait pas dans ``chaîne`` la fonction retournera ``-1``. Cette fonction correspond à une fonction qui existe en Python et s'appelle `index()`. On vous demande toutefois de la définir vous même.\n",
    "\n",
    "Par exemple, les instructions suivantes"
   ]
  },
  {
   "cell_type": "code",
   "execution_count": null,
   "metadata": {},
   "outputs": [],
   "source": [
    "chaine=\"il fait beau ici ; n'est ce pas ? oui c'est vrai\"\n",
    "\n",
    "print(indexOfCar(chaine, 'e')) # conduira à l'affichage 9\n",
    "print(indexOfCar(chaine, 'x')) # conduira à l'affichage -1"
   ]
  },
  {
   "cell_type": "code",
   "execution_count": null,
   "metadata": {},
   "outputs": [],
   "source": [
    "#Attention la syntaxe de index est différente\n",
    "print(chaine.index('e')) # produit l'affichage de 9\n",
    "print(chaine.index('x')) # produit un message d'erreur "
   ]
  },
  {
   "cell_type": "code",
   "execution_count": 8,
   "metadata": {},
   "outputs": [],
   "source": [
    "#------------------------------#\n",
    "#    CORRECTION  ! ! ! ! ! !   #\n",
    "#------------------------------#\n",
    "def indexOfCar(chaine, car):\n",
    "    '''recherche la position du caractère car dans la chaine chaine'''\n",
    "    \n",
    "    i = 0\n",
    "    #Tant que la chaine n'est pas finie \n",
    "    # et que l'on n'a pas trouvé le caractère\n",
    "    while i<len(chaine) and chaine[i]!=car:\n",
    "        i=i+1                   # on passe au caractère suivant\n",
    "        \n",
    "    # si on a parcouru toute la chaine sans trouver le caractère\n",
    "    if (i==len(chaine)):\n",
    "        res= -1   # le résultat est  -1\n",
    "    else :\n",
    "        res= i    # sinon, on a trouvé le caractère à l'indice i\n",
    "    return res"
   ]
  },
  {
   "cell_type": "code",
   "execution_count": 9,
   "metadata": {},
   "outputs": [
    {
     "name": "stdout",
     "output_type": "stream",
     "text": [
      "test ok\n"
     ]
    }
   ],
   "source": [
    "def test_indexOfCar():\n",
    "    chaine=\"il fait beau ici ; n'est ce pas ? oui c'est vrai\"\n",
    "    assert indexOfCar(chaine, 'e')==9  \n",
    "    assert indexOfCar(chaine, 'x')==-1\n",
    "    print(\"test ok\")\n",
    "\n",
    "test_indexOfCar()"
   ]
  },
  {
   "cell_type": "markdown",
   "metadata": {},
   "source": [
    "## Exercice 3 : Recherche d'une sous-chaîne dans une chaîne de caractères (`find()`)**"
   ]
  },
  {
   "cell_type": "markdown",
   "metadata": {},
   "source": [
    "On peut généraliser le problème précédent en recherchant, non pas un unique caractère, mais une sous-chaîne dans une chaîne.\n",
    "Par exemple, dans la chaîne ``\"il fait beau aujourd'hui\"``, la sous-chaîne ``'eau'`` apparait à la position ``9``,\n",
    "mais on ne trouve pas la sous-chaîne ``'uae'``.\n",
    "\n",
    "Ecrire une fonction ``indexOfStr()`` qui recherche la présence d'une sous-chaîne ``sStr`` dans la chaîne de caractères ``chaine``, toutes deux passées en paramètres.  La fonction retournera la postion de la première occurrence de ``sStr`` dans la chaîne de caractères ``chaine``; si celle-ci n'existe pas, la fonction retournera ``-1``. Cette fonction correspond à une fonction qui existe en Python et s'appelle `find()`. On vous demande toutefois de la définir vous même.\n",
    "\n",
    "Par exemple, les instructions suivantes"
   ]
  },
  {
   "cell_type": "code",
   "execution_count": null,
   "metadata": {},
   "outputs": [],
   "source": [
    "chaine=\"il fait beau ici, n'est ce pas ? oui c'est vrai\"\n",
    "print(indexOfStr(chaine, 'bea')) # 8\n",
    "print(indexOfStr(chaine, 'aeb')) # -1"
   ]
  },
  {
   "cell_type": "code",
   "execution_count": null,
   "metadata": {},
   "outputs": [],
   "source": [
    "#Attention la syntaxe de find est différente \n",
    "chaine=\"il fait beau ici, n'est ce pas ? oui c'est vrai\"\n",
    "print(chaine.find('bea'))"
   ]
  },
  {
   "cell_type": "code",
   "execution_count": null,
   "metadata": {},
   "outputs": [],
   "source": [
    "#------------------------------#\n",
    "#    CORRECTION  ! ! ! ! ! !   #\n",
    "#------------------------------#\n",
    "def indexOfStr(chaine, sStr):\n",
    "    '''Retourne la (première) position de la sous-chaîne sStr dans la chaîne chaine, -1 sinon '''\n",
    "    i = 0\n",
    "    while i <= len(chaine) - len(sStr) : \n",
    "       \n",
    "    #On teste si les len(sStr) caracteres de chaine a partir de l'indice i correspondent a sStr\n",
    "        j = 0\n",
    "        while j < len(sStr) and chaine[i+j]==sStr[j] : \n",
    "            j+=1\n",
    "        #Si c'est vrai, on retourne la position de i\n",
    "        if j == len(sStr) : \n",
    "            return i\n",
    "        i+=1\n",
    "    \n",
    "    return -1  "
   ]
  },
  {
   "cell_type": "code",
   "execution_count": null,
   "metadata": {},
   "outputs": [],
   "source": [
    "def test_indexOfStr():\n",
    "    chaine=\"il fait beau ici, n'est ce pas ? oui c'est vrai\"\n",
    "    assert indexOfStr(chaine, 'bea')== 8\n",
    "    assert indexOfStr(chaine, 'aeb')== -1\n",
    "    print(\"test ok\")\n",
    "\n",
    "test_indexOfStr()"
   ]
  },
  {
   "cell_type": "markdown",
   "metadata": {},
   "source": [
    "## Exercice 4 : Comptage du nombre de voyelle(s) dans une chaîne de caractères (`count()`)*"
   ]
  },
  {
   "cell_type": "markdown",
   "metadata": {},
   "source": [
    "On rappelle que les voyelles sont les caractères ``{'a', 'e', 'i', o', 'u','y'}``.\n",
    "Définir une fonction qui retourne le nombre de voyelle(s) (indifféremment majuscule(s) ou minuscule(s)) dans une chaîne de caractères et  proposer un jeu de tests significatifs."
   ]
  },
  {
   "cell_type": "code",
   "execution_count": null,
   "metadata": {},
   "outputs": [],
   "source": [
    "chaine=\"il fait beau ici. N'est ce pas. Oui c'est vrai\"\n",
    "print(\"Nombre de voyelles dans ' \", chaine, \":\", comptVoyelle(chaine))"
   ]
  },
  {
   "cell_type": "code",
   "execution_count": null,
   "metadata": {},
   "outputs": [],
   "source": [
    "#Attention la syntaxe de count est différente\n",
    "#pour compter les occurrences d'un caractère\n",
    "print(\"Nombre de 'a' dans\", chaine,\":\", chaine.count('a'))"
   ]
  },
  {
   "cell_type": "code",
   "execution_count": 11,
   "metadata": {},
   "outputs": [],
   "source": [
    "#------------------------------#\n",
    "#    CORRECTION  ! ! ! ! ! !   #\n",
    "#------------------------------#\n",
    "def comptVoyelle(chaine):\n",
    "    '''Compte le nombre de voyelle(s) dans chaine'''\n",
    "    compt = 0\n",
    "    i=0\n",
    "    # on parcourt toute la chaîne\n",
    "    while i< len(chaine) : \n",
    "        # si le caractère courant est une voyelle \n",
    "        if chaine[i] in \"aeiouyAEIOUY\":  \n",
    "            compt = compt+1     # on le comptabilise\n",
    "        i=i+1\n",
    "    return compt            # on retourne le nombre de voyelle(s)"
   ]
  },
  {
   "cell_type": "code",
   "execution_count": 12,
   "metadata": {},
   "outputs": [
    {
     "name": "stdout",
     "output_type": "stream",
     "text": [
      "Le nombre de voyelles dans '  il fait beau ici ; N'est ce pas : Oui c'est vrai ' est :  17\n"
     ]
    }
   ],
   "source": [
    "chaine=\"il fait beau ici ; N'est ce pas : Oui c'est vrai\"\n",
    "print(\"Le nombre de voyelles dans ' \", chaine,\"' est : \",comptVoyelle(chaine))"
   ]
  },
  {
   "cell_type": "markdown",
   "metadata": {},
   "source": [
    "## Exercice 5 :  Remplacement d'un caractère par un autre (`replace()`)*\n",
    "Ecrire une fonction `changeCar(chaine,car1,car2)` qui remplace\n",
    "tous les caractères `car1` par\n",
    "des caractères `car2` dans la chaîne de caractères `chaine` et retourne la chaîne résultante.\n",
    "\n",
    "Cette fonction correspond à une fonction qui existe en Python et s'appelle `replace()`. On vous demande toutefois de la définir vous même.\n",
    "\n",
    "Par exemple, les instructions suivantes"
   ]
  },
  {
   "cell_type": "code",
   "execution_count": null,
   "metadata": {},
   "outputs": [],
   "source": [
    "chaine=\"il fait beau ici, n'est ce pas ? oui c'est vrai\"\n",
    "print(changeCar(chaine, 'e','')) # il fait bau ici, n'st c pas ? oui c'st vrai"
   ]
  },
  {
   "cell_type": "code",
   "execution_count": null,
   "metadata": {},
   "outputs": [],
   "source": [
    "#Attention la syntaxe de replace est différente\n",
    "print(chaine.replace('e','')) # il fait bau ici, n'st c pas ? oui c'st vrai"
   ]
  },
  {
   "cell_type": "code",
   "execution_count": null,
   "metadata": {},
   "outputs": [],
   "source": [
    "#------------------------------#\n",
    "#    CORRECTION  ! ! ! ! ! !   #\n",
    "#------------------------------#\n",
    "def changeCar(chaine, car1, car2):\n",
    "    #Remplace tous les caractères car1 par des car2 dans la chaine chaine\n",
    "    nch='' # nch : nouvelle chaîne à construire \n",
    "    i=0 \n",
    "    while i < len(chaine) :\n",
    "        if chaine[i] == car1:\n",
    "            nch = nch + car2\n",
    "        else :\n",
    "            nch = nch + chaine[i]\n",
    "        i= i +1 \n",
    "    return nch\n",
    "\n",
    "phrase=input('Phrase ?') \n",
    "#suppression de e de la phrase\n",
    "print(changeCar(phrase,'e',''))\n",
    "#attention la syntaxe de replace() est différente\n",
    "print(phrase.replace('e',''))"
   ]
  },
  {
   "cell_type": "markdown",
   "metadata": {},
   "source": [
    "## Exercice 6 :  Remplacement d'une sous-chaîne par un autre **\n",
    "Ecrire une fonction `changeSsChaine(chaine,old,new)` qui remplace\n",
    "tous les occurrence de  la sous-chaîne `old` par\n",
    "la chaîne `new` dans la chaîne de caractères `chaine` et retourne la chaîne résultante.\n",
    "\n",
    "Cette fonction correspond à une fonction qui existe en Python et s'appelle `replace()`. On vous demande toutefois de la définir (seule la fonction `len`est autorisée).\n",
    "\n",
    "Par exemple :"
   ]
  },
  {
   "cell_type": "code",
   "execution_count": null,
   "metadata": {},
   "outputs": [],
   "source": [
    "ch = \"les hommes - tous les hommes - sont des animaux pensants\"\n",
    "motAremplacer = 'hommes'\n",
    "motNouveau = 'êtres humains'\n",
    "print(changeSsChaine(ch,motAremplacer,motNouveau)) \n",
    "    # les êtres humains - tous les êtres humains - sont des animaux pensants"
   ]
  },
  {
   "cell_type": "code",
   "execution_count": null,
   "metadata": {},
   "outputs": [],
   "source": [
    "def changeSsChaine(chaine,old,new):\n",
    "    res=''\n",
    "    i=0 #indice pour parcourir la chaine \n",
    "    while i<len(chaine):\n",
    "        if chaine[i] != old[0]:\n",
    "            res=res+chaine[i]\n",
    "        else :  #on démarre la lecture de 'old'\n",
    "            j=0 #indice pour parcourir old\n",
    "            while j<len(old) and chaine[i+j] == old[j] :#on parcourt simultanémenet 'chaine' et 'old'\n",
    "                j+=1\n",
    "            if j==len(old) :#old est lu entièrement : c'est une occurence de 'chaine'\n",
    "                res=res+new #et on ajoute au resultat 'new'\n",
    "                i=i+j-1\n",
    "            else : \n",
    "                res=res+chaine[i]     \n",
    "        i+=1\n",
    "\n",
    "    return res\n",
    "\n",
    "ch = \"les hommes - tous les hommes - sont des animaux pensants\"\n",
    "motAremplacer = 'hommes'\n",
    "motNouveau = 'êtres humains'\n",
    "print(changeSsChaine(ch,motAremplacer,motNouveau))"
   ]
  },
  {
   "cell_type": "markdown",
   "metadata": {},
   "source": [
    "## Exercice 7 : Chaînes et tableaux*\n",
    "\n",
    "- Créer à partir d'une chaîne de caractères `s` un tableau `t`\n",
    "ayant pour éléments les caractères de `s`\n",
    "- Créer une chaîne `s2` dont les caractères sont\n",
    "les éléments de `t`. Qu'en dire ?"
   ]
  },
  {
   "cell_type": "code",
   "execution_count": null,
   "metadata": {},
   "outputs": [],
   "source": [
    "#------------------------------#\n",
    "#    CORRECTION  ! ! ! ! ! !   #\n",
    "#------------------------------#\n",
    "s=input(\"saisir une chaine\\n\")\n",
    "t=[]\n",
    "i=0\n",
    "while i<len(s):\n",
    "    t.append(s[i])\n",
    "    i+=1\n",
    "print(t)\n",
    "\n",
    "s2=\"\"\n",
    "i=0\n",
    "while i<len(t):\n",
    "    s2+=t[i]\n",
    "    i+=1\n",
    "print(s)"
   ]
  }
 ],
 "metadata": {
  "kernelspec": {
   "display_name": "Python 3",
   "language": "python",
   "name": "python3"
  },
  "language_info": {
   "codemirror_mode": {
    "name": "ipython",
    "version": 3
   },
   "file_extension": ".py",
   "mimetype": "text/x-python",
   "name": "python",
   "nbconvert_exporter": "python",
   "pygments_lexer": "ipython3",
   "version": "3.7.4"
  },
  "latex_envs": {
   "LaTeX_envs_menu_present": true,
   "autoclose": false,
   "autocomplete": true,
   "bibliofile": "biblio.bib",
   "cite_by": "apalike",
   "current_citInitial": 1,
   "eqLabelWithNumbers": true,
   "eqNumInitial": 1,
   "hotkeys": {
    "equation": "Ctrl-E",
    "itemize": "Ctrl-I"
   },
   "labels_anchors": false,
   "latex_user_defs": false,
   "report_style_numbering": false,
   "user_envs_cfg": false
  },
  "toc": {
   "base_numbering": 1,
   "nav_menu": {},
   "number_sections": true,
   "sideBar": true,
   "skip_h1_title": false,
   "title_cell": "Table of Contents",
   "title_sidebar": "Contents",
   "toc_cell": false,
   "toc_position": {},
   "toc_section_display": true,
   "toc_window_display": false
  }
 },
 "nbformat": 4,
 "nbformat_minor": 2
}
