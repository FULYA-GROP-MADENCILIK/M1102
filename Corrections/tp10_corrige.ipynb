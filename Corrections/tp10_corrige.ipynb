{
 "cells": [
  {
   "cell_type": "markdown",
   "metadata": {
    "deletable": false,
    "editable": false,
    "run_control": {
     "frozen": true
    }
   },
   "source": [
    "# <center> Chapitre 10 : Boucles imbriquées - TP (Corrigé)</center>"
   ]
  },
  {
   "cell_type": "markdown",
   "metadata": {},
   "source": [
    "## Exercice 1 : Dessins d'étoiles**\n",
    "\n",
    "**NB** : En Python, il est possible de multiplier les chaînes de caractères par une constante (2*`string` vaut `stringstring`). Il est demandé dans ce qui suit de ne pas utiliser cette spécificité du langage Python.\n",
    "\n",
    "### Question 1 : Rectangle\n",
    "Définir une fonction affichant un rectangle d'étoiles de taille `n` $\\times$ `m`, où `n` et `m` sont deux paramètres de la fonction.\n",
    "\n",
    "**Exemple :** pour `n=3` et `m=4`\n",
    "````\n",
    "****\n",
    "****\n",
    "****\n",
    "````"
   ]
  },
  {
   "cell_type": "code",
   "execution_count": null,
   "metadata": {},
   "outputs": [],
   "source": [
    "#------------------------------#\n",
    "#    CORRECTION  ! ! ! ! ! !   #\n",
    "#------------------------------#\n",
    "def rectangle(n, m) :\n",
    "    \"\"\" Dessine un rectangle de taille n * m \"\"\"\n",
    "    i=0\n",
    "    while(i<n):\n",
    "        j=0\n",
    "        ligne=''\n",
    "        while(j<m):\n",
    "            ligne=ligne+'*' \n",
    "            j+=1\n",
    "        print(ligne)\n",
    "        i+=1\n",
    "\n",
    "rectangle(3,4)"
   ]
  },
  {
   "cell_type": "markdown",
   "metadata": {
    "deletable": false,
    "editable": false,
    "run_control": {
     "frozen": true
    }
   },
   "source": [
    "### Question 2 : Triangle rectangle"
   ]
  },
  {
   "cell_type": "markdown",
   "metadata": {
    "deletable": false,
    "editable": false,
    "run_control": {
     "frozen": true
    }
   },
   "source": [
    "Définir une fonction affichant un triangle rectangle dont la hauteur et la base dépendent d'un entier `n` passé en paramètre. \n",
    "\n",
    "**Exemples :**\n",
    "````\n",
    "pour n=1      pour n=2     pour n=3\n",
    "*             *            *             \n",
    "              **           ** \n",
    "                           ***\n",
    "````"
   ]
  },
  {
   "cell_type": "code",
   "execution_count": null,
   "metadata": {},
   "outputs": [],
   "source": [
    "#------------------------------#\n",
    "#    CORRECTION  ! ! ! ! ! !   #\n",
    "#------------------------------#\n",
    "def triangleRectangle(n) :\n",
    "    \"\"\" Dessine un triangle rectangle de hauteur n \"\"\"\n",
    "    i=0\n",
    "    while(i<=n):\n",
    "        j=0\n",
    "        ligne=''\n",
    "        while(j<i):\n",
    "            ligne=ligne+'*' \n",
    "            j+=1\n",
    "        print(ligne)\n",
    "        i+=1\n",
    "\n",
    "triangleRectangle(4)"
   ]
  },
  {
   "cell_type": "markdown",
   "metadata": {
    "deletable": false,
    "editable": false,
    "run_control": {
     "frozen": true
    }
   },
   "source": [
    "### Question 3 : Rectangle partitionné\n",
    "Ecrire une fonction `deuxTrianglesRectangles` qui prend en paramètre  la hauteur et qui affiche la figure suivante. Les symboles utilisés sont des étoiles `*` et des tirets `-`.\n",
    "\n",
    "**Exemple :** pour une hauteur de 5\n",
    "````\n",
    "        *----\n",
    "        **---\n",
    "        ***--\n",
    "        ****-\n",
    "        *****\n",
    "````"
   ]
  },
  {
   "cell_type": "code",
   "execution_count": null,
   "metadata": {},
   "outputs": [],
   "source": [
    "#------------------------------#\n",
    "#    CORRECTION  ! ! ! ! ! !   #\n",
    "#------------------------------#\n",
    "def deuxTrianglesRectangles(n) :\n",
    "    \"\"\" Dessine un rectangle partitionné en deux triangles rectangles\n",
    "         de hauteurs n \"\"\"\n",
    "    i=1\n",
    "    while(i<=n):\n",
    "        j=1\n",
    "        ligne=''\n",
    "        while(j<=i):\n",
    "            ligne=ligne+'*' \n",
    "            j+=1\n",
    "        k=i+1\n",
    "        while(k<=n):\n",
    "            ligne=ligne+'-' \n",
    "            k+=1\n",
    "        print(ligne)\n",
    "        i+=1\n",
    "\n",
    "deuxTrianglesRectangles(5)"
   ]
  },
  {
   "cell_type": "markdown",
   "metadata": {
    "deletable": false,
    "editable": false,
    "run_control": {
     "frozen": true
    }
   },
   "source": [
    "### Question 4 : Triangle isocèle\n",
    "Ecrire une fonction qui affiche un triangle isocèle dont la hauteur dépend d'un entier `n` passé en paramètre.\n",
    "\n",
    "**Exemples :**\n",
    "````\n",
    "pour n=1   pour n=2   pour n=3    pour n=4\n",
    " *             *          *           *\n",
    "              ***        ***         ***\n",
    "                        *****       *****\n",
    "                                   *******\n",
    "````"
   ]
  },
  {
   "cell_type": "code",
   "execution_count": null,
   "metadata": {},
   "outputs": [],
   "source": [
    "#------------------------------#\n",
    "#    CORRECTION  ! ! ! ! ! !   #\n",
    "#------------------------------#\n",
    "def triangleIsocele(n) :\n",
    "    \"\"\" Dessine un triangle isocèle de hauteur n \"\"\"\n",
    "    i=1\n",
    "    while(i<=n):\n",
    "        j=1\n",
    "        ligne=''\n",
    "        while(j<=n-i):\n",
    "            ligne=ligne+' '\n",
    "            j+=1\n",
    "        k=1\n",
    "        while(k<=2*i-1):\n",
    "            ligne=ligne+'*'\n",
    "            k+=1\n",
    "        print(ligne)\n",
    "        i+=1\n",
    "\n",
    "triangleIsocele(5)"
   ]
  },
  {
   "cell_type": "markdown",
   "metadata": {
    "deletable": false,
    "editable": false,
    "run_control": {
     "frozen": true
    }
   },
   "source": [
    "### Question 5 : Losange\n",
    "Ecrire une fonction qui affiche un losange dont la longueur des diagonales est un entier impair `n` passé en  paramètre. Dans le cas où `n` est pair, la fonction affichera un message d'erreur.\n",
    "\n",
    "**Exemples :**\n",
    "````\n",
    "pour n=1    pour n=3     pour n=5     pour n=7\n",
    "  *            *            *            *\n",
    "              ***          ***          ***\n",
    "               *          *****        *****\n",
    "                           ***        *******\n",
    "                            *          *****\n",
    "                                        ***\n",
    "                                         *\n",
    "````"
   ]
  },
  {
   "cell_type": "code",
   "execution_count": null,
   "metadata": {},
   "outputs": [],
   "source": [
    "#------------------------------#\n",
    "#    CORRECTION  ! ! ! ! ! !   #\n",
    "#------------------------------#\n",
    "def losange(h) :\n",
    "    \"\"\" Dessine un losangle avec une longueur de diagonale n (entier impair) \"\"\"\n",
    "    \n",
    "    if h%2==0 :\n",
    "        print('La hauteur n\\'est pas impaire !!')\n",
    "        return\n",
    "    \n",
    "    # pour tests unitaires\n",
    "    assert h%2 == 0, \"La hauteur doit être impaire !\"\n",
    "    \n",
    "    n=h/2+1 \n",
    "    #on affiche la partie supérieure du losange\n",
    "    triangleIsocele(n)\n",
    "    #puis la moitié inférieure (sauf la plus grande ligne déjà affichée)\n",
    "    i=h/2\n",
    "    while(i>=1):\n",
    "        j=1\n",
    "        ligne=''\n",
    "        while(j<=n-i):\n",
    "            ligne=ligne+' '\n",
    "            j+=1\n",
    "        k=1\n",
    "        while(k<=2*i-2):\n",
    "            ligne=ligne+'*'\n",
    "            k+=1\n",
    "        print(ligne)\n",
    "        i-=1\n",
    "\n",
    "losange(4)\n",
    "losange(9)"
   ]
  },
  {
   "cell_type": "markdown",
   "metadata": {
    "deletable": false,
    "editable": false,
    "run_control": {
     "frozen": true
    }
   },
   "source": [
    "### Question 6 : Programme principal\n",
    "Ecrire un programme principal pour obtenir l'affichage suivant :\n",
    "````\n",
    "un rectangle 3 X 4\n",
    "****\n",
    "****\n",
    "****\n",
    "un triangle rectangle de hauteur et base 4\n",
    "*\n",
    "**\n",
    "***\n",
    "****\n",
    "deux triangles rectangles de * et - ayant pour hauteur et base 5\n",
    "*----\n",
    "**---\n",
    "***--\n",
    "****-\n",
    "*****\n",
    "un triangle isocèle de hauteur 5 \n",
    "    *\n",
    "   ***\n",
    "  *****\n",
    " *******\n",
    "*********\n",
    "un beau losange de hauteur 9\n",
    "    *\n",
    "   ***\n",
    "  *****\n",
    " *******\n",
    "*********\n",
    " *******\n",
    "  *****\n",
    "   ***\n",
    "    *\n",
    "````"
   ]
  },
  {
   "cell_type": "code",
   "execution_count": null,
   "metadata": {},
   "outputs": [],
   "source": [
    "#------------------------------#\n",
    "#    CORRECTION  ! ! ! ! ! !   #\n",
    "#------------------------------#\n",
    "print('un rectangle 3 X 4')\n",
    "rectangle(3,4)\n",
    "print('un triangle rectangle de hauteur et base 4')\n",
    "triangleRectangle(4)\n",
    "print('deux triangles rectangles de * et - ayant pour hauteur et base 5')\n",
    "deuxTrianglesRectangles(5)\n",
    "print('un triangle isocèle de hauteur 5 ')\n",
    "triangleIsocele(5)\n",
    "print ('un beau losange de hauteur 9')\n",
    "losange(9)"
   ]
  },
  {
   "cell_type": "markdown",
   "metadata": {
    "deletable": false,
    "editable": false,
    "run_control": {
     "frozen": true
    }
   },
   "source": [
    "# Exercice 2 Table de multiplication*\n",
    "### Question 1 : tables de multiplication de 1 à 10 \n",
    "Ecrire un programme  qui calcule et affiche les tables de multiplication de `1` à `10`. \n",
    "Une exécution de ce programme donnera à l'écran ce qui suit.\n",
    "````\n",
    "x | 1 2 3 4 5 6 7 8 9 10\n",
    "-----------------------------------\n",
    "1 | 1 2 3 4 5 6 7 8 9 10\n",
    "2 | 2 4 6 8 10 12 14 16 18 20\n",
    "3 | 3 6 9 12 15 18 21 24 27 30\n",
    "4 | 4 8 12 16 20 24 28 32 36 40\n",
    "5 | 5 10 15 20 25 30 35 40 45 50\n",
    "6 | 6 12 18 24 30 36 42 48 54 60\n",
    "7 | 7 14 21 28 35 42 49 56 63 70\n",
    "8 | 8 16 24 32 40 48 56 64 72 80\n",
    "9 | 9 18 27 36 45 54 63 72 81 90\n",
    "10 | 10 20 30 40 50 60 70 80 90 100\n",
    "````"
   ]
  },
  {
   "cell_type": "code",
   "execution_count": null,
   "metadata": {},
   "outputs": [],
   "source": [
    "#------------------------------#\n",
    "#    CORRECTION  ! ! ! ! ! !   #\n",
    "#------------------------------#\n",
    "#Affichage de la première ligne\n",
    "ligne='x |'\n",
    "i = 1\n",
    "while i <= 10 :\n",
    "    ligne=ligne+' '+str(i)\n",
    "    i+=1\n",
    "print(ligne)   \n",
    "\n",
    "#Affichage de la ligne de tirets\n",
    "ligne=''\n",
    "i = 1\n",
    "while i <= 30 :\n",
    "    ligne=ligne+'-'\n",
    "    i+=1\n",
    "print(ligne)\n",
    "\n",
    "#Affichage des lignes suivantes\n",
    "\n",
    "i=1\n",
    "while(i<=10):\n",
    "    j=1\n",
    "    ligne=str(i)+' | '\n",
    "    while(j<=10):\n",
    "        ligne=ligne+str(i*j)+' '\n",
    "        j+=1\n",
    "    print(ligne)\n",
    "    i+=1"
   ]
  },
  {
   "cell_type": "markdown",
   "metadata": {
    "deletable": false,
    "editable": false,
    "run_control": {
     "frozen": true
    }
   },
   "source": [
    "### Question 2 : Alignement à l'affichage\n",
    "Modifier le code précédent pour obtenir l'affichage ci-dessous  (la fonction `rjust`peut être fort utile pour cela) :\n",
    "\n",
    "```\n",
    "   X |   1   2   3   4   5   6   7   8   9  10\n",
    "--------------------------------------------------\n",
    "   1 |   1   2   3   4   5   6   7   8   9  10\n",
    "   2 |   2   4   6   8  10  12  14  16  18  20\n",
    "   3 |   3   6   9  12  15  18  21  24  27  30\n",
    "   4 |   4   8  12  16  20  24  28  32  36  40\n",
    "   5 |   5  10  15  20  25  30  35  40  45  50\n",
    "   6 |   6  12  18  24  30  36  42  48  54  60\n",
    "   7 |   7  14  21  28  35  42  49  56  63  70\n",
    "   8 |   8  16  24  32  40  48  56  64  72  80\n",
    "   9 |   9  18  27  36  45  54  63  72  81  90\n",
    "  10 |  10  20  30  40  50  60  70  80  90 100\n",
    "```"
   ]
  },
  {
   "cell_type": "code",
   "execution_count": null,
   "metadata": {},
   "outputs": [],
   "source": [
    "#------------------------------#\n",
    "#    CORRECTION  ! ! ! ! ! !   #\n",
    "#------------------------------#\n",
    "#Affichage de la première ligne\n",
    "ligne='X'.rjust(4)+' |'\n",
    "ligne.rjust(3)\n",
    "i = 1\n",
    "while i <= 10 :\n",
    "    ligne=ligne+str(i).rjust(4)\n",
    "    i+=1\n",
    "print(ligne)   \n",
    "\n",
    "#Affichage de la ligne de tirets\n",
    "ligne=''\n",
    "i = 1\n",
    "while i <= 50 :\n",
    "    ligne=ligne+'-'\n",
    "    i+=1\n",
    "print(ligne)\n",
    "\n",
    "#Affichage des lignes suivantes\n",
    "\n",
    "i=1\n",
    "while(i<=10):\n",
    "    j=1\n",
    "    ligne=str(i).rjust(4)+' |'\n",
    "    #ligne.rjust(5)\n",
    "    while(j<=10):\n",
    "        ligne=ligne+str(i*j).rjust(4)\n",
    "        j+=1\n",
    "    print(ligne)\n",
    "    i+=1"
   ]
  },
  {
   "cell_type": "markdown",
   "metadata": {
    "deletable": false,
    "editable": false,
    "run_control": {
     "frozen": true
    }
   },
   "source": [
    "## Exercice 3 : Dessin d'étoiles et codage**\n",
    "Un dessin d'étoiles est un dessin contenant uniquement des espaces, le symbole `*` et les retours à la ligne. Les dessins de l'exercice 1 excepté celui de la troisième question sont des exemples de dessin d'étoiles. Pour stocker un dessin d'étoiles de manière \"compressée\", on peut représenter ce dessin par un tableau d'entiers. Chaque nombre positif du tableau correspond au nombre de symboles (espace ou `*`) consécutifs dans une ligne du dessin. La valeur -1 correspond à un retour à la ligne. On suppose que chaque ligne commence par des étoiles. A titre d'exemple, le triangle isocèle pour `n=4` dans l'Exercice 1 (Question 4) serait représenté par le tableau\n",
    "```\n",
    "tableau = [0, 3, 1, -1, 0, 2, 3, -1, 0, 1, 5, -1, 7,-1]\n",
    "```\n",
    "En effet, la première contient 0 étoile, suivi de 3 espaces puis d'une étoile. La deuxième ligne contient 0 étoile, 2 espaces puis 3 étoiles, etc.\n",
    "\n",
    "### Question 1 : Dessin à partir du codage\n",
    "Définir la fonction `afficheDessinEtoiles` prenant en paramètre un tableau d'entiers et affichant le dessin d'étoiles correspondant.\n"
   ]
  },
  {
   "cell_type": "code",
   "execution_count": null,
   "metadata": {},
   "outputs": [],
   "source": [
    "def afficheDessinEtoiles(tab) :\n",
    "    nbElem=len(tab)\n",
    "    i=0\n",
    "    c='*'\n",
    "    ligne=''\n",
    "    while(i<nbElem):\n",
    "        if tab[i]==-1 :\n",
    "            print(ligne)\n",
    "            c='*'\n",
    "            ligne=''\n",
    "        else :      \n",
    "            j=0\n",
    "            while(j<tab[i]):\n",
    "                ligne=ligne+c\n",
    "                j+=1\n",
    "            if c=='*' :\n",
    "                c=' '\n",
    "            else :\n",
    "                c='*'\n",
    "        i+=1\n"
   ]
  },
  {
   "cell_type": "markdown",
   "metadata": {
    "deletable": false,
    "editable": false,
    "run_control": {
     "frozen": true
    }
   },
   "source": [
    "### Question 2 : Exemples d'utilisation \n",
    "Appeler la fonction `afficheDessinEtoiles()` pour afficher le triangle isocèle de taille `4` défini à la Question 4 de l'Exercice 1. \n",
    "\n",
    "Afficher également le dessin d'étoiles défini par le tableau suivant (utiliser le copier/coller pour déclarer le tableau dans votre programme principal)\n",
    "```\n",
    "t=[0,3,14,-1,0,2,2,12,2,-1,0,1,2,2,2,6,2,2,2,-1,2,16,2,-1,2,7,2,7,2,-1,2,\n",
    "16,2,-1,0,1,2,14,2,-1,0,2,2,3,6,3,2,-1,0,3,2,10,2,-1,0,4,12,-1]\n",
    "```"
   ]
  },
  {
   "cell_type": "code",
   "execution_count": null,
   "metadata": {},
   "outputs": [],
   "source": [
    "isocele = [0, 3, 1, -1, 0, 2, 3, -1, 0, 1, 5, -1, 7,-1]\n",
    "afficheDessinEtoiles(isocele)\n",
    "tableau = [0,3,14,-1,0,2,2,12,2,-1,0,1,2,2,2,6,2,2,2,-1,2,\n",
    "                     16,2,-1,2,7,2,7,2,-1,2,16,2,-1,0,1,2,14,2,-1,0,\n",
    "                     2,2,3,6,3,2,-1,0,3,2,10,2,-1,0,4,12,-1]\n",
    "afficheDessinEtoiles(tableau)"
   ]
  }
 ],
 "metadata": {
  "kernelspec": {
   "display_name": "Python 3",
   "language": "python",
   "name": "python3"
  },
  "language_info": {
   "codemirror_mode": {
    "name": "ipython",
    "version": 3
   },
   "file_extension": ".py",
   "mimetype": "text/x-python",
   "name": "python",
   "nbconvert_exporter": "python",
   "pygments_lexer": "ipython3",
   "version": "3.6.4"
  },
  "latex_envs": {
   "LaTeX_envs_menu_present": true,
   "autoclose": false,
   "autocomplete": true,
   "bibliofile": "biblio.bib",
   "cite_by": "apalike",
   "current_citInitial": 1,
   "eqLabelWithNumbers": true,
   "eqNumInitial": 1,
   "hotkeys": {
    "equation": "Ctrl-E",
    "itemize": "Ctrl-I"
   },
   "labels_anchors": false,
   "latex_user_defs": false,
   "report_style_numbering": false,
   "user_envs_cfg": false
  }
 },
 "nbformat": 4,
 "nbformat_minor": 2
}
