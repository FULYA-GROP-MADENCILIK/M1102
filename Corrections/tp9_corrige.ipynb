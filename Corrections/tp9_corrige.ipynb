{
 "cells": [
  {
   "cell_type": "markdown",
   "metadata": {},
   "source": [
    "# <center> Chapitre 9 : Dictionnaires - TP (Corrigé) </center>"
   ]
  },
  {
   "cell_type": "code",
   "execution_count": null,
   "metadata": {
    "scrolled": true
   },
   "outputs": [],
   "source": [
    "%load_ext tutormagic"
   ]
  },
  {
   "cell_type": "markdown",
   "metadata": {},
   "source": [
    "## Exercice 1 :  Dictionnaire français-anglais *"
   ]
  },
  {
   "cell_type": "markdown",
   "metadata": {},
   "source": [
    "### Question 1  : Création d'un dictionnaire\n",
    "\n",
    "Choisir 5 mots de la langue française et créer un dictionnaire qui associe à chacun de ces mots\n",
    "sa traduction en anglais.\n",
    "Ajouter une entrée au dictionnaire  (un nouveau mot et sa définition)."
   ]
  },
  {
   "cell_type": "code",
   "execution_count": null,
   "metadata": {},
   "outputs": [],
   "source": [
    "#------------------------------#\n",
    "#    CORRECTION  ! ! ! ! ! !   #\n",
    "#------------------------------#\n",
    "print(\"\\nDéfinition du dictionnaire\\n\")\n",
    "dic={\"chat\":\"cat\",\"chien\":\"dog\",\"vache\":\"cow\",\"tigre\":\"tiger\",\"licorne\":\"unicorn\"}\n",
    "print(dic)\n",
    "print(\"\\nAjout de souris\\n\")\n",
    "dic [\"souris\"] =\"mouse\"\n",
    "print(dic)"
   ]
  },
  {
   "cell_type": "markdown",
   "metadata": {},
   "source": [
    "### Question 2  : Fonction d'ajout \n",
    "Écrire une fonction `ajoute(mot1, mot2, dico)` qui prend en paramètre un mot en français, sa traduction\n",
    "en anglais et ajoute ces deux mots dans le dictionnaire `dico` uniquement si `mot1` n’est pas déjà une clé\n",
    "du dictionnaire.\n",
    "\n",
    "Tester cette fonction avec des valeurs judicieusement choisies."
   ]
  },
  {
   "cell_type": "code",
   "execution_count": null,
   "metadata": {},
   "outputs": [],
   "source": [
    "#------------------------------#\n",
    "#    CORRECTION  ! ! ! ! ! !   #\n",
    "#------------------------------#\n",
    "def ajoute (mot1 , mot2 , dico):\n",
    "    clefs=list(dico.keys())\n",
    "    i=0\n",
    "    while i<len(clefs) and mot1!=clefs[i]:\n",
    "        i+=1\n",
    "    if i==len(clefs): \n",
    "        dico[mot1] = mot2\n",
    "\n",
    "print(\"\\nAjout de dragon\\n\")\n",
    "ajoute(\"dragon\",\"dragon\", dic)\n",
    "print(dic)\n",
    "print(\"\\nSecond ajout de dragon\\n\")\n",
    "ajoute(\"dragon\",\"smaug\", dic)\n",
    "print(dic)"
   ]
  },
  {
   "cell_type": "markdown",
   "metadata": {},
   "source": [
    "### Question 3  : Affichage des valeurs\n",
    "Écrire une fonction qui affiche à l’écran toutes les valeurs correspondant aux clés qui sont dans\n",
    "votre dictionnaire (ici, tous les mots en anglais qui apparaissent dans votre dictionnaire) et l'utiliser pour réaliser l'affichage des mots anglais du dictionnaire qui a été crée.\n",
    "\n",
    "**Indication :** on exécute  une boucle sur tous les éléments de `list(dico.keys())`  et l’on renvoie pour chacun\n",
    "la valeur qui lui est associée ou sur tous les éléments de `list(dico.values())`."
   ]
  },
  {
   "cell_type": "code",
   "execution_count": null,
   "metadata": {},
   "outputs": [],
   "source": [
    "#------------------------------#\n",
    "#    CORRECTION  ! ! ! ! ! !   #\n",
    "#------------------------------#\n",
    "def valeurs_sol1 (dico):\n",
    "    clefs = list(dico.keys())\n",
    "    i=0\n",
    "    while i< len(clefs) :\n",
    "        clef=clefs[i]\n",
    "        print (dico[clef])\n",
    "        i+=1\n",
    "def valeurs_sol2 (dico):\n",
    "    valeurs= list(dico.values())\n",
    "    i=0\n",
    "    while i< len(valeurs) :\n",
    "        print(valeurs[i])\n",
    "        i+=1\n",
    "             \n",
    "def valeurs_sol3 (dico):\n",
    "    valeurs = list(dico.values())\n",
    "    print(valeurs)\n",
    "\n",
    "print (\"\\nSolution 1\\n\")\n",
    "valeurs_sol1 (dic)\n",
    "print (\"\\nSolution 2\\n\")\n",
    "valeurs_sol2 (dic)\n",
    "print (\"\\nSolution 3\\n\")\n",
    "valeurs_sol3 (dic)"
   ]
  },
  {
   "cell_type": "markdown",
   "metadata": {},
   "source": [
    "### Question 4 : Suppression d'entrées du dictionnaire\n",
    "Écrire une fonction `supprime(car, dico)` qui prend en paramètre un caractère `car` et un dictionnaire\n",
    "`dico` et supprime du dictionnaire toutes les entrées correspondant à des clés qui commencent par la\n",
    "lettre `car`.\n",
    "\n",
    "Tester cette fonction sur le dictionnaire."
   ]
  },
  {
   "cell_type": "code",
   "execution_count": null,
   "metadata": {},
   "outputs": [],
   "source": [
    "#------------------------------#\n",
    "#    CORRECTION  ! ! ! ! ! !   #\n",
    "#------------------------------#\n",
    "#suppression d'élément du dictionnaire\n",
    "def supprime1 (car , dico ) :\n",
    "    clefs=list(dico.keys())\n",
    "    i=0\n",
    "    while i<len(clefs) :\n",
    "        clef=clefs[i]\n",
    "        if clef[0] == car :\n",
    "            del(dico[clef])\n",
    "        i+=1\n",
    "\n",
    "#creation d'un nouveau dictionnaire \n",
    "def supprime2 (car,dico) :\n",
    "    new_dict = {}\n",
    "    clefs=list(dico.keys())\n",
    "    i=0\n",
    "    while i<len(clefs) :\n",
    "        clef=clefs[i]\n",
    "        if clef[0] != car :\n",
    "            new_dict[clef] = dico[clef]\n",
    "        i+=1\n",
    "    return new_dict\n",
    "\n",
    "\n",
    "print (\"\\nSuppression d'éléments\\n\")\n",
    "supprime1 (\"c\",dic)\n",
    "print(dic)\n",
    "dic2= supprime2 (\"v\",dic)\n",
    "print(dic2)"
   ]
  },
  {
   "cell_type": "markdown",
   "metadata": {},
   "source": [
    "## Exercice 2 : Codage de Morse*"
   ]
  },
  {
   "cell_type": "markdown",
   "metadata": {},
   "source": [
    "Le Morse est un schéma de codage qui utilise des tirets et des points pour représenter les chiffres et les lettres. \n",
    "\n",
    "Le dictionnaire ci-dessous donne la correspondance entre les lettres et les chiffres, les tirets et les points. "
   ]
  },
  {
   "cell_type": "code",
   "execution_count": null,
   "metadata": {},
   "outputs": [],
   "source": [
    "morse_code_dict = {'A':'.-'   , 'B':'-...' , 'C':'-.-.' , 'D':'-..'  , 'E':'.'    , 'F':'..-.' , 'G':'--.'  , \n",
    "                   'H':'....' , 'I':'..'   , 'J':'.---' , 'K':'-.-'  , 'L':'.-..' , 'M':'--'   , 'N':'-.'   , \n",
    "                   'O':'---'  , 'P':'.--.' , 'Q':'--.-' , 'R':'.-.'  , 'S':'...'  , 'T':'-'    , 'U':'..-'  , \n",
    "                   'V':'...-' , 'W':'.--'  , 'X':'-..-' , 'Y':'-.--' , 'Z':'--..' , '0':'-----', '1':'.----', \n",
    "                   '2':'..---', '3':'...--', '4':'....-', '5':'.....', '6':'-....', '7':'--...', '8':'---..', \n",
    "                   '9':'----.'}"
   ]
  },
  {
   "cell_type": "markdown",
   "metadata": {},
   "source": [
    "Ecrire une fonction qui prend en paramètre un texte et traduit chaque lettre et chaque chiffre du texte en code Morse, en laissant un espace entre chaque suite de tirets et de points. La fonction ignorera tous les caractères qui ne sont pas des lettres ou des chiffres. \n",
    "\n",
    "Utiliser cette fonction pour coder en Morse `Hello World!`.\n",
    "\n",
    "**NB** :  La méthode `chaine.isalnum()` retoune `True` si tous les caractères de `chaine`sont alphanumériques (lettres ou chiffres) et qu'il y a au moins un caractère et `False` dans le cas contraire."
   ]
  },
  {
   "cell_type": "markdown",
   "metadata": {},
   "source": [
    "## Exercice 3 : JSON**\n",
    "\n",
    "Écrire un programme permettant à partir d’un fichier texte en français d’en déduire la fréquence d’apparition des lettres qu’il contient. Le résultat de cette analyse sera consigné dans un fichier JSON `files/statistiques.json`. Pour des statistiques fiables, on utilisera un texte assez long disponible dans le fichier `files/zadig.txt`.\n",
    "\n",
    "Pour cela, écrire une fonction `existelt(elt, tab)` qui retourne `True` si l'élément `elt` est dans le tableau `tab`et `False` dans le cas contraire. "
   ]
  },
  {
   "cell_type": "code",
   "execution_count": null,
   "metadata": {},
   "outputs": [],
   "source": [
    "#------------------------------#\n",
    "#    CORRECTION  ! ! ! ! ! !   #\n",
    "#------------------------------# \n",
    "def existelt(elt, tab):\n",
    "    i=0\n",
    "    while i<len(tab) and elt!=tab[i]:\n",
    "        i+=1\n",
    "    if i==len(tab):\n",
    "        return False  \n",
    "    else:\n",
    "        return True"
   ]
  },
  {
   "cell_type": "code",
   "execution_count": null,
   "metadata": {},
   "outputs": [],
   "source": [
    "#------------------------------#\n",
    "#    CORRECTION  ! ! ! ! ! !   #\n",
    "#------------------------------# \n",
    "import json\n",
    "\n",
    "lettres=\"ABCDEFGHIJKLMNOPQRSTUVWXYZ\"\n",
    "\n",
    "frequence={}\n",
    "fichier=open(\"./files/zadig.txt\",\"rt\")\n",
    "\n",
    "ligne = fichier.readline()\n",
    "\n",
    "while ''!= ligne:\n",
    "    i=0\n",
    "    while i<len(ligne):\n",
    "        caractere=ligne[i]\n",
    "#        if caractere not in frequence.keys():\n",
    "        if not existelt(caractere,list(frequence.keys())):\n",
    "            frequence[caractere]=1\n",
    "        else:\n",
    "            frequence[caractere]+=1\n",
    "        i=i+1\n",
    "    ligne = fichier.readline()\n",
    "\n",
    "fichier.close()\n",
    "\n",
    "statistiques={}\n",
    "i=0\n",
    "while i<len(lettres):\n",
    "    lettre=lettres[i]\n",
    "#    if lettre in frequence.keys() :\n",
    "    if existelt(lettre,list(frequence.keys())):\n",
    "        statistiques[lettre]=frequence[lettre]\n",
    "    else:\n",
    "        statistiques[lettre]=0\n",
    "    i+=1\n",
    "\n",
    "fichierResultats=open(\"./files/statistiques.json\",\"wt\")\n",
    "fichierResultats.write(json.dumps(statistiques,sort_keys=True, indent=4))\n",
    "fichierResultats.close()"
   ]
  },
  {
   "cell_type": "markdown",
   "metadata": {},
   "source": [
    "## Exercice 4 : Occurrences des mots d'une chaîne de caractères **\n",
    "\n",
    "Écrire une fonction `compterMots` prenant en paramètre une chaîne de caractères et qui\n",
    "renvoie un dictionnaire qui contient le nombre d'occurrences de tous les mots de la chaîne passée en paramètres. La fonction `texte.split()` permet de récuperer tous les mots d'une chaine de caractères `texte`.\n",
    "\n",
    "Utiliser cette fonction pour afficher le nombre d'occurrences de tous les mots d'une chaine de caractères saisie par l'utilisateur."
   ]
  },
  {
   "cell_type": "code",
   "execution_count": null,
   "metadata": {},
   "outputs": [],
   "source": [
    "#------------------------------#\n",
    "#    CORRECTION  ! ! ! ! ! !   #\n",
    "#------------------------------#\n",
    "#clefs=list(dict.keys())\n",
    "\n",
    "def compterMots(texte):\n",
    "    dict = {}\n",
    "    clefs=[]\n",
    "    listeMots = texte.split()\n",
    "    i=0\n",
    "    while i< len(listeMots):\n",
    "        Mot=listeMots[i]\n",
    "        j=0\n",
    "        while j<len(clefs) and Mot!=clefs[j]:\n",
    "            j+=1\n",
    "        if j!=len(clefs):     \n",
    "            dict[Mot] = dict[Mot] + 1\n",
    "        else:\n",
    "            dict[Mot] = 1\n",
    "            clefs.append(Mot)\n",
    "        i+=1\n",
    "    return dict\n",
    "\n",
    "# programme principal \n",
    "\n",
    "#res = compterMots(\"Ala Met Asn Glu Met Cys Asn Glu Hou Ala Met Gli Asn Asn\")\n",
    "print(\"Saisir une chaine de caractères\")\n",
    "texte=input()\n",
    "res= compterMots(texte)\n",
    "clefs = list(res.keys())\n",
    "i=0\n",
    "while i<len(clefs):\n",
    "        clef=clefs[i]\n",
    "        print(clefs[i], \"-->\", res[clef])\n",
    "        i+=1"
   ]
  },
  {
   "cell_type": "markdown",
   "metadata": {},
   "source": [
    "## Exercice 5 : Comptage des points à la Belote Coinchée ***"
   ]
  },
  {
   "cell_type": "markdown",
   "metadata": {},
   "source": [
    "La belote coinchée est un jeu qui se joue à 4 joueurs par équipe de 2 et un jeu de 32 cartes. Il se distingue de la Belote par un système d'annonce. Tour à tour, avant de commencer à poser les cartes chaque joueur \"passe\" ou \"annonce\" une couleur d'atout et le nombre de points qu'il pense faire en choisissant cet atout. Celui qui propose l'annonce la plus forte définit l'atout pour la partie. Lors du comptage des points en fin de partie, chaque carte remportée par une équipe est convertie en points. Le score d'une équipe correspond au nombre de points associés aux plis qu'elle a remporté. Les règles de calcul sont les suivantes:.\n",
    "\n",
    "<img src=\"img/y7.png\" alt=\"Drawing\" style=\"height: 200px;\"/>\n",
    "\n",
    "### Question 1  : Les points à l'atout et aux autres couleurs\n",
    "Charger les 2 dictionnaires ``files/atout.json``et ``files/autre.json`` dont les couples (clef,valeur) sont respectivement la figure portée par la carte et le nombre de points associés à cette figure lorsqu'elle est de la couleur de l'atout ou d'une autre couleur."
   ]
  },
  {
   "cell_type": "code",
   "execution_count": null,
   "metadata": {},
   "outputs": [],
   "source": [
    "#------------------------------#\n",
    "#    CORRECTION  ! ! ! ! ! !   #\n",
    "#------------------------------#\n",
    "#Atout={'As':11,'Roi':4,'Dame':3,'Valet':20,'Dix':10,'Neuf':14,'Huit':0,'Sept':0}\n",
    "#Autre={'As':11,'Roi':4,'Dame':3,'Valet':2,'Dix':10,'Neuf':0,'Huit':0,'Sept':0}\n",
    "#Définition des dictionnaires:\n",
    "import  json \n",
    "fichier = open (\"./files/atout.json\" , \"rt\" )\n",
    "strjson=fichier.read()\n",
    "fichier.close()\n",
    "Atout = json.loads(strjson)\n",
    "\n",
    "fichier = open (\"./files/autre.json\" , \"rt\" )\n",
    "strjson=fichier.read()\n",
    "fichier.close()\n",
    "Autre = json.loads(strjson)\n",
    "\n",
    "print (Atout)\n",
    "print (Autre)"
   ]
  },
  {
   "cell_type": "markdown",
   "metadata": {},
   "source": [
    "### Question 2 : Compter les points d'un ensemble de cartes\n",
    "Définir une fonction ``comptage()`` prenant comme paramètre les 2 dictionnaires, une couleur d'atout et un ensemble de cartes. La fonction renverra le nombre de points associés à cet ensemble de cartes. \n",
    "\n",
    "Les cartes seront passées comme une liste de tuples dont :\n",
    "    - la première valeur correspond à la figure de la carte (As, Roi, Dame, Valet, Dix, Neuf, Huit, ou Sept) et\n",
    "\t- la deuxième valeur correspond à la couleur de la carte (Pic, Coeur, Carreau, Trefle)\n",
    "Par exemple, `[('Valet','Coeur'),('Dix','Pique')]`\n",
    "\n",
    "Utiliser cette fonction pour compter les points avec différents tuples de cartes."
   ]
  },
  {
   "cell_type": "code",
   "execution_count": null,
   "metadata": {},
   "outputs": [],
   "source": [
    "#------------------------------#\n",
    "#    CORRECTION  ! ! ! ! ! !   #\n",
    "#------------------------------#\n",
    "#Fonction de comptage avec commentaires:\n",
    "\n",
    "def comptage(dico_atout, dico_autre, couleur_atout, cartes):\n",
    "\n",
    "    # initialisation du total des points\n",
    "    total = 0\n",
    "\n",
    "    # iteration sur les cartes\n",
    "    i=0\n",
    "    while i<len(cartes):\n",
    "        # Si c'est de l'atout\n",
    "        carte=cartes[i]\n",
    "        c=carte[0]\n",
    "\n",
    "        if carte[1] == couleur_atout :\n",
    "\n",
    "        # utilise les regles de conversion pour l'atout\n",
    "            total += dico_atout[c]\n",
    "        else:\n",
    "        # utilise les regles de conversion normale\n",
    "            total += dico_autre[c]\n",
    "        i+=1\n",
    "    # valeur de retour\n",
    "    return total\n",
    "\n",
    "#Exemple d'utilisation:\n",
    "print(str(comptage(Atout, Autre,'Coeur',[('Valet','Coeur')])))\n",
    "print(str(comptage(Atout,Autre,'Coeur',[('Valet','Coeur'),('Dix','Pique')]))) \n",
    "print(str(comptage(Atout,Autre,'Coeur',[('Valet','Trefle')])))"
   ]
  },
  {
   "cell_type": "markdown",
   "metadata": {},
   "source": [
    "### Question 3  : Nombre total de points du jeu\n",
    "Calculer le nombre total de points que les joueurs se partagernt au cours d'une partie sachant que 10 points sont accordés à l'équipe qui remporte le dernier tour de jeu."
   ]
  },
  {
   "cell_type": "code",
   "execution_count": null,
   "metadata": {},
   "outputs": [],
   "source": [
    "#------------------------------#\n",
    "#    CORRECTION  ! ! ! ! ! !   #\n",
    "#------------------------------# \n",
    "#Calcul de la somme des points en jeu:\n",
    "total = 10 \n",
    "\n",
    "# le bonus pour les gagnats du dernier tour de jeu\n",
    "# comptage des points apportes par les cartes Atout\n",
    "# compte une fois car il y a une seule couleur Atout\n",
    "\n",
    "valeurs_Atout=list(Atout.values())\n",
    "i=0\n",
    "while i < len(valeurs_Atout) :\n",
    "    total += valeurs_Atout[i]\n",
    "    i+=1\n",
    "\n",
    "# Comptage des points apportes par les autres cartes\n",
    "# compte 3 fois car il y a 3 couleurs que ne sont pas de l'Atout\n",
    "valeurs_Autre=list(Autre.values())\n",
    "i=0\n",
    "while i < len(valeurs_Autre) :\n",
    "    total += valeurs_Autre[i]\n",
    "    i+=1\n",
    "\n",
    "# Affichage du nombre de points en jeu\n",
    "print('Total des points mis en jeu = ' + str(total) )"
   ]
  },
  {
   "cell_type": "markdown",
   "metadata": {},
   "source": [
    "### Question 4  : Affichage de la valeur de chaque carte\n",
    "Définir une fonction ``affiche_carte_point`` qui prend en paramètres les 2 dictionnaires et la couleur d'atout et affiche l'ensemble des 32 cartes et leur valeur.\n",
    "\n",
    "Utiliser cette fonction pour afficher les points associés à chaqye carte quand l'atout est `Coeur`."
   ]
  },
  {
   "cell_type": "code",
   "execution_count": null,
   "metadata": {},
   "outputs": [],
   "source": [
    "#------------------------------#\n",
    "#    CORRECTION  ! ! ! ! ! !   #\n",
    "#------------------------------# \n",
    "#Affichage des cartes et des points associés pour une couleur d'atout donnée. \n",
    "\n",
    "def affiche_carte_point(dico_atout, dico_autre, couleur_atout) :\n",
    "    couleurs = ['Pique','Coeur','Carreau','Trefle']\n",
    "    figures = list(dico_atout.keys())\n",
    "    i=0\n",
    "    while i<len(couleurs) :\n",
    "        j=0\n",
    "        while j< len(figures):\n",
    "            figure=figures[j]\n",
    "            if couleurs[i] == couleur_atout:\n",
    "                print( '('+figure+','+couleurs[i]+')->'+ str(dico_atout[figure]))\n",
    "            else:\n",
    "                print('('+figure+','+couleurs[i]+')->'+ str(dico_autre[figure]))\n",
    "            j+=1\n",
    "        i+=1\n",
    "\n",
    "# exemple d'utilisation \n",
    "print(str(affiche_carte_point(Atout,Autre,'Coeur')))       "
   ]
  }
 ],
 "metadata": {
  "kernelspec": {
   "display_name": "Python 3",
   "language": "python",
   "name": "python3"
  },
  "language_info": {
   "codemirror_mode": {
    "name": "ipython",
    "version": 3
   },
   "file_extension": ".py",
   "mimetype": "text/x-python",
   "name": "python",
   "nbconvert_exporter": "python",
   "pygments_lexer": "ipython3",
   "version": "3.6.4"
  },
  "latex_envs": {
   "LaTeX_envs_menu_present": true,
   "autoclose": false,
   "autocomplete": true,
   "bibliofile": "biblio.bib",
   "cite_by": "apalike",
   "current_citInitial": 1,
   "eqLabelWithNumbers": true,
   "eqNumInitial": 1,
   "hotkeys": {
    "equation": "Ctrl-E",
    "itemize": "Ctrl-I"
   },
   "labels_anchors": false,
   "latex_user_defs": false,
   "report_style_numbering": false,
   "user_envs_cfg": false
  },
  "toc": {
   "base_numbering": 1,
   "nav_menu": {},
   "number_sections": true,
   "sideBar": true,
   "skip_h1_title": false,
   "title_cell": "Table of Contents",
   "title_sidebar": "Contents",
   "toc_cell": false,
   "toc_position": {},
   "toc_section_display": true,
   "toc_window_display": false
  }
 },
 "nbformat": 4,
 "nbformat_minor": 2
}
