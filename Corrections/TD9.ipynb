{
 "cells": [
  {
   "cell_type": "markdown",
   "metadata": {},
   "source": [
    "# <center> Chapitre 9 : Dictionnaires - TD  (Corrigé)</center>"
   ]
  },
  {
   "cell_type": "code",
   "execution_count": null,
   "metadata": {},
   "outputs": [],
   "source": [
    "%load_ext tutormagic"
   ]
  },
  {
   "cell_type": "markdown",
   "metadata": {},
   "source": [
    "## Exercice 1 : Test de compréhension*"
   ]
  },
  {
   "cell_type": "markdown",
   "metadata": {},
   "source": [
    "* Soit le tableau suivant représentant des informations sur les étudiants inscrits au cours"
   ]
  },
  {
   "cell_type": "code",
   "execution_count": null,
   "metadata": {},
   "outputs": [],
   "source": [
    "cours = {'nom cours': 'Java',\n",
    " 'theme': 'Algorithmique',\n",
    " 'etudiants': [{'nom': 'Martin', 'prenom': 'Jean', 'Dept': '95'},\n",
    "  {'nom': 'Mohamed', 'prenom': 'Ali', 'Dept': '93'},\n",
    "  {'nom': 'Durand', 'prenom': 'Bertrand', 'Dept': '95'}]}"
   ]
  },
  {
   "cell_type": "markdown",
   "metadata": {},
   "source": [
    "* Que permette de fournir les commandes suivantes ?"
   ]
  },
  {
   "cell_type": "code",
   "execution_count": null,
   "metadata": {},
   "outputs": [],
   "source": [
    "list(cours.values())"
   ]
  },
  {
   "cell_type": "code",
   "execution_count": null,
   "metadata": {},
   "outputs": [],
   "source": [
    "list(cours())"
   ]
  },
  {
   "cell_type": "code",
   "execution_count": null,
   "metadata": {},
   "outputs": [],
   "source": [
    "list(cours)"
   ]
  },
  {
   "cell_type": "code",
   "execution_count": null,
   "metadata": {},
   "outputs": [],
   "source": [
    "print(cours['theme'])"
   ]
  },
  {
   "cell_type": "markdown",
   "metadata": {},
   "source": [
    "* Comment peut-on avoir la liste des étudiants inscrits à ce cours ?"
   ]
  },
  {
   "cell_type": "code",
   "execution_count": null,
   "metadata": {},
   "outputs": [],
   "source": [
    "#------------------------------#\n",
    "#    CORRECTION  ! ! ! ! ! !   #\n",
    "#------------------------------#\n",
    "print(cours['etudiants'])"
   ]
  },
  {
   "cell_type": "markdown",
   "metadata": {},
   "source": [
    "* Qu'affiche le programme suivant ?"
   ]
  },
  {
   "cell_type": "code",
   "execution_count": null,
   "metadata": {},
   "outputs": [],
   "source": [
    "etds=cours['etudiants']\n",
    "tmp1=etds[1]\n",
    "print(tmp1)\n",
    "pr=tmp1['Dept']\n",
    "print(pr)"
   ]
  },
  {
   "cell_type": "markdown",
   "metadata": {},
   "source": [
    "* Qu'affiche cette instruction ?"
   ]
  },
  {
   "cell_type": "code",
   "execution_count": null,
   "metadata": {},
   "outputs": [],
   "source": [
    "print (cours['etudiants'][1]['Dept'])"
   ]
  },
  {
   "cell_type": "markdown",
   "metadata": {},
   "source": [
    "## Exercice 2 : Planètes et satellites *\n",
    "\n",
    "### Question 1 : Définition d'un dictionnaire"
   ]
  },
  {
   "cell_type": "markdown",
   "metadata": {},
   "source": [
    "Définir le dictionnaire `lunes` représenté ci-dessous. Ce dictionnaire stocke le nombre de satellites de chaque planètes. Dans un premier temps, définir de façon littérale le dictionnaire pour les 4 premiers couples ``clef-valeur`` puis ajouter successivement les 4 derniers couples.\n",
    "\n",
    "clef| \"Mercure\"|\"Vénus\"|\"Terre\"|\"Mars\"|\"Jupiter\"|\"Saturne\"|\"Uranus\"|\"Neptune\"|\n",
    "----|----------|-------|-------|------|---------|---------|--------|---------|\n",
    "valeur |0|0|1|2|63|61|27|11|"
   ]
  },
  {
   "cell_type": "code",
   "execution_count": null,
   "metadata": {},
   "outputs": [],
   "source": [
    "#------------------------------#\n",
    "#    CORRECTION  ! ! ! ! ! !   #\n",
    "#------------------------------#\n",
    "lunes  = {'Mercure':0,'Venus':0,'Terre':1,'Mars':2}\n",
    "print(lunes)\n",
    "lunes['Jupiter']=63\n",
    "lunes['Saturne']=61\n",
    "lunes['Uranus']=27\n",
    "lunes['Neptune']=11\n",
    "print(lunes)"
   ]
  },
  {
   "cell_type": "markdown",
   "metadata": {},
   "source": [
    "### Question  2 : Exploration d'un dictionnaire\n",
    "\n",
    "A partir du dictionnaire défini à la question précédente, proposer un programme permettant de:\n",
    "- modifier le dictionnaire précédent pour corriger une erreur qui s'est glissée dans l'énoncé : la planète `Neptune` comporte en fait 13 satellites.\n",
    "- afficher le nombre de satellites de la Terre,\n",
    "- afficher la liste des planètes,\n",
    "- afficher le tableau des planètes et du nombre de leurs satellites,\n",
    "- afficher le nombre total de satellites."
   ]
  },
  {
   "cell_type": "code",
   "execution_count": null,
   "metadata": {},
   "outputs": [],
   "source": [
    "#------------------------------#\n",
    "#    CORRECTION  ! ! ! ! ! !   #\n",
    "#------------------------------#\n",
    "# Modification de la valeur associée à la clef Neptune.\n",
    "lunes['Neptune'] = 13\n",
    "\n",
    "# Affichage du nombre de satellites de la Terre\n",
    "print( 'La terre comporte ',lunes['Terre'],' lunes.' )\n",
    "\n",
    "# Affichage de la liste des planetes\n",
    "print( 'La liste des planetes est :', list(lunes.keys()) )\n",
    "\n",
    "# Affichage du nombre de satellites de chaque planete\n",
    "print( 'Nombre de lunes de chaque planetes:' )\n",
    "\n",
    "clefs=list(lunes())\n",
    "print(clefs)\n",
    "i=0\n",
    "while i<len(clefs) :\n",
    "    cl=clefs[i]\n",
    "    print(cl, ' ',lunes[cl])\n",
    "    i+=1\n",
    "\n",
    "\n",
    "# Affichage du nombre cumulé de satellites\n",
    "valeurs= list(lunes.values())\n",
    "tot = 0\n",
    "i=0\n",
    "while i<len(valeurs):\n",
    "    tot += valeurs[i]\n",
    "    i+=1\n",
    "print( 'Le nombre de lunes recensées est : ' + str( tot ) )"
   ]
  },
  {
   "cell_type": "markdown",
   "metadata": {},
   "source": [
    "## Exercice 3 : Gestion d'un stock **"
   ]
  },
  {
   "cell_type": "markdown",
   "metadata": {},
   "source": [
    "L'objectif est concevoir un programme permettant de gérer un stock d'articles. Pour cela, on doit pouvoir :\n",
    "- ajouter une référence (prix, quantité, et couleur) dans le stock,\n",
    "- calculer le prix total du stock.\n",
    "\n",
    "### Question 1 : Saisie d'une référence\n",
    "Créer une fonction ``ajout_reference()`` sans paramètre qui renvoie un dictionnaire dont les couples ``clef-valeur`` sont:\n",
    "\n",
    "| Clef |  Valeur (type) |\n",
    "-------|----------|\n",
    "|\"Prix\"| float|\n",
    "|\"Quantité\"| int|\n",
    "|\"Couleur\"| string|\n",
    "\n",
    "La fonction demandera à l'utilisateur de saisir itérativement au clavier les différentes valeurs."
   ]
  },
  {
   "cell_type": "code",
   "execution_count": null,
   "metadata": {},
   "outputs": [],
   "source": [
    "#------------------------------#\n",
    "#    CORRECTION  ! ! ! ! ! !   #\n",
    "#------------------------------#\n",
    "def ajout_reference():\n",
    "\n",
    "    # Message d'introduction\n",
    "    print('Saisie d\\'un nouvel article')\n",
    "\n",
    "    # initialisation du dictionnaire de retour\n",
    "    reference = {}\n",
    "\n",
    "    # Saisie du prix\n",
    "    print('Donner le prix')\n",
    "    reference['Prix'] = float(input() )\n",
    "\n",
    "    # Saisie de la quantite\n",
    "    print('Donner la quantite')\n",
    "    reference['Quantite'] = int(input())\n",
    "\n",
    "    # Saisie de la couleur\n",
    "    print('Donner la couleur')\n",
    "    reference['Couleur'] = input() \n",
    "\n",
    "    # valeur de retour\n",
    "    return(reference)"
   ]
  },
  {
   "cell_type": "markdown",
   "metadata": {},
   "source": [
    "### Question 2  : Saisie et évaluation d'un stock\n",
    "Ecrire le programme principal permettant, de saisir de saisir des références tant que l'utilisateur le souhaite, de les ajouter au fur et à mesure dans un tableau de dictionnaires, puis en fin de saisie, d'afficher le montant total du stock.\n",
    "On utilisera la fonction définie à la question précédente."
   ]
  },
  {
   "cell_type": "code",
   "execution_count": null,
   "metadata": {},
   "outputs": [],
   "source": [
    "#------------------------------#\n",
    "#    CORRECTION  ! ! ! ! ! !   #\n",
    "#------------------------------#\n",
    "# Définition du tableau contenant le stock.\n",
    "Stock = []\n",
    "\n",
    "\n",
    "menu = 1\n",
    "while menu != 2 :\n",
    "    Stock.append(ajout_reference())\n",
    "    \n",
    "    #Menu pour continuer ou arrêter\n",
    "    print('Que voulez-vous faire ?')\n",
    "    print('Ajout reference: Tapez 1')\n",
    "    print('Sortir:          Tapez 2')\n",
    "    menu = int(input())\n",
    "\n",
    "# Calcul du montant du stock\n",
    "tot = 0\n",
    "\n",
    "i=0\n",
    "while i<len(Stock): \n",
    "    article=Stock[i]\n",
    "    tot += ( article['Prix'] * article['Quantite'])\n",
    "    i+=1\n",
    "\n",
    "#ou \n",
    "#i=0 \n",
    "#while i<len(Stock):\n",
    "#    tot+-Stock[i]['Prix']*Stock[i]['Quantité']\n",
    "#    ref+=1\n",
    "\n",
    "print('Prix total du stock = '+str(tot))\n",
    "\n"
   ]
  },
  {
   "cell_type": "markdown",
   "metadata": {},
   "source": [
    "# Pour aller plus loin\n",
    "## Exercice 4 : Cryptographie *"
   ]
  },
  {
   "cell_type": "markdown",
   "metadata": {},
   "source": [
    "En cryptographie,le chiffrement de César est une technique de cryptage très simple dans laquelle chaque lettre du texte est remplacée par une autre lettre dans l'alphabet avec un décalage des lettres. <br>\n",
    "Par exemple, avec un décalage de 3, \"A\" serait remplacé par \"D\", \"B\" deviendrait \"E\", etc.<br> \n",
    "La méthode porte le nom de Jules César, qui l'utilisait pour communiquer avec ses généraux.<br>\n",
    "ROT-13 (\"rotation de 13 cases\") est un exemple très utilisé de ce type de chiffrement où le décalage est de 13. En Python, la clé de chiffrement pour ROT-13 peut être représentée au moyen du dictionnaire suivant :"
   ]
  },
  {
   "cell_type": "code",
   "execution_count": null,
   "metadata": {},
   "outputs": [],
   "source": [
    "key = {'a':'n', 'b':'o', 'c':'p', 'd':'q', 'e':'r', 'f':'s', 'g':'t', 'h':'u', \n",
    "       'i':'v', 'j':'w', 'k':'x', 'l':'y', 'm':'z', 'n':'a', 'o':'b', 'p':'c', \n",
    "       'q':'d', 'r':'e', 's':'f', 't':'g', 'u':'h', 'v':'i', 'w':'j', 'x':'k',\n",
    "       'y':'l', 'z':'m', 'A':'N', 'B':'O', 'C':'P', 'D':'Q', 'E':'R', 'F':'S', \n",
    "       'G':'T', 'H':'U', 'I':'V', 'J':'W', 'K':'X', 'L':'Y', 'M':'Z', 'N':'A', \n",
    "       'O':'B', 'P':'C', 'Q':'D', 'R':'E', 'S':'F', 'T':'G', 'U':'H', 'V':'I', \n",
    "       'W':'J', 'X':'K', 'Y':'L', 'Z':'M'}"
   ]
  },
  {
   "cell_type": "markdown",
   "metadata": {},
   "source": [
    "- Ecrire une fonction `cesar(message)` qui permet d'utiliser le dictionnaire `key`et de coder un message grâce à ROT-13 \n",
    "- Coder le message \"Je suis etudiant a l IUT\", puis décoder le message pour vérifier.\n",
    "\n",
    "\n",
    "**NB** :  La méthode `chaine.isalpha()` retourne `True` si tous les caractères de `chaine` sont des lettres et qu'il y a au moins un caractère et `False`dans le cas contraire. "
   ]
  },
  {
   "cell_type": "code",
   "execution_count": null,
   "metadata": {},
   "outputs": [],
   "source": [
    "def cesar(text):\n",
    "    result = \"\"\n",
    "    i=0\n",
    "    while  i<len(text):\n",
    "        c=text[i]\n",
    "        if c.isalpha():\n",
    "            result += key[c]\n",
    "        else: \n",
    "            result += c\n",
    "        i=i+1\n",
    "    return result  "
   ]
  },
  {
   "cell_type": "code",
   "execution_count": null,
   "metadata": {},
   "outputs": [],
   "source": [
    "texte=cesar(\"Je suis etudiant a l IUT\")\n",
    "print(texte) \n",
    "print(cesar(texte))"
   ]
  },
  {
   "cell_type": "markdown",
   "metadata": {},
   "source": [
    "## Exercice 5 : Fichier  Json*\n",
    "Ecrire un fichier JSON qui est une représentation objet simplifiée d'un cours et de ses élèves.\n",
    "- Commencer par créer le fichier JSON.\n",
    "- Ajouter les attributs suivants dans la racine du JSON :\n",
    "        - cours, de type string.\n",
    "        - semestre, de type number.    \n",
    "        - annee, de type entier.\n",
    "        - etudiants, de type tableau.\n"
   ]
  },
  {
   "cell_type": "code",
   "execution_count": null,
   "metadata": {},
   "outputs": [],
   "source": [
    "{\n",
    "\"cours\": \"Mathématiques\",\n",
    "\"annee\": 2019,\n",
    "\"semestre\": 2,\n",
    "\"etudiants\": [\n",
    " {\n",
    " \"nom\": \"Bertrand\",\n",
    " \"prenom\": \"Mathilde\"\n",
    "},\n",
    "{\n",
    "  \"nom\": \"Martin\",\n",
    " \"prenom\": \"Christian\"\n",
    " },\n",
    "{\n",
    " \"nom\": \"Jean\",\n",
    "   \"prenom\": \"Alexandre\"\n",
    "   }\n",
    "]\n",
    "}"
   ]
  }
 ],
 "metadata": {
  "kernelspec": {
   "display_name": "Python 3",
   "language": "python",
   "name": "python3"
  },
  "language_info": {
   "codemirror_mode": {
    "name": "ipython",
    "version": 3
   },
   "file_extension": ".py",
   "mimetype": "text/x-python",
   "name": "python",
   "nbconvert_exporter": "python",
   "pygments_lexer": "ipython3",
   "version": "3.7.4"
  },
  "latex_envs": {
   "LaTeX_envs_menu_present": true,
   "autoclose": false,
   "autocomplete": true,
   "bibliofile": "biblio.bib",
   "cite_by": "apalike",
   "current_citInitial": 1,
   "eqLabelWithNumbers": true,
   "eqNumInitial": 1,
   "hotkeys": {
    "equation": "Ctrl-E",
    "itemize": "Ctrl-I"
   },
   "labels_anchors": false,
   "latex_user_defs": false,
   "report_style_numbering": false,
   "user_envs_cfg": false
  },
  "toc": {
   "base_numbering": 1,
   "nav_menu": {},
   "number_sections": true,
   "sideBar": true,
   "skip_h1_title": false,
   "title_cell": "Table of Contents",
   "title_sidebar": "Contents",
   "toc_cell": false,
   "toc_position": {},
   "toc_section_display": true,
   "toc_window_display": false
  }
 },
 "nbformat": 4,
 "nbformat_minor": 2
}
