{
 "cells": [
  {
   "cell_type": "markdown",
   "metadata": {},
   "source": [
    "# <center> Chapitre 11 : Chaines de caractères - TD  </center>"
   ]
  },
  {
   "cell_type": "code",
   "execution_count": 1,
   "metadata": {},
   "outputs": [],
   "source": [
    "%load_ext tutormagic"
   ]
  },
  {
   "cell_type": "markdown",
   "metadata": {},
   "source": [
    "## Exercice 1 : Comparaison de chaînes *\n",
    "\n",
    "En Python, on peut comparer 2 chaînes de caractères en utilisant les opérateurs `<`, `>`....\n",
    "Il vous est demandé d'écrire une fonction `compareTo`qui prend deux chaînes `ch1` et `ch2` en entrée  et renvoie\n",
    "- +1 si `ch1` est après `ch2` dans l'ordre lexicographique\n",
    "- -1 si `ch1` est avant `ch2`\n",
    "- 0 sinon\n",
    "\n",
    "sans utiliser les opérateurs entre chaînes précédemment cités."
   ]
  },
  {
   "cell_type": "code",
   "execution_count": null,
   "metadata": {},
   "outputs": [],
   "source": [
    "#-------------------------#\n",
    "#    Écrire le code ici   #\n",
    "#-------------------------#\n",
    "\n",
    "\n"
   ]
  },
  {
   "cell_type": "markdown",
   "metadata": {},
   "source": [
    "## Exercice 2 : Recherche d'un caractère à l'intérieur d'une chaîne de caractères (`index()`)*"
   ]
  },
  {
   "cell_type": "markdown",
   "metadata": {},
   "source": [
    "Un des traitements les plus courants est la recherche d'un (unique) caractère à l'intérieur d'une chaîne de caractères. \n",
    "\n",
    "Ecrire une fonction ``indexOfCar()`` qui prend comme paramètres une chaîne de caractères``chaîne`` et un (unique) caractère ``car`` et qui retourne l'index de la première occurrence de ce  caractère \n",
    "dans la chaîne. Si ``car`` n'apparait pas dans ``chaîne`` la fonction retournera ``-1``. Cette fonction correspond à une fonction qui existe en Python et s'appelle `index()`. On vous demande toutefois de la définir vous même.\n",
    "\n",
    "Par exemple, les instructions suivantes"
   ]
  },
  {
   "cell_type": "code",
   "execution_count": null,
   "metadata": {},
   "outputs": [],
   "source": [
    "chaine=\"il fait beau ici ; n'est ce pas ? oui c'est vrai\"\n",
    "print(indexOfCar(chaine, 'e')) # conduira à l'affichage 9\n",
    "print(indexOfCar(chaine, 'x')) # conduira à l'affichage -1"
   ]
  },
  {
   "cell_type": "code",
   "execution_count": null,
   "metadata": {},
   "outputs": [],
   "source": [
    "#-------------------------#\n",
    "#    Écrire le code ici   #\n",
    "#-------------------------#\n",
    "\n",
    "\n"
   ]
  },
  {
   "cell_type": "markdown",
   "metadata": {},
   "source": [
    "## Exercice 3 : Recherche d'une sous-chaîne dans une chaîne de caractères (`find()`)**"
   ]
  },
  {
   "cell_type": "markdown",
   "metadata": {},
   "source": [
    "On peut généraliser le problème précédent en recherchant, non pas un unique caractère, mais une sous-chaîne dans une chaîne.\n",
    "Par exemple, dans la chaîne ``\"il fait beau aujourd'hui\"``, la sous-chaîne ``'eau'`` apparait à la position ``9``,\n",
    "mais on ne trouve pas la sous-chaîne ``'uae'``.\n",
    "\n",
    "Ecrire une fonction ``indexOfStr()`` qui recherche la présence d'une sous-chaîne ``sStr`` dans la chaîne de caractères ``chaine``, toutes deux passées en paramètres.  La fonction retournera la postion de la première occurrence de ``sStr`` dans la chaîne de caractères ``chaine``; si celle-ci n'existe pas, la fonction retournera ``-1``. Cette fonction correspond à une fonction qui existe en Python et s'appelle `find()`. On vous demande toutefois de la définir vous même.\n",
    "\n",
    "Par exemple, les instructions suivantes"
   ]
  },
  {
   "cell_type": "code",
   "execution_count": null,
   "metadata": {},
   "outputs": [],
   "source": [
    "chaine=\"il fait beau ici, n'est ce pas ? oui c'est vrai\"\n",
    "print(indexOfStr(chaine, 'bea')) # 8\n",
    "print(indexOfStr(chaine, 'aeb')) # -1"
   ]
  },
  {
   "cell_type": "code",
   "execution_count": null,
   "metadata": {},
   "outputs": [],
   "source": [
    "#Attention la syntaxe de find est différente \n",
    "chaine=\"il fait beau ici, n'est ce pas ? oui c'est vrai\"\n",
    "print(chaine.find('bea'))"
   ]
  },
  {
   "cell_type": "code",
   "execution_count": null,
   "metadata": {},
   "outputs": [],
   "source": [
    "#-------------------------#\n",
    "#    Écrire le code ici   #\n",
    "#-------------------------#\n",
    "\n",
    "\n"
   ]
  },
  {
   "cell_type": "markdown",
   "metadata": {},
   "source": [
    "## Exercice 4 : Comptage du nombre de voyelle(s) dans une chaîne de caractères*"
   ]
  },
  {
   "cell_type": "markdown",
   "metadata": {},
   "source": [
    "On rappelle que les voyelles sont les caractères ``{'a', 'e', 'i', o', 'u','y'}``.\n",
    "Définir une fonction qui retourne le nombre de voyelle(s) (indifféremment majuscule(s) ou minuscule(s)) dans une chaîne de caractères et  proposer un jeu de tests significatifs."
   ]
  },
  {
   "cell_type": "code",
   "execution_count": null,
   "metadata": {},
   "outputs": [],
   "source": [
    "chaine=\"il fait beau ici;N'est ce pas:Oui c'est vrai\"\n",
    "print(\"Le nombre de voyelles dans ' \"+ chaine +\"' est : \" + str(comptVoyelle(chaine)))"
   ]
  },
  {
   "cell_type": "code",
   "execution_count": null,
   "metadata": {},
   "outputs": [],
   "source": [
    "#-------------------------#\n",
    "#    Écrire le code ici   #\n",
    "#-------------------------#\n",
    "\n",
    "\n"
   ]
  },
  {
   "cell_type": "markdown",
   "metadata": {},
   "source": [
    "## Exercice 5 :  Remplacement d'un caractère par un autre (`replace()`)*\n",
    "Ecrire une fonction `changeCar(chaine,car1,car2)` qui remplace\n",
    "tous les caractères `car1` par\n",
    "des caractères `car2` dans la chaîne de caractères `chaine` et retourne la chaîne résultante.\n",
    "\n",
    "Cette fonction correspond à une fonction qui existe en Python et s'appelle `find()`. On vous demande toutefois de la définir vous même.\n",
    "\n",
    "Par exemple, les instructions suivantes"
   ]
  },
  {
   "cell_type": "code",
   "execution_count": null,
   "metadata": {},
   "outputs": [],
   "source": [
    "chaine=\"il fait beau ici, n'est ce pas ? oui c'est vrai\"\n",
    "print(changeCar(chaine, 'e','')) # il fait bau ici, n'st c pas ? oui c'st vrai"
   ]
  },
  {
   "cell_type": "code",
   "execution_count": null,
   "metadata": {},
   "outputs": [],
   "source": [
    "chaine=\"il fait beau ici, n'est ce pas ? oui c'est vrai\"\n",
    "print(changeCar(chaine, 'e','')) # il fait bau ici, n'st c pas ? oui c'st vrai"
   ]
  },
  {
   "cell_type": "code",
   "execution_count": null,
   "metadata": {},
   "outputs": [],
   "source": [
    "#-------------------------#\n",
    "#    Écrire le code ici   #\n",
    "#-------------------------#\n",
    "\n",
    "\n"
   ]
  },
  {
   "cell_type": "markdown",
   "metadata": {},
   "source": [
    "## Exercice 6 :  Remplacement d'une sous-chaîne par une autre **\n",
    "Ecrire une fonction `changeSsChaine(chaine,old,new)` qui remplace\n",
    "tous les occurrence de  la sous-chaîne `old` par\n",
    "la chaîne `new` dans la chaîne de caractères `chaine` et retourne la chaîne résultante.\n",
    "\n",
    "Cette fonction correspond à une fonction qui existe en Python et s'appelle `replace()`. On vous demande toutefois de la définir (seule la fonction `len`est autorisée).\n",
    "\n",
    "Par exemple :"
   ]
  },
  {
   "cell_type": "code",
   "execution_count": null,
   "metadata": {},
   "outputs": [],
   "source": [
    "ch = \"les hommes - tous les hommes - sont des animaux pensants\"\n",
    "motAremplacer = 'hommes'\n",
    "motNouveau = 'êtres humains'\n",
    "print(changeSsChaine(ch,motAremplacer,motNouveau)) \n",
    "    # affichera : les êtres humains - tous les êtres humains - sont des animaux pensants"
   ]
  },
  {
   "cell_type": "code",
   "execution_count": null,
   "metadata": {},
   "outputs": [],
   "source": [
    "#-------------------------#\n",
    "#    Écrire le code ici   #\n",
    "#-------------------------#\n",
    "\n",
    "\n"
   ]
  }
 ],
 "metadata": {
  "kernelspec": {
   "display_name": "Python 3",
   "language": "python",
   "name": "python3"
  },
  "language_info": {
   "codemirror_mode": {
    "name": "ipython",
    "version": 3
   },
   "file_extension": ".py",
   "mimetype": "text/x-python",
   "name": "python",
   "nbconvert_exporter": "python",
   "pygments_lexer": "ipython3",
   "version": "3.6.4"
  },
  "latex_envs": {
   "LaTeX_envs_menu_present": true,
   "autoclose": false,
   "autocomplete": true,
   "bibliofile": "biblio.bib",
   "cite_by": "apalike",
   "current_citInitial": 1,
   "eqLabelWithNumbers": true,
   "eqNumInitial": 1,
   "hotkeys": {
    "equation": "Ctrl-E",
    "itemize": "Ctrl-I"
   },
   "labels_anchors": false,
   "latex_user_defs": false,
   "report_style_numbering": false,
   "user_envs_cfg": false
  },
  "toc": {
   "base_numbering": 1,
   "nav_menu": {},
   "number_sections": true,
   "sideBar": true,
   "skip_h1_title": false,
   "title_cell": "Table of Contents",
   "title_sidebar": "Contents",
   "toc_cell": false,
   "toc_position": {},
   "toc_section_display": true,
   "toc_window_display": false
  }
 },
 "nbformat": 4,
 "nbformat_minor": 2
}
