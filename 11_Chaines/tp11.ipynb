{
 "cells": [
  {
   "cell_type": "markdown",
   "metadata": {},
   "source": [
    "# <center> Chapitre 11 : Chaines de caractères - TP   </center>"
   ]
  },
  {
   "cell_type": "code",
   "execution_count": null,
   "metadata": {
    "scrolled": true
   },
   "outputs": [],
   "source": [
    "%load_ext tutormagic"
   ]
  },
  {
   "cell_type": "markdown",
   "metadata": {},
   "source": [
    "## Exercice 1 : Table ASCII *\n",
    "\n",
    "### Question 1.1 \n",
    "Ecrire une fonction qui affiche une table des codes ASCII. La fonction doit afficher tous les caractères en regard des codes correspondants."
   ]
  },
  {
   "cell_type": "code",
   "execution_count": null,
   "metadata": {},
   "outputs": [],
   "source": [
    "#-------------------------#\n",
    "#    Écrire le code ici   #\n",
    "#-------------------------#\n",
    "\n",
    "\n"
   ]
  },
  {
   "cell_type": "markdown",
   "metadata": {},
   "source": [
    " ### Question 1.2 \n",
    " Proposer un programme qui permet d'afficher la table ASCII des caractères représentables (codes 32 à 127) sous forme d'un tableau comportant 8 colonnes, comme ci-dessous: "
   ]
  },
  {
   "cell_type": "markdown",
   "metadata": {},
   "source": [
    "```\n",
    "------------------------\n",
    "    !  \"  #  $  %  &  ' \n",
    "------------------------\n",
    " (  )  *  +  ,  -  .  / \n",
    "------------------------\n",
    " 0  1  2  3  4  5  6  7 \n",
    "------------------------\n",
    " 8  9  :  ;  <  =  >  ? \n",
    "------------------------\n",
    " @  A  B  C  D  E  F  G \n",
    "------------------------\n",
    " H  I  J  K  L  M  N  O \n",
    "------------------------\n",
    " P  Q  R  S  T  U  V  W \n",
    "------------------------\n",
    " X  Y  Z  [  \\  ]  ^  _ \n",
    "------------------------\n",
    " `  a  b  c  d  e  f  g \n",
    "------------------------\n",
    " h  i  j  k  l  m  n  o \n",
    "------------------------\n",
    " p  q  r  s  t  u  v  w \n",
    "------------------------\n",
    " x  y  z  {  |  }  ~   \n",
    "------------------------\n",
    "```"
   ]
  },
  {
   "cell_type": "code",
   "execution_count": null,
   "metadata": {},
   "outputs": [],
   "source": [
    "#-------------------------#\n",
    "#    Écrire le code ici   #\n",
    "#-------------------------#\n",
    "\n",
    "\n"
   ]
  },
  {
   "cell_type": "markdown",
   "metadata": {},
   "source": [
    "## Exercice 2 : Est-ce un nombre ? *\n",
    "Ecrire une fonction qui teste si une chaîne représente un nombre (on se limitera au nombre entier positif). Exemple :\n",
    "- `` estNb('135')``--> True\n",
    "- `` estNb('13A5')``--> False\n",
    "- `` estNb('  135')``--> False"
   ]
  },
  {
   "cell_type": "code",
   "execution_count": null,
   "metadata": {},
   "outputs": [],
   "source": [
    "#-------------------------#\n",
    "#    Écrire le code ici   #\n",
    "#-------------------------#\n",
    "\n",
    "\n",
    "\n",
    "\n",
    "\n",
    "#----------------------------------#\n",
    "# Tests unitaires                  #\n",
    "#----------------------------------#\n",
    "def test_estNb():\n",
    "    assert estNb('135')\n",
    "    assert  not estNb('13A5') and not estNb(' 135') and not estNb('135 ')\n",
    "    print(\"Test de la fonction estNb : ok\")\n",
    "\n",
    "test_estNb()"
   ]
  },
  {
   "cell_type": "markdown",
   "metadata": {},
   "source": [
    "## Exercice 3 : Insertions de symboles * "
   ]
  },
  {
   "cell_type": "markdown",
   "metadata": {},
   "source": [
    "Ecrire une fonction qui prend une chaîne en paramètre et qui renvoie une chaîne dans laquelle ont été insérées des tirets bas (`_`) entre chaque lettre de la chaîne d'origine.\n",
    "Par exemple, si on lui passe la chaîne `bonjour`, la fonction retourne la chaîne `b_o_n_j_o_u_r`."
   ]
  },
  {
   "cell_type": "code",
   "execution_count": null,
   "metadata": {},
   "outputs": [],
   "source": [
    "#-------------------------#\n",
    "#    Écrire le code ici   #\n",
    "#-------------------------#\n",
    "\n",
    "\n",
    "\n",
    "\n",
    "#----------------------------------#\n",
    "# Tests unitaires                  #\n",
    "#----------------------------------#\n",
    "def test_tiret():\n",
    "    assert tiret('bonjour') == 'b_o_n_j_o_u_r'\n",
    "    print(\"Test de la fonction tiret : ok\")\n",
    "\n",
    "test_tiret()"
   ]
  },
  {
   "cell_type": "markdown",
   "metadata": {},
   "source": [
    "## Exercice 4 : Présentation rapide du langage HTML **"
   ]
  },
  {
   "cell_type": "markdown",
   "metadata": {},
   "source": [
    "Les pages Web sont écrites dans un langage appelé HTML (HyperText Markup Language / langage de marquage hypertexte). C'est un langage de description de documents qui permet de décrire la structure du document et son contenu.  HTML est un langage qui utilise des balises (ou marqueurs, ou tags).  Toute structure de texte est encadrée par une paire de balises.  Le canevas de base d'un document HTML est le suivant :"
   ]
  },
  {
   "cell_type": "code",
   "execution_count": null,
   "metadata": {},
   "outputs": [],
   "source": [
    "<html> \n",
    "  <head> \n",
    "     <title> Exemple pour le cours </title>\n",
    "  </head>\n",
    "  <body> \n",
    "   <p> C'est ici que l'on écrit le texte de la page </p>\n",
    "  </body> \n",
    "</html>"
   ]
  },
  {
   "cell_type": "markdown",
   "metadata": {},
   "source": [
    "Chaque balise est reconnaissable car entourée des caractères ``< >``\n",
    "\n",
    "Certaines balises vont par 2 : ``<html></html>, <head></head>, <p></p>``. Elles indiquent comment le texte qui est entre la paire de balises doit être structuré. La deuxième balise (la balise de fin) est construite à partir de la première (balise de début) en lui ajoutant devant le caractère ``/``.  D'autres balises sont *seules* :``<br/>`` indique un passage à la ligne,``<img/>`` indique l'insertion d'une image. On supposera que le nom des balises HTML, c'est-à-dire la chaîne comprises entre ``<``(ou ``</``) et ``>``, est uniquement composée de lettres minuscules. L'objectif est de éfinir différentes fonctions concernant les documents HTML.  On suppose que le document est représenté par une chaîne de caractères :\n",
    "\n",
    "### Question 4.1\n",
    "* Ecrire une fonction ``estBaliseDebut()`` qui vérifie si une chaîne ``s``, reçue en argument est une balise de début.  Une balise de début est entourée des caractères ``<`` et ``>`` et entre les deux, elle n'est composée que de **caractères alphabétiques minuscules**.\n"
   ]
  },
  {
   "cell_type": "code",
   "execution_count": null,
   "metadata": {},
   "outputs": [],
   "source": [
    "#-------------------------#\n",
    "#    Écrire le code ici   #\n",
    "#-------------------------#\n",
    "\n",
    "\n",
    "\n",
    "\n",
    "#----------------------------------#\n",
    "# Tests unitaires                  #\n",
    "#----------------------------------#\n",
    "def test_estBaliseDebut():\n",
    "    tests = ['<head>','head>','<TITLE>','<t1t2>', '</head>']\n",
    "    assert estBaliseDebut(tests[0])\n",
    "    i=1\n",
    "    while i<len(tests) : \n",
    "        assert not estBaliseDebut(tests[i])\n",
    "        i+=1       \n",
    "    print(\"Test de la fonction estBaliseDebut : ok\")\n",
    "\n",
    "test_estBaliseDebut()"
   ]
  },
  {
   "cell_type": "markdown",
   "metadata": {},
   "source": [
    "### Question 4.2\n",
    "- Ecrire une fonction ``construitBaliseFin(balDeb)`` qui retourne un tableau contenant deux valeurs, un booléen et une chaîne de caractères :\n",
    "    - la première valeur du tableau vaut `True` dans le cas ou la balise `balDeb` est une balise de début, auquel cas, la deuxième valeur contenu dans le tableau représente la balise de fin correspondant à `balDeb`,\n",
    "    - la première valeur du tableau vaut `False` dans le cas ou la balise `balDeb` n'est pas conforme au langage HTML, auquel cas, la deuxième valeur du tableau qui est retourné est une chaîne vide.\n"
   ]
  },
  {
   "cell_type": "code",
   "execution_count": null,
   "metadata": {},
   "outputs": [],
   "source": [
    "#-------------------------#\n",
    "#    Écrire le code ici   #\n",
    "#-------------------------#\n",
    "\n",
    "\n",
    "\n",
    "\n",
    "#----------------------------------#\n",
    "# Tests unitaires                  #\n",
    "#----------------------------------#\n",
    "def test_construireBaliseFin():\n",
    "    bal='<head>'\n",
    "    rep = construireBaliseFin(bal)\n",
    "    assert rep[0] == True and rep[1] == '</head>'\n",
    "    bal='toto>'\n",
    "    rep = construireBaliseFin(bal)\n",
    "    assert rep[0] == False and rep[1] == ''\n",
    "    print(\"Test de la fonction construireBaliseFin : ok\")\n",
    "\n",
    "test_construireBaliseFin()"
   ]
  },
  {
   "cell_type": "markdown",
   "metadata": {},
   "source": [
    "### Question 4.3\n",
    "* Ecrire une fonction ``paireBalises()`` qui, prenant deux balises ``b1``, ``b2`` en paramètre, retourne ``True`` si la balise ``b2`` est la balise de fin correspondant à la balise de début ``b1``, retourne``b2`` sinon.\n"
   ]
  },
  {
   "cell_type": "code",
   "execution_count": null,
   "metadata": {},
   "outputs": [],
   "source": [
    "#-------------------------#\n",
    "#    Écrire le code ici   #\n",
    "#-------------------------#\n",
    "\n",
    "\n",
    "\n",
    "#----------------------------------#\n",
    "# Tests unitaires                  #\n",
    "#----------------------------------#\n",
    "def test_paireBalises():\n",
    "    bal1='<head>'\n",
    "    bal2='</head>'\n",
    "    assert paireBalises(bal1,bal2)\n",
    "    assert not paireBalises('head>','</head>') \n",
    "    assert not paireBalises('<head>','</other>')\n",
    "    print(\"Test de la fonction construireBaliseFin : ok\")\n",
    "\n",
    "test_paireBalises()"
   ]
  },
  {
   "cell_type": "markdown",
   "metadata": {},
   "source": [
    "## Exercice 5 : Vérification du parenthésage  d'une expression **"
   ]
  },
  {
   "cell_type": "markdown",
   "metadata": {},
   "source": [
    "Ecrire une fonction `parentheses()`qui indique si une chaîne de caractères passée en praramètre et représentant une expression parenthésée est syntaxiquement correcte du point de vue des parenthèses ou pas. La fonction renvoie `-1` si l'expression est correcte et la position de la première erreur si l'expression est incorrecte.  \n",
    "\n",
    "Exemple:\n",
    "\t- pour \"(a.(b))\"  elle retourne  -1\n",
    "\t- pour \"(()())\" elle retourne -1\n",
    "\t- pour \"a.(b))(\" elle retourne 5\n",
    "\t- pour \"(()(()a.(b))\" elle retourne 12\n",
    "\t- pour \")(\" elle retourne 0\n"
   ]
  },
  {
   "cell_type": "code",
   "execution_count": null,
   "metadata": {},
   "outputs": [],
   "source": [
    "#-------------------------#\n",
    "#    Écrire le code ici   #\n",
    "#-------------------------#\n",
    "\n",
    "\n",
    "\n",
    "\n",
    "#----------------------------------#\n",
    "# Tests unitaires                  #\n",
    "#----------------------------------#\n",
    "def test_parentheses():\n",
    "    expression = '(a.(b))'\n",
    "    assert parentheses(expression) == -1\n",
    "    expression = '(()())'\n",
    "    assert parentheses(expression) == -1\n",
    "    expression = '(()(()a.(b))'\n",
    "    assert parentheses(expression) == 12\n",
    "    expression = ')('\n",
    "    assert parentheses(expression) == 0\n",
    "    print(\"Test de la fonction parentheses : ok\")\n",
    "\n",
    "test_parentheses()"
   ]
  }
 ],
 "metadata": {
  "kernelspec": {
   "display_name": "Python 3",
   "language": "python",
   "name": "python3"
  },
  "language_info": {
   "codemirror_mode": {
    "name": "ipython",
    "version": 3
   },
   "file_extension": ".py",
   "mimetype": "text/x-python",
   "name": "python",
   "nbconvert_exporter": "python",
   "pygments_lexer": "ipython3",
   "version": "3.6.4"
  },
  "latex_envs": {
   "LaTeX_envs_menu_present": true,
   "autoclose": false,
   "autocomplete": true,
   "bibliofile": "biblio.bib",
   "cite_by": "apalike",
   "current_citInitial": 1,
   "eqLabelWithNumbers": true,
   "eqNumInitial": 1,
   "hotkeys": {
    "equation": "Ctrl-E",
    "itemize": "Ctrl-I"
   },
   "labels_anchors": false,
   "latex_user_defs": false,
   "report_style_numbering": false,
   "user_envs_cfg": false
  },
  "toc": {
   "base_numbering": 1,
   "nav_menu": {},
   "number_sections": true,
   "sideBar": true,
   "skip_h1_title": false,
   "title_cell": "Table of Contents",
   "title_sidebar": "Contents",
   "toc_cell": false,
   "toc_position": {},
   "toc_section_display": true,
   "toc_window_display": false
  }
 },
 "nbformat": 4,
 "nbformat_minor": 2
}
