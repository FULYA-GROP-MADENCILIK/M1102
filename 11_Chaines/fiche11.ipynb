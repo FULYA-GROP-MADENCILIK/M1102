{
 "cells": [
  {
   "cell_type": "markdown",
   "metadata": {},
   "source": [
    "# <center>Chapitre 11 : Les chaines de caractères </center>"
   ]
  },
  {
   "cell_type": "markdown",
   "metadata": {},
   "source": [
    "Une *chaîne de caractères* est une suite ordonnée de caractères. Cette suite est délimitée par des guillemets \" ou, plus rarement, par des apostrophes ' (en Python les deux sont possibles). Une chaîne de caractères n'est pas modifiable.\n",
    "\n",
    "**Exemples de chaînes littérales :**\n",
    "\n",
    "``'bonjour'`` est une chaînes de caractères contenant 7 caractères.\n",
    "``''`` est la chaîne de caractères vide contenant 0 caractère.\n",
    "\n",
    "**Nous pouvons initialiser une variable** avec une chaîne de caractères littérale,  cette variable sera de type chaîne de caractères.\n"
   ]
  },
  {
   "cell_type": "markdown",
   "metadata": {},
   "source": [
    "## Concaténation de chaînes de caractères"
   ]
  },
  {
   "cell_type": "markdown",
   "metadata": {},
   "source": [
    "L'opérateur ``+`` permet de concaténer des chaînes de caractères."
   ]
  },
  {
   "cell_type": "code",
   "execution_count": null,
   "metadata": {
    "scrolled": true
   },
   "outputs": [],
   "source": [
    "message='L\\'hiver approche, vite vite, il faut se couvrir des morsures du froid.'\n",
    "messageBis=' Couvrons nous!'\n",
    "messageTierce=' Oui, couvrons nos oreilles!'\n",
    "superMessage = message + messageBis + '\\n'+ messageTierce\n",
    "print(superMessage)"
   ]
  },
  {
   "cell_type": "markdown",
   "metadata": {},
   "source": [
    "## Les chaînes de caractères vues comme des tableaux"
   ]
  },
  {
   "cell_type": "markdown",
   "metadata": {},
   "source": [
    "Même si les chaînes de caractères peuvent être soumises à une partie des opérations prévues pour les tableaux, elle ne sont pas de **\"type\"** tableau, c'est-à-dire que ``'abc'`` est différent de ``['a, 'b', 'c']`` : le second est modifiable, pas le premier. "
   ]
  },
  {
   "cell_type": "code",
   "execution_count": null,
   "metadata": {},
   "outputs": [],
   "source": [
    "message='L\\'hiver approche, vite vite, il faut se couvrir des morsures du froid.'\n",
    "print(message[4]) # affichage : v\n",
    "print(message[3] + message[6]) # affichage : ir\n",
    "message[1] = 'c'# erreur"
   ]
  },
  {
   "cell_type": "markdown",
   "metadata": {},
   "source": [
    "On peut déterminer la longueur (c'est-à-dire le nombre de caractères) d'une chaîne, en faisant appel à la fonction intégrée **len()**."
   ]
  },
  {
   "cell_type": "markdown",
   "metadata": {},
   "source": [
    "## Les chaînes sont comparables"
   ]
  },
  {
   "cell_type": "markdown",
   "metadata": {},
   "source": [
    "La fonction `ord(c)` permet de connaître la valeur du code ASCII représentant le caractère `c`. Les chaînes peuvent être comparées alphabétiquement selon l'ordre du code ASCII. Tous les opérateurs de comparaison ``(>, <..)`` fonctionnent alors avec les chaînes de caractères. Cela est très utile pour trier des mots par ordre alphabétique (usuel) quand ils sont écrits en majuscules/minuscles :"
   ]
  },
  {
   "cell_type": "code",
   "execution_count": null,
   "metadata": {},
   "outputs": [],
   "source": [
    "mot = input(\"Entrez un mot quelconque : \")\n",
    "if mot < \"chat\":\n",
    "    place = \"est avant\"\n",
    "elif mot > \"chat\":\n",
    "    place = \"est après\"\n",
    "else:\n",
    "    place = \"se confond avec\"\n",
    "print (\"Le mot\", mot, place, \"le mot 'chat' dans l'ordre alphabétique\")"
   ]
  },
  {
   "cell_type": "markdown",
   "metadata": {},
   "source": [
    "## Quelques fonctions sur les chaines"
   ]
  },
  {
   "cell_type": "markdown",
   "metadata": {},
   "source": [
    "`find(mot)` : renvoie la position du début de la sous-chaîne `mot`\n",
    " dans la chaîne, en partant du début de la chaîne et `-1` si `mot`est absent de la chaîne."
   ]
  },
  {
   "cell_type": "code",
   "execution_count": null,
   "metadata": {},
   "outputs": [],
   "source": [
    "ch= \"je suis étudiant à Paris 13\"\n",
    "mot = \"suis\"\n",
    "print (ch.find(mot))"
   ]
  },
  {
   "cell_type": "markdown",
   "metadata": {},
   "source": [
    "`count(mot)` : renvoie le nombre d'occurrencs de la sous-chaîne `mot` qui apparaissent sans chevauchement dans la chaîne."
   ]
  },
  {
   "cell_type": "code",
   "execution_count": null,
   "metadata": {},
   "outputs": [],
   "source": [
    "ch = \"Le héron au long bec et au long cou\"\n",
    "mot = 'long'\n",
    "print (ch.count(mot))"
   ]
  },
  {
   "cell_type": "markdown",
   "metadata": {},
   "source": [
    "`lower()` : convertit une chaîne en minuscules.<br>\n",
    "`upper()` : convertit une chaîne en majuscules."
   ]
  },
  {
   "cell_type": "code",
   "execution_count": null,
   "metadata": {},
   "outputs": [],
   "source": [
    "phrase1 = \"Merci beaucoup\"\n",
    "print (phrase1.upper())\n",
    "\n",
    "phrase2 =\"ATTENTION : Danger !\"\n",
    "print (phrase2.lower())"
   ]
  },
  {
   "cell_type": "markdown",
   "metadata": {},
   "source": [
    "`strip()` : enlève les espaces éventuels au début et à la fin de la chaîne."
   ]
  },
  {
   "cell_type": "code",
   "execution_count": null,
   "metadata": {},
   "outputs": [],
   "source": [
    "phrase = \"   Monty Python   \"\n",
    "print(phrase.strip())"
   ]
  },
  {
   "cell_type": "markdown",
   "metadata": {},
   "source": [
    "`replace(old, new)` : remplace tous les caractères `old` par des caractères `new` dans la chaîne."
   ]
  },
  {
   "cell_type": "code",
   "execution_count": null,
   "metadata": {},
   "outputs": [],
   "source": [
    "phrase = \"Je suis étudiant en Informatique\"\n",
    "print(phrase.replace(\" \",\"_\"))"
   ]
  }
 ],
 "metadata": {
  "kernelspec": {
   "display_name": "Python 3",
   "language": "python",
   "name": "python3"
  },
  "language_info": {
   "codemirror_mode": {
    "name": "ipython",
    "version": 3
   },
   "file_extension": ".py",
   "mimetype": "text/x-python",
   "name": "python",
   "nbconvert_exporter": "python",
   "pygments_lexer": "ipython3",
   "version": "3.6.4"
  },
  "latex_envs": {
   "LaTeX_envs_menu_present": true,
   "autoclose": false,
   "autocomplete": true,
   "bibliofile": "biblio.bib",
   "cite_by": "apalike",
   "current_citInitial": 1,
   "eqLabelWithNumbers": true,
   "eqNumInitial": 1,
   "hotkeys": {
    "equation": "Ctrl-E",
    "itemize": "Ctrl-I"
   },
   "labels_anchors": false,
   "latex_user_defs": false,
   "report_style_numbering": false,
   "user_envs_cfg": false
  }
 },
 "nbformat": 4,
 "nbformat_minor": 2
}
