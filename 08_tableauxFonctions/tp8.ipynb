{
 "cells": [
  {
   "cell_type": "markdown",
   "metadata": {},
   "source": [
    "# <center> Chapitre 8 : Tableaux et fonctions - TP </center>"
   ]
  },
  {
   "cell_type": "markdown",
   "metadata": {},
   "source": [
    "## Exercice 1 :  Somme alternée *\n",
    "\n",
    "Écrire une fonction qui prend un tableau de nombres et calcule\n",
    "la somme des éléments d'indice pair moins la somme des éléments\n",
    "d'indice impair."
   ]
  },
  {
   "cell_type": "code",
   "execution_count": 1,
   "metadata": {},
   "outputs": [],
   "source": [
    "#-------------------------#\n",
    "#    Écrire le code ici   #\n",
    "#-------------------------#\n",
    "\n",
    "\n",
    "\n",
    "#----------------------------------#\n",
    "# Test unitaires                   #\n",
    "#----------------------------------#\n",
    "def test_somme_alt():\n",
    "    assert somme_alt([1,2,3,4]) == -2\n",
    "    assert somme_alt([1,2,1]) == 0\n",
    "    assert somme_alt([1]) == 1\n",
    "    assert somme_alt([]) == 0   \n",
    "    print(\"Test de la fonction somme_alt : ok\")\n",
    "    \n",
    "test_somme_alt()"
   ]
  },
  {
   "cell_type": "markdown",
   "metadata": {},
   "source": [
    "## Exercice 2 : Autour du tri **\n",
    "\n",
    "### Question 1 :Tableau trié\n",
    "\n",
    "Écrire une fonction qui teste si un tableau est trié dans l'ordre croissant."
   ]
  },
  {
   "cell_type": "code",
   "execution_count": null,
   "metadata": {},
   "outputs": [],
   "source": [
    "#-------------------------#\n",
    "#    Écrire le code ici   #\n",
    "#-------------------------#\n",
    "\n",
    "\n",
    "#----------------------------------#\n",
    "# Test unitaires                   #\n",
    "#----------------------------------#\n",
    "def test_est_trie_croissant():\n",
    "    assert est_trie_croissant([1,2,3])\n",
    "    assert not est_trie_croissant([2,1,3])\n",
    "    assert not est_trie_croissant([3,2,1])\n",
    "    assert est_trie_croissant([1])\n",
    "    assert est_trie_croissant([])\n",
    "    print(\"Test de la fonction est_trie_croissant : ok\")\n",
    "\n",
    "test_est_trie_croissant()"
   ]
  },
  {
   "cell_type": "markdown",
   "metadata": {},
   "source": [
    "### Question 2  : Déplacement\n",
    "\n",
    "On dira qu'un tableau est presque trié s'il est trié sauf le dernier élément. <br>\n",
    "Écrire une fonction qui insère ce dernier à la bonne place pour finir le tri."
   ]
  },
  {
   "cell_type": "code",
   "execution_count": null,
   "metadata": {},
   "outputs": [],
   "source": [
    "#-------------------------#\n",
    "#    Écrire le code ici   #\n",
    "#-------------------------#\n",
    "\n",
    "\n",
    "\n",
    "#----------------------------------#\n",
    "# Test unitaires                   #\n",
    "#----------------------------------#\n",
    "def test_replace_der():\n",
    "    t1 = [1,3,4,7,2]\n",
    "    replace_der(t1)\n",
    "    assert t1 == [1,2,3,4,7]\n",
    "    \n",
    "    t2 = [1,2,3,4,7]\n",
    "    replace_der(t2)\n",
    "    assert t2 == [1,2,3,4,7]\n",
    "    \n",
    "    print(\"Test de la fonction replace_der : ok\")\n",
    "\n",
    "test_replace_der()"
   ]
  },
  {
   "cell_type": "markdown",
   "metadata": {},
   "source": [
    "### Question 3 : Tri progressif\n",
    "\n",
    "- Écrire une fonction qui renvoie un tableau de taille `n`\n",
    "  (paramètre) contenant des entiers aléatoires entre 1 et 100.\n",
    "- On remarque qu'à chaque fois qu'on ajoute un élément à un\n",
    "  tableau trié, le résultat est presque trié. <br>\n",
    "  Modifier la fonction précédente en déplaçant le dernier élément\n",
    "  ajouté, pour obtenir un tableau trié."
   ]
  },
  {
   "cell_type": "code",
   "execution_count": null,
   "metadata": {},
   "outputs": [],
   "source": [
    "#-------------------------#\n",
    "#    Écrire le code ici   #\n",
    "#-------------------------#\n",
    "\n",
    "\n",
    "\n"
   ]
  },
  {
   "cell_type": "markdown",
   "metadata": {},
   "source": [
    "## Exercice 3 :  Statistiques sur un fichier\n",
    "Le fichier http://berkeleyearth.lbl.gov/auto/Regional/TAVG/Text/northern-hemisphere-TAVG-Trend.txt contient les écarts de températures moyennes mensuels à une valeur de référence calculée entre Janvier 1951 et Décembre 1980 de l'hémisphère nord depuis 1812.\n",
    "\n",
    "### Question 1:\n",
    "Définissez une fonction `est_ligne_de_commentaire_ou_vide(li)` qui test si une chaine de caractère commmence par le caractère `'%'` ou si la ligne est vide."
   ]
  },
  {
   "cell_type": "code",
   "execution_count": null,
   "metadata": {},
   "outputs": [],
   "source": [
    "#-------------------------#\n",
    "#    Écrire le code ici   #\n",
    "#-------------------------#\n",
    "\n",
    "\n",
    "\n",
    "#----------------------------------#\n",
    "# Test unitaires                   #\n",
    "#----------------------------------#\n",
    "def test_est_ligne_de_commentaire_ou_vide():\n",
    "    assert est_ligne_de_commentaire_ou_vide('%   Berkeley Earth analysis for mean temperature on complete dataset')\n",
    "    assert not est_ligne_de_commentaire_ou_vide('1817     1    -0.903  3.069    -1.443  0.886    -1.202  0.391    -1.136  0.393       NaN    NaN' )\n",
    "    assert est_ligne_de_commentaire_ou_vide('')\n",
    "    assert est_ligne_de_commentaire_ou_vide('\\n')\n",
    "    \n",
    "    print(\"Test de la fonction est_ligne_de_commentaire_ou_vide : ok\")\n",
    "\n",
    "test_est_ligne_de_commentaire_ou_vide()"
   ]
  },
  {
   "cell_type": "markdown",
   "metadata": {},
   "source": [
    "### Question 2:\n",
    "Définissez une fonction `parse_line_temp(li)` qui découpe une chaine de caractères et retourne un tableau de valeurs numériques. Les 2 premières valeurs numériques devront être des entiers `int` et les suivants des flottants `float`."
   ]
  },
  {
   "cell_type": "code",
   "execution_count": null,
   "metadata": {},
   "outputs": [],
   "source": [
    "#-------------------------#\n",
    "#    Écrire le code ici   #\n",
    "#-------------------------#\n",
    "\n",
    "\n",
    "\n",
    "#----------------------------------#\n",
    "# Test unitaires                   #\n",
    "#----------------------------------#\n",
    "def test_parse_line_temp():\n",
    "    assert parse_line_temp('  1819     8    -1.279  1.055') == [1819,8,-1.279,1.055]\n",
    "    assert parse_line_temp('  1819     8    -1.279  1.055    -1.390  0.616    -0.975  0.456    -0.943  0.314    -0.874  0.308') == [1819,8,-1.279,1.055,-1.390,0.616,-0.975,0.456,-0.943,0.314,-0.874,0.308]\n",
    "    \n",
    "    print(\"Test de la fonction parse_line_temp : ok\")\n",
    "\n",
    "test_parse_line_temp()"
   ]
  },
  {
   "cell_type": "markdown",
   "metadata": {},
   "source": [
    "### Question 3:\n",
    "Définissez une `fonction read_temp(path , debut, fin)` qui prend en paramètre le chemin vers un fichier de température, une année de début et une année de fin et qui retourne l'ensemble des températures mesuelles moyennes (3ème colonne) entre ces 2 années incluses."
   ]
  },
  {
   "cell_type": "code",
   "execution_count": null,
   "metadata": {},
   "outputs": [],
   "source": [
    "#-------------------------#\n",
    "#    Écrire le code ici   #\n",
    "#-------------------------#\n",
    "\n",
    "\n",
    "\n",
    "#----------------------------------#\n",
    "# Test unitaires                   #\n",
    "#----------------------------------#\n",
    "def test_read_temp():\n",
    "    assert read_temp('northern-hemisphere-TAVG-Trend.txt', 1916, 1916) == [-0.025,-0.293, -0.479, -0.378, -0.42, -0.523, -0.243, -0.277, -0.555, -0.424, -0.463, -1.717, -0.466]\n",
    "    assert read_temp('northern-hemisphere-TAVG-Trend.txt', 1916, 1917) == [-0.025, -0.293, -0.479, -0.378, -0.42, -0.523, -0.243, -0.277, -0.555, -0.424, -0.463, -1.717, -0.466, -0.634, -0.84, -0.538, -0.82, -0.541, -0.134, -0.291, -0.295, -0.929, -0.096, -1.78, -0.639]\n",
    "    \n",
    "    print(\"Test de la fonction read_temp : ok\")\n",
    "\n",
    "test_read_temp()"
   ]
  },
  {
   "cell_type": "markdown",
   "metadata": {},
   "source": [
    "### Question 4:\n",
    "Définissez un programme principal qui calcule et affiche la moyenne des écarts de températures de l'hemisphère nord entre 1910 et 1919 puis entre 2003 et 2012. Pour faire cela vous implémenterez la fonction `moyenne` du TD."
   ]
  },
  {
   "cell_type": "code",
   "execution_count": null,
   "metadata": {},
   "outputs": [],
   "source": [
    "#-------------------------#\n",
    "#    Écrire le code ici   #\n",
    "#-------------------------#\n",
    "\n",
    "#----------------------------------#\n",
    "# Test unitaires                   #\n",
    "#----------------------------------#\n",
    "def test_moyenne():\n",
    "    assert moyenne( read_temp('northern-hemisphere-TAVG-Trend.txt', 1910, 1919) ) == -0.41312396694214876\n",
    "    assert moyenne( read_temp('northern-hemisphere-TAVG-Trend.txt', 2003, 2012) ) == 1.0313884297520657\n",
    "    \n",
    "    print(\"Test de la fonction moyenne : ok\")\n",
    "\n",
    "test_moyenne()"
   ]
  },
  {
   "cell_type": "markdown",
   "metadata": {},
   "source": [
    "## Exercice 4  : Répétition *\n",
    "\n",
    "- Écrire une fonction qui teste s'il existe un élément qui apparaît\n",
    "deux fois dans un tableau trié.\n",
    "- Serait-ce aussi simple avec un tableau non trié ?"
   ]
  },
  {
   "cell_type": "code",
   "execution_count": null,
   "metadata": {},
   "outputs": [],
   "source": [
    "#-------------------------#\n",
    "#    Écrire le code ici   #\n",
    "#-------------------------#\n",
    "\n",
    "\n",
    "\n",
    "#----------------------------------#\n",
    "# Test unitaires                   #\n",
    "#----------------------------------#\n",
    "def test_repetition():\n",
    "    assert repetition([1,3,3])\n",
    "    assert repetition([3,3])\n",
    "    assert not repetition([1,3,4])\n",
    "    assert not repetition([])\n",
    "    \n",
    "    print(\"Test de la fonction repetition : ok\")\n",
    "\n",
    "test_repetition()"
   ]
  },
  {
   "cell_type": "markdown",
   "metadata": {},
   "source": [
    "## Exercice 5 : Écritures **\n",
    "\n",
    "- Écrire une fonction qui parcourt un tableau de gauche à droite\n",
    "et le modifie de la manière suivante : <br>\n",
    "les premier et dernier éléments sont inchangés, les autres valent\n",
    "la moyenne des éléments voisins.\n",
    "- Faire le parcours de droite à gauche et expliquer pourquoi les\n",
    "résultats sont différents."
   ]
  },
  {
   "cell_type": "code",
   "execution_count": null,
   "metadata": {},
   "outputs": [],
   "source": [
    "#-------------------------#\n",
    "#    Écrire le code ici   #\n",
    "#-------------------------#\n",
    "\n",
    "\n",
    "\n"
   ]
  }
 ],
 "metadata": {
  "@webio": {
   "lastCommId": "196e2e2fd793432c86a8bb9010ba68f1",
   "lastKernelId": "18658592-87bb-4ca0-a27a-91653d744861"
  },
  "kernelspec": {
   "display_name": "Python 3",
   "language": "python",
   "name": "python3"
  },
  "language_info": {
   "codemirror_mode": {
    "name": "ipython",
    "version": 3
   },
   "file_extension": ".py",
   "mimetype": "text/x-python",
   "name": "python",
   "nbconvert_exporter": "python",
   "pygments_lexer": "ipython3",
   "version": "3.6.7"
  },
  "toc": {
   "base_numbering": 1,
   "nav_menu": {},
   "number_sections": true,
   "sideBar": true,
   "skip_h1_title": false,
   "title_cell": "Table of Contents",
   "title_sidebar": "Contents",
   "toc_cell": false,
   "toc_position": {},
   "toc_section_display": true,
   "toc_window_display": false
  },
  "varInspector": {
   "cols": {
    "lenName": 16,
    "lenType": 16,
    "lenVar": 40
   },
   "kernels_config": {
    "python": {
     "delete_cmd_postfix": "",
     "delete_cmd_prefix": "del ",
     "library": "var_list.py",
     "varRefreshCmd": "print(var_dic_list())"
    },
    "r": {
     "delete_cmd_postfix": ") ",
     "delete_cmd_prefix": "rm(",
     "library": "var_list.r",
     "varRefreshCmd": "cat(var_dic_list()) "
    }
   },
   "types_to_exclude": [
    "module",
    "function",
    "builtin_function_or_method",
    "instance",
    "_Feature"
   ],
   "window_display": false
  }
 },
 "nbformat": 4,
 "nbformat_minor": 2
}
