{
 "cells": [
  {
   "cell_type": "markdown",
   "metadata": {},
   "source": [
    "# <center> Chapitre 8 : Tableaux et fonctions </center>"
   ]
  },
  {
   "cell_type": "code",
   "execution_count": 10,
   "metadata": {},
   "outputs": [
    {
     "name": "stdout",
     "output_type": "stream",
     "text": [
      "The tutormagic extension is already loaded. To reload it, use:\n",
      "  %reload_ext tutormagic\n"
     ]
    }
   ],
   "source": [
    "%load_ext tutormagic"
   ]
  },
  {
   "cell_type": "markdown",
   "metadata": {},
   "source": [
    "## Tableau en paramètre\n",
    "\n",
    "Une fonction peut prendre un tableau en paramètre. Cela permet\n",
    "d'appliquer un même traitement à plusieurs tableaux.\n",
    "\n",
    "Par exemple :"
   ]
  },
  {
   "cell_type": "code",
   "execution_count": 11,
   "metadata": {},
   "outputs": [
    {
     "name": "stdout",
     "output_type": "stream",
     "text": [
      "Premier élément :  oui\n",
      "Premier élément :  34\n"
     ]
    }
   ],
   "source": [
    "#fonction qui affiche le premier élement d'un tableau\n",
    "def affiche_premier1(tab):\n",
    "    print(\"Premier élément : \",tab[0])\n",
    "    \n",
    "t = [\"oui\", \"non\", \"peut-être\"]\n",
    "t2 = [34, 22, 6, 70]\n",
    "\n",
    "affiche_premier1(t)\n",
    "affiche_premier1(t2)"
   ]
  },
  {
   "cell_type": "markdown",
   "metadata": {},
   "source": [
    "**Remarque :** passer un tableau vide à cette fonction provoque une\n",
    "erreur `out of range` car on lit un élément inexistant."
   ]
  },
  {
   "cell_type": "code",
   "execution_count": 12,
   "metadata": {},
   "outputs": [
    {
     "ename": "IndexError",
     "evalue": "list index out of range",
     "output_type": "error",
     "traceback": [
      "\u001b[0;31m---------------------------------------------------------------------------\u001b[0m",
      "\u001b[0;31mIndexError\u001b[0m                                Traceback (most recent call last)",
      "\u001b[0;32m<ipython-input-12-97ecfd984f30>\u001b[0m in \u001b[0;36m<module>\u001b[0;34m\u001b[0m\n\u001b[1;32m      1\u001b[0m \u001b[0mt\u001b[0m \u001b[0;34m=\u001b[0m \u001b[0;34m[\u001b[0m\u001b[0;34m]\u001b[0m\u001b[0;34m\u001b[0m\u001b[0;34m\u001b[0m\u001b[0m\n\u001b[0;32m----> 2\u001b[0;31m \u001b[0maffiche_premier1\u001b[0m\u001b[0;34m(\u001b[0m\u001b[0mt\u001b[0m\u001b[0;34m)\u001b[0m\u001b[0;34m\u001b[0m\u001b[0;34m\u001b[0m\u001b[0m\n\u001b[0m",
      "\u001b[0;32m<ipython-input-11-8ce630efbe2a>\u001b[0m in \u001b[0;36maffiche_premier1\u001b[0;34m(tab)\u001b[0m\n\u001b[1;32m      1\u001b[0m \u001b[0;31m#fonction qui affiche le premier élement d'un tableau\u001b[0m\u001b[0;34m\u001b[0m\u001b[0;34m\u001b[0m\u001b[0;34m\u001b[0m\u001b[0m\n\u001b[1;32m      2\u001b[0m \u001b[0;32mdef\u001b[0m \u001b[0maffiche_premier1\u001b[0m\u001b[0;34m(\u001b[0m\u001b[0mtab\u001b[0m\u001b[0;34m)\u001b[0m\u001b[0;34m:\u001b[0m\u001b[0;34m\u001b[0m\u001b[0;34m\u001b[0m\u001b[0m\n\u001b[0;32m----> 3\u001b[0;31m     \u001b[0mprint\u001b[0m\u001b[0;34m(\u001b[0m\u001b[0;34m\"Premier élément : \"\u001b[0m\u001b[0;34m,\u001b[0m\u001b[0mtab\u001b[0m\u001b[0;34m[\u001b[0m\u001b[0;36m0\u001b[0m\u001b[0;34m]\u001b[0m\u001b[0;34m)\u001b[0m\u001b[0;34m\u001b[0m\u001b[0;34m\u001b[0m\u001b[0m\n\u001b[0m\u001b[1;32m      4\u001b[0m \u001b[0;34m\u001b[0m\u001b[0m\n\u001b[1;32m      5\u001b[0m \u001b[0mt\u001b[0m \u001b[0;34m=\u001b[0m \u001b[0;34m[\u001b[0m\u001b[0;34m\"oui\"\u001b[0m\u001b[0;34m,\u001b[0m \u001b[0;34m\"non\"\u001b[0m\u001b[0;34m,\u001b[0m \u001b[0;34m\"peut-être\"\u001b[0m\u001b[0;34m]\u001b[0m\u001b[0;34m\u001b[0m\u001b[0;34m\u001b[0m\u001b[0m\n",
      "\u001b[0;31mIndexError\u001b[0m: list index out of range"
     ]
    }
   ],
   "source": [
    "t = []\n",
    "affiche_premier1(t)"
   ]
  },
  {
   "cell_type": "markdown",
   "metadata": {},
   "source": [
    "On peut tester cette propriété et écrire son propre message d'erreur dans ce cas, évitant ainsi les problèmes d'exécution :"
   ]
  },
  {
   "cell_type": "code",
   "execution_count": 13,
   "metadata": {},
   "outputs": [
    {
     "name": "stdout",
     "output_type": "stream",
     "text": [
      "Désolé, le tableau est vide !\n"
     ]
    }
   ],
   "source": [
    "def affiche_premier2(tab):\n",
    "    if len(tab) == 0:              # teste si le tableau est vide\n",
    "        print(\"Désolé, le tableau est vide !\")\n",
    "    else:\n",
    "        print(\"premier élément : \",tab[0])\n",
    "        \n",
    "\n",
    "affiche_premier2(t)"
   ]
  },
  {
   "cell_type": "markdown",
   "metadata": {},
   "source": [
    "## Tableau en valeur de retour\n",
    "\n",
    "Une fonction peut aussi renvoyer un tableau :"
   ]
  },
  {
   "cell_type": "code",
   "execution_count": 14,
   "metadata": {},
   "outputs": [
    {
     "name": "stdout",
     "output_type": "stream",
     "text": [
      "[7, 53, 0.17125908876911988]\n"
     ]
    }
   ],
   "source": [
    "from random import *\n",
    "\n",
    "def tab_alea():\n",
    "    t = []\n",
    "    t.append(randint(1,20))\n",
    "    t.append(randint(1,100))\n",
    "    t.append(random())\n",
    "    return t\n",
    "\n",
    "t = tab_alea()\n",
    "print(t)"
   ]
  },
  {
   "cell_type": "markdown",
   "metadata": {},
   "source": [
    "## Fonctions avec parcours de tableaux\n",
    "\n",
    "Parcourir les tableaux va permettre de concevoir des fonctions plus intéressantes.\n",
    "Voici quelques exemples typiques.\n",
    "\n",
    "### Exemple d'affichage\n",
    "\n",
    "Afficher les éléments en allant à la ligne et un tiret en début de ligne : la fonction ne renvoie rien."
   ]
  },
  {
   "cell_type": "code",
   "execution_count": 15,
   "metadata": {},
   "outputs": [
    {
     "name": "stdout",
     "output_type": "stream",
     "text": [
      " -  oui\n",
      " -  non\n",
      " -  peut-être\n"
     ]
    }
   ],
   "source": [
    "def affiche_tirets(t):\n",
    "    i=0\n",
    "    while i < len(t):\n",
    "        print (\" - \", t[i])\n",
    "        i+=1\n",
    "        \n",
    "t = [\"oui\", \"non\", \"peut-être\"]\n",
    "affiche_tirets(t)"
   ]
  },
  {
   "cell_type": "markdown",
   "metadata": {},
   "source": [
    "- Sur ce thème : **Exercice 1, Questions 1 et 2, TD 8**"
   ]
  },
  {
   "cell_type": "markdown",
   "metadata": {},
   "source": [
    "### Exemple de test\n",
    "\n",
    "Tester si tous les éléments sont nuls : la fonction renvoie un booléen."
   ]
  },
  {
   "cell_type": "code",
   "execution_count": 16,
   "metadata": {},
   "outputs": [
    {
     "name": "stdout",
     "output_type": "stream",
     "text": [
      "False\n"
     ]
    }
   ],
   "source": [
    "def tous_nuls(t):\n",
    "    i=0\n",
    "    while i < len(t):\n",
    "        if t[i] != 0:\n",
    "            return False\n",
    "        i+=1\n",
    "    return True\n",
    "\n",
    "print(tous_nuls([0,0,1]))"
   ]
  },
  {
   "cell_type": "markdown",
   "metadata": {},
   "source": [
    "- Sur ce thème : **Exercices 2 et 3, TD 8**"
   ]
  },
  {
   "cell_type": "markdown",
   "metadata": {},
   "source": [
    "### Exemple de somme ou dénombrement\n",
    "\n",
    "Calculer la somme des éléments : la fonction renvoie un nombre."
   ]
  },
  {
   "cell_type": "code",
   "execution_count": 19,
   "metadata": {},
   "outputs": [
    {
     "name": "stdout",
     "output_type": "stream",
     "text": [
      "120\n"
     ]
    }
   ],
   "source": [
    "def somme_tab(t):\n",
    "    somme = 0\n",
    "    i=0\n",
    "    while i < len(t):\n",
    "        somme += t[i]\n",
    "        i+=1\n",
    "    return somme\n",
    "\n",
    "t = [35, 20, 5, 60]        \n",
    "print(somme_tab(t))"
   ]
  },
  {
   "cell_type": "markdown",
   "metadata": {},
   "source": [
    "Sur ce thème : **Exercice 1, Question 3 ; Exercices 4 et 6, TD 8**"
   ]
  },
  {
   "cell_type": "markdown",
   "metadata": {},
   "source": [
    "### Exemples de modification du paramètre\n",
    "\n",
    "En général, la fonction ne renvoie rien.\n",
    "\n",
    "- Ajouter une valeur `val` à tous les éléments du tableau"
   ]
  },
  {
   "cell_type": "code",
   "execution_count": 17,
   "metadata": {},
   "outputs": [
    {
     "data": {
      "text/html": [
       "<div class=\"text-center\"><strong><a style=\"box-sizing: border-box; padding: 0 5px; border: 1px solid #CFCFCF;\" target=\"_\" href=http://pythontutor.com/iframe-embed.html#code=def%20ajoute%28t%2Cval%29%3A%0A%20%20%20%20i%3D0%0A%20%20%20%20while%20i%20%3C%20len%28t%29%3A%0A%20%20%20%20%20%20%20%20t%5Bi%5D%20%2B%3D%20val%0A%20%20%20%20%20%20%20%20i%2B%3D1%0A%0At%20%3D%20%5B34%2C%2022%2C%206%2C%2070%5D%0Aajoute%28t%2C%2010%29%0Aprint%28t%29%0A&origin=opt-frontend.js&cumulative=false&heapPrimitives=false&textReferences=false&curInstr=0&&verticalStack=false&py=3&rawInputLstJSON=%5B%5D&codeDivWidth=50%25&codeDivHeight=100%25>Python Tutor</a></strong></div>"
      ],
      "text/plain": [
       "<IPython.core.display.HTML object>"
      ]
     },
     "metadata": {},
     "output_type": "display_data"
    }
   ],
   "source": [
    "%%tutor -k\n",
    "def ajoute(t,val):\n",
    "    i=0\n",
    "    while i < len(t):\n",
    "        t[i] += val\n",
    "        i+=1\n",
    "\n",
    "t = [34, 22, 6, 70]\n",
    "ajoute(t, 10)\n",
    "print(t)"
   ]
  },
  {
   "cell_type": "markdown",
   "metadata": {},
   "source": [
    "* Insérer un élément en avant-dernière position"
   ]
  },
  {
   "cell_type": "code",
   "execution_count": 21,
   "metadata": {},
   "outputs": [
    {
     "data": {
      "text/html": [
       "<div class=\"text-center\"><strong><a style=\"box-sizing: border-box; padding: 0 5px; border: 1px solid #CFCFCF;\" target=\"_\" href=http://pythontutor.com/iframe-embed.html#code=def%20insere_avant_dernier%28t%2C%20elt%29%3A%0A%20%20%20%20n%20%3D%20len%28t%29%0A%20%20%20%20tmp%20%3D%20t%5Bn-1%5D%0A%20%20%20%20t%5Bn-1%5D%20%3D%20elt%0A%20%20%20%20t.append%28tmp%29%0A%0At%20%3D%20%5B34%2C%2022%2C%206%2C%2070%5D%0Ainsere_avant_dernier%28t%2C%20%22et%22%29%0Aprint%28t%29%0A&origin=opt-frontend.js&cumulative=false&heapPrimitives=false&textReferences=false&curInstr=0&&verticalStack=false&py=3&rawInputLstJSON=%5B%5D&codeDivWidth=50%25&codeDivHeight=100%25>Python Tutor</a></strong></div>"
      ],
      "text/plain": [
       "<IPython.core.display.HTML object>"
      ]
     },
     "metadata": {},
     "output_type": "display_data"
    }
   ],
   "source": [
    "%%tutor -k \n",
    "def insere_avant_dernier(t, elt):\n",
    "    n = len(t)\n",
    "    tmp = t[n-1]\n",
    "    t[n-1] = elt\n",
    "    t.append(tmp)\n",
    "\n",
    "t = [34, 22, 6, 70]\n",
    "insere_avant_dernier(t, \"et\")\n",
    "print(t)"
   ]
  },
  {
   "cell_type": "markdown",
   "metadata": {},
   "source": [
    "Sur ce thème : **Exercice 5, TD 8**"
   ]
  },
  {
   "cell_type": "markdown",
   "metadata": {},
   "source": [
    "**Remarque** : pour modifier un tableau dans une fonction, il faut\n",
    "affecter les éléments concernés un à un et non faire une affectation\n",
    "globale."
   ]
  },
  {
   "cell_type": "code",
   "execution_count": null,
   "metadata": {},
   "outputs": [],
   "source": [
    "def mise_a_zero(t):\n",
    "    i=0\n",
    "    while i < len(t):\n",
    "        t[i] = 0\n",
    "        i+=1\n",
    "        \n",
    "t = [1,1,1]\n",
    "mise_a_zero(t)\n",
    "print(t)"
   ]
  },
  {
   "cell_type": "markdown",
   "metadata": {},
   "source": [
    "L'affectation globale crée une variable locale qui est détruite à la sortie\n",
    "de la fonction ; le tableau passé en paramètre n'est donc pas modifié."
   ]
  },
  {
   "cell_type": "code",
   "execution_count": null,
   "metadata": {},
   "outputs": [],
   "source": [
    "%%tutor -k\n",
    "def affectation(t):\n",
    "    t = [0,0,0]\n",
    "    print(\"local : \" + str(t))\n",
    "    \n",
    "t = [1,1,1]\n",
    "print(\"avant l'appel : \" + str(t))\n",
    "affectation(t)\n",
    "print(\"après l'appel : \" + str(t))"
   ]
  },
  {
   "cell_type": "markdown",
   "metadata": {},
   "source": [
    "### Exemple de création d'un tableau\n",
    "\n",
    "La fonction renvoie le tableau créé. Si nécessaire on précise la taille voulue en paramètre."
   ]
  },
  {
   "cell_type": "code",
   "execution_count": 22,
   "metadata": {},
   "outputs": [
    {
     "name": "stdout",
     "output_type": "stream",
     "text": [
      "[0, 10, 20, 30, 40, 50, 60]\n"
     ]
    }
   ],
   "source": [
    "def multiples_de_10(n):\n",
    "    t=[]\n",
    "    i=0\n",
    "    while i<n:\n",
    "        t.append(10*i)\n",
    "        i+=1\n",
    "    return t\n",
    "\n",
    "t = multiples_de_10(7)\n",
    "print(t)"
   ]
  },
  {
   "cell_type": "markdown",
   "metadata": {},
   "source": [
    "Sur ce thème : **Exercice 1, Question 4, TD 8**"
   ]
  }
 ],
 "metadata": {
  "@webio": {
   "lastCommId": "0d5802ba7d9b46a58b1bdf4a7be8cf3a",
   "lastKernelId": "d0979218-889d-4948-b411-0f4cf2ead34e"
  },
  "kernelspec": {
   "display_name": "Python 3",
   "language": "python",
   "name": "python3"
  },
  "language_info": {
   "codemirror_mode": {
    "name": "ipython",
    "version": 3
   },
   "file_extension": ".py",
   "mimetype": "text/x-python",
   "name": "python",
   "nbconvert_exporter": "python",
   "pygments_lexer": "ipython3",
   "version": "3.7.4"
  },
  "latex_envs": {
   "LaTeX_envs_menu_present": true,
   "autoclose": false,
   "autocomplete": true,
   "bibliofile": "biblio.bib",
   "cite_by": "apalike",
   "current_citInitial": 1,
   "eqLabelWithNumbers": true,
   "eqNumInitial": 1,
   "hotkeys": {
    "equation": "Ctrl-E",
    "itemize": "Ctrl-I"
   },
   "labels_anchors": false,
   "latex_user_defs": false,
   "report_style_numbering": false,
   "user_envs_cfg": false
  },
  "toc": {
   "base_numbering": 1,
   "nav_menu": {},
   "number_sections": true,
   "sideBar": true,
   "skip_h1_title": false,
   "title_cell": "Table of Contents",
   "title_sidebar": "Contents",
   "toc_cell": false,
   "toc_position": {},
   "toc_section_display": true,
   "toc_window_display": false
  },
  "varInspector": {
   "cols": {
    "lenName": 16,
    "lenType": 16,
    "lenVar": 40
   },
   "kernels_config": {
    "python": {
     "delete_cmd_postfix": "",
     "delete_cmd_prefix": "del ",
     "library": "var_list.py",
     "varRefreshCmd": "print(var_dic_list())"
    },
    "r": {
     "delete_cmd_postfix": ") ",
     "delete_cmd_prefix": "rm(",
     "library": "var_list.r",
     "varRefreshCmd": "cat(var_dic_list()) "
    }
   },
   "types_to_exclude": [
    "module",
    "function",
    "builtin_function_or_method",
    "instance",
    "_Feature"
   ],
   "window_display": false
  }
 },
 "nbformat": 4,
 "nbformat_minor": 2
}
