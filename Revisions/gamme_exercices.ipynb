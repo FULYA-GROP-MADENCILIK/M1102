{
 "cells": [
  {
   "cell_type": "markdown",
   "metadata": {},
   "source": [
    "# <center> Chapitre 13 : Gamme d'exercices  </center>\n",
    "\n",
    "Il s'agit de toute une gamme d'exercices de révision sur les chapitres 1 à 6 à faire selon la maîtrise que vous avez acquise des différentes notions. Certains exercices sont simples et d'autres plus complexes.\n",
    "\n",
    "N'hésitez pas, lors de cette séance à solliciter vos enseignants sur les points, algorithmes ou exercices que vous n'auriez pas compris."
   ]
  },
  {
   "cell_type": "markdown",
   "metadata": {},
   "source": [
    "## Exercice 1 : Fonctions d'affichage \n",
    "\n",
    "### Question 1\n",
    "\n",
    "- Définir une fonction `b1` qui affiche 3 fois `bonjour`.\n",
    "- Appeler cette fonction pour afficher 6 fois `bonjour`."
   ]
  },
  {
   "cell_type": "code",
   "execution_count": null,
   "metadata": {},
   "outputs": [],
   "source": [
    "############################## \n",
    "#   Saisir votre code ici.   #\n",
    "##############################\n",
    "\n",
    "\n",
    "\n"
   ]
  },
  {
   "cell_type": "markdown",
   "metadata": {},
   "source": [
    "### Question 2\n",
    "\n",
    "- Définir une fonction `b2` prenant en paramètre un entier naturel `n` et affichant `n` fois le message `bonjour`.\n",
    "- Appeler la fonction `b2` pour afficher 6 fois `bonjour`."
   ]
  },
  {
   "cell_type": "code",
   "execution_count": null,
   "metadata": {},
   "outputs": [],
   "source": [
    "############################## \n",
    "#   Saisir votre code ici.   #\n",
    "##############################\n",
    "\n",
    "\n",
    "\n"
   ]
  },
  {
   "cell_type": "markdown",
   "metadata": {},
   "source": [
    "### Question 3\n",
    "\n",
    "- Définir une fonction `b3` prenant en paramètre un entier `n` et une chaîne de caractères `message` et affichant `n` fois le message.\n",
    "- Utiliser la fonction `b3` pour afficher 4 fois `hello` et 5 fois `buongiorno`."
   ]
  },
  {
   "cell_type": "code",
   "execution_count": null,
   "metadata": {},
   "outputs": [],
   "source": [
    "##############################\n",
    "#   Saisir votre code ici.   #\n",
    "##############################\n",
    "\n",
    "\n",
    "\n"
   ]
  },
  {
   "cell_type": "markdown",
   "metadata": {},
   "source": [
    "### Question 4\n",
    "\n",
    "- Définir une fonction `b4` prenant en paramètre un entier `n` et une chaîne de caractères `message` et affichant `n` fois le message sur la même ligne (séparés par un espace).\n",
    "\n",
    "L'appel de la fonction `b4` avec la valeur 3 et le message `hello` doit afficher : \n",
    "\n",
    "```\n",
    "hello hello hello\n",
    "```\n",
    "- Appeler cette fonction pour afficher\n",
    "```\n",
    "hello hello hello\n",
    "bon bon\n",
    "jour jour jour jour jour\n",
    "```"
   ]
  },
  {
   "cell_type": "code",
   "execution_count": null,
   "metadata": {},
   "outputs": [],
   "source": [
    "##############################\n",
    "#   Saisir votre code ici.   #\n",
    "##############################\n",
    "\n",
    "\n",
    "\n"
   ]
  },
  {
   "cell_type": "markdown",
   "metadata": {},
   "source": [
    "### Question 5\n",
    "\n",
    "- Définir la fonction `b5` prenant en paramètre un entier `n` et une chaîne de caractères `message` et **retournant** une chaîne de caractères correspondant à  `n` fois le message sur la même ligne (séparés par un espace). \n",
    "\n",
    "L'appel de la fonction `b5` avec la valeur 3 et le message `hello` doit retourner la chaîne de caractères `hello hello hello`.\n",
    "\n",
    "- Utiliser la fonction `b5` pour afficher à l'écran : \n",
    "```\n",
    "hello hello hello bon bon jour jour jour\n",
    "```\n"
   ]
  },
  {
   "cell_type": "code",
   "execution_count": null,
   "metadata": {},
   "outputs": [],
   "source": [
    "##############################\n",
    "#   Saisir votre code ici.   #\n",
    "##############################\n",
    "\n",
    "\n",
    "\n"
   ]
  },
  {
   "cell_type": "markdown",
   "metadata": {},
   "source": [
    "## Exercice 2 : One for ..., one for me \n",
    "\n",
    "Définir une fonction `twofer` prenant en paramètre un nom (chaîne de caractères) et retournant la phrase : \n",
    "\n",
    "```\n",
    "One for X, one for me.\n",
    "```\n",
    "où `X` est remplacé par la valeur passée en paramètre\n",
    "\n",
    "\n",
    "* L'appel de la fonction avec la valeur `Alice` doit retourner `One for Alice, one for me.`\n",
    "* L'appel de la fonction avec la valeur `Bob` doit retourner `One for Bob, one for me.`\n",
    "* L'appel de la fonction avec la valeur `you` doit retourner `One for you, one for me.`\n"
   ]
  },
  {
   "cell_type": "code",
   "execution_count": null,
   "metadata": {},
   "outputs": [],
   "source": [
    "##############################\n",
    "#   Saisir votre code ici.   #\n",
    "##############################\n",
    "\n",
    "\n",
    "\n"
   ]
  },
  {
   "cell_type": "markdown",
   "metadata": {},
   "source": [
    "Vérifier que la fonction satisfait les tests unitaires suivants."
   ]
  },
  {
   "cell_type": "code",
   "execution_count": null,
   "metadata": {},
   "outputs": [],
   "source": [
    "#######################\n",
    "# Tests unitaires     #\n",
    "#######################\n",
    "\n",
    "def test_twofer():\n",
    "    assert twofer(\"Alice\") == \"One for Alice, one for me.\"\n",
    "    assert twofer(\"Bob\") == \"One for Bob, one for me.\"\n",
    "    assert twofer(\"you\") == \"One for you, one for me.\"\n",
    "    print(\"Test de la fonction twofer: ok\")\n",
    "\n",
    "test_twofer()"
   ]
  },
  {
   "cell_type": "markdown",
   "metadata": {},
   "source": [
    "## Exercice 3 : Année bissextile \n",
    "\n",
    "Définir la fonction `bissextile` prenant en paramètre une année (nombre entier) et retournant `True` si cette année est bissextile, et `False` sinon.\n",
    "\n",
    "**Rappel :** Une année est bissextile uniquement dans les cas suivants :\n",
    "* l'année est divisible par 4 et non divisible par 100 ;\n",
    "* l'année est divisible par 400."
   ]
  },
  {
   "cell_type": "markdown",
   "metadata": {},
   "source": [
    "* L'appel de la fonction `bissextile` avec la valeur 2000 doit retourner `True` car 2000 est un multiple de 400.\n",
    "* L'appel de la fonction `bissextile` avec la valeur 1900 doit retourner `False` car 1900 est un multiple de 100 mais pas de 400.\n",
    "* L'appel de la fonction `bissextile` avec la valeur 2004 doit retourner `True` car 2004 est un multiple de 4 mais pas de 100.\n",
    "* L'appel de la fonction `bissextile` avec la valeur 1909 doit retourner `False` car 1909 n'est pas un multiple de 4."
   ]
  },
  {
   "cell_type": "code",
   "execution_count": null,
   "metadata": {},
   "outputs": [],
   "source": [
    "############################## \n",
    "#   Saisir votre code ici.   #\n",
    "##############################\n",
    "\n",
    "\n",
    "\n"
   ]
  },
  {
   "cell_type": "markdown",
   "metadata": {},
   "source": [
    "Vérifier que la fonction satisfait les tests unitaires suivants."
   ]
  },
  {
   "cell_type": "code",
   "execution_count": null,
   "metadata": {},
   "outputs": [],
   "source": [
    "#######################\n",
    "# Tests unitaires     #\n",
    "#######################\n",
    "\n",
    "def test_bissextile():\n",
    "    assert bissextile(1996)\n",
    "    assert bissextile(1960)\n",
    "    assert bissextile(2000)\n",
    "    assert bissextile(2400)\n",
    "    assert not bissextile(2015)\n",
    "    assert not bissextile(1970)\n",
    "    assert not bissextile(2100)\n",
    "    assert not bissextile(1900)\n",
    "    assert not bissextile(1800)\n",
    "    print(\"Test de la fonction bissextile : ok\")\n",
    "\n",
    "test_bissextile()"
   ]
  },
  {
   "cell_type": "markdown",
   "metadata": {},
   "source": [
    "## Exercice 4 : Différences de carrés \n",
    "\n",
    "Définir la fonction `difference_carres` prenant en paramètre un entier naturel `N` calculant la différence entre le carré de la somme et la somme des carrés des `N` premiers entiers naturels.\n",
    "\n",
    "Le carré de la somme des 10 premiers entiers naturels est :\n",
    "$$(1 + 2 + ... + 10)² = 55² = 3025.$$\n",
    "\n",
    "La somme des carrés des 10 premiers entiers naturels est :\n",
    "\n",
    "$$1² + 2² + ... + 10² = 385.$$\n",
    "\n",
    "La différence entre le carré de la somme des 10 premiers entiers naturels et la somme des carrés des 10 premiers entiers naturels est $3025 - 385 = 2640$.\n",
    "\n",
    "**Remarque :** Vous pouvez, si vous le souhaitez, chercher sur le web comment calculer mathématiquement la somme des carrés ou la somme des premiers entiers naturels."
   ]
  },
  {
   "cell_type": "markdown",
   "metadata": {},
   "source": [
    "- L'appel de la fonction `difference_carres` avec la valeur 3 doit retourner 22.\n",
    "- L'appel de la fonction `difference_carres` avec la valeur 5 doit retourner 170.\n"
   ]
  },
  {
   "cell_type": "code",
   "execution_count": null,
   "metadata": {},
   "outputs": [],
   "source": [
    "############################## \n",
    "#   Saisir votre code ici.   #\n",
    "##############################\n",
    "\n",
    "\n",
    "\n"
   ]
  },
  {
   "cell_type": "markdown",
   "metadata": {},
   "source": [
    "Vérifier que la fonction satisfait les tests unitaires suivants."
   ]
  },
  {
   "cell_type": "code",
   "execution_count": null,
   "metadata": {},
   "outputs": [],
   "source": [
    "#######################\n",
    "# Tests unitaires     #\n",
    "#######################\n",
    "\n",
    "def test_difference_carres():\n",
    "    assert difference_carres(1) == 0\n",
    "    assert difference_carres(3) == 22\n",
    "    assert difference_carres(5) == 170\n",
    "    assert difference_carres(100) == 25164150\n",
    "    print(\"Test de la fonction difference_carres : ok\")\n",
    "\n",
    "test_difference_carres()"
   ]
  },
  {
   "cell_type": "markdown",
   "metadata": {},
   "source": [
    "## Exercice 5 : Gouttes d'eau \n",
    "\n",
    "Définir la fonction `raindrops` prenant en paramètre un entier et retournant une chaîne de caractères.\n",
    "Cette chaîne doit vérifier les règles suivantes :\n",
    "* si le nombre passé en paramère est un multiple de 3, ajouter 'Pling' au résultat,\n",
    "* si le nombre passé en paramère est un multiple de 5, ajouter 'Plang' au résultat,\n",
    "* si le nombre passé en paramère est un multiple de 7, ajouter 'Plong' au résultat,\n",
    "* si le nombre passé en paramère n'est pas multiple de 3, 5 ou 7, le résultat doit être la chaîne correspondant à l'entier passé en paramètre."
   ]
  },
  {
   "cell_type": "markdown",
   "metadata": {},
   "source": [
    "* L'appel de la fonction `raindrops` avec la valeur 28 doit retourner `\"Plong\"`,\n",
    "* l'appel de la fonction `raindrops` avec la valeur 30 doit retourner `\"PlingPlang\"`,\n",
    "* l'appel de la fonction `raindrops` avec la valeur 34 doit retourner `\"34\"`."
   ]
  },
  {
   "cell_type": "code",
   "execution_count": null,
   "metadata": {},
   "outputs": [],
   "source": [
    "############################## \n",
    "#   Saisir votre code ici.   #\n",
    "##############################\n",
    "\n",
    "\n",
    "\n"
   ]
  },
  {
   "cell_type": "markdown",
   "metadata": {},
   "source": [
    "Vérifier que la fonction satisfait les tests unitaires suivants."
   ]
  },
  {
   "cell_type": "code",
   "execution_count": null,
   "metadata": {},
   "outputs": [],
   "source": [
    "#######################\n",
    "# Tests unitaires     #\n",
    "#######################\n",
    "\n",
    "def test_raindrops():\n",
    "    assert raindrops(1) == \"1\"\n",
    "    assert raindrops(3) == \"Pling\"\n",
    "    assert raindrops(5) == \"Plang\"\n",
    "    assert raindrops(7) == \"Plong\"\n",
    "    assert raindrops(6) == \"Pling\"\n",
    "    assert raindrops(8) == \"8\"\n",
    "    assert raindrops(10) == \"Plang\"\n",
    "    assert raindrops(14) == \"Plong\"\n",
    "    assert raindrops(15) == \"PlingPlang\"\n",
    "    assert raindrops(21) == \"PlingPlong\"\n",
    "    assert raindrops(25) == \"Plang\"\n",
    "    assert raindrops(27) == \"Pling\"\n",
    "    assert raindrops(105) == \"PlingPlangPlong\"\n",
    "    assert raindrops(35) == \"PlangPlong\"\n",
    "    assert raindrops(3125) == \"Plang\"\n",
    "    assert raindrops(52) == \"52\"\n",
    "    print(\"Test de la fonction raindrops : ok\")\n",
    "    \n",
    "test_raindrops()"
   ]
  },
  {
   "cell_type": "markdown",
   "metadata": {},
   "source": [
    "## Exercice 6 : Nombre parfait\n",
    "\n",
    "Un entier naturel est *parfait* s'il est égal à la somme de ses diviseurs stricts (ie, différents de lui-même). Par exemple, 28 est parfait car ses diviseurs stricts sont : 1, 2, 4, 7 et 14. Leur somme est égale à 28.\n",
    "\n",
    "Définir une fonction `parfait` prenant en paramètre un entier naturel et retournant `True` si ce dernier est parfait, et `False` sinon."
   ]
  },
  {
   "cell_type": "code",
   "execution_count": null,
   "metadata": {},
   "outputs": [],
   "source": [
    "############################## \n",
    "#   Saisir votre code ici.   #\n",
    "##############################\n",
    "\n",
    "\n",
    "\n"
   ]
  },
  {
   "cell_type": "markdown",
   "metadata": {},
   "source": [
    "Vérifier que la fonction satisfait les tests unitaires suivants."
   ]
  },
  {
   "cell_type": "code",
   "execution_count": null,
   "metadata": {},
   "outputs": [],
   "source": [
    "#######################\n",
    "# Tests unitaires     #\n",
    "#######################\n",
    "\n",
    "def test_parfait():\n",
    "    assert parfait(6)\n",
    "    assert not parfait(7)\n",
    "    assert parfait(28)\n",
    "    assert parfait(33550336)\n",
    "    assert not parfait(3453234)\n",
    "    print(\"Test de la fonction parfait : ok\")\n",
    "test_parfait()"
   ]
  },
  {
   "cell_type": "markdown",
   "metadata": {},
   "source": [
    "## Exercice 7 : Nombre d'Armstrong \n",
    "\n",
    "An [Armstrong number](https://en.wikipedia.org/wiki/Narcissistic_number) is a number that is the sum of its own digits each raised to the power of the number of digits.\n",
    "\n",
    "Un nombre d'Armstrong est un nombre égal à la somme de ses chiffres élevés à la puissance du nombre de ses chiffres.\n",
    "\n",
    "- 9 est un nombre d'Armstrong car `9 = 9^1 = 9`\n",
    "- 10  n'est pas un nombre d'Armstrong car  `10 != 1^2 + 0^2 = 1`\n",
    "- 153 est un nombre d'Armstrong `153 = 1^3 + 5^3 + 3^3 = 1 + 125 + 27 = 153`\n",
    "- 154 n'est pas un nombre d'Armstrong car `154 != 1^3 + 5^3 + 4^3 = 1 + 125 + 64 = 190`\n",
    "\n",
    "\n",
    "\n",
    "Définir la fonction `is_armstrong_number` prenant en paramètre un entier et retournant `True` si ce dernier est un chiffre, et `False` sinon."
   ]
  },
  {
   "cell_type": "markdown",
   "metadata": {},
   "source": [
    "- L'appel de la fonction `is_armstrong_number` avec la valeur 0 doit retourner `True`.\n",
    "- L'appel de la fonction `is_armstrong_number` avec la valeur 153 doit retourner `True`.\n",
    "- L'appel de la fonction `is_armstrong_number` avec la valeur 154 doit retourner `False`."
   ]
  },
  {
   "cell_type": "code",
   "execution_count": null,
   "metadata": {},
   "outputs": [],
   "source": [
    "############################## \n",
    "#   Saisir votre code ici.   #\n",
    "##############################\n",
    "\n",
    "\n",
    "\n",
    "\n"
   ]
  },
  {
   "cell_type": "markdown",
   "metadata": {},
   "source": [
    "Vérifier que la fonction satisfait les tests unitaires suivants."
   ]
  },
  {
   "cell_type": "code",
   "execution_count": null,
   "metadata": {},
   "outputs": [],
   "source": [
    "############################## \n",
    "#   Tests unitaires          #\n",
    "##############################\n",
    "\n",
    "def test_is_armstrong_number():\n",
    "    assert is_armstrong_number(0)\n",
    "    assert is_armstrong_number(5)\n",
    "    assert not is_armstrong_number(10)\n",
    "    assert is_armstrong_number(153)\n",
    "    assert is_armstrong_number(9474)\n",
    "    assert not is_armstrong_number(9475)\n",
    "    assert is_armstrong_number(9926315)\n",
    "    assert not is_armstrong_number(9926314)\n",
    "    print(\"Test de la fonction is_armstrong_number : ok\")\n",
    "    \n",
    "test_is_armstrong_number()"
   ]
  }
 ],
 "metadata": {
  "@webio": {
   "lastCommId": "99446eca88bd47858b9edef148e4ef63",
   "lastKernelId": "9db57004-b114-4923-aec8-705f3470ecf7"
  },
  "kernelspec": {
   "display_name": "Python 3",
   "language": "python",
   "name": "python3"
  },
  "language_info": {
   "codemirror_mode": {
    "name": "ipython",
    "version": 3
   },
   "file_extension": ".py",
   "mimetype": "text/x-python",
   "name": "python",
   "nbconvert_exporter": "python",
   "pygments_lexer": "ipython3",
   "version": "3.6.7"
  },
  "latex_envs": {
   "LaTeX_envs_menu_present": true,
   "autoclose": false,
   "autocomplete": true,
   "bibliofile": "biblio.bib",
   "cite_by": "apalike",
   "current_citInitial": 1,
   "eqLabelWithNumbers": true,
   "eqNumInitial": 1,
   "hotkeys": {
    "equation": "Ctrl-E",
    "itemize": "Ctrl-I"
   },
   "labels_anchors": false,
   "latex_user_defs": false,
   "report_style_numbering": false,
   "user_envs_cfg": false
  },
  "toc": {
   "base_numbering": 1,
   "nav_menu": {},
   "number_sections": true,
   "sideBar": true,
   "skip_h1_title": true,
   "title_cell": "Table des matières",
   "title_sidebar": "Table des matières",
   "toc_cell": false,
   "toc_position": {},
   "toc_section_display": true,
   "toc_window_display": false
  },
  "varInspector": {
   "cols": {
    "lenName": 16,
    "lenType": 16,
    "lenVar": 40
   },
   "kernels_config": {
    "python": {
     "delete_cmd_postfix": "",
     "delete_cmd_prefix": "del ",
     "library": "var_list.py",
     "varRefreshCmd": "print(var_dic_list())"
    },
    "r": {
     "delete_cmd_postfix": ") ",
     "delete_cmd_prefix": "rm(",
     "library": "var_list.r",
     "varRefreshCmd": "cat(var_dic_list()) "
    }
   },
   "types_to_exclude": [
    "module",
    "function",
    "builtin_function_or_method",
    "instance",
    "_Feature"
   ],
   "window_display": false
  }
 },
 "nbformat": 4,
 "nbformat_minor": 2
}
