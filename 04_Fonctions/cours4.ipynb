{
 "cells": [
  {
   "cell_type": "markdown",
   "metadata": {},
   "source": [
    "# <center> Chapitre 4 : Fonctions</center>"
   ]
  },
  {
   "cell_type": "code",
   "execution_count": 10,
   "metadata": {},
   "outputs": [],
   "source": [
    "# Librairie à charger (une fois) pour l'utilisation de tutormagic\n",
    "%load_ext tutormagic"
   ]
  },
  {
   "cell_type": "markdown",
   "metadata": {},
   "source": [
    "## Qu'est-ce qu'une fonction ?"
   ]
  },
  {
   "cell_type": "markdown",
   "metadata": {},
   "source": [
    "Une *fonction* est une **séquence d'instructions** effectuant une tâche précise, un calcul ou un affichage par exemple. <span style=\"color:red;\">Définir</span> une fonction consiste à écrire la séquence d'instructions. Une fois qu'une fonction a été définie, on peut <span style=\"color:red;\">appeler la fonction</span>, c'est-à-dire demander l'exécution de la séquence d'instructions, aussi souvent qu’on le souhaite et à n’importe quel endroit du programme. \n",
    "\n",
    "Les fonctions permettent :\n",
    "* d'éviter le copier/coller (source d'erreur),\n",
    "* de structurer le programme et le rendre plus clair,\n",
    "* de faciliter l'écriture et le test du code."
   ]
  },
  {
   "cell_type": "markdown",
   "metadata": {},
   "source": [
    "L'endroit dans le code où la fonction est appelée est dit *programme appelant*. Cela peut être le programme principal ou une autre fonction.\n",
    "Lors de l'appel d'une fonction : \n",
    "\n",
    "* l'exécution du code contenant l'appel de la fonction \"se met en pause\",\n",
    "* l'exécution de la fonction commence :\n",
    "    * les paramètres de la fonction sont initialisés avec les valeurs données par le programme appelant (on parle de valeur d'entrée),\n",
    "    * la séquence d'instructions de la fonction est exécutée,\n",
    "    * **Optionel :** la fonction retourne des valeurs (on parle de *valeurs de retour* (ou sortie)),\n",
    "    * les variables locales de la fonction et les paramètres de la fonction sont détruits,\n",
    "* l'exécution du code contenant l'appel de la fonction reprend, en utilisant si besoin les valeurs retournées par la fonction.\n"
   ]
  },
  {
   "cell_type": "markdown",
   "metadata": {},
   "source": [
    "<img src=\"img/appel_fonction.png\" alt=\"Appel d'une fonction\"  width=\"700px\"/>"
   ]
  },
  {
   "cell_type": "markdown",
   "metadata": {},
   "source": [
    "**Remarque :** Une fonction peut avoir été définie par un autre programmeur que celui écrivant le programme appelant. Par exemple, on utilise les fonctions `abs`, `sqrt` et même `print` sans les avoir définies ! C'est possible de faire cela car la fonction `print` est définie dans langage Python et que les deux autres fonctions sont définies dans le module `math`."
   ]
  },
  {
   "cell_type": "markdown",
   "metadata": {},
   "source": [
    "## Fonctions sans paramètres"
   ]
  },
  {
   "cell_type": "markdown",
   "metadata": {},
   "source": [
    "### Définition"
   ]
  },
  {
   "cell_type": "markdown",
   "metadata": {},
   "source": [
    "Définir une fonction se fait de la manière suivante :\n",
    "```python\n",
    "def nom_fonction() :\n",
    "    # Séquence d'instructions de la fonction\n",
    "```\n",
    "* `def` indique que l'on souhaite définir une fonction ;\n",
    "* `nom_fonction` est le nom de la fonction, il suit les mêmes règles que les noms de variables ;\n",
    "* les parenthèses ouvrantes et fermantes après le nom de la fonction sont **obligatoires** pour indiquer que l'on définit une fonction ;\n",
    "* la séquence d'instructions est **indentée** par rapport au mot-clé `def`. \n",
    "\n",
    "La première ligne est appelée <span style=\"color:red;\">en-tête</span> ou <span style=\"color:red;\">signature</span> de la fonction et la séquence d'instructions <span style=\"color:red;\">corps</span> de la fonction."
   ]
  },
  {
   "cell_type": "markdown",
   "metadata": {},
   "source": [
    "### Appel"
   ]
  },
  {
   "cell_type": "markdown",
   "metadata": {},
   "source": [
    "L'appel d'une fonction se fait en indiquant le nom de la fonction suivi de parenthèses ouvrante et fermante.\n",
    "```python\n",
    "nom_fonction()\n",
    "```"
   ]
  },
  {
   "cell_type": "markdown",
   "metadata": {},
   "source": [
    "### Exemple"
   ]
  },
  {
   "cell_type": "markdown",
   "metadata": {},
   "source": [
    "Si on a une boucle `while` où chaque itération produit de nombreux affichages, il est possible à l'aide d'une fonction de faire apparaître clairement que l'on commence une nouvelle itération. "
   ]
  },
  {
   "cell_type": "code",
   "execution_count": 11,
   "metadata": {},
   "outputs": [
    {
     "data": {
      "text/html": [
       "\n",
       "        <iframe\n",
       "            width=\"100%\"\n",
       "            height=\"350\"\n",
       "            src=\"http://pythontutor.com/iframe-embed.html#code=%0Adef%20cadre_iteration%28%29%3A%0A%20%20%20%20print%28%22%3D%3D%3D%3D%3D%3D%3D%3D%3D%3D%3D%3D%3D%3D%3D%3D%3D%3D%3D%3D%3D%3D%22%29%0A%20%20%20%20print%28%22%3D%20Nouvelle%20it%C3%A9ration%20%3D%22%29%0A%20%20%20%20print%28%22%3D%3D%3D%3D%3D%3D%3D%3D%3D%3D%3D%3D%3D%3D%3D%3D%3D%3D%3D%3D%3D%3D%22%29%0A%0A%0Ai%20%3D%200%0Awhile%20i%20%3C%205%3A%0A%20%20%20%20cadre_iteration%28%29%0A%20%20%20%20print%28%22i%20%20%3D%22%2C%20i%29%0A%20%20%20%20print%28%22plein%20d%27affichage...%5CnBla%20bla%20bla%5Cnetc%22%29%0A%20%20%20%20i%20%2B%3D%201%0A&origin=opt-frontend.js&cumulative=false&heapPrimitives=false&textReferences=false&curInstr=0&&verticalStack=false&py=3&rawInputLstJSON=%5B%5D&codeDivWidth=50%25&codeDivHeight=100%25\"\n",
       "            frameborder=\"0\"\n",
       "            allowfullscreen\n",
       "        ></iframe>\n",
       "        "
      ],
      "text/plain": [
       "<IPython.lib.display.IFrame at 0x7fdd6ed630d0>"
      ]
     },
     "metadata": {},
     "output_type": "display_data"
    },
    {
     "name": "stdout",
     "output_type": "stream",
     "text": [
      "======================\n",
      "= Nouvelle itération =\n",
      "======================\n",
      "i  = 0\n",
      "plein d'affichage...\n",
      "Bla bla bla\n",
      "etc\n",
      "======================\n",
      "= Nouvelle itération =\n",
      "======================\n",
      "i  = 1\n",
      "plein d'affichage...\n",
      "Bla bla bla\n",
      "etc\n",
      "======================\n",
      "= Nouvelle itération =\n",
      "======================\n",
      "i  = 2\n",
      "plein d'affichage...\n",
      "Bla bla bla\n",
      "etc\n",
      "======================\n",
      "= Nouvelle itération =\n",
      "======================\n",
      "i  = 3\n",
      "plein d'affichage...\n",
      "Bla bla bla\n",
      "etc\n",
      "======================\n",
      "= Nouvelle itération =\n",
      "======================\n",
      "i  = 4\n",
      "plein d'affichage...\n",
      "Bla bla bla\n",
      "etc\n"
     ]
    }
   ],
   "source": [
    "%%tutor -r -l python3\n",
    "\n",
    "def cadre_iteration():\n",
    "    print(\"======================\")\n",
    "    print(\"= Nouvelle itération =\")\n",
    "    print(\"======================\")\n",
    "\n",
    "\n",
    "i = 0\n",
    "while i < 5:\n",
    "    cadre_iteration()\n",
    "    print(\"i  =\", i)\n",
    "    print(\"plein d'affichage...\\nBla bla bla\\netc\")\n",
    "    i += 1"
   ]
  },
  {
   "cell_type": "markdown",
   "metadata": {},
   "source": [
    "**Remarque :** L'exécution de l'exemple précédent avec `tutormagic` montre clairement la pause du code appelant le temps que la fonction s'exécute."
   ]
  },
  {
   "cell_type": "markdown",
   "metadata": {},
   "source": [
    "Sur ce thème : **Questions 1 à 4, Exercice 1 et Questions 1 à 3, Exercice 2 du TD 4.**"
   ]
  },
  {
   "cell_type": "markdown",
   "metadata": {},
   "source": [
    "## Fonctions avec paramètres"
   ]
  },
  {
   "cell_type": "markdown",
   "metadata": {},
   "source": [
    "L'exécution d'une fonction peut dépendre de certaines valeurs. Par exemple, on peut vouloir créer une fonction qui, étant donné un message, l'affiche entouré d'un cadre. Dans ce cas, la fonction dépend de **paramètres** dont les **valeurs** sont données au moment de l'appel par le code appelant."
   ]
  },
  {
   "cell_type": "markdown",
   "metadata": {},
   "source": [
    "### Définition"
   ]
  },
  {
   "cell_type": "markdown",
   "metadata": {},
   "source": [
    "On définit une fonction en précisant le nombre de paramètres, c'est-à-dire **le nombre de valeurs qui doivent être données lors de l'appel de la fonction**. Ces paramètres sont donnés entre les parenthèses dans l'en-tête de la fonction."
   ]
  },
  {
   "cell_type": "markdown",
   "metadata": {},
   "source": [
    "```python\n",
    "def nom_fonction(parametre1, parametre2, ..., parametrek) :\n",
    "    # Séquence d'instructions de la fonction\n",
    "    # Dans cette séquence, parametre1, parametre2, ..., parametrek\n",
    "    # sont utilisés pour faire référence à la première, la deuxième, ..., et la kième valeurs\n",
    "    # qui seront données lors de l'appel.\n",
    "```\n",
    "* `def` indique que nous souhaitons définir une fonction ;\n",
    "* `nom_fonction` est le nom de la fonction, il suit les mêmes règles que les noms de variables ;\n",
    "* `parametre1`, `parametre2`, ..., `parametrek` entre les parenthèses représentent les paramètres de la fonction. Leur nom suit les mêmes règles que les noms des variables."
   ]
  },
  {
   "cell_type": "markdown",
   "metadata": {},
   "source": [
    "### Appel"
   ]
  },
  {
   "cell_type": "markdown",
   "metadata": {},
   "source": [
    "L'appel d'une fonction ayant $k$ paramètres se fait en indiquant le nom de la fonction suivi d'une parenthèse ouvrante, des $k$ valeurs que l'on donne à la fonction et d'une parenthèse fermante.\n",
    "```python\n",
    "nom_fonction(val1, val2, ..., valk)\n",
    "```"
   ]
  },
  {
   "cell_type": "markdown",
   "metadata": {},
   "source": [
    "Lors de l'appel d'une fonction ayant $k$ paramètres, l'interpréteur commence par créer $k$ variables ayant pour nom les noms des paramètres et pour valeur les valeurs données lors de l'appel. Le premier paramètre est initialisé avec la première valeur, le deuxième avec la deuxième valeur, etc. Il exécute ensuite les instructions du corps de la fonction.\n",
    "\n",
    "Ainsi, lors de l'appel `nom_fonction(val1, val2, ..., valk)`, l'exécution du code de la fonction commence par :\n",
    "```python\n",
    "parametre1 = val1\n",
    "parametre2 = val2\n",
    "...\n",
    "parametrek = valk\n",
    "```\n",
    "\n",
    "\n",
    "**Important :** Les variables locales sont créées à chaque appel de la fonction puis détruites à la fin de l'appel. "
   ]
  },
  {
   "cell_type": "markdown",
   "metadata": {},
   "source": [
    "### Exemple"
   ]
  },
  {
   "cell_type": "markdown",
   "metadata": {},
   "source": [
    "La fonction `cadre_iteration` définie précédemment est intéressante mais on peut la généraliser pour produire des affichages de messages encadrés par des symboles. On peut créer une fonction `cadre` qui dépend de deux paramètres : \n",
    "* `message` qui indique le message qui doit être affiché encadré,\n",
    "* `symbole` qui indique le symbole qui constitue le cadre.\n",
    "\n",
    "La fonction `cadre` est beaucoup générale que la fonction `cadre_iteration`. En revanche, on doit préciser lors de chaque appel quel est le message à afficher et quel est le symbole à utiliser pour le cadre. On décide arbitrairement que la première valeur que l'on donne est le message et que la deuxième valeur est le symbole. L'appel `cadre(\"Nouvelle itération\", \"=\")` doit produire le même résultat que `cadre_iteration()`."
   ]
  },
  {
   "cell_type": "code",
   "execution_count": 12,
   "metadata": {},
   "outputs": [
    {
     "name": "stdout",
     "output_type": "stream",
     "text": [
      "======================\n",
      "= Nouvelle itération =\n",
      "======================\n"
     ]
    }
   ],
   "source": [
    "def cadre(message, symbole):\n",
    "    s = \"\"  # Chaîne vide qui va constituer la ligne de symbole à afficher avant et après le message\n",
    "    i = 0\n",
    "    while i < len(message) + 4:  # + 4 car on affiche le symbole, 1 espace, le message, 1 espace, le symbole\n",
    "        s += symbole\n",
    "        i += 1\n",
    "\n",
    "    print(s)\n",
    "    print(symbole, message, symbole)\n",
    "    print(s)\n",
    "\n",
    "\n",
    "cadre(\"Nouvelle itération\", \"=\")"
   ]
  },
  {
   "cell_type": "code",
   "execution_count": 13,
   "metadata": {},
   "outputs": [
    {
     "name": "stdout",
     "output_type": "stream",
     "text": [
      "******\n",
      "* Oh *\n",
      "******\n",
      "@@@@@@@@\n",
      "@ GEEK @\n",
      "@@@@@@@@\n"
     ]
    }
   ],
   "source": [
    "#%%tutor -r -l python3\n",
    "\n",
    "cadre(\"Oh\", \"*\")\n",
    "cadre(\"GEEK\", \"@\")"
   ]
  },
  {
   "cell_type": "markdown",
   "metadata": {},
   "source": [
    "**Attention :** l'ordre dans lequel on donne les valeurs de l'appel est important puisque ces valeurs servent à initialiser les paramètres de la fonction. Si l'on change l'ordre, cela n'a plus du tout le même effet : "
   ]
  },
  {
   "cell_type": "code",
   "execution_count": 14,
   "metadata": {},
   "outputs": [
    {
     "name": "stdout",
     "output_type": "stream",
     "text": [
      "OupsOupsOupsOupsOups\n",
      "Oups = Oups\n",
      "OupsOupsOupsOupsOups\n"
     ]
    }
   ],
   "source": [
    "# Exemple où l'on se trompe : on donne d'abord le symbole puis le message\n",
    "cadre(\"=\", \"Oups\")"
   ]
  },
  {
   "cell_type": "markdown",
   "metadata": {},
   "source": [
    "Sur ce thème : **Questions 5 et 6, Exercice 1 et Question 4, Exercice 2 du TD 4.**"
   ]
  },
  {
   "cell_type": "markdown",
   "metadata": {},
   "source": [
    "### Mode de transmission des paramètres"
   ]
  },
  {
   "cell_type": "markdown",
   "metadata": {},
   "source": [
    "Lorsque l'on appelle une fonction contenant des paramètres, on lui donne des **valeurs** d'entrée. Ces valeurs peuvent être des constantes ou des valeurs contenues dans des variables. Dans tous les cas, **les variables que l'on passe lors de l'appel d'une fonction ne sont pas modifiées**."
   ]
  },
  {
   "cell_type": "markdown",
   "metadata": {},
   "source": [
    "Voici un exemple illustrant le fait que les variables utilisées pour transmettre des valeurs d'entrée ne sont pas modifiées. L'utilisation de Python Tutor permet de bien comprendre ce qui se passe lors de l'appel."
   ]
  },
  {
   "cell_type": "code",
   "execution_count": 15,
   "metadata": {},
   "outputs": [
    {
     "data": {
      "text/html": [
       "\n",
       "        <iframe\n",
       "            width=\"100%\"\n",
       "            height=\"350\"\n",
       "            src=\"http://pythontutor.com/iframe-embed.html#code=%0A%0A%23%20D%C3%A9finition%20de%20la%20fonction%20change%28%29%0Adef%20change%28i%29%3A%0A%20%20%20%20print%28%22dans%20la%20fonction%2C%20i%20%3D%20%22%2C%20i%29%0A%20%20%20%20i%20%3D%203%0A%20%20%20%20print%28%22dans%20la%20fonction%2C%20i%20%3D%20%22%2C%20i%29%0A%0A%0A%23%20Programme%20principal%0Ai%20%3D%205%0Aprint%28%22dans%20le%20programme%20principal%2C%20i%20%3D%20%22%2C%20i%29%0Achange%28i%29%0Aprint%28%22dans%20le%20programme%20principal%2C%20i%20%3D%20%22%2C%20i%29%0A&origin=opt-frontend.js&cumulative=false&heapPrimitives=false&textReferences=false&curInstr=0&&verticalStack=false&py=3&rawInputLstJSON=%5B%5D&codeDivWidth=50%25&codeDivHeight=100%25\"\n",
       "            frameborder=\"0\"\n",
       "            allowfullscreen\n",
       "        ></iframe>\n",
       "        "
      ],
      "text/plain": [
       "<IPython.lib.display.IFrame at 0x7fdd6ed40a10>"
      ]
     },
     "metadata": {},
     "output_type": "display_data"
    },
    {
     "name": "stdout",
     "output_type": "stream",
     "text": [
      "dans le programme principal, i =  5\n",
      "dans la fonction, i =  5\n",
      "dans la fonction, i =  3\n",
      "dans le programme principal, i =  5\n"
     ]
    }
   ],
   "source": [
    "%%tutor -r -l python3\n",
    "\n",
    "\n",
    "# Définition de la fonction change()\n",
    "def change(i):\n",
    "    print(\"dans la fonction, i = \", i)\n",
    "    i = 3\n",
    "    print(\"dans la fonction, i = \", i)\n",
    "\n",
    "\n",
    "# Programme principal\n",
    "i = 5\n",
    "print(\"dans le programme principal, i = \", i)\n",
    "change(i)\n",
    "print(\"dans le programme principal, i = \", i)"
   ]
  },
  {
   "cell_type": "markdown",
   "metadata": {},
   "source": [
    "## Portée des variables"
   ]
  },
  {
   "cell_type": "markdown",
   "metadata": {
    "slideshow": {
     "slide_type": "slide"
    }
   },
   "source": [
    "La  <span style=\"color:red;\">portée</span> (ou visibilité) d'une variable est l'endroit dans le code où cette variable est accessible. Une variable déclarée dans le corps d'une fonction (ou un paramètre de la fonction) n'est pas accessible en dehors du corps de cette fonction. On parle de <span style=\"color:red;\">portée locale</span> ou <span style=\"color:red;\">variable locale</span>.\n",
    "\n",
    "Voici un code engendrant une erreur car il tente d'accéder à des variables locales."
   ]
  },
  {
   "cell_type": "code",
   "execution_count": 16,
   "metadata": {},
   "outputs": [
    {
     "name": "stdout",
     "output_type": "stream",
     "text": [
      "La somme de 7 et 5 vaut 12\n"
     ]
    },
    {
     "ename": "NameError",
     "evalue": "name 'z' is not defined",
     "output_type": "error",
     "traceback": [
      "\u001b[0;31m---------------------------------------------------------------------------\u001b[0m",
      "\u001b[0;31mNameError\u001b[0m                                 Traceback (most recent call last)",
      "\u001b[0;32m<ipython-input-16-ade1037e3246>\u001b[0m in \u001b[0;36m<module>\u001b[0;34m\u001b[0m\n\u001b[1;32m      8\u001b[0m \u001b[0;34m\u001b[0m\u001b[0m\n\u001b[1;32m      9\u001b[0m \u001b[0;31m# Erreur car on accède à une variable locale en dehors du corps de la fonction\u001b[0m\u001b[0;34m\u001b[0m\u001b[0;34m\u001b[0m\u001b[0;34m\u001b[0m\u001b[0m\n\u001b[0;32m---> 10\u001b[0;31m \u001b[0mprint\u001b[0m\u001b[0;34m(\u001b[0m\u001b[0mz\u001b[0m\u001b[0;34m)\u001b[0m\u001b[0;34m\u001b[0m\u001b[0;34m\u001b[0m\u001b[0m\n\u001b[0m\u001b[1;32m     11\u001b[0m \u001b[0;34m\u001b[0m\u001b[0m\n\u001b[1;32m     12\u001b[0m \u001b[0;31m# Erreur car on accède à un paramètre en dehors du corps de la fonction\u001b[0m\u001b[0;34m\u001b[0m\u001b[0;34m\u001b[0m\u001b[0;34m\u001b[0m\u001b[0m\n",
      "\u001b[0;31mNameError\u001b[0m: name 'z' is not defined"
     ]
    }
   ],
   "source": [
    "# Définition de la fonction affiche_somme\n",
    "def affiche_somme(x, y):\n",
    "    z = x + y  # z est une variable locale à la fonction\n",
    "    print(\"La somme de\", x, \"et\", y, \"vaut\", z)\n",
    "\n",
    "\n",
    "affiche_somme(7, 5)\n",
    "\n",
    "# Erreur car on accède à une variable locale en dehors du corps de la fonction\n",
    "print(z)\n",
    "\n",
    "# Erreur car on accède à un paramètre en dehors du corps de la fonction\n",
    "print(x)"
   ]
  },
  {
   "cell_type": "markdown",
   "metadata": {},
   "source": [
    "Sur ce thème : **Exercices 3, 4 et 5, TD 4.**"
   ]
  },
  {
   "cell_type": "markdown",
   "metadata": {},
   "source": [
    "## Docstring"
   ]
  },
  {
   "cell_type": "markdown",
   "metadata": {},
   "source": [
    "Lorsque l'on appelle des fonctions, il faut absolument connaître ce que fait la fonction, les valeurs qu'elle prend en entrée, l'ordre dans lequel les valeurs d'entrée doivent être données, etc. Pour afficher de l'aide sur l'utilisation d'une fonction déjà définie, il suffit de taper la commande :\n",
    "```python\n",
    "?nom_fonction\n",
    "```\n",
    "\n",
    "Par exemple, supposons que l'on charge la librairie `turtle`. "
   ]
  },
  {
   "cell_type": "code",
   "execution_count": 17,
   "metadata": {},
   "outputs": [],
   "source": [
    "from turtle import *"
   ]
  },
  {
   "cell_type": "markdown",
   "metadata": {},
   "source": [
    "Pour connaître comment s'utilise la fonction `forward`, on tape "
   ]
  },
  {
   "cell_type": "code",
   "execution_count": 18,
   "metadata": {},
   "outputs": [],
   "source": [
    "?forward"
   ]
  },
  {
   "cell_type": "markdown",
   "metadata": {},
   "source": [
    "Lorsque l'on définit une fonction, on peut indiquer le message qui s'affichera lorsque l'utilisateur demandera l'aide de la fonction. Ceci se fait à l'aide d'une chaîne de caractères (délimitée par 3 guillemets pour pouvoir insérer des sauts de ligne) que l'on insère entre l'en-tête et le corps de la fonction. On appelle cette chaîne <span style=\"color:red;\">docstring</span>.\n",
    "\n",
    "Voici un exemple de fonction avec docstring."
   ]
  },
  {
   "cell_type": "code",
   "execution_count": 19,
   "metadata": {},
   "outputs": [],
   "source": [
    "def cadre(message, symbole):\n",
    "    \"\"\"\n",
    "    Cette fonction affiche un message entouré d'un cadre. Ce cadre est constitué de la répétition d'un caractère.\n",
    "    Attention, le message doit être sur une seule ligne !\n",
    "    \n",
    "    Arguments :\n",
    "    message -- message à afficher (chaîne de caractères)\n",
    "    symbole -- symbole utilisé pour faire le cadre (un caractère)\n",
    "    \"\"\"\n",
    "    s = \"\"  # Chaîne vide qui va constituer la ligne de symbole à afficher avant et après le message\n",
    "    i = 0\n",
    "\n",
    "    # + 4 car on affiche le symbole, 1 espace, le message, 1 espace, le symbole\n",
    "    while i < len(message) + 4:\n",
    "        s += symbole\n",
    "        i += 1\n",
    "\n",
    "    print(s)\n",
    "    print(symbole, message, symbole)\n",
    "    print(s)"
   ]
  },
  {
   "cell_type": "markdown",
   "metadata": {},
   "source": [
    "Bien sûr, cette fonction s'utilise comme avant :"
   ]
  },
  {
   "cell_type": "code",
   "execution_count": 20,
   "metadata": {},
   "outputs": [
    {
     "name": "stdout",
     "output_type": "stream",
     "text": [
      "******\n",
      "* Oh *\n",
      "******\n"
     ]
    }
   ],
   "source": [
    "cadre(\"Oh\", \"*\")"
   ]
  },
  {
   "cell_type": "markdown",
   "metadata": {},
   "source": [
    "On peut aussi afficher l'aide."
   ]
  },
  {
   "cell_type": "code",
   "execution_count": 21,
   "metadata": {},
   "outputs": [],
   "source": [
    "?cadre"
   ]
  },
  {
   "cell_type": "code",
   "execution_count": null,
   "metadata": {},
   "outputs": [],
   "source": []
  },
  {
   "cell_type": "code",
   "execution_count": null,
   "metadata": {},
   "outputs": [],
   "source": []
  }
 ],
 "metadata": {
  "@webio": {
   "lastCommId": "bbe0e4f8b51b4e70807b88b2eb9a1959",
   "lastKernelId": "94353678-1771-41b0-9faa-c24e38bf5322"
  },
  "celltoolbar": "Aucun(e)",
  "kernelspec": {
   "display_name": "Python 3",
   "language": "python",
   "name": "python3"
  },
  "language_info": {
   "codemirror_mode": {
    "name": "ipython",
    "version": 3
   },
   "file_extension": ".py",
   "mimetype": "text/x-python",
   "name": "python",
   "nbconvert_exporter": "python",
   "pygments_lexer": "ipython3",
   "version": "3.7.4"
  },
  "latex_envs": {
   "LaTeX_envs_menu_present": true,
   "autoclose": false,
   "autocomplete": true,
   "bibliofile": "biblio.bib",
   "cite_by": "apalike",
   "current_citInitial": 1,
   "eqLabelWithNumbers": true,
   "eqNumInitial": 1,
   "hotkeys": {
    "equation": "Ctrl-E",
    "itemize": "Ctrl-I"
   },
   "labels_anchors": false,
   "latex_user_defs": false,
   "report_style_numbering": false,
   "user_envs_cfg": false
  },
  "toc": {
   "base_numbering": 1,
   "nav_menu": {},
   "number_sections": true,
   "sideBar": true,
   "skip_h1_title": true,
   "title_cell": "Table des matières",
   "title_sidebar": "Table des matières",
   "toc_cell": false,
   "toc_position": {},
   "toc_section_display": true,
   "toc_window_display": true
  },
  "varInspector": {
   "cols": {
    "lenName": 16,
    "lenType": 16,
    "lenVar": 40
   },
   "kernels_config": {
    "python": {
     "delete_cmd_postfix": "",
     "delete_cmd_prefix": "del ",
     "library": "var_list.py",
     "varRefreshCmd": "print(var_dic_list())"
    },
    "r": {
     "delete_cmd_postfix": ") ",
     "delete_cmd_prefix": "rm(",
     "library": "var_list.r",
     "varRefreshCmd": "cat(var_dic_list()) "
    }
   },
   "types_to_exclude": [
    "module",
    "function",
    "builtin_function_or_method",
    "instance",
    "_Feature"
   ],
   "window_display": false
  }
 },
 "nbformat": 4,
 "nbformat_minor": 2
}
