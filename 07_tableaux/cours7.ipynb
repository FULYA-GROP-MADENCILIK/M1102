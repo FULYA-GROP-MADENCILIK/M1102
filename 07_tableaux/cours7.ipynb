{
 "cells": [
  {
   "cell_type": "markdown",
   "metadata": {},
   "source": [
    "# <center> Chapitre 7 : Tableaux </center>\n",
    "\n",
    "On doit parfois traiter une grande quantité de données.\n",
    "Par exemple, les noms d'une promotion de 100 étudiants ou\n",
    "la vitesse du vent en 1000 points pour une prévision météo.\n",
    "Définir autant de variables est peu efficace. On groupe\n",
    "alors ces données dans un *tableau* :"
   ]
  },
  {
   "cell_type": "code",
   "execution_count": null,
   "metadata": {},
   "outputs": [],
   "source": [
    "nom = [\"Sophie\", \"Martin\", \"Larry\", \"Ken\", \"Denis\"]\n",
    "vitesse  = [30.2, 37.4, 28.6, 21.1, 42.0, 18.5, 25.5]"
   ]
  },
  {
   "cell_type": "markdown",
   "metadata": {},
   "source": [
    "On a défini un tableau de 5 chaînes de caractères puis un tableau\n",
    "de 6 flottants. On écrit les éléments entre crochets,\n",
    "séparés par des virgules. <br>\n",
    "On parle également de *liste*. \n",
    "\n",
    "En Python, on peut aussi mélanger les types :"
   ]
  },
  {
   "cell_type": "code",
   "execution_count": null,
   "metadata": {},
   "outputs": [],
   "source": [
    "tab = [\"Sophie\", 30.2, False]"
   ]
  },
  {
   "cell_type": "markdown",
   "metadata": {},
   "source": [
    "Cela n'est pas possible dans tous les langages."
   ]
  },
  {
   "cell_type": "markdown",
   "metadata": {},
   "source": [
    "## Accès aux éléments \n",
    "    \n",
    "On accède à un élément par son *indice*, c'est-à-dire, sa position dans le tableau, en commençant à numéroter les cases à partir de 0."
   ]
  },
  {
   "cell_type": "code",
   "execution_count": null,
   "metadata": {},
   "outputs": [],
   "source": [
    "print(nom[0])\n",
    "print(tab[2])\n",
    "\n",
    "c = (nom[3] + \" \" + nom[4])\n",
    "print(c)\n",
    "\n",
    "print((vitesse[0] + vitesse[1]) / 2)"
   ]
  },
  {
   "cell_type": "markdown",
   "metadata": {},
   "source": [
    "- Sur ce thème : **Exercice 1, Questions 1 et 2, TD7**\n",
    "\n",
    "## Modification et ajout d'un élément\n",
    "\n",
    "On peut modifier un élément avec une affectation :"
   ]
  },
  {
   "cell_type": "code",
   "execution_count": null,
   "metadata": {},
   "outputs": [],
   "source": [
    "nom[2] = \"Guido\"\n",
    "print(nom)"
   ]
  },
  {
   "cell_type": "markdown",
   "metadata": {},
   "source": [
    "**Remarque :**  l'instruction "
   ]
  },
  {
   "cell_type": "code",
   "execution_count": null,
   "metadata": {},
   "outputs": [],
   "source": [
    "nom[5] = \"Guido\""
   ]
  },
  {
   "cell_type": "markdown",
   "metadata": {},
   "source": [
    "produit unne erreur, car le tableau n'a que 5 éléments d'indices 0 à 4.\n",
    "On obtient le message d'erreur `index out of range`.\n",
    "\n",
    "\n",
    "###  Ajouter un élément : `append()`\n",
    "\n",
    "Pour ajouter un élément, on utilise la *méthode* `append()` comme ceci :"
   ]
  },
  {
   "cell_type": "code",
   "execution_count": null,
   "metadata": {},
   "outputs": [],
   "source": [
    "nom.append(\"Guido\")\n",
    "print(nom)\n",
    "print(\"nouveau : \" + nom[5])"
   ]
  },
  {
   "cell_type": "markdown",
   "metadata": {},
   "source": [
    "### Alias\n",
    "\n",
    "L'instruction "
   ]
  },
  {
   "cell_type": "code",
   "execution_count": null,
   "metadata": {},
   "outputs": [],
   "source": [
    "t=[0,0,0]\n",
    "t2 = t"
   ]
  },
  {
   "cell_type": "markdown",
   "metadata": {},
   "source": [
    "ne crée pas une *copie* mais un *alias* de `t`, c'est-à-dire\n",
    "que `t2` et `t` désignent le même objet jusqu'à ce que l'un d'eux\n",
    "soit réaffecté."
   ]
  },
  {
   "cell_type": "code",
   "execution_count": null,
   "metadata": {},
   "outputs": [],
   "source": [
    "t[0] = 1\n",
    "print(t)\n",
    "print(t2)\n",
    "\n",
    "t2[0] = 0\n",
    "print(t)\n",
    "print(t2)\n",
    "\n",
    "t = [2,2,2]\n",
    "print(t)\n",
    "print(t2)"
   ]
  },
  {
   "cell_type": "markdown",
   "metadata": {},
   "source": [
    "- Sur ce thème : **Exercice 5, TD7**\n",
    "\n",
    "# Parcours d'un tableau\n",
    "\n",
    "On utilise très souvent des boucles pour *parcourir* un tableau\n",
    "et agir sur les éléments. <br>\n",
    "Par exemple, pour afficher uniquement les élément d'indice pair :"
   ]
  },
  {
   "cell_type": "code",
   "execution_count": null,
   "metadata": {},
   "outputs": [],
   "source": [
    "i = 0\n",
    "while i < 6:\n",
    "    if i%2 == 0 :\n",
    "        print(nom[i])\n",
    "    i += 1"
   ]
  },
  {
   "cell_type": "markdown",
   "metadata": {},
   "source": [
    "## Longueur d'un tableau `len()`\n",
    "\n",
    "L'indice ne doit pas dépasser la taille du tableau sous peine d'être `out of range`\n",
    "(cf. exemple ci-dessus). <br>\n",
    "On peut vérifier la taille par la méthode `len()` comme pour les chaînes :"
   ]
  },
  {
   "cell_type": "code",
   "execution_count": null,
   "metadata": {},
   "outputs": [],
   "source": [
    "print(len(nom))"
   ]
  },
  {
   "cell_type": "markdown",
   "metadata": {},
   "source": [
    "Le programme précédent peut alors être récrit sans risque d'erreur"
   ]
  },
  {
   "cell_type": "code",
   "execution_count": null,
   "metadata": {},
   "outputs": [],
   "source": [
    "i = 0\n",
    "while i < len(nom):\n",
    "    if i%2 == 0 :\n",
    "        print(nom[i])\n",
    "    i += 1"
   ]
  },
  {
   "cell_type": "markdown",
   "metadata": {},
   "source": [
    "- Sur ce thème : **Exercice 1, Questions 3 et 4, Exercices 2 à 4, TD7**\n",
    "\n",
    "## Tableaux et chaînes de caractères \n",
    "\n",
    "On a remarqué des points communs entre tableaux et chaînes de caractères.\n",
    "Les chaînes seraient-elles des tableaux de caractères ? Pas tout à fait. <br>\n",
    "Car si l'on peut lire une chaîne de caractères comme un tableau :"
   ]
  },
  {
   "cell_type": "code",
   "execution_count": null,
   "metadata": {},
   "outputs": [],
   "source": [
    "s = \"Perceval\"\n",
    "print(s[0])"
   ]
  },
  {
   "cell_type": "markdown",
   "metadata": {},
   "source": [
    "on ne peut pas en modifier les caractères :"
   ]
  },
  {
   "cell_type": "code",
   "execution_count": null,
   "metadata": {},
   "outputs": [],
   "source": [
    "s[0] = \"G\""
   ]
  },
  {
   "cell_type": "markdown",
   "metadata": {},
   "source": [
    "## Boucles de remplissage\n",
    "\n",
    "On peut définir un tableau en écrivant un à un ses éléments,\n",
    "comme dans le premier exemple, ou par une boucle :"
   ]
  },
  {
   "cell_type": "code",
   "execution_count": null,
   "metadata": {},
   "outputs": [],
   "source": [
    "impair = []\n",
    "i = 0\n",
    "while i < 15:\n",
    "    if i%2 != 0:\n",
    "        impair.append(i)\n",
    "    i+=1\n",
    "print(impair)"
   ]
  },
  {
   "cell_type": "markdown",
   "metadata": {},
   "source": [
    "- Sur ce thème : **Exercie 6, TD7**"
   ]
  },
  {
   "cell_type": "markdown",
   "metadata": {},
   "source": [
    "**Remarques :** \n",
    "* La méthode `strip()` permet supprimer tous les espaces notamment \" \" ou le retour chariot `\\n` \n",
    "* Les éléments sont des chaînes de caractères par défaut."
   ]
  },
  {
   "cell_type": "markdown",
   "metadata": {},
   "source": [
    "- Sur ce thème : **Exercice 1, Question 5 et Exercices 7 et 8, TD7**"
   ]
  },
  {
   "cell_type": "markdown",
   "metadata": {},
   "source": [
    "# Lecture et écriture dans les fichiers\n",
    "\n",
    "L'outil informatique a été développé pour travailler sur de gros volumes de données rapidement. Pour cela il faut que les données soient accessible en mémoire des programmes. Quand le volume de données est important celles-ci ne sont pas saisies dans le programme mais le plus souvent lues dans des fichiers puis stockées dans des structures de données telles que les tableaux ou les dictionnaires. Savoir lire et écrire des données dans un fichier est donc indispensable.\n",
    "\n",
    "Les fichiers permettent en effet de stocker de façon stable de l'information dans un système informatique. Ces fichiers peuvent prendre différents formats. Nous ne traiterons ici que trois types de fichiers, mais les règles présentées ici sont assez facilement généralisables à d'autres formats:\n",
    "- les fichiers `texte` non formatés, c'est à dire des fichiers dont le contenu est directement lisible par un être humain qui ouvrirait le fichier avec un éditeur de texte simple et qui ne respecte pas de format particulier,\n",
    "- les fichiers `CSV` qui sont des fichiers texte respectant un format particulier adapté aux données tabulaires,\n",
    "- les fichiers `JSON` qui sont aussi des fichiers texte respectant un format particulier adapté aux données de type association cle/valeur.\n",
    "\n",
    "De nombreux autres typs de fichiers existent dont certain sont dans un format binaire. Afin de lire ces fichiers il faut le plus souvent disposer d'une librairie adaptée proposant des fonctions de lecture appropriées au format. Dans ce cas, la documentation de librairie vous indiquera les fonctions d'intéraction existances et les structures de données qui leur sont associées.\n",
    "\n",
    "## Généralités\n",
    "Afin d'importer des données depuis un fichier vers la mémoire d'un programme informatique il faut:\n",
    "- un sous-programme:\n",
    "    - interagissant avec le système de fichier pour localiset le fichier dans la mémoire -sur un disque dur par exemple- et l'*ouvrir* afin de pouvoir lire/écrire son contenu,\n",
    "    - permettant de naviguer dans le fichier i.e. déplacer le curseur de lecture/écriture -pour passer d'un caractère à l'autre, d'un mot à l'autre ou d'une ligne à l'autre, ...\n",
    "    - permettant de stocker dans une variable de la mémoire du programme une donnée lue dans le fichier pour pouvoir le cas échéant l'utiliser dans le programme ou de lire une donnée d'une variable de la mémoire du programme pour l'écrire dans le fichier.\n",
    "- dans le cas des fichiers formatés il faut aussi un algorithme permettant de lire le contenu du fichier en suivant son format et ainsi structurer dans la mémoire du programmes les différentes informations encodées dans le format.\n",
    "\n",
    "**NB:** Les opérations de lecture/écriture sont exécutées à la position du curseur.\n",
    "\n",
    "## Interaction avec le système de fichiers\n",
    "\n",
    "Pour qu'un programme puisse utiliser les données inscrites dans un fichier, ce dernier doit pouvoir être *accessible* et *lu* par le programme. De façon symétrique, un programme souhaitant *sauvegarder* des données doit pouvoir accéder à l'emplacement du fichier les *écrire* des données dans celui-ci.\n",
    "\n",
    "Dans le cas de la *lecture* comme dans le cas de *l'écriture*, le fichier est identifié par un chemin (appelé `path`) qui est composé de son nom précédé de la séquence des répertoires de l'arborescence du système de fichiers qu'il faut traverser pour l'atteindre. Le chemin peut être donné comme un chemin absolu ou relatif. On n'utilise ici que des chemins relatifs au répertoire contenant le notebook (qui est supposé contenir un répertoire `data/`).\n",
    "\n",
    "La mécanique de la lecture et de l'écriture d'un fichier sont assez similaires et introduites ci-dessous:\n",
    "\n",
    "La première étape consiste à ouvrir le fichier. Ceci est réalisé par la fonction `open()`. Cette fonction admet 2 paramètres:\n",
    "- le premier paramètre est le nom du fichier. Il s'agit d'une chaîne de caractères qui indique le chemin du fichier (`path`).\n",
    "- le second paramètre indique le mode d'ouverture du fichier. Il y a 4 modes d'ouverture de fichier possibles:\n",
    "\n",
    "| Mode  | Description | Remarques |\n",
    "|--------|-------------------|---------------|\n",
    "|`r`     | Read - Valeur par défaut. Ouvre le fichier en lecture et renvoie une erreur si le fichier n'existe pas.| |\n",
    "|`w`     | Write - Ouvre le fichier en lecture et crée le fichier si il ne le trouve pas.| **Attention** Si le fichier prééxiste, le contenu intial du fichier est écrasé par le nouveau contenu.|\n",
    "|`a`     | Append - Ouvre le fichier en lecture et crée le fichier si il ne le trouve pas.| **Attention** Si le fichier prééxiste, le contenu intial du fichier est préservé, le nouveau contenu est écrit à la suite du contenu prééxistant.|\n",
    "|`x`     | Create - Crée le fichier ou retourne une erreur si il existe déjà.| |\n",
    "\n",
    "Cette fonction retourne un *objet fichier* qui doit être affecté à une variable. Cette variable représentera le fichier durant l'exécution de votre programme.\n",
    "\n",
    "**NB:** Lors de l'ouverture d'un fichier, le curseur est automatiquement positionné au début du fichier i.e. devant le premier caratère.\n",
    "\n",
    "Voici un exemple de procédure d'ouverture d'un fichier en lecture"
   ]
  },
  {
   "cell_type": "code",
   "execution_count": 1,
   "metadata": {},
   "outputs": [],
   "source": [
    "# Définition du chemin vers le fichier\n",
    "path = './files/lorem.txt'\n",
    "# Définition du mode d'ouverture du fichier en lecture\n",
    "mode = 'r'\n",
    "# Ouverture du fichier et association du flux à une variable\n",
    "f_input = open(path, mode)"
   ]
  },
  {
   "cell_type": "markdown",
   "metadata": {},
   "source": [
    "A ce moment de l'exécution du programme une variable `f_input` est définie dans la mémoire et permet d'accéder au contenu du fichier en lecture au moyen de différentes fonctions.\n",
    "\n",
    "**Bonne pratique** :  Tout fichier ouvert par un programme (en écriture comme en lecture) **DOIT** être fermé par le programme. Cette fermeture doit avoir lieu au plus tôt, dès que le programme n'a plus à écrire ou lire dans le fichier et dans tout les cas avant la fin de l'exécution du programme. La fermeture du fichier s'opère au moyen de la fonction `close` et du nom de la variable fichier. Il est conseillé d'écrire l'instruction `close` au même moment que l'instruction open':"
   ]
  },
  {
   "cell_type": "code",
   "execution_count": 2,
   "metadata": {},
   "outputs": [],
   "source": [
    "f_input.close()"
   ]
  },
  {
   "cell_type": "markdown",
   "metadata": {},
   "source": [
    "Entre l'ouverture et la fermeture du fichier, selon le mode d'ouverture choisie, le programmeur peut\n",
    "- lire des données dans le fichier au moyen de la fonction `readline()`,\n",
    "- écrire des données dans le fichier au moyen de la fonction `write()`.\n",
    "\n",
    "Il est à noter que la fonction `readline()` ne retourne que des chaînes de caractères (de type `str`). De façon analogue, la focntion `write()` ne sait écrire (prendre en paramètre) que des chaînes de caractères (de type `str`)."
   ]
  },
  {
   "cell_type": "markdown",
   "metadata": {},
   "source": [
    "### Écriture dans un fichier\n",
    "\n",
    "L'écriture des données dans un fichier est une procédure séquentielle qui suit le modèle suivant:\n",
    "- ouverture du fichier en écriture :"
   ]
  },
  {
   "cell_type": "code",
   "execution_count": 11,
   "metadata": {},
   "outputs": [],
   "source": [
    "f_output = open( 'files/test_ecriture' , 'w')"
   ]
  },
  {
   "cell_type": "markdown",
   "metadata": {},
   "source": [
    "Les plus curieux pourront remarquer que dès que cette instruction est évaluée, un fichier vide est créé à l'emplacement indiqué dans le système de fichier de l'ordinateur. Dès lors il est possible d'écrire dans ce fichier au moyen de la fonction `write` et de la variable de flux `f_output`. L'instruction suivante écrit la chaîne de caractère `'bonjour'` dans le fichier `files/test_ecriture'`:"
   ]
  },
  {
   "cell_type": "code",
   "execution_count": 12,
   "metadata": {},
   "outputs": [
    {
     "data": {
      "text/plain": [
       "9"
      ]
     },
     "execution_count": 12,
     "metadata": {},
     "output_type": "execute_result"
    }
   ],
   "source": [
    "f_output.write( 'Bonjour \\n')"
   ]
  },
  {
   "cell_type": "markdown",
   "metadata": {},
   "source": [
    "Il est possible que la chaîne `'bonjour'` ne soit pas écrite immédiatement dans le fichier. Certain langage procède à l'écriture effective dans le fichier que lorsqu'il y a suffisament de choses à écrire pour limiter les accès disque qui prennent du temps. Ces systèmes conservent les éléments à écrire dans un tampon et lorsque celui-ci est plein, alors il crit dans le fichier le contenu du tampon dans le fichier et vide le tampon. Il est possible de forcer l'écriture du tampon dans le fichier en utilisant la fonction `flush` (par exemple avec une instruction de la forme: `f_output.flush()`)\n",
    "\n",
    "Dans tout les cas, lorsque le flux du fichier est fermé, le contenu du tampon est écrit dans le fichier. Ainsi après l'exécution de l'instruction `close` si vous ouvrez le fichier vous verrez qu'il contient la chaîne de caractère `'Bonjour \\n'`."
   ]
  },
  {
   "cell_type": "code",
   "execution_count": 10,
   "metadata": {},
   "outputs": [],
   "source": [
    "f_output.close()"
   ]
  },
  {
   "cell_type": "markdown",
   "metadata": {},
   "source": [
    "Il est possible d'écrire à la fin d'un fichier existant au moyen du mode d'ouverture `'a'`(pour append):"
   ]
  },
  {
   "cell_type": "code",
   "execution_count": 13,
   "metadata": {},
   "outputs": [],
   "source": [
    "f_output = open( 'files/test_ecriture' , 'a')\n",
    "i = 0\n",
    "while( i < 10 ) :\n",
    "    f_output.write( str(2 * i + 1) + '\\n')\n",
    "    i += 1\n",
    "f_output.close()"
   ]
  },
  {
   "cell_type": "markdown",
   "metadata": {},
   "source": [
    "A l'issue de ces deux opérations d'écriture dans ce même fichier `'files/test_ecriture'`, le contenu de celui-ci est le suivant:\n",
    "```\n",
    "Bonjour \n",
    "1\n",
    "3\n",
    "5\n",
    "7\n",
    "9\n",
    "11\n",
    "13\n",
    "15\n",
    "17\n",
    "19\n",
    "```"
   ]
  },
  {
   "cell_type": "markdown",
   "metadata": {},
   "source": [
    "### Lecture dans un fichier\n",
    "\n",
    "Afin de lire les données dans un fichier, on utlise la fonction `readline()`. Cette fonction lit le contenu du fichier *ligne à ligne*. A chaque appel, elle renvoie une ligne du fichier sous la forme d'une chaîne de caractères. Si l'on veut lire d'autre *types* de données il faut *caster* la valeur lue. Pour lire le contenu du fichier créé *supra*, on peut donc procèder de la façon suivante."
   ]
  },
  {
   "cell_type": "markdown",
   "metadata": {},
   "source": [
    "Tout d'abord on ouvre le fichier en lecture avec le mode `'r'`"
   ]
  },
  {
   "cell_type": "code",
   "execution_count": 33,
   "metadata": {},
   "outputs": [],
   "source": [
    "# Ouverture du fichier en lecture\n",
    "f_input = open( 'files/test_ecriture' , \"r\")"
   ]
  },
  {
   "cell_type": "markdown",
   "metadata": {},
   "source": [
    "Puis on va lire séquentiellement son contenu. La première ligne est une chaîne de caractère:"
   ]
  },
  {
   "cell_type": "code",
   "execution_count": 34,
   "metadata": {},
   "outputs": [],
   "source": [
    "ligne_1 = f_input.readline()"
   ]
  },
  {
   "cell_type": "markdown",
   "metadata": {},
   "source": [
    "On peut vérifier que le contenu de la variable `ligne_1` est bien de type chaîne de caractère et que sa valeur, conformément au contenu du fichier est `'Bonjour \\n'`."
   ]
  },
  {
   "cell_type": "code",
   "execution_count": 35,
   "metadata": {},
   "outputs": [
    {
     "name": "stdout",
     "output_type": "stream",
     "text": [
      "<class 'str'>\n",
      "<DEBUT>Bonjour \n",
      "<FIN>\n"
     ]
    }
   ],
   "source": [
    "print( type(ligne_1))\n",
    "\n",
    "print( '<DEBUT>' + ligne_1 + '<FIN>')"
   ]
  },
  {
   "cell_type": "markdown",
   "metadata": {},
   "source": [
    "Il est ensuite possible de lire le reste du contenu du fichier (constitués d'entiers) et par exemple de les stocker dans un tableau. Pour cela on va utiliser une boucle. Il s'agit donc de définir la condition d'arrêt de la boucle. De façon standart, on va lire le contenu du fichier tant qu'il y a un contenu. Lorsque le curseur de lecture sera à la fin du fichier, la fonction `readline` reverra une chaîne vide `''`.\n",
    "\n",
    "Il s'agit donc de répéter des appels à la fonction `readline` tant que celle-ci revoie une chaîne de caractère différente de la chaîne vide.\n",
    "\n",
    "**NB** Une ligne vide contient au minimum un caractère, le caractère non imprimé de retour à la ligne `'\\n'`."
   ]
  },
  {
   "cell_type": "code",
   "execution_count": 36,
   "metadata": {},
   "outputs": [],
   "source": [
    "tab = []\n",
    "i = 0\n",
    "li = f_input.readline()\n",
    "while( '' != li ) :\n",
    "    tab += [ int(li) ]\n",
    "    li = f_input.readline()"
   ]
  },
  {
   "cell_type": "code",
   "execution_count": 37,
   "metadata": {},
   "outputs": [],
   "source": [
    "f_input.close()"
   ]
  },
  {
   "cell_type": "markdown",
   "metadata": {},
   "source": [
    "On peut vérifier que le contenu du tableau est conforme au contenu du fichier:"
   ]
  },
  {
   "cell_type": "code",
   "execution_count": 38,
   "metadata": {},
   "outputs": [
    {
     "name": "stdout",
     "output_type": "stream",
     "text": [
      "[0, 1, 2, 3, 4, 5, 6, 7, 8, 9]\n"
     ]
    }
   ],
   "source": [
    "print(tab)"
   ]
  },
  {
   "cell_type": "markdown",
   "metadata": {},
   "source": [
    "Vous noterez que lors de l'ajout de la valeur lu dans le fichier au tableau celle-ci est castée en entier (`int()`). Ceci est nécessaire si l'on souhaite que les valeur du tableau soient de entiers. Si on ne le fait pas, la fonction `readline` renvoyant comme valeur de retour une chaîne de caractère, les valeurs du tableau seraient des caractères.\n",
    "\n",
    "**NB** Lors du cast de la chaîne de carctère `'1\\n'` en entier, le caractère de retour à la ligne est ignoré."
   ]
  },
  {
   "cell_type": "markdown",
   "metadata": {},
   "source": [
    "### Lecture et ecriture formatée\n",
    "Lorsque l'on souhaite importer dans un programme des données depuis un fichier formaté, il faut définir un programme de lecture qui tient compte du format. Soit le fichier `'files/planetes.csv'` suivant:\n",
    "```\n",
    "Planete , Distance au soleil en millions de km , Nombre de satellites\n",
    "Mercure , 57.9 , 0\n",
    "Venus , 108.2 , 0\n",
    "Terre , 149.6 , 1\n",
    "Mars , 227.9 , 2\n",
    "Jupiter , 778.8 , 63\n",
    "Saturne , 1434 , 60\n",
    "Uranus , 2871 , 27\n",
    "Neptune , 4495 , 13\n",
    "```\n",
    "Le format du fichier est `CSV` ce qui indique qu'il s'agit d'un tableau comportant potentiellement plusieurs lignes et sur chaque ligne les valeurs de chaque colonne sont séparées par une virgule (`,`).\n",
    "\n",
    "Ici la première ligne ne contient pas de valeur, elle contient juste la description du type de données contenu dans chaque colonne. Comme on peut le constater le fichier contient donc 1 ligne de libellés et 8 lignes de données. Chaque ligne contient 3 colonnes. On se fixe pour objectif ici de créer 3 tableaux dans note programmes pour collecter le contenu de chaque colonne:\n",
    "- le tableau `planetes` contiendra le nom des planétes (1ère colonne) sous forme d'une chaîne de caractères\n",
    "- le tableau `distances` contiendra la distance des planétes au soleil (2ème colonne) sous forme de flotants\n",
    "- le tableau `satellites` contiendra le nombre de satellites des planétes (3ème colonne) sous forme d'entiers.\n",
    "Les informations de la première ligne ne seront pas mises en mémoire.\n",
    "\n",
    "Pour lire le contenu de ce fichier nous devons donc développer un programme de lecture adapté au format. Lorsque chaque ligne suit le même format, il est conseiller de définir une fonction de *parsing* qui prend en paramètre une chaîne de caractère correspondant à la lecture d'une seule ligne (ce qui est la valeur retournée par `read`) et qui retourne sous forme structurée les valeurs des différentes colonnes. Cette fonction sera appelée pour chaque ligne contenant des données."
   ]
  },
  {
   "cell_type": "code",
   "execution_count": 18,
   "metadata": {},
   "outputs": [],
   "source": [
    "def parse_ligne_csv_planetes( ligne ) :\n",
    "        c1, c2, c3 = ligne.split(',')\n",
    "        return ( c1, float(c2), int(c3))"
   ]
  },
  {
   "cell_type": "markdown",
   "metadata": {},
   "source": [
    "Ensuite il faut faire le programme de parsing du fichier complet. Cette fonction peut selon le choix du développeur prendre en charge l'ouverture et la fermeture du fichier, le paramètre de la fonction est alors le chemin vers le fichier. Cependant il est préférable de découpler les opérations d'ouverture et de fermeture du fichier des opérations de parsing. Nous ferons donc ici deux fonctions distinctes. Voici une proposition de fonction de parsing du contenu du fichier `CSV`."
   ]
  },
  {
   "cell_type": "code",
   "execution_count": 23,
   "metadata": {},
   "outputs": [],
   "source": [
    "def parse_file_csv_planetes( f_input ) :\n",
    "    planetes = []\n",
    "    distances = []\n",
    "    satellites = []\n",
    "    f_input.readline()               # cet appel sert a sauter la première ligne de libéllés\n",
    "    li = f_input.readline()          # lecture de la première ligne de données\n",
    "    while( '' != li ) :              # tant que la fin du fichier n'est pas atteinte\n",
    "        p, d, s = parse_ligne_csv_planetes( li )  # parsing de ligne courante\n",
    "        planetes += [ p ]            # mise en mémoire des données lues\n",
    "        distances += [ d ]\n",
    "        satellites += [ s ]\n",
    "        li = f_input.readline()      # lecture de la ligne suivante\n",
    "    return ( planetes, distances, satellites)"
   ]
  },
  {
   "cell_type": "markdown",
   "metadata": {},
   "source": [
    "Voici une proposition de fonction de lecture du contenu du fichier CSV et de son appel dans un programme principal. `path` orrespond ici à l'emplacement dans le système du fichier du fichier à lire."
   ]
  },
  {
   "cell_type": "code",
   "execution_count": 24,
   "metadata": {},
   "outputs": [],
   "source": [
    "def read_csv_planetes( path ) :\n",
    "    f_input = open( path , 'r')\n",
    "    planetes, distances, satellites = parse_file_csv_planetes( f_input )\n",
    "    f_input.close()\n",
    "    return( planetes, distances, satellites )\n",
    "\n",
    "\n",
    "planetes, distances, satellites = read_csv_planetes( 'files/planetes.csv' )"
   ]
  },
  {
   "cell_type": "markdown",
   "metadata": {},
   "source": [
    "On peut vérifier que le programme s'est déroulé comme attendu en consultant le contenu des variables de stockages des données du fichier:"
   ]
  },
  {
   "cell_type": "code",
   "execution_count": 25,
   "metadata": {},
   "outputs": [
    {
     "name": "stdout",
     "output_type": "stream",
     "text": [
      "['Mercure ', 'Venus ', 'Terre ', 'Mars ', 'Jupiter ', 'Saturne ', 'Uranus ', 'Neptune ']\n",
      "[57.9, 108.2, 149.6, 227.9, 778.8, 1434.0, 2871.0, 4495.0]\n",
      "[0, 0, 1, 2, 63, 60, 27, 13]\n"
     ]
    }
   ],
   "source": [
    "print( planetes )\n",
    "print( distances )\n",
    "print( satellites )"
   ]
  },
  {
   "cell_type": "markdown",
   "metadata": {},
   "source": [
    "- Sur ce thème : **Exercice 9, TD7**"
   ]
  }
 ],
 "metadata": {
  "@webio": {
   "lastCommId": "dae2653ba9b94c1d8ed8e3c3e3c4d004",
   "lastKernelId": "feb4aef7-5425-4eb1-a536-41fef1a62d1b"
  },
  "kernelspec": {
   "display_name": "Python 3",
   "language": "python",
   "name": "python3"
  },
  "language_info": {
   "codemirror_mode": {
    "name": "ipython",
    "version": 3
   },
   "file_extension": ".py",
   "mimetype": "text/x-python",
   "name": "python",
   "nbconvert_exporter": "python",
   "pygments_lexer": "ipython3",
   "version": "3.6.7"
  },
  "toc": {
   "base_numbering": 1,
   "nav_menu": {},
   "number_sections": true,
   "sideBar": true,
   "skip_h1_title": false,
   "title_cell": "Table of Contents",
   "title_sidebar": "Contents",
   "toc_cell": false,
   "toc_position": {},
   "toc_section_display": true,
   "toc_window_display": false
  },
  "varInspector": {
   "cols": {
    "lenName": 16,
    "lenType": 16,
    "lenVar": 40
   },
   "kernels_config": {
    "python": {
     "delete_cmd_postfix": "",
     "delete_cmd_prefix": "del ",
     "library": "var_list.py",
     "varRefreshCmd": "print(var_dic_list())"
    },
    "r": {
     "delete_cmd_postfix": ") ",
     "delete_cmd_prefix": "rm(",
     "library": "var_list.r",
     "varRefreshCmd": "cat(var_dic_list()) "
    }
   },
   "types_to_exclude": [
    "module",
    "function",
    "builtin_function_or_method",
    "instance",
    "_Feature"
   ],
   "window_display": false
  }
 },
 "nbformat": 4,
 "nbformat_minor": 2
}
