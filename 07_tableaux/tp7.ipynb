{
 "cells": [
  {
   "cell_type": "markdown",
   "metadata": {},
   "source": [
    "# <center> Chapitre 7 : Tableaux - TP </center>"
   ]
  },
  {
   "cell_type": "markdown",
   "metadata": {},
   "source": [
    "## Exercice 1 : Traitement de notes*\n",
    "### Question 1 : Moyenne\n",
    "\n",
    "Voici les notes d'un étudiant sous forme d'un tableau :\n",
    "`[8,4,12,12,9,15,19,11,19,4,18,12,19,3,5]`. <br>\n",
    "Écrire un programme qui affiche la note maximum, la note\n",
    "minimum et la moyenne."
   ]
  },
  {
   "cell_type": "code",
   "execution_count": null,
   "metadata": {},
   "outputs": [],
   "source": [
    "#-------------------------#\n",
    "#    Écrire le code ici   #\n",
    "#-------------------------#\n",
    "\n",
    "\n",
    "\n",
    "#----------------------------------#\n",
    "# Test Final devant afficher True  #\n",
    "#----------------------------------#\n",
    "print( max == 19 and \n",
    "       min == 3  and\n",
    "       moyenne == 34/3)"
   ]
  },
  {
   "cell_type": "markdown",
   "metadata": {},
   "source": [
    "### Question 2 : Mention\n",
    "\n",
    "Améliorer le programme précédent en ajoutant la mention :\n",
    "redouble (moins de 10), passable (entre 10 et 12),\n",
    "assez bien (entre 12 et 14), bien (entre 14 et 16)\n",
    "et très bien (plus de 16)."
   ]
  },
  {
   "cell_type": "code",
   "execution_count": 3,
   "metadata": {},
   "outputs": [],
   "source": [
    "#-------------------------#\n",
    "#    Écrire le code ici   #\n",
    "#-------------------------#\n",
    "\n",
    "\n",
    "\n"
   ]
  },
  {
   "cell_type": "markdown",
   "metadata": {},
   "source": [
    "## Exercice 2 : Nombre de jours du mois*\n",
    "\n",
    "Soit"
   ]
  },
  {
   "cell_type": "code",
   "execution_count": 1,
   "metadata": {},
   "outputs": [],
   "source": [
    "jours = [31, 28, 31, 30, 31, 30, 31, 31, 30, 31, 30, 31]\n",
    "mois = [\"janvier\", \"février\", \"mars\", \"avril\", \"mai\", \"juin\",\n",
    "        \"juillet\", \"août\", \"septembre\", \"octobre\", \"novembre\", \"décembre\"]"
   ]
  },
  {
   "cell_type": "markdown",
   "metadata": {},
   "source": [
    "Créer un tableau qui alterne les éléments de `jours` et `mois` : `[\"janvier\", 31, \"février\", 28, ...]`"
   ]
  },
  {
   "cell_type": "code",
   "execution_count": 2,
   "metadata": {},
   "outputs": [],
   "source": [
    "#-------------------------#\n",
    "#    Écrire le code ici   #\n",
    "#-------------------------#\n",
    "\n",
    "\n",
    "\n"
   ]
  },
  {
   "cell_type": "markdown",
   "metadata": {},
   "source": [
    "## Exercice 3 : Prénoms**\n",
    "### Question 1 : Longueur des prénoms\n",
    "\n",
    "Créer un tableau qui contient la liste de prénom suivants dans cet ordre:\n",
    "\n",
    "Jean, Isidore, Vanessa, Anne, Maximilien, Alexandre-Benoît, Louise.\n",
    "\n",
    "Écrire un programme qui affiche la longueur des prénoms stockés dans ce tableau."
   ]
  },
  {
   "cell_type": "code",
   "execution_count": null,
   "metadata": {},
   "outputs": [],
   "source": [
    "#-------------------------#\n",
    "#    Écrire le code ici   #\n",
    "#-------------------------#\n",
    "\n",
    "\n",
    "\n"
   ]
  },
  {
   "cell_type": "markdown",
   "metadata": {},
   "source": [
    "### Question 2 :  Tri de prénoms\n",
    "\n",
    "À partir du tableau de prénoms précédent, créer deux tableaux :\n",
    "un qui contient ceux qui comptent moins de six lettres,\n",
    "l'autre le reste."
   ]
  },
  {
   "cell_type": "code",
   "execution_count": null,
   "metadata": {},
   "outputs": [],
   "source": [
    "#-------------------------#\n",
    "#    Écrire le code ici   #\n",
    "#-------------------------#\n",
    "\n",
    "\n",
    "\n",
    "#----------------------------------#\n",
    "# Test Final devant afficher True  #\n",
    "#----------------------------------#\n",
    "print( petits == [\"Jean\", \"Anne\"] and\n",
    "       grands == [\"Isidore\", \"Vanessa\", \"Maximilien\", \"Alexandre-Benoît\", \"Louise\"] )"
   ]
  },
  {
   "cell_type": "markdown",
   "metadata": {},
   "source": [
    "## Exercice 4 :  Lecture/Écriture dans un fichier\n",
    "\n",
    "### Question 1: Écriture dans un fichier*\n",
    "Définir un programme qui écrit dans un fichier nommé `'prenoms.txt'` les prénoms contenus dans le tableau initial de l'exercice précédant. Chaque prénom sera écrit sur une ligne différente:"
   ]
  },
  {
   "cell_type": "code",
   "execution_count": null,
   "metadata": {},
   "outputs": [],
   "source": [
    "#-------------------------#\n",
    "#    Écrire le code ici   #\n",
    "#-------------------------#\n",
    "\n",
    "\n",
    "\n"
   ]
  },
  {
   "cell_type": "markdown",
   "metadata": {},
   "source": [
    "### Question 2:  Lecture dans un fichier*\n",
    "\n",
    "Définir un programme qui lit les prénoms du fichier `'prenoms.txt'` et qui affiche en plus du prénom lu le nombre de caractères qui le constitue. Chaque prénom et son nombre de caractère seront affichés sur une ligne différente et séparés par une virgule."
   ]
  },
  {
   "cell_type": "code",
   "execution_count": null,
   "metadata": {},
   "outputs": [],
   "source": [
    "#-------------------------#\n",
    "#    Écrire le code ici   #\n",
    "#-------------------------#\n",
    "\n",
    "\n",
    "\n"
   ]
  },
  {
   "cell_type": "markdown",
   "metadata": {},
   "source": [
    "### Question 3: Lecture et Ecriture dans un fichier**\n",
    "\n",
    "Définir un programme qui, au moyen d'une seule boucle, lit les prénoms du fichier 'prenoms.txt' et qui écrit dans un fichier 'prenoms.csv' en plus du prénom le nombre de caractère qui le constitue. Sur chaque ligne du fichier le prénom et sa longueur sont séparé par une virgule."
   ]
  },
  {
   "cell_type": "code",
   "execution_count": null,
   "metadata": {},
   "outputs": [],
   "source": [
    "#-------------------------#\n",
    "#    Écrire le code ici   #\n",
    "#-------------------------#\n",
    "\n",
    "\n",
    "\n"
   ]
  },
  {
   "cell_type": "markdown",
   "metadata": {},
   "source": [
    "## Exercice 5 : Occurrences**\n",
    "\n",
    "Vérifier si un mot saisi apparaît dans le tableau\n",
    "`[\"girafe\", \"chien\", \"hippo\", \"singe\", \"chat\", \"chien\"]`\n",
    "et le nombre d'occurences. <br>\n",
    "Par exemple si on saisit `chien` l'affichage doit être\n",
    "`chien apparaît 2 fois` ; pour `lapin`, `lapin n'apparaît pas`."
   ]
  },
  {
   "cell_type": "code",
   "execution_count": null,
   "metadata": {},
   "outputs": [],
   "source": [
    "#-------------------------#\n",
    "#    Écrire le code ici   #\n",
    "#-------------------------#\n",
    "\n",
    "\n",
    "\n"
   ]
  },
  {
   "cell_type": "markdown",
   "metadata": {},
   "source": [
    "## Exercice 6 : Palindrome**\n",
    "\n",
    "\n",
    "Vérifier si un mot est un palindrome, c'est-à-dire\n",
    "se lit de même dans les deux sens, comme `radar` et `rotor`."
   ]
  },
  {
   "cell_type": "code",
   "execution_count": 1,
   "metadata": {},
   "outputs": [],
   "source": [
    "#-------------------------#\n",
    "#    Écrire le code ici   #\n",
    "#-------------------------#\n",
    "\n",
    "\n",
    "\n"
   ]
  }
 ],
 "metadata": {
  "kernelspec": {
   "display_name": "Python 3",
   "language": "python",
   "name": "python3"
  },
  "language_info": {
   "codemirror_mode": {
    "name": "ipython",
    "version": 3
   },
   "file_extension": ".py",
   "mimetype": "text/x-python",
   "name": "python",
   "nbconvert_exporter": "python",
   "pygments_lexer": "ipython3",
   "version": "3.7.3"
  },
  "toc": {
   "base_numbering": 1,
   "nav_menu": {},
   "number_sections": true,
   "sideBar": true,
   "skip_h1_title": false,
   "title_cell": "Table of Contents",
   "title_sidebar": "Contents",
   "toc_cell": false,
   "toc_position": {},
   "toc_section_display": true,
   "toc_window_display": false
  }
 },
 "nbformat": 4,
 "nbformat_minor": 2
}
