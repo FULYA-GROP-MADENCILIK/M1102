{
 "cells": [
  {
   "cell_type": "markdown",
   "metadata": {},
   "source": [
    "# <center> Chapitre 7 : Tableaux </center>"
   ]
  },
  {
   "cell_type": "markdown",
   "metadata": {},
   "source": [
    "On utilise les tableaux pour traiter une grande quantité de données, de même type ou pas."
   ]
  },
  {
   "cell_type": "markdown",
   "metadata": {},
   "source": [
    "### Syntaxe \n",
    "* Pour déclarer un tableau :"
   ]
  },
  {
   "cell_type": "code",
   "execution_count": null,
   "metadata": {},
   "outputs": [],
   "source": [
    "tab = [\"Sophie\", 30.2, False]"
   ]
  },
  {
   "cell_type": "markdown",
   "metadata": {},
   "source": [
    "* On accède à l'élément `t[i]` par son *indice* `i`, qui va de 0 à `len(t)-1`\n",
    "où `len(t)` est la taille du tableau. \n",
    "\n",
    "* `t[i] = val` modifie l'élément d'indice i. <br>\n",
    "* `t.append(val)` ajoute l'élément `val` à la fin. <br>\n",
    "* `t2 = t` crée un *alias* de `t`, c'est-à-dire que\n",
    "`t2` et `t` désignent le même objet jusqu'à ce que\n",
    "l'un d'eux soit réaffecté."
   ]
  },
  {
   "cell_type": "markdown",
   "metadata": {},
   "source": [
    "### Parcours d'un tableau\n",
    "\n",
    "On parcourt un tableau avec une boucle pour le créer ou agir sur les éléments.\n",
    "\n",
    "**Exemple :**"
   ]
  },
  {
   "cell_type": "code",
   "execution_count": null,
   "metadata": {},
   "outputs": [],
   "source": [
    "nombres = []\n",
    "i = 0\n",
    "while i < 10:\n",
    "    nombres.append(i)\n",
    "    i+=1\n",
    "print(nombres)"
   ]
  },
  {
   "cell_type": "markdown",
   "metadata": {},
   "source": [
    "Les chaînes de caractères ressemblent aux tableaux. On peut accéder en lecture aux caractères d'une chaîne `s` par leur indice (`s[i]`), mais on ne peut pas les modifier."
   ]
  },
  {
   "cell_type": "markdown",
   "metadata": {},
   "source": [
    "### Lecture écriture dans un fichier\n",
    "\n",
    "| Mode d'ouverture d'un fichier | Description | Remarques |\n",
    "| :---  |    :---:    | :---      |\n",
    "|`r`     | Read - Valeur par défaut. Ouvre le fichier en lecture et renvoie une erreur si le fichier n'existe pas.| |\n",
    "|`w`     | Write - Ouvre le fichier en lecture et crée le fichier si il ne le trouve pas.| **Attention** Si le fichier prééxiste, le contenu intial du fichier est écrasé par le nouveau contenu.|\n",
    "|`a`     | Append - Ouvre le fichier en lecture et crée le fichier si il ne le trouve pas.| **Attention** Si le fichier prééxiste, le contenu intial du fichier est préservé, le nouveau contenu est écrit à la suite du contenu prééxistant.|\n",
    "|`x`     | Create - Crée le fichier ou retourne une erreur si il existe déjà.| |\n",
    "\n",
    "| fonction de parcours | Utilisation |\n",
    "|----------|-------------|\n",
    "| f.open( path, mode ) | retourne un flux sur le fichier path |\n",
    "| f.readline() | retourne la ligne suivante du fichier |\n",
    "| f.write( chaine ) | écrit dans le fichier la chaine |\n",
    "| f.close() | ferme le fichier | :\n",
    "\n",
    "| fonction utiles lors du parsing | Utilisation |\n",
    "|----------|-------------|\n",
    "| chaine.strip() | suprime les caractères espace en début et fin de ligne (aussi le caractère `'\\n'`) |\n",
    "| chaine.split( separateur ) | sépare la chaine la ou ill y a un caractèreseparateur et retourne le tableau des chaines séparées. |\n",
    "\n",
    "Pour parcourir un fichier jusqu'à sa dernière ligne:\n",
    "```\n",
    "f = open( path, mode )\n",
    "li = f.read()\n",
    "while( '' != li ) :\n",
    "    operations ...\n",
    "    li = f.read()\n",
    "f.close()```"
   ]
  }
 ],
 "metadata": {
  "kernelspec": {
   "display_name": "Python 3",
   "language": "python",
   "name": "python3"
  },
  "language_info": {
   "codemirror_mode": {
    "name": "ipython",
    "version": 3
   },
   "file_extension": ".py",
   "mimetype": "text/x-python",
   "name": "python",
   "nbconvert_exporter": "python",
   "pygments_lexer": "ipython3",
   "version": "3.6.4"
  },
  "toc": {
   "base_numbering": 1,
   "nav_menu": {},
   "number_sections": true,
   "sideBar": true,
   "skip_h1_title": false,
   "title_cell": "Table of Contents",
   "title_sidebar": "Contents",
   "toc_cell": false,
   "toc_position": {},
   "toc_section_display": true,
   "toc_window_display": false
  }
 },
 "nbformat": 4,
 "nbformat_minor": 2
}
