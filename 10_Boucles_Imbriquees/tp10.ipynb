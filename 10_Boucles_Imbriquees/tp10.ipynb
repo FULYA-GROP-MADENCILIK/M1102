{
 "cells": [
  {
   "cell_type": "markdown",
   "metadata": {},
   "source": [
    "# <center> Chapitre 10 : Boucles imbriquées - TP </center>"
   ]
  },
  {
   "cell_type": "markdown",
   "metadata": {},
   "source": [
    "## Exercice 1 : Dessins d'étoiles**\n",
    "\n",
    "**NB** : En Python, il est possible de multiplier les chaînes de caractères par une constante (2*`string` vaut `stringstring`). Il est demandé dans ce qui suit de ne pas utiliser cette spécificité du langage Python.\n",
    "\n",
    "### Question 1 : Rectangle\n",
    "Définir une fonction affichant un rectangle d'étoiles de taille `n` $\\times$ `m`, où `n` et `m` sont deux paramètres de la fonction.\n",
    "\n",
    "**Exemple :** pour `n=3` et `m=4`\n",
    "````\n",
    "****\n",
    "****\n",
    "****\n",
    "````"
   ]
  },
  {
   "cell_type": "code",
   "execution_count": null,
   "metadata": {},
   "outputs": [],
   "source": [
    "#-------------------------#\n",
    "#    Écrire le code ici   #\n",
    "#-------------------------#\n",
    "\n",
    "\n"
   ]
  },
  {
   "cell_type": "markdown",
   "metadata": {
    "deletable": false,
    "editable": false,
    "run_control": {
     "frozen": true
    }
   },
   "source": [
    "### Question 2 : Triangle rectangle"
   ]
  },
  {
   "cell_type": "markdown",
   "metadata": {
    "deletable": false,
    "editable": false,
    "run_control": {
     "frozen": true
    }
   },
   "source": [
    "Définir une fonction affichant un triangle rectangle dont la hauteur et la base dépendent d'un entier `n` passé en paramètre. \n",
    "\n",
    "**Exemples :**\n",
    "````\n",
    "pour n=1      pour n=2     pour n=3\n",
    "*             *            *             \n",
    "              **           ** \n",
    "                           ***\n",
    "````"
   ]
  },
  {
   "cell_type": "code",
   "execution_count": null,
   "metadata": {},
   "outputs": [],
   "source": [
    "#-------------------------#\n",
    "#    Écrire le code ici   #\n",
    "#-------------------------#\n",
    "\n",
    "\n"
   ]
  },
  {
   "cell_type": "markdown",
   "metadata": {
    "deletable": false,
    "editable": false,
    "run_control": {
     "frozen": true
    }
   },
   "source": [
    "### Question 3 : Rectangle partitionné\n",
    "Ecrire une fonction `deuxTrianglesRectangles` qui prend en paramètre  la hauteur et qui affiche la figure suivante. Les symboles utilisés sont des étoiles `*` et des tirets `-`.\n",
    "\n",
    "**Exemple :** pour une hauteur de 5\n",
    "````\n",
    "        *----\n",
    "        **---\n",
    "        ***--\n",
    "        ****-\n",
    "        *****\n",
    "````"
   ]
  },
  {
   "cell_type": "code",
   "execution_count": null,
   "metadata": {},
   "outputs": [],
   "source": [
    "#-------------------------#\n",
    "#    Écrire le code ici   #\n",
    "#-------------------------#\n",
    "\n",
    "\n"
   ]
  },
  {
   "cell_type": "markdown",
   "metadata": {
    "deletable": false,
    "editable": false,
    "run_control": {
     "frozen": true
    }
   },
   "source": [
    "### Question 4 : Triangle isocèle\n",
    "Ecrire une fonction qui affiche un triangle isocèle dont la hauteur dépend d'un entier `n` passé en paramètre.\n",
    "\n",
    "**Exemples :**\n",
    "````\n",
    "pour n=1   pour n=2   pour n=3    pour n=4\n",
    " *             *          *           *\n",
    "              ***        ***         ***\n",
    "                        *****       *****\n",
    "                                   *******\n",
    "````"
   ]
  },
  {
   "cell_type": "markdown",
   "metadata": {},
   "source": [
    "### Question 5 : Losange\n",
    "Ecrire une fonction qui affiche un losange dont la longueur des diagonales est un entier impair `n` passé en  paramètre. Dans le cas où `n` est pair, la fonction affichera un message d'erreur.\n",
    "\n",
    "**Exemples :**\n",
    "````\n",
    "pour n=1    pour n=3     pour n=5     pour n=7\n",
    "  *            *            *            *\n",
    "              ***          ***          ***\n",
    "               *          *****        *****\n",
    "                           ***        *******\n",
    "                            *          *****\n",
    "                                        ***\n",
    "                                         *\n",
    "````"
   ]
  },
  {
   "cell_type": "code",
   "execution_count": null,
   "metadata": {},
   "outputs": [],
   "source": [
    "#-------------------------#\n",
    "#    Écrire le code ici   #\n",
    "#-------------------------#\n",
    "\n",
    "\n"
   ]
  },
  {
   "cell_type": "markdown",
   "metadata": {},
   "source": [
    "### Question 6 : Programme principal\n",
    "Ecrire un programme principal pour obtenir l'affichage suivant :\n",
    "```\n",
    "- un rectangle 3 X 4\n",
    "****\n",
    "****\n",
    "****\n",
    "- un triangle rectangle de hauteur et base 4\n",
    "*\n",
    "**\n",
    "***\n",
    "****\n",
    "- deux triangles rectangles de * et - ayant pour hauteur et base 5\n",
    "*----\n",
    "**---\n",
    "***--\n",
    "****-\n",
    "*****\n",
    "- un triangle isocèle de hauteur 5 \n",
    "    *\n",
    "   ***\n",
    "  *****\n",
    " *******\n",
    "*********\n",
    "- un beau losange de hauteur 9\n",
    "    *\n",
    "   ***\n",
    "  *****\n",
    " *******\n",
    "*********\n",
    " *******\n",
    "  *****\n",
    "   ***\n",
    "    *\n",
    "```"
   ]
  },
  {
   "cell_type": "code",
   "execution_count": null,
   "metadata": {},
   "outputs": [],
   "source": [
    "#-------------------------#\n",
    "#    Écrire le code ici   #\n",
    "#-------------------------#\n",
    "\n",
    "\n"
   ]
  },
  {
   "cell_type": "markdown",
   "metadata": {
    "deletable": false,
    "editable": false,
    "run_control": {
     "frozen": true
    }
   },
   "source": [
    "# Exercice 2 Table de multiplication*\n",
    "### Question 1 : tables de multiplication de 1 à 10 \n",
    "Ecrire un programme  qui calcule et affiche les tables de multiplication de `1` à `10`. \n",
    "Une exécution de ce programme donnera à l'écran ce qui suit.\n",
    "````\n",
    "x | 1 2 3 4 5 6 7 8 9 10\n",
    "-----------------------------------\n",
    "1 | 1 2 3 4 5 6 7 8 9 10\n",
    "2 | 2 4 6 8 10 12 14 16 18 20\n",
    "3 | 3 6 9 12 15 18 21 24 27 30\n",
    "4 | 4 8 12 16 20 24 28 32 36 40\n",
    "5 | 5 10 15 20 25 30 35 40 45 50\n",
    "6 | 6 12 18 24 30 36 42 48 54 60\n",
    "7 | 7 14 21 28 35 42 49 56 63 70\n",
    "8 | 8 16 24 32 40 48 56 64 72 80\n",
    "9 | 9 18 27 36 45 54 63 72 81 90\n",
    "10 | 10 20 30 40 50 60 70 80 90 100\n",
    "````"
   ]
  },
  {
   "cell_type": "code",
   "execution_count": null,
   "metadata": {},
   "outputs": [],
   "source": [
    "#-------------------------#\n",
    "#    Écrire le code ici   #\n",
    "#-------------------------#\n",
    "\n",
    "\n"
   ]
  },
  {
   "cell_type": "markdown",
   "metadata": {
    "deletable": false,
    "editable": false,
    "run_control": {
     "frozen": true
    }
   },
   "source": [
    "### Question 2 : Alignement à l'affichage\n",
    "Modifier le code précédent pour obtenir l'affichage ci-dessous  (la fonction `rjust`peut être fort utile pour cela) :\n",
    "\n",
    "```\n",
    "   X |   1   2   3   4   5   6   7   8   9  10\n",
    "--------------------------------------------------\n",
    "   1 |   1   2   3   4   5   6   7   8   9  10\n",
    "   2 |   2   4   6   8  10  12  14  16  18  20\n",
    "   3 |   3   6   9  12  15  18  21  24  27  30\n",
    "   4 |   4   8  12  16  20  24  28  32  36  40\n",
    "   5 |   5  10  15  20  25  30  35  40  45  50\n",
    "   6 |   6  12  18  24  30  36  42  48  54  60\n",
    "   7 |   7  14  21  28  35  42  49  56  63  70\n",
    "   8 |   8  16  24  32  40  48  56  64  72  80\n",
    "   9 |   9  18  27  36  45  54  63  72  81  90\n",
    "  10 |  10  20  30  40  50  60  70  80  90 100\n",
    "```"
   ]
  },
  {
   "cell_type": "code",
   "execution_count": null,
   "metadata": {},
   "outputs": [],
   "source": [
    "#-------------------------#\n",
    "#    Écrire le code ici   #\n",
    "#-------------------------#\n",
    "\n",
    "\n"
   ]
  },
  {
   "cell_type": "markdown",
   "metadata": {
    "deletable": false,
    "editable": false,
    "run_control": {
     "frozen": true
    }
   },
   "source": [
    "## Exercice 3 : Dessin d'étoiles et codage**\n",
    "Un dessin d'étoiles est un dessin contenant uniquement des espaces, le symbole `*` et les retours à la ligne. Les dessins de l'exercice 1 excepté celui de la troisième question sont des exemples de dessin d'étoiles. Pour stocker un dessin d'étoiles de manière \"compressée\", on peut représenter ce dessin par un tableau d'entiers. Chaque nombre positif du tableau correspond au nombre de symboles (espace ou `*`) consécutifs dans une ligne du dessin. La valeur -1 correspond à un retour à la ligne. On suppose que chaque ligne commence par des étoiles. A titre d'exemple, le triangle isocèle pour `n=4` dans l'Exercice 1 (Question 4) serait représenté par le tableau\n",
    "```\n",
    "tableau = [0, 3, 1, -1, 0, 2, 3, -1, 0, 1, 5, -1, 7,-1]\n",
    "```\n",
    "En effet, la première contient 0 étoile, suivi de 3 espaces puis d'une étoile. La deuxième ligne contient 0 étoile, 2 espaces puis 3 étoiles, etc.\n",
    "\n",
    "### Question 1 : Dessin à partir du codage\n",
    "Définir la fonction `afficheDessinEtoiles` prenant en paramètre un tableau d'entiers et affichant le dessin d'étoiles correspondant.\n"
   ]
  },
  {
   "cell_type": "code",
   "execution_count": null,
   "metadata": {},
   "outputs": [],
   "source": [
    "#-------------------------#\n",
    "#    Écrire le code ici   #\n",
    "#-------------------------#\n",
    "\n",
    "\n"
   ]
  },
  {
   "cell_type": "markdown",
   "metadata": {
    "deletable": false,
    "editable": false,
    "run_control": {
     "frozen": true
    }
   },
   "source": [
    "### Question 2 : Exemples d'utilisation \n",
    "Appeler la fonction `afficheDessinEtoiles()` pour afficher le triangle isocèle de taille `4` défini à la Question 4 de l'Exercice 1. \n",
    "\n",
    "Afficher également le dessin d'étoiles défini par le tableau suivant (utiliser le copier/coller pour déclarer le tableau dans votre programme principal)\n",
    "```\n",
    "t=[0,3,14,-1,0,2,2,12,2,-1,0,1,2,2,2,6,2,2,2,-1,2,16,2,-1,2,7,2,7,2,-1,2,\n",
    "16,2,-1,0,1,2,14,2,-1,0,2,2,3,6,3,2,-1,0,3,2,10,2,-1,0,4,12,-1]\n",
    "```"
   ]
  },
  {
   "cell_type": "code",
   "execution_count": null,
   "metadata": {},
   "outputs": [],
   "source": [
    "#-------------------------#\n",
    "#    Écrire le code ici   #\n",
    "#-------------------------#\n",
    "\n",
    "\n"
   ]
  },
  {
   "cell_type": "markdown",
   "metadata": {
    "deletable": false,
    "editable": false,
    "run_control": {
     "frozen": true
    }
   },
   "source": [
    "## Exercice 4 : Comptage des points à la Belote Coinchée ***\n",
    "\n",
    "La belote coinchée est un jeu qui se joue à 4 joueurs par équipe de 2 et un jeu de 32 cartes. Il se distingue de la Belote par un système d'annonce. Tour à tour, avant de commencer à poser les cartes chaque joueur \"passe\" ou \"annonce\" une couleur d'atout et le nombre de points qu'il pense faire en choisissant cet atout. Celui qui propose l'annonce la plus forte définit l'atout pour la partie. Lors du comptage des points en fin de partie, chaque carte remportée par une équipe est convertie en points. Le score d'une équipe correspond au nombre de points associés aux plis qu'elle a remporté. Les règles de calcul sont les suivantes:.\n",
    "\n",
    "<img src=\"img/y7.png\" alt=\"Drawing\" style=\"height: 200px;\"/>\n",
    "\n",
    "### Question 1  : Les points à l'atout et aux autres couleurs\n",
    "Charger les 2 dictionnaires ``files/atout.json``et ``files/autre.json`` dont les couples (clef,valeur) sont respectivement la figure portée par la carte et le nombre de points associés à cette figure lorsqu'elle est de la couleur de l'atout ou d'une autre couleur."
   ]
  },
  {
   "cell_type": "code",
   "execution_count": null,
   "metadata": {},
   "outputs": [],
   "source": [
    "#-------------------------#\n",
    "#    Écrire le code ici   #\n",
    "#-------------------------#\n",
    "\n",
    "\n"
   ]
  },
  {
   "cell_type": "markdown",
   "metadata": {
    "deletable": false,
    "editable": false,
    "run_control": {
     "frozen": true
    }
   },
   "source": [
    "### Question 2 : Compter les points d'un ensemble de cartes\n",
    "Définir une fonction ``comptage()`` prenant comme paramètre les 2 dictionnaires, une couleur d'atout et un ensemble de cartes. La fonction renverra le nombre de points associés à cet ensemble de cartes. \n",
    "\n",
    "Les cartes seront passées comme une liste de tuples dont :\n",
    "    - la première valeur correspond à la figure de la carte (As, Roi, Dame, Valet, Dix, Neuf, Huit, ou Sept) et\n",
    "\t- la deuxième valeur correspond à la couleur de la carte (Pic, Coeur, Carreau, Trefle)\n",
    "Par exemple, `[('Valet','Coeur'),('Dix','Pique')]`\n",
    "\n",
    "Utiliser cette fonction pour compter les points avec différents tuples de cartes."
   ]
  },
  {
   "cell_type": "code",
   "execution_count": null,
   "metadata": {},
   "outputs": [],
   "source": [
    "#-------------------------#\n",
    "#    Écrire le code ici   #\n",
    "#-------------------------#\n",
    "\n",
    "\n"
   ]
  },
  {
   "cell_type": "markdown",
   "metadata": {
    "deletable": false,
    "editable": false,
    "run_control": {
     "frozen": true
    }
   },
   "source": [
    "### Question 3  : Nombre total de points du jeu\n",
    "Calculer le nombre total de points que les joueurs se partagernt au cours d'une partie sachant que 10 points sont accordés à l'équipe qui remporte le dernier tour de jeu."
   ]
  },
  {
   "cell_type": "code",
   "execution_count": null,
   "metadata": {},
   "outputs": [],
   "source": [
    "#-------------------------#\n",
    "#    Écrire le code ici   #\n",
    "#-------------------------#\n",
    "\n",
    "\n"
   ]
  },
  {
   "cell_type": "markdown",
   "metadata": {
    "deletable": false,
    "editable": false,
    "run_control": {
     "frozen": true
    }
   },
   "source": [
    "### Question 4  : Affichage de la valeur de chaque carte\n",
    "Définir une fonction ``affiche_carte_point`` qui prend en paramètres les 2 dictionnaires et la couleur d'atout et affiche l'ensemble des 32 cartes et leur valeur.\n",
    "\n",
    "Utiliser cette fonction pour afficher les points associés à chaqye carte quand l'atout est `Coeur`."
   ]
  },
  {
   "cell_type": "code",
   "execution_count": null,
   "metadata": {},
   "outputs": [],
   "source": [
    "#-------------------------#\n",
    "#    Écrire le code ici   #\n",
    "#-------------------------#\n",
    "\n"
   ]
  }
 ],
 "metadata": {
  "kernelspec": {
   "display_name": "Python 3",
   "language": "python",
   "name": "python3"
  },
  "language_info": {
   "codemirror_mode": {
    "name": "ipython",
    "version": 3
   },
   "file_extension": ".py",
   "mimetype": "text/x-python",
   "name": "python",
   "nbconvert_exporter": "python",
   "pygments_lexer": "ipython3",
   "version": "3.7.4"
  },
  "latex_envs": {
   "LaTeX_envs_menu_present": true,
   "autoclose": false,
   "autocomplete": true,
   "bibliofile": "biblio.bib",
   "cite_by": "apalike",
   "current_citInitial": 1,
   "eqLabelWithNumbers": true,
   "eqNumInitial": 1,
   "hotkeys": {
    "equation": "Ctrl-E",
    "itemize": "Ctrl-I"
   },
   "labels_anchors": false,
   "latex_user_defs": false,
   "report_style_numbering": false,
   "user_envs_cfg": false
  }
 },
 "nbformat": 4,
 "nbformat_minor": 2
}
