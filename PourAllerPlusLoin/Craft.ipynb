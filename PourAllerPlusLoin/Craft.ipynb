{
 "cells": [
  {
   "cell_type": "markdown",
   "metadata": {},
   "source": [
    "# <center> Pour aller plus loin : Crafter et Survive </center>"
   ]
  },
  {
   "cell_type": "markdown",
   "metadata": {},
   "source": [
    "Le but de ce projet est de construire un début de jeu de type \"Craft\" ou pour survivre le joueur devra construire des objets et cultiver des produits à partir de ressources de base."
   ]
  },
  {
   "cell_type": "markdown",
   "metadata": {},
   "source": [
    "## Spécifications\n",
    "\n",
    "### Développement\n",
    "\n",
    "Pour chaque fonction demandée, un exemple d'appel est donné. Il sert à vérifier la conformité de votre proposition.\n",
    "\n",
    "### Cycle de jeu"
   ]
  },
  {
   "cell_type": "markdown",
   "metadata": {},
   "source": [
    "Le jeu, dans cette version simple, ne comporte qu'un seul joueur dont on doit maintenir les points de vie au dessus de zéro. Il n'y a pas de déplacements explicites. La santé du joueur est décrite par des points de vie et le joueur évolue dans un monde où il peut trouver, fabriquer (*crafter*) ou consommer des items.\n",
    "\n",
    "- Le joueur perd des points de vie à chaque tour de façon constante.\n",
    "- Si le joueur dispose de vêtements, d'une hutte ou d'un lit, il perd moins de points de vie.\n",
    "- Si le joueur mange des tomates ou du pain, il regagne des points de vie.\n",
    "- Le joueur glane (récolte) des items à chaque tour de jeu.\n",
    "- Le joueur peu crafter des items à chaque tour de jeu."
   ]
  },
  {
   "cell_type": "markdown",
   "metadata": {},
   "source": [
    "## Lecture des lignes des fichiers TSV\n",
    "\n",
    "Les fichiers utiles au paramétrage du jeu sont dans le répertoire `data`. Afin de faciliter la lecture, il faut  évaluer la cellule suivante :"
   ]
  },
  {
   "cell_type": "code",
   "execution_count": null,
   "metadata": {},
   "outputs": [],
   "source": [
    "from os import chdir\n",
    "from random import randint"
   ]
  },
  {
   "cell_type": "markdown",
   "metadata": {},
   "source": [
    "Tous les fichiers de ce répertoire sont au format TSV. La valeur de chaque champs est séparée de la suivante par une tabulation.\n",
    "\n",
    "Afin de pouvoir lire de façon simple les fichiers de données, définir une fonction `decoupe_tab()` qui prend en paramètre une ligne (une chaîne de caractères) composée de tokens séparés par des tabulations (`\\t`) et renvoie la liste des tokens dans un tableau."
   ]
  },
  {
   "cell_type": "markdown",
   "metadata": {},
   "source": [
    "**Attention:** Les lignes lues dans le fichier finiront toutes par un retour à la ligne (`\\n`). Veiller à gérer ce point lors du développement de la fonction."
   ]
  },
  {
   "cell_type": "code",
   "execution_count": null,
   "metadata": {},
   "outputs": [],
   "source": [
    "#-------------------------#\n",
    "#    Écrire le code ici   #\n",
    "#-------------------------#\n",
    "def decoupe_tab(li):\n"
   ]
  },
  {
   "cell_type": "code",
   "execution_count": null,
   "metadata": {},
   "outputs": [],
   "source": [
    "# ------------  TEST/EXEMPLE ---------- #\n",
    "assert decoupe_tab(\"Bonjour\\ta\\ttous\\n\") == ['Bonjour', 'a', 'tous'] \n",
    "print(\"test ok\")"
   ]
  },
  {
   "cell_type": "markdown",
   "metadata": {},
   "source": [
    "## Initialisation\n",
    "\n",
    "Le fichier `data/ressources` contient la liste des items que l'on peut glaner ou crafter dans le jeu. Sur chaque ligne est donné le nom d'un item et sa proportion dans la distribution des ressources du monde du jeu. La somme des ressources est égale à 1000; elles sont en proportion constante et quantité illimitées (renouvelées à chaque tour).\n",
    "\n",
    "Par exemple (cf. lignes 6 et 4 du fichier), la proportion de corde ou de bois que l'on peut trouver dans le monde du jeu est respectivement de 10/1000=1% et 200/1000=20%. \n",
    "\n",
    "Certains items ont une proportion de 0. Ce sont les items que l'on ne peut trouver et que l'on ne peut obtenir qu'en les craftant (fabriquant)."
   ]
  },
  {
   "cell_type": "markdown",
   "metadata": {},
   "source": [
    "### Définition du tableau de glanage\n",
    "\n",
    "On souhaite définir un tableau de glanage qui représente les ressources disponibles dans le monde. Les proportions de chaque item sont données dans le fichier `data/ressources`. Dans ce tableau de glanage, chaque item sera représenté autant de fois que spécifié dans la distribution des ressources.\n",
    "\n",
    "D'après le fichier `data/ressources`, la somme des ressources est égale à 1000 : le tableau de glanage comportera donc 1000 cases. En accord avec les lignes 1, 2 et 4 du fichier, 2 cases contiendront la chaîne de caractères `\"aiguille\"`, 10 cases contiendront la chaîne de caractères `\"beche\"` et 200 cases contiendront la chaîne de caractères `\"bois\"`.\n",
    "\n",
    "Définir une fonction `import_distrib_ressources()` qui lit les données du fichier et retourne le tableau de distribution de ressources. Le tableau retourné par la fonction sera stockée dans une variable `ressources`.\n",
    "\n",
    "**Remarque:** La fontion `import_distrib_ressources()` utilise la fonction `decoupe_tab(li)`. Elle gère l'ouverture, la lecture et la fermeture du fichier de données. Le chemin vers le fichier est passé en paramètre."
   ]
  },
  {
   "cell_type": "code",
   "execution_count": null,
   "metadata": {},
   "outputs": [],
   "source": [
    "#-------------------------#\n",
    "#    Écrire le code ici   #\n",
    "#-------------------------#\n",
    "def import_distrib_ressources(path):\n"
   ]
  },
  {
   "cell_type": "code",
   "execution_count": null,
   "metadata": {},
   "outputs": [],
   "source": [
    "# ------------  TEST/EXEMPLE ---------- #\n",
    "ressources = import_distrib_ressources(\"data/ressources\")\n",
    "assert len(ressources)==1000\n",
    "assert ressources[500] == \"osier\"\n",
    "print(\"test ok\")"
   ]
  },
  {
   "cell_type": "markdown",
   "metadata": {},
   "source": [
    "### Création du coffre\n",
    "\n",
    "Définir une fonction `init_coffre()` qui construit et initialise un `coffre`. Le `coffre` prend la forme d'un dictionnaire où\n",
    "- les clefs sont les noms des items\n",
    "- les valeurs sont le nombre d'items en possession du joueur.\n",
    "Au départ le coffre est vide. La liste des clefs est lue dans le fichier `data/ressources`.\n",
    "\n",
    "**Remarque:** Cette fonction est assez similaire à la précédente."
   ]
  },
  {
   "cell_type": "code",
   "execution_count": null,
   "metadata": {},
   "outputs": [],
   "source": [
    "#-------------------------#\n",
    "#    Écrire le code ici   #\n",
    "#-------------------------#\n",
    "def init_coffre(path):\n"
   ]
  },
  {
   "cell_type": "code",
   "execution_count": null,
   "metadata": {},
   "outputs": [],
   "source": [
    "# ------------  TEST/EXEMPLE ---------- #\n",
    "coffre = init_coffre(\"data/ressources\")\n",
    "print( coffre)"
   ]
  },
  {
   "cell_type": "markdown",
   "metadata": {},
   "source": [
    "## Gestion du coffre\n",
    "\n",
    "Dans ce jeu, la taille du coffre est infinie, *i.e*, si le nombre de clefs est fixé par le nombre d'items, le nombre d'items que l'on peut avoir dans le coffre est illimité...\n",
    "\n",
    "### Représentation du coffre\n",
    "\n",
    "Afin de pouvoir représenter le contenu du tableau de façon élégante, on veut pouvoir afficher à l'écran des chaînes de caractère de longueur différentes sur un même nombre de caractères. Définir une fonction `fixe_longueur()` qui prend en paramètres une chaîne de caractère et une longueur entière et qui retourne la chaine de caractère en lui ayant ajouté à gauche autant de caractères espace que nécessaire pour que sa longueur soit celle passé en paramètre.\n",
    "Si la longueur de la chaine de départ est plus longue que la longueur de la chaine souhaitée alors la fonction ne fait rien et retourne la chaine initiale."
   ]
  },
  {
   "cell_type": "code",
   "execution_count": null,
   "metadata": {},
   "outputs": [],
   "source": [
    "#-------------------------#\n",
    "#    Écrire le code ici   #\n",
    "#-------------------------#\n",
    "def fixe_longueur( chaine, longueur ):\n"
   ]
  },
  {
   "cell_type": "code",
   "execution_count": null,
   "metadata": {},
   "outputs": [],
   "source": [
    "# ------------  TEST/EXEMPLE ---------- #\n",
    "print( \"->\" + fixe_longueur( \"1234\", 2) + \"<-\")\n",
    "print( \"->\" + fixe_longueur( \"1234\", 4) + \"<-\")\n",
    "print( \"->\" + fixe_longueur( \"1234\", 6) + \"<-\")\n",
    "print( \"->\" + fixe_longueur( \"1234\", 8) + \"<-\")"
   ]
  },
  {
   "cell_type": "markdown",
   "metadata": {},
   "source": [
    "Définir une fonction `liste_items()` qui renvoie la liste des items d'un coffre, *i.e.*, la liste des clefs d'un dictionnaire. La fonction prend en paramètre un dictionnaire (un coffre) et retourne la liste des noms des items du coffre (la liste des clefs du dictionnaire)."
   ]
  },
  {
   "cell_type": "code",
   "execution_count": null,
   "metadata": {},
   "outputs": [],
   "source": [
    "#-------------------------#\n",
    "#    Écrire le code ici   #\n",
    "#-------------------------#\n",
    "def liste_items(coffre ):\n"
   ]
  },
  {
   "cell_type": "code",
   "execution_count": null,
   "metadata": {},
   "outputs": [],
   "source": [
    "# ------------  TEST/EXEMPLE ---------- #\n",
    "print(liste_items({1:\"a\", 2:\"b\", \"tutu\":\"TOTO\"}))\n",
    "print(\"---------------------\")\n",
    "print(liste_items(coffre ))"
   ]
  },
  {
   "cell_type": "markdown",
   "metadata": {},
   "source": [
    "Définir une fonction `ouvre_coffre()` qui permet d'afficher de façon formatée le contenu du coffre. La fonction prend en paramètre un coffre (un dictionnaire), ne renvoie rien mais affiche un tableau comportant deux colonnes:\n",
    "    - une colonne pour les clefs (les items) et\n",
    "    - une colonne pour les valeurs (les quantités d'items)\n",
    "et autant de lignes qu'il y a de couples (clef : valeur) dans le coffre.\n",
    "\n",
    "**Remarque:** Il faut utiliser les fonctions `fixe_longueur()` et `liste_items()`"
   ]
  },
  {
   "cell_type": "code",
   "execution_count": null,
   "metadata": {},
   "outputs": [],
   "source": [
    "#-------------------------#\n",
    "#    Écrire le code ici   #\n",
    "#-------------------------#\n",
    "def ouvre_coffre( coffre ):\n"
   ]
  },
  {
   "cell_type": "code",
   "execution_count": null,
   "metadata": {},
   "outputs": [],
   "source": [
    "# ------------  TEST/EXEMPLE ---------- #\n",
    "ouvre_coffre( coffre )"
   ]
  },
  {
   "cell_type": "markdown",
   "metadata": {},
   "source": [
    "### Ajouter d'un item au coffre\n",
    "\n",
    "Définir une fonction `ajoute()` qui prend en paramètre un coffre et le nom d'un item et ajoute cet item au coffre (augmente la quantité de cet item de +1)."
   ]
  },
  {
   "cell_type": "code",
   "execution_count": null,
   "metadata": {},
   "outputs": [],
   "source": [
    "#-------------------------#\n",
    "#    Écrire le code ici   #\n",
    "#-------------------------#\n",
    "def ajoute(coffre, item):\n",
    " "
   ]
  },
  {
   "cell_type": "code",
   "execution_count": null,
   "metadata": {},
   "outputs": [],
   "source": [
    "# ------------  TEST/EXEMPLE ---------- #\n",
    "print( coffre[\"aiguille\"])\n",
    "ajoute(coffre, \"aiguille\")\n",
    "print( coffre[\"aiguille\"])"
   ]
  },
  {
   "cell_type": "markdown",
   "metadata": {},
   "source": [
    "### Ajout au panier des objets glanés\n",
    "\n",
    "Définir une fonction `ajoute_plusieurs()` qui prend en paramètre un coffre et une liste d'items (glanés) et les ajoute au coffre.\n",
    "\n",
    "**Remarque:** Utiliser et généraliser la fonction `ajoute()` définie supra."
   ]
  },
  {
   "cell_type": "code",
   "execution_count": null,
   "metadata": {},
   "outputs": [],
   "source": [
    "#-------------------------#\n",
    "#    Écrire le code ici   #\n",
    "#-------------------------#\n",
    "def ajoute_plusieurs( coffre, panier ) :\n"
   ]
  },
  {
   "cell_type": "code",
   "execution_count": null,
   "metadata": {},
   "outputs": [],
   "source": [
    "# ------------  TEST/EXEMPLE ---------- #\n",
    "print(coffre[\"aiguille\"])\n",
    "print(coffre[\"beche\"])\n",
    "ajoute_plusieurs(coffre, [\"aiguille\",\"beche\",\"aiguille\"])\n",
    "print(coffre[\"aiguille\"])\n",
    "print(coffre[\"beche\"])"
   ]
  },
  {
   "cell_type": "markdown",
   "metadata": {},
   "source": [
    "### Tester la présence d'un item dans le coffre\n",
    "\n",
    "Définir une fonction `est_present()` qui teste la présence en quantité superieure ou égale à 1 d'un item dans le coffre. La fonction prend en paramètre un coffre, le nom d'un item et retourne `True` si il y a au moins un item de ce type dans le coffre et `False` sinon."
   ]
  },
  {
   "cell_type": "code",
   "execution_count": null,
   "metadata": {},
   "outputs": [],
   "source": [
    "#-------------------------#\n",
    "#    Écrire le code ici   #\n",
    "#-------------------------#\n",
    "def est_present( coffre, item):\n"
   ]
  },
  {
   "cell_type": "code",
   "execution_count": null,
   "metadata": {},
   "outputs": [],
   "source": [
    "# ------------  TEST/EXEMPLE ---------- #\n",
    "print(coffre[\"aiguille\"])\n",
    "print(est_present(coffre, \"aiguille\"))\n",
    "print(coffre[\"hutte\"])\n",
    "print(est_present(coffre, \"hutte\"))"
   ]
  },
  {
   "cell_type": "markdown",
   "metadata": {},
   "source": [
    "### Tester la présence d'une liste item dans le coffre\n",
    "\n",
    "Définir une fonction `sont_presents()` qui teste la présence de plusieurs items dans le coffre. La fonction prend en paramètre un coffre, un tableau d'items et retourne `True` si tous les items du tableau sont présents dans le coffre et `False` sinon.\n",
    "\n",
    "**Remarque:** Il faut utiliser la fonction `est_present()`"
   ]
  },
  {
   "cell_type": "code",
   "execution_count": null,
   "metadata": {},
   "outputs": [],
   "source": [
    "#-------------------------#\n",
    "#    Écrire le code ici   #\n",
    "#-------------------------#\n",
    "def sont_presents( coffre, liste_item):\n"
   ]
  },
  {
   "cell_type": "code",
   "execution_count": null,
   "metadata": {},
   "outputs": [],
   "source": [
    "# ------------  TEST/EXEMPLE ---------- #\n",
    "ajoute_plusieurs(coffre,[\"bois\",\"fer\"])\n",
    "print(sont_presents( coffre, [\"bois\",\"fer\"]))\n",
    "print(sont_presents( coffre, [\"bois\",\"fer\",\"hutte\"]))"
   ]
  },
  {
   "cell_type": "markdown",
   "metadata": {},
   "source": [
    "### Retirer un item du coffre\n",
    "\n",
    "Définir une fonction `retire()` qui prend en paramètre un coffre et le nom d'un item. Si le coffre contient l'item, la quantité de cet item est décrémentée dans le coffre et la fonction renvoie `True`, sinon la quantité de cet item n'est pas décrémentée dans le coffre et la fonction renvoie `False`.\n",
    "\n",
    "**Attention:** Il faut utilisr utiliser la fonction `est_present()`"
   ]
  },
  {
   "cell_type": "code",
   "execution_count": null,
   "metadata": {},
   "outputs": [],
   "source": [
    "#-------------------------#\n",
    "#    Écrire le code ici   #\n",
    "#-------------------------#\n",
    "def retire( coffre, item):\n"
   ]
  },
  {
   "cell_type": "code",
   "execution_count": null,
   "metadata": {},
   "outputs": [],
   "source": [
    "# ------------  TEST/EXEMPLE ---------- #\n",
    "print( coffre[\"aiguille\"])\n",
    "retire(coffre, \"aiguille\")\n",
    "print( coffre[\"aiguille\"])"
   ]
  },
  {
   "cell_type": "markdown",
   "metadata": {},
   "source": [
    "### Retirer une liste d'items du coffre\n",
    "\n",
    "Définir une fonction `retire_plusieurs()` qui prend en paramètre un coffre et un tableau d'items à retirer du coffre.\n",
    "- Si tous les items du tableau sont présents dans le coffre la quantité de chacun est décrémentée de 1 et la fonction retourne `True`. Si il manque au moins 1 item du tableau dans le coffre la fonction ne modifie pas le contenu du coffre et renvoie `False`.\n",
    "\n",
    "**Attention:** Il faut utiliser les fonctions `sont_presents()` et `retire()`"
   ]
  },
  {
   "cell_type": "code",
   "execution_count": null,
   "metadata": {},
   "outputs": [],
   "source": [
    "#-------------------------#\n",
    "#    Écrire le code ici   #\n",
    "#-------------------------#\n",
    "def retire_plusieurs( coffre, liste_item):\n"
   ]
  },
  {
   "cell_type": "code",
   "execution_count": null,
   "metadata": {},
   "outputs": [],
   "source": [
    "# ------------  TEST/EXEMPLE ---------- #\n",
    "print( coffre[\"aiguille\"])\n",
    "print( coffre[\"bois\"])\n",
    "retire_plusieurs(coffre, [\"aiguille\",\"bois\"])\n",
    "print( coffre[\"aiguille\"])\n",
    "print( coffre[\"bois\"])"
   ]
  },
  {
   "cell_type": "markdown",
   "metadata": {},
   "source": [
    "## Glanage\n",
    "\n",
    "A chaque tour de jeu, le joueur reçoit 5 items qu'il a glanés (trouvés et ramassés) durant le tour précédent.  Les items trouvés suivent la distribution des ressources du monde du jeu qui est décrite dans le tableau `ressources` définit supra.\n",
    "\n",
    "### Tirage des items glanés\n",
    "\n",
    "Définir une fonction `glaner()` qui prend en paramètre le tableau de ressources et retourne un tableau des objets glanés. Pour cela, tirer 5 fois un entier `i` compris entre 0 et la taille du tableau de ressources et renvoyer dans le tableau les noms des 5 items trouvés aux positions `i`."
   ]
  },
  {
   "cell_type": "code",
   "execution_count": null,
   "metadata": {},
   "outputs": [],
   "source": [
    "#-------------------------#\n",
    "#    Écrire le code ici   #\n",
    "#-------------------------#\n",
    "def glaner(ressources):\n"
   ]
  },
  {
   "cell_type": "code",
   "execution_count": null,
   "metadata": {},
   "outputs": [],
   "source": [
    "# ------------  TEST/EXEMPLE ---------- #\n",
    "# Attention: fonction aleatoire, le     #\n",
    "# resultat peut être différent          #\n",
    "glaner(ressources)"
   ]
  },
  {
   "cell_type": "markdown",
   "metadata": {},
   "source": [
    "### Tirage des items glanés (suite)\n",
    "\n",
    "Modifier la fonction précédente pour que le nombre d'items glanés soit un paramètre de la fonction"
   ]
  },
  {
   "cell_type": "code",
   "execution_count": null,
   "metadata": {},
   "outputs": [],
   "source": [
    "#-------------------------#\n",
    "#    Écrire le code ici   #\n",
    "#-------------------------#\n",
    "def glaner(ressources, quantite):\n"
   ]
  },
  {
   "cell_type": "code",
   "execution_count": null,
   "metadata": {},
   "outputs": [],
   "source": [
    "# ------------  TEST/EXEMPLE ---------- #\n",
    "print( len(glaner(ressources,   2)) ==   2 )\n",
    "print( len(glaner(ressources, 500)) == 500 )"
   ]
  },
  {
   "cell_type": "markdown",
   "metadata": {},
   "source": [
    "## Craft\n",
    "\n",
    "Les règles de *craft* définissent les objets nécessaires à la fabrication d'autres objets. Ces règles sont détaillées dans le fichier `data/regles_craft`. Le format de ce fichier est le suivant:\n",
    "- la première colonne donne le type/nom de l'objet à fabriquer\n",
    "- les colonnes suivantes donnent les noms/types des items nécessaires à la fabrication\n",
    "\n",
    "Par exemple :\n",
    "- pour fabriquer 1 item *panier* il faut 1 item *osier*\n",
    "- pour fabriquer 1 items *ble* il faut 1 item *graine_ble* et 1 item *beche*\n",
    "\n",
    "### Initialisation du dictionnaire des règles de craft\n",
    "\n",
    "Afin de stocker les règles de craft, on utilise un dictionnaire où \n",
    "- les clefs sont les objets à fabriquer\n",
    "- les valeurs sont un tableau contenant la liste des items nécessaires à sa fabrication\n",
    "\n",
    "Définir une fonction `import_regles_craft()` qui lit les données du fichier et retourne le dictionnaire des règles de craft. Le dictionnaire retourné par la fonction sera stocké dans une variable `règles_craft`.\n",
    "\n",
    "**Remarque:** La fontion `import_regles_craft()` utilise la fonction `decoupe_tab(li)`. Elle gère l'ouverture, la lecture et la fermeture du fichier de données. Le chemin vers le fichier est passé en paramètre."
   ]
  },
  {
   "cell_type": "code",
   "execution_count": null,
   "metadata": {},
   "outputs": [],
   "source": [
    "#-------------------------#\n",
    "#    Écrire le code ici   #\n",
    "#-------------------------#\n",
    "def import_regles_craft(path):\n"
   ]
  },
  {
   "cell_type": "code",
   "execution_count": null,
   "metadata": {},
   "outputs": [],
   "source": [
    "# ------------  TEST/EXEMPLE ---------- #\n",
    "regles_craft = import_regles_craft(\"data/regles_craft\")\n",
    "print(regles_craft[\"pain\"] == [\"ble\", \"bois\"])\n",
    "print(regles_craft[\"hutte\"] == [\"osier\", \"bois\", \"clou\", \"marteau\"] )"
   ]
  },
  {
   "cell_type": "markdown",
   "metadata": {},
   "source": [
    "### Tester si on peut crafter un item\n",
    "\n",
    "Avant de crafter un item, on a besoin de comparer le stock d'items dans le coffre à la règle de craft pour s'assurer que l'on dispose de tous les items nécessaires à la fabrication.\n",
    "\n",
    "Définir une fonction `craft_possible()` qui prend en paramètres un coffre, un dictionnaire de règles de craft et le nom d'un item à crafter et retourne le booléen `True` si les items nécessaires au craft sont disponibles dans le coffre et `False` sinon.\n",
    "\n",
    "**Attention:** Vous devez utiliser la fonction `sont_presents()`"
   ]
  },
  {
   "cell_type": "code",
   "execution_count": null,
   "metadata": {},
   "outputs": [],
   "source": [
    "#-------------------------#\n",
    "#    Écrire le code ici   #\n",
    "#-------------------------#\n",
    "def craft_possible(coffre, regles_craft, item) :\n"
   ]
  },
  {
   "cell_type": "code",
   "execution_count": null,
   "metadata": {},
   "outputs": [],
   "source": [
    "# ------------  TEST/EXEMPLE ---------- #\n",
    "coffre = init_coffre(\"data/ressources\")\n",
    "ajoute_plusieurs(coffre, [\"fer\",\"bois\"])\n",
    "print(craft_possible(coffre, regles_craft, \"beche\"))\n",
    "print(craft_possible(coffre, regles_craft, \"pain\"))"
   ]
  },
  {
   "cell_type": "markdown",
   "metadata": {},
   "source": [
    "### Crafter\n",
    "\n",
    "Définir une fonction `craft()` qui prend en paramètres un coffre, les règles de craft et le nom d'un item et si le craft de l'item indiqué est possible, décrémente le coffre des items utilisés pour la fabrication et incrémente le coffre de l'item crafté. La fonction renvoie `True` si le craft a eu lieu et `False` sinon."
   ]
  },
  {
   "cell_type": "code",
   "execution_count": null,
   "metadata": {},
   "outputs": [],
   "source": [
    "#-------------------------#\n",
    "#    Écrire le code ici   #\n",
    "#-------------------------#\n",
    "def craft(coffre, regles_craft, item):\n"
   ]
  },
  {
   "cell_type": "code",
   "execution_count": null,
   "metadata": {},
   "outputs": [],
   "source": [
    "# ------------  TEST/EXEMPLE ---------- #\n",
    "coffre = init_coffre(\"data/ressources\")\n",
    "ajoute_plusieurs(coffre, [\"fer\",\"bois\"])\n",
    "print(coffre[\"fer\"])\n",
    "print(coffre[\"bois\"])\n",
    "print(coffre[\"beche\"])\n",
    "print(craft(coffre,regles_craft,\"beche\"))\n",
    "print(coffre[\"fer\"])\n",
    "print(coffre[\"bois\"])\n",
    "print(coffre[\"beche\"])"
   ]
  },
  {
   "cell_type": "markdown",
   "metadata": {},
   "source": [
    "### Manger\n",
    "\n",
    "Les items mangeables sont les suivants: `\"pain\"`, `\"tomate\"` ou `\"ble\"`. Ils rapportent respectivement 10, 5 et 1 point de vie.\n",
    "\n",
    "Définir une fonction `manger()` qui prend en paramètres un coffre, un nom d'item et un niveau de point de vie. Si l'item est un des 3 items mangeable et que l'item est présent dans le coffre, alors la fonction retourne le nombre de points de vie augmenté du gain défini supra et décrémente le coffre de l'item consommé. Si l'item n'est pas mangeable ou s'il n'est pas disponible dans le coffre, la fonction affiche un message d'erreur et retourne la valeur des points de vie inchangée.\n",
    "\n",
    "**Attention**: Il faut utiliser les fonctions `retire()`et `est_present()`."
   ]
  },
  {
   "cell_type": "code",
   "execution_count": null,
   "metadata": {},
   "outputs": [],
   "source": [
    "#-------------------------#\n",
    "#    Écrire le code ici   #\n",
    "#-------------------------#\n",
    "def manger(coffre, item, PdV):\n"
   ]
  },
  {
   "cell_type": "code",
   "execution_count": null,
   "metadata": {},
   "outputs": [],
   "source": [
    "# ------------  TEST/EXEMPLE ---------- #\n",
    "coffre = init_coffre(\"data/ressources\")\n",
    "ajoute_plusieurs(coffre, [\"fer\",\"pain\"])\n",
    "PdV = 1000\n",
    "print( manger(coffre, \"pain\", PdV) )\n",
    "print( manger(coffre, \"fer\", PdV) )\n",
    "print( manger(coffre, \"tomate\", PdV) )"
   ]
  },
  {
   "cell_type": "markdown",
   "metadata": {},
   "source": [
    "### Point de vie\n",
    "\n",
    "A chaque tour, les points de vie du joueur sont recalculés. Par défaut, il sont décrémentés de 50. Cependant, si le coffre contient un vêtement, un lit ou une hutte, alors ils décroissent moins:\n",
    "- la possession d'au moins un vêtement diminue de 5 le décrément\n",
    "- la possession d'au moins un lit diminue de 7 le décrément\n",
    "- la possession d'au moins une hutte diminue de 15 le décrément\n",
    "Définir une fonction `maj_PdV()` qui prend en paramètres un coffre et la valeur des point de vie avant décrément de tour et retourne la valeur des points de vie après le décrément en tenant compte du contenu du coffre.\n",
    "\n",
    "**Attention:** Il faut utiliser la fonction `est_present()`."
   ]
  },
  {
   "cell_type": "code",
   "execution_count": null,
   "metadata": {},
   "outputs": [],
   "source": [
    "#-------------------------#\n",
    "#    Écrire le code ici   #\n",
    "#-------------------------#\n",
    "def maj_PdV(coffre, pdv) :\n"
   ]
  },
  {
   "cell_type": "code",
   "execution_count": null,
   "metadata": {},
   "outputs": [],
   "source": [
    "# ------------  TEST/EXEMPLE ---------- #\n",
    "coffre = init_coffre(\"data/ressources\")\n",
    "print(maj_PdV(coffre, 100) == 50)\n",
    "ajoute( coffre, \"vetement\")\n",
    "print(maj_PdV(coffre, 100) == 55) # avec un vetement\n",
    "ajoute( coffre, \"lit\")\n",
    "print(maj_PdV(coffre, 100) == 62) # avec un vetement et un lit\n",
    "ajoute( coffre, \"hutte\")\n",
    "print(maj_PdV(coffre, 100) == 77) # avec un vetement, un lit et une hutte"
   ]
  },
  {
   "cell_type": "markdown",
   "metadata": {},
   "source": [
    "## Menu et tours de jeu\n",
    "### Test d'appartenance à une liste\n",
    "\n",
    "Définir une fonction `est_dans()` qui prend en paramètres une chaine de caractère et un tableau de chaines de caractères et renvoie `True` si la chaine est présente dans le tableau et `False` sinon."
   ]
  },
  {
   "cell_type": "code",
   "execution_count": null,
   "metadata": {},
   "outputs": [],
   "source": [
    "#-------------------------#\n",
    "#    Écrire le code ici   #\n",
    "#-------------------------#\n",
    "def est_dans( chaine, liste_de_chaine ):\n"
   ]
  },
  {
   "cell_type": "code",
   "execution_count": null,
   "metadata": {},
   "outputs": [],
   "source": [
    "# ------------  TEST/EXEMPLE ---------- #\n",
    "print(est_dans( \"Hello\", [\"Bonjour\", \"a\", \"tous\"] ))\n",
    "print(est_dans( \"Bonjour\", [\"Bonjour\", \"a\", \"tous\"] ))"
   ]
  },
  {
   "cell_type": "markdown",
   "metadata": {},
   "source": [
    "### Saisie controlée\n",
    "\n",
    "Définir une fonction `saisie_controlee()` qui prend en paramètres un message d'invite et une liste de valeurs admissibles à la saisie. La fonction répète la demande de la saisie au clavier tant que l'utilisateur n'a pas saisi une valeur présente dans la liste des valeurs admissibles et retourne la première valeur admissible saisie par l'utilisateur.\n",
    "\n",
    "**Attention** : Il faut utiliser la fonctiona `est_dans()`."
   ]
  },
  {
   "cell_type": "code",
   "execution_count": null,
   "metadata": {},
   "outputs": [],
   "source": [
    "#-------------------------#\n",
    "#    Écrire le code ici   #\n",
    "#-------------------------#\n",
    "def saisie_controlee( message, admissible) :\n"
   ]
  },
  {
   "cell_type": "code",
   "execution_count": null,
   "metadata": {},
   "outputs": [],
   "source": [
    "# ------------  TEST/EXEMPLE ---------- #\n",
    "saisie_controlee( \"Tapez [y,n]\", [\"y\",\"n\"])"
   ]
  },
  {
   "cell_type": "markdown",
   "metadata": {},
   "source": [
    "### Choix d'un item\n",
    "\n",
    "Définir une fonction de saisie controlée `choix_item()` qui permet de choisir le nom d'un item d'un coffre (*i.e.*, une clef parmi les clefs d'un dictionnaire). La fonction prend en paramètre un coffre et retourne le nom d'un item du coffre.\n",
    "\n",
    "**Attention** : Il faut utiliser les fonctions `saisie_controlee()` et `liste_items(coffre )`."
   ]
  },
  {
   "cell_type": "code",
   "execution_count": null,
   "metadata": {},
   "outputs": [],
   "source": [
    "#-------------------------#\n",
    "#    Écrire le code ici   #\n",
    "#-------------------------#\n",
    "def choix_item(coffre) :\n"
   ]
  },
  {
   "cell_type": "code",
   "execution_count": null,
   "metadata": {},
   "outputs": [],
   "source": [
    "# ------------  TEST/EXEMPLE ---------- #\n",
    "choix_item(coffre)"
   ]
  },
  {
   "cell_type": "markdown",
   "metadata": {},
   "source": [
    "## Définition du menu de tour\n",
    "\n",
    "Définir la fonction `partie()` permettant de jouer..."
   ]
  },
  {
   "cell_type": "code",
   "execution_count": null,
   "metadata": {},
   "outputs": [],
   "source": [
    "\n",
    "#-------------------------#\n",
    "#    Écrire le code ici   #\n",
    "#-------------------------#\n",
    "import sys\n",
    "def partie():\n"
   ]
  },
  {
   "cell_type": "code",
   "execution_count": null,
   "metadata": {},
   "outputs": [],
   "source": [
    "# ------------  TEST/EXEMPLE ---------- #\n",
    "partie()"
   ]
  },
  {
   "cell_type": "markdown",
   "metadata": {},
   "source": [
    "## Pistes pour aller plus loin\n",
    "\n",
    "- afficher les règles de craft\n",
    "- définir des règles de gain de points de vie quand on mange pain ou tomate\n",
    "- Pour rendre le jeu plus intéressant, on peut tirer aléatoirement le nombre d'items glanés à chaque tour. Par exemple, on peut se donner comme règle que le nombre d'items glanés varie de façon uniforme entre 0 et 5. On peut utiliser une distribution non uniforme sur le nombre d'items trouvés à chaque tour\n",
    "- Les règles données dans le fichier `data/regles_craft_plus` sont plus évoluées que les précédentes. Celles-ci définissent les quantités et type d'objets nécessaires pour en fabriquer d'autres. Le format de ce fichier est le suivant:\n",
    "- la première colonne donne le type/nom de l'objet à fabriquer\n",
    "- la deuxième colonne donne la quantité produite lors de la fabrication\n",
    "- les colonnes suivantes donnent les noms/types et quantités nécessaires à la fabrication\n",
    "\n",
    "Par exemple :\n",
    "- pour fabriquer 1 item `panier` il faut 10 items `osier`\n",
    "- pour fabriquer 10 items `ble` il faut 1000 items `graine_ble` et 1 item `beche`\n",
    "\n",
    "Afin d'utiliser ces règles de craft, il faut :\n",
    "- modifier la structure du dictionnaire des règles de craft\n",
    "- modifier la fonction de lecture/initialisation des règles\n",
    "- modifier la fonction qui teste s'il y a suffisament d'éléments pour en crafter un autre\n",
    "- modifier la fonction de craft qui supprime les éléments utilisés dans la fabrication et ajoute les éléments craftés."
   ]
  }
 ],
 "metadata": {
  "@webio": {
   "lastCommId": "9a11ea349fb049a98153b647aa001001",
   "lastKernelId": "12fd269b-9fed-4fb6-a206-56eefab6feb5"
  },
  "kernelspec": {
   "display_name": "Python 3",
   "language": "python",
   "name": "python3"
  },
  "language_info": {
   "codemirror_mode": {
    "name": "ipython",
    "version": 3
   },
   "file_extension": ".py",
   "mimetype": "text/x-python",
   "name": "python",
   "nbconvert_exporter": "python",
   "pygments_lexer": "ipython3",
   "version": "3.7.4"
  },
  "latex_envs": {
   "LaTeX_envs_menu_present": true,
   "autoclose": false,
   "autocomplete": true,
   "bibliofile": "biblio.bib",
   "cite_by": "apalike",
   "current_citInitial": 1,
   "eqLabelWithNumbers": true,
   "eqNumInitial": 1,
   "hotkeys": {
    "equation": "Ctrl-E",
    "itemize": "Ctrl-I"
   },
   "labels_anchors": false,
   "latex_user_defs": false,
   "report_style_numbering": false,
   "user_envs_cfg": false
  },
  "toc": {
   "base_numbering": 1,
   "nav_menu": {},
   "number_sections": true,
   "sideBar": true,
   "skip_h1_title": true,
   "title_cell": "Table des matières",
   "title_sidebar": "Table des matières",
   "toc_cell": false,
   "toc_position": {},
   "toc_section_display": true,
   "toc_window_display": false
  },
  "varInspector": {
   "cols": {
    "lenName": 16,
    "lenType": 16,
    "lenVar": 40
   },
   "kernels_config": {
    "python": {
     "delete_cmd_postfix": "",
     "delete_cmd_prefix": "del ",
     "library": "var_list.py",
     "varRefreshCmd": "print(var_dic_list())"
    },
    "r": {
     "delete_cmd_postfix": ") ",
     "delete_cmd_prefix": "rm(",
     "library": "var_list.r",
     "varRefreshCmd": "cat(var_dic_list()) "
    }
   },
   "types_to_exclude": [
    "module",
    "function",
    "builtin_function_or_method",
    "instance",
    "_Feature"
   ],
   "window_display": false
  }
 },
 "nbformat": 4,
 "nbformat_minor": 2
}
