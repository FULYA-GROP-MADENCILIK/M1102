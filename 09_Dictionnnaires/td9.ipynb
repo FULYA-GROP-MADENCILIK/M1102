{
 "cells": [
  {
   "cell_type": "markdown",
   "metadata": {},
   "source": [
    "# <center> Chapitre 9 : Dictionnaires - TD </center>"
   ]
  },
  {
   "cell_type": "code",
   "execution_count": null,
   "metadata": {},
   "outputs": [],
   "source": [
    "%load_ext tutormagic"
   ]
  },
  {
   "cell_type": "markdown",
   "metadata": {},
   "source": [
    "## Exercice 1 : Test de de compréhension*"
   ]
  },
  {
   "cell_type": "markdown",
   "metadata": {},
   "source": [
    "* Soit le tableau suivant représentant des informations sur les étudiants inscrits au cours"
   ]
  },
  {
   "cell_type": "code",
   "execution_count": null,
   "metadata": {},
   "outputs": [],
   "source": [
    "cours = {'nom cours': 'Java',\n",
    " 'theme': 'Algorithmique',\n",
    " 'etudiants': [{'nom': 'Martin', 'prenom': 'Jean', 'Dept': '95'},\n",
    "  {'nom': 'Mohamed', 'prenom': 'Ali', 'Dept': '93'},\n",
    "  {'nom': 'Durand', 'prenom': 'Bertrand', 'Dept': '95'}]}"
   ]
  },
  {
   "cell_type": "markdown",
   "metadata": {},
   "source": [
    "* Que permettent de faire les commandes suivantes ?"
   ]
  },
  {
   "cell_type": "code",
   "execution_count": null,
   "metadata": {},
   "outputs": [],
   "source": [
    "list(cours.values())"
   ]
  },
  {
   "cell_type": "code",
   "execution_count": null,
   "metadata": {},
   "outputs": [],
   "source": [
    "list(cours)"
   ]
  },
  {
   "cell_type": "code",
   "execution_count": null,
   "metadata": {},
   "outputs": [],
   "source": [
    "print(cours['theme'])"
   ]
  },
  {
   "cell_type": "code",
   "execution_count": null,
   "metadata": {},
   "outputs": [],
   "source": [
    "tabE=cours['etudiants']\n",
    "etud= tabE[0]\n",
    "print(etud['nom'])"
   ]
  },
  {
   "cell_type": "markdown",
   "metadata": {},
   "source": [
    "**REPONSE**"
   ]
  },
  {
   "cell_type": "markdown",
   "metadata": {
    "deletable": false,
    "editable": false,
    "run_control": {
     "frozen": true
    }
   },
   "source": [
    "* Comment peut-on avoir la liste des étudiants inscrits à ce cours  ?"
   ]
  },
  {
   "cell_type": "code",
   "execution_count": null,
   "metadata": {},
   "outputs": [],
   "source": [
    "#-------------------------#\n",
    "#    Écrire le code ici   #\n",
    "#-------------------------#\n",
    "\n",
    "\n"
   ]
  },
  {
   "cell_type": "markdown",
   "metadata": {
    "deletable": false,
    "editable": false,
    "run_control": {
     "frozen": true
    }
   },
   "source": [
    "* Qu'affiche le programme suivant ?"
   ]
  },
  {
   "cell_type": "code",
   "execution_count": null,
   "metadata": {},
   "outputs": [],
   "source": [
    "etds=cours['etudiants']\n",
    "tmp1=etds[1]\n",
    "print(tmp1)\n",
    "pr=tmp1['Dept']\n",
    "print(pr)"
   ]
  },
  {
   "cell_type": "markdown",
   "metadata": {},
   "source": [
    "**REPONSE**"
   ]
  },
  {
   "cell_type": "markdown",
   "metadata": {
    "deletable": false,
    "editable": false,
    "run_control": {
     "frozen": true
    }
   },
   "source": [
    "* Qu'affiche cette instruction ?"
   ]
  },
  {
   "cell_type": "code",
   "execution_count": null,
   "metadata": {},
   "outputs": [],
   "source": [
    "print (cours['etudiants'][1]['Dept'])"
   ]
  },
  {
   "cell_type": "markdown",
   "metadata": {},
   "source": [
    "**REPONSE**"
   ]
  },
  {
   "cell_type": "markdown",
   "metadata": {
    "deletable": false,
    "editable": false,
    "run_control": {
     "frozen": true
    }
   },
   "source": [
    "## Exercice 2 : Planètes et satellites *\n",
    "### Question 1 : Définition d'un dictionnaire"
   ]
  },
  {
   "cell_type": "markdown",
   "metadata": {
    "deletable": false,
    "editable": false,
    "run_control": {
     "frozen": true
    }
   },
   "source": [
    "Définir le dictionnaire `lunes` représenté ci-dessous. Ce dictionnaire stocke le nombre de satellites de chaque planète. Dans un premier temps, définir de façon littérale le dictionnaire pour les 4 premiers couples ``clef:valeur`` puis ajouter successivement les 4 derniers couples.\n",
    "\n",
    "clef| \"Mercure\"|\"Vénus\"|\"Terre\"|\"Mars\"|\"Jupiter\"|\"Saturne\"|\"Uranus\"|\"Neptune\"|\n",
    "----|----------|-------|-------|------|---------|---------|--------|---------|\n",
    "valeur |0|0|1|2|63|61|27|11|\n"
   ]
  },
  {
   "cell_type": "code",
   "execution_count": null,
   "metadata": {},
   "outputs": [],
   "source": [
    "#-------------------------#\n",
    "#    Écrire le code ici   #\n",
    "#-------------------------#\n",
    "\n",
    "\n"
   ]
  },
  {
   "cell_type": "markdown",
   "metadata": {
    "deletable": false,
    "editable": false,
    "run_control": {
     "frozen": true
    }
   },
   "source": [
    "### Question 2 : Exploration d'un dictionnaire\n",
    "\n",
    "A partir du dictionnaire défini à la question précédente, proposer un programme permettant de:\n",
    "- modifier le dictionnaire précédent pour corriger une erreur qui s'est glissée dans l'énoncé : la planète `Neptune` comporte en fait 13 satellites,\n",
    "- afficher le nombre de satellites de la Terre,\n",
    "- afficher la liste des planètes,\n",
    "- afficher le tableau des planètes et du nombre de leurs satellites,\n",
    "- afficher le nombre total de satellites."
   ]
  },
  {
   "cell_type": "code",
   "execution_count": null,
   "metadata": {},
   "outputs": [],
   "source": [
    "#-------------------------#\n",
    "#    Écrire le code ici   #\n",
    "#-------------------------#\n",
    "\n",
    "\n"
   ]
  },
  {
   "cell_type": "markdown",
   "metadata": {
    "deletable": false,
    "editable": false,
    "run_control": {
     "frozen": true
    }
   },
   "source": [
    "## Exercice 3 : Gestion d'un stock **"
   ]
  },
  {
   "cell_type": "markdown",
   "metadata": {
    "deletable": false,
    "editable": false,
    "run_control": {
     "frozen": true
    }
   },
   "source": [
    "L'objectif est concevoir un programme permettant de gérer un stock d'articles. Pour cela, on doit pouvoir :\n",
    "- ajouter une référence (prix, quantité, et couleur) dans le stock,\n",
    "- calculer le prix total du stock.\n",
    "\n",
    "### Question 1 : Saisie d'une référence\n",
    "Créer une fonction ``ajout_reference()`` sans paramètre qui renvoie un dictionnaire dont les couples ``clef:valeur`` sont:\n",
    "\n",
    "| Clef |  Valeur (type) |\n",
    "-------|----------|\n",
    "|\"Prix\"| float|\n",
    "|\"Quantité\"| int|\n",
    "|\"Couleur\"| string|\n",
    "\n",
    "La fonction demandera à l'utilisateur de saisir itérativement au clavier les différentes valeurs."
   ]
  },
  {
   "cell_type": "code",
   "execution_count": null,
   "metadata": {},
   "outputs": [],
   "source": [
    "#-------------------------#\n",
    "#    Écrire le code ici   #\n",
    "#-------------------------#\n",
    "\n",
    "\n"
   ]
  },
  {
   "cell_type": "markdown",
   "metadata": {
    "deletable": false,
    "editable": false,
    "run_control": {
     "frozen": true
    }
   },
   "source": [
    "### Question 2 : Saisie et évaluation d'un stock\n",
    "Ecrire le programme principal permettant, de saisir des références tant que l'utilisateur le souhaite, de les ajouter au fur et à mesure dans un tableau, puis en fin de saisie, d'afficher le montant total du stock.\n",
    "On utilisera la fonction définie à la question précédente."
   ]
  },
  {
   "cell_type": "code",
   "execution_count": null,
   "metadata": {},
   "outputs": [],
   "source": [
    "#-------------------------#\n",
    "#    Écrire le code ici   #\n",
    "#-------------------------#\n",
    "\n",
    "\n"
   ]
  },
  {
   "cell_type": "markdown",
   "metadata": {
    "deletable": false,
    "editable": false,
    "run_control": {
     "frozen": true
    }
   },
   "source": [
    "## Exercice 4 : Fichier  Json\n",
    "Ecrire un fichier JSON qui est une représentation objet simplifiée d'un cours et de ses élèves.\n",
    "- Commencer par créer le fichier JSON.\n",
    "- Ajouter les attributs suivants dans la racine du JSON :\n",
    "        - cours, de type string.\n",
    "        - semestre, de type string.    \n",
    "        - annee, de type entier.\n",
    "        - etudiants, de type tableau."
   ]
  },
  {
   "cell_type": "code",
   "execution_count": null,
   "metadata": {},
   "outputs": [],
   "source": [
    "#-------------------------#\n",
    "#    Écrire le code ici   #\n",
    "#-------------------------#\n",
    "\n",
    "\n"
   ]
  }
 ],
 "metadata": {
  "kernelspec": {
   "display_name": "Python 3",
   "language": "python",
   "name": "python3"
  },
  "language_info": {
   "codemirror_mode": {
    "name": "ipython",
    "version": 3
   },
   "file_extension": ".py",
   "mimetype": "text/x-python",
   "name": "python",
   "nbconvert_exporter": "python",
   "pygments_lexer": "ipython3",
   "version": "3.7.4"
  },
  "latex_envs": {
   "LaTeX_envs_menu_present": true,
   "autoclose": false,
   "autocomplete": true,
   "bibliofile": "biblio.bib",
   "cite_by": "apalike",
   "current_citInitial": 1,
   "eqLabelWithNumbers": true,
   "eqNumInitial": 1,
   "hotkeys": {
    "equation": "Ctrl-E",
    "itemize": "Ctrl-I"
   },
   "labels_anchors": false,
   "latex_user_defs": false,
   "report_style_numbering": false,
   "user_envs_cfg": false
  },
  "toc": {
   "base_numbering": 1,
   "nav_menu": {},
   "number_sections": true,
   "sideBar": true,
   "skip_h1_title": false,
   "title_cell": "Table of Contents",
   "title_sidebar": "Contents",
   "toc_cell": false,
   "toc_position": {},
   "toc_section_display": true,
   "toc_window_display": false
  }
 },
 "nbformat": 4,
 "nbformat_minor": 2
}
