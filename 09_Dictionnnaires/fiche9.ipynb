{
 "cells": [
  {
   "cell_type": "markdown",
   "metadata": {},
   "source": [
    "# <center> Chapitre 9 : Dictionnaires </center>"
   ]
  },
  {
   "cell_type": "markdown",
   "metadata": {},
   "source": [
    "### Définition d'un dictionnaire"
   ]
  },
  {
   "cell_type": "markdown",
   "metadata": {},
   "source": [
    "Il existe deux façons de définir un dictionnaire.\n",
    "\n",
    "La première consiste à donner littéralement l'ensemble des couples `clef:valeur` lors de sa déclaration. La collection de couples  `clef:valeur` est donnée entre accolades, et chaque couple est séparé par une virgule. Un couple `clef:valeur` est spécifié littéralement en donnant la clef suivie de la valeur qui lui est associée, les deux étant séparés par deux points, soit\n",
    "\n",
    "``dico={clef_1:valeur_1 , clef_2:valeur_2 , ...}``\n",
    "\n",
    "Par exemple,"
   ]
  },
  {
   "cell_type": "code",
   "execution_count": null,
   "metadata": {},
   "outputs": [],
   "source": [
    "dico_astr={'Planete':'Terre', 'Satellite':'Lune', 'Etoile':'Soleil'}"
   ]
  },
  {
   "cell_type": "markdown",
   "metadata": {},
   "source": [
    "La deuxième façon de définir un dictionnaire, consiste à déclarer un dictionnaire vide, puis de le remplir. La déclaration d'un dictionnaire vide est `{}`.\n",
    "\n",
    "Par exemple,\n",
    "\n",
    "``dico_astro2 = {}``\n",
    "\n",
    "L'ajout de nouveaux couples ``clef:valeur``  au dictionnaire ``dico_astro2`` ainsi initialisé se fait au moyen de la syntaxe suivante:\n",
    "\n",
    "``dico_astro2[clef] = valeur``\n"
   ]
  },
  {
   "cell_type": "code",
   "execution_count": null,
   "metadata": {},
   "outputs": [],
   "source": [
    "dico_astro2 = {}\n",
    "dico_astro2['Planete']= 'Terre'\n",
    "dico_astro2['Satellite']= 'Lune'\n",
    "dico_astro2['Etoile']= 'Soleil'\n",
    "print( str( dico_astro2 ) )"
   ]
  },
  {
   "cell_type": "markdown",
   "metadata": {},
   "source": [
    "### Accéder à une valeur"
   ]
  },
  {
   "cell_type": "markdown",
   "metadata": {},
   "source": [
    "- Dans un tableau, la valeur correspondant à la position `i` est accessible en faisant suivre le nom du tableau de l'indice entre crochets : `print(str(tab_astro[i]))`\n",
    "\n",
    "- Dans un dictionnaire, la position est remplacé par la clef : \n",
    "`print(str( dico_astro['Satellite']))`\n",
    "\n",
    "**Remarque** : Lorsque l'on instancie une case d'un tableau avec un indice qui dépasse la taille su tableau, l'interpréteur affiche un message d'erreur. Il en est de même si on utilise une clef non contenue dans le dictionnaire lors d'une instanciation."
   ]
  },
  {
   "cell_type": "markdown",
   "metadata": {},
   "source": [
    "### Modifier une valeur"
   ]
  },
  {
   "cell_type": "markdown",
   "metadata": {},
   "source": [
    "Pour modifier une valeur, il suffit d'affecter une nouvelle valeur à la clef correspondante."
   ]
  },
  {
   "cell_type": "code",
   "execution_count": null,
   "metadata": {
    "scrolled": true
   },
   "outputs": [],
   "source": [
    "dico_astr={'Planete':'Terre', 'Satellite':'Lune', 'Etoile':'Soleil'}\n",
    "print(str(dico_astr))\n",
    "dico_astr['Planete']='Mars'\n",
    "print(str(dico_astr))"
   ]
  },
  {
   "cell_type": "markdown",
   "metadata": {},
   "source": [
    "### Ajouter une valeur"
   ]
  },
  {
   "cell_type": "markdown",
   "metadata": {},
   "source": [
    "Pour ajouter une valeur dans un dictionnaire, il suffit d'affecter une valeur à une clef non encore utilisée."
   ]
  },
  {
   "cell_type": "code",
   "execution_count": null,
   "metadata": {
    "scrolled": true
   },
   "outputs": [],
   "source": [
    "dico_astr={'Planete':'Terre', 'Satellite':'Lune', 'Etoile':'Soleil'}\n",
    "print(str(dico_astr))\n",
    "dico_astr['Galaxie'] = 'Voie Lactee'\n",
    "print(str(dico_astr))"
   ]
  },
  {
   "cell_type": "markdown",
   "metadata": {},
   "source": [
    "### Accéder à la liste des clefs et valeurs"
   ]
  },
  {
   "cell_type": "markdown",
   "metadata": {},
   "source": [
    "* **keys()** :    la méthode ``keys()`` renvoie un tableau dont les éléments sont les clefs du dictionnaire auquel la méthode s'applique. \n",
    "\n",
    "* **list()** : on utilise la fonction `list()`pour extraire les éléments et en faire un tableau exploitable. "
   ]
  },
  {
   "cell_type": "code",
   "execution_count": null,
   "metadata": {},
   "outputs": [],
   "source": [
    "dico_astr={'Planete':'Terre', 'Satellite':'Lune', 'Etoile':'Soleil'}\n",
    "print(list(dico_astr.keys()))"
   ]
  },
  {
   "cell_type": "markdown",
   "metadata": {},
   "source": [
    "* **values()** :  on peut utiliser la méthode `values()` qui renvoie un tableau dont les éléments sont les valeurs du dictionnaire à laquelle la méthode s'applique :"
   ]
  },
  {
   "cell_type": "code",
   "execution_count": null,
   "metadata": {},
   "outputs": [],
   "source": [
    "dico_astr={'Planete':'Terre', 'Satellite':'Lune', 'Etoile':'Soleil'}\n",
    "print(list(dico_astr.values()))"
   ]
  },
  {
   "cell_type": "markdown",
   "metadata": {},
   "source": [
    "### Supprimer une entrée (clef:valeur)"
   ]
  },
  {
   "cell_type": "markdown",
   "metadata": {},
   "source": [
    "L'instruction `del(dico[cl])` permet de supprimer du dictionnaire `dico` la clef `cl` et la valeur associée."
   ]
  },
  {
   "cell_type": "code",
   "execution_count": null,
   "metadata": {},
   "outputs": [],
   "source": [
    "dico_astr={'Planete':'Terre', 'Satellite':'Lune', 'Etoile':'Soleil'}\n",
    "del(dico_astr['Etoile'])\n",
    "print(str(dico_astr))"
   ]
  },
  {
   "cell_type": "markdown",
   "metadata": {},
   "source": [
    "### Fusionner de deux dictionnaires"
   ]
  },
  {
   "cell_type": "markdown",
   "metadata": {},
   "source": [
    "La méthode `copy()` permet de copier un dictionnaire et la méthode `dico1.update(dico2)` permet de concaténer le dictionnaire `dico2` passé en paramètre au dictionnaire `dico1`."
   ]
  },
  {
   "cell_type": "code",
   "execution_count": null,
   "metadata": {},
   "outputs": [],
   "source": [
    "dic1 = {'a': 100, 'b': 200}\n",
    "dic2 = {'x': 300, 'y': 200}\n",
    "dic = dic1.copy()\n",
    "dic.update(dic2)\n",
    "print(dic)"
   ]
  },
  {
   "cell_type": "markdown",
   "metadata": {},
   "source": [
    "### Construire un dictionnaire à partir de deux tableaux "
   ]
  },
  {
   "cell_type": "markdown",
   "metadata": {},
   "source": [
    "Pour construire un dictionnaire il est possible de fusionner deux tableaux en utilisant la fonction `zip(clefs, valeurs)` "
   ]
  },
  {
   "cell_type": "code",
   "execution_count": null,
   "metadata": {},
   "outputs": [],
   "source": [
    "keys = ['red', 'green', 'blue']\n",
    "values = ['#FF0000','#008000', '#0000FF']\n",
    "color_dictionary = dict(zip(keys, values))\n",
    "print(color_dictionary)"
   ]
  },
  {
   "cell_type": "markdown",
   "metadata": {},
   "source": [
    "### Récapitulatif et comparaison Dictionnaire/Tableau"
   ]
  },
  {
   "cell_type": "markdown",
   "metadata": {},
   "source": [
    "| Opération |         Tableau   | Dictionnaire  |\n",
    "|-----------|-------------------|---------------|\n",
    "|Définition d'un conteneur vide | t=[] | d={}  |\n",
    "|Définition d'un littéral | t=[val_1, val_2, ...]| d={clef_1:val_1,clef_2:val_2, ...}|\n",
    "|Appel d'une valeur | t[indice]| d[clef]|\n",
    "|Ajout d'une valeur| t.append(nlle_val)|d[clef]=nlle_val |\n",
    "|Modification d'une valeur| t[indice]=nlle_val|d[clef]=nlle_val |\n",
    "|Nombre d'éléments| len(t)|len(d) |\n",
    "|Suppression d'un élément| del(t[indice])|del(d[clef]) |"
   ]
  },
  {
   "cell_type": "markdown",
   "metadata": {},
   "source": [
    "# Le format JSON"
   ]
  },
  {
   "cell_type": "markdown",
   "metadata": {},
   "source": [
    "Le format JavaScript Object Notation (JSON) est un format de fichier très répandu permettant de stocker des données sous une forme structurée. Il ne comporte que des associations clés→valeurs (à l’instar des dictionnaires), ainsi que des listes ordonnées de valeurs. "
   ]
  },
  {
   "cell_type": "markdown",
   "metadata": {},
   "source": [
    "Pour manipuler les fichiers JSON, on utilise le module json de Python grâce à l'instruction ```import json ```.<br>\n",
    "La fonction `loads(texteJSON)` permet de décoder le fichier `texteJSON` passé en argument et de le transformer en dictionnaire ou en liste."
   ]
  },
  {
   "cell_type": "code",
   "execution_count": null,
   "metadata": {},
   "outputs": [],
   "source": [
    "import  json \n",
    "fichier = open (\"./files/bdp.json\",\"rt\")\n",
    "strjson=fichier.read()\n",
    "fichier.close()\n",
    "cours = json.loads(strjson)\n",
    "print (cours)"
   ]
  },
  {
   "cell_type": "markdown",
   "metadata": {},
   "source": [
    "La fonction `dumps(dictionnaire,sort_keys=False)` transforme un dictionnaire ou une liste passé en paramètre en texte au format JSON. La variable `sort_keys` permet de trier (`True`) ou non (`False`) les clés du dictionnaire dans l’ordre alphabétique mise au format JSON avec une éventuelle indentation de n espaces (`indent=n`).<br>\n",
    "La fonction `dump(dictionnaire, fichier, indent =n)` permet d'enregistrer en texte au format JSON le dictionnaire directement dans le fichier précédemment ouvert, avec une éventuelle indentation."
   ]
  },
  {
   "cell_type": "code",
   "execution_count": null,
   "metadata": {},
   "outputs": [],
   "source": [
    "import  json\n",
    "cours2 = {'nom cours': 'Java',\n",
    " 'theme': 'Algorithmique',\n",
    " 'etudiants': [{'nom': 'Martin', 'prenom': 'Jean', 'Dept': '95'},\n",
    "  {'nom': 'Mohamed', 'prenom': 'Ali', 'Dept': '93'},\n",
    "  {'nom': 'dupond', 'prenom': 'Bertrand', 'Dept': '95'}]}"
   ]
  },
  {
   "cell_type": "code",
   "execution_count": null,
   "metadata": {},
   "outputs": [],
   "source": [
    "fichier2 = open (\"./files/coursjava.json\",\"w\")\n",
    "cours2_json = json.dumps(cours2, sort_keys=False, indent=4)\n",
    "print(cours2_json)\n",
    "json.dump(cours2, fichier2, indent=4)\n",
    "fichier2.close()"
   ]
  }
 ],
 "metadata": {
  "kernelspec": {
   "display_name": "Python 3",
   "language": "python",
   "name": "python3"
  },
  "language_info": {
   "codemirror_mode": {
    "name": "ipython",
    "version": 3
   },
   "file_extension": ".py",
   "mimetype": "text/x-python",
   "name": "python",
   "nbconvert_exporter": "python",
   "pygments_lexer": "ipython3",
   "version": "3.6.4"
  },
  "latex_envs": {
   "LaTeX_envs_menu_present": true,
   "autoclose": false,
   "autocomplete": true,
   "bibliofile": "biblio.bib",
   "cite_by": "apalike",
   "current_citInitial": 1,
   "eqLabelWithNumbers": true,
   "eqNumInitial": 1,
   "hotkeys": {
    "equation": "Ctrl-E",
    "itemize": "Ctrl-I"
   },
   "labels_anchors": false,
   "latex_user_defs": false,
   "report_style_numbering": false,
   "user_envs_cfg": false
  },
  "toc": {
   "base_numbering": 1,
   "nav_menu": {},
   "number_sections": false,
   "sideBar": false,
   "skip_h1_title": false,
   "title_cell": "Table of Contents",
   "title_sidebar": "Contents",
   "toc_cell": false,
   "toc_position": {},
   "toc_section_display": false,
   "toc_window_display": false
  }
 },
 "nbformat": 4,
 "nbformat_minor": 2
}
