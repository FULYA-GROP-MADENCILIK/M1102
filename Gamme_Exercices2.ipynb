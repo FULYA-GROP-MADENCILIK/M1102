{
 "cells": [
  {
   "cell_type": "markdown",
   "metadata": {},
   "source": [
    "# <center> Chapitre 13 : Gamme d'exercices  (Corrigé) </center>\n",
    "\n",
    "Il s'agit de toute une gamme d'exercices de révision à faire selon la maîtrise que vous avez acquise des différentes notions. Certains exercices sont simples et d'autres plus complexes.\n",
    "\n",
    "N'hésitez pas, lors de cette séance à solliciter vos enseignants sur les points, algorithmes ou exercices que vous n'auriez pas compris.\n",
    "\n",
    "## Affectation\n",
    "* **`swap` des valeurs de deux variables**. Définir un programme permettant l'échange des valeurs de 2 variables `a` et `b`."
   ]
  },
  {
   "cell_type": "code",
   "execution_count": null,
   "metadata": {},
   "outputs": [],
   "source": [
    "# ------------  CORRECTION ---------- #\n",
    "a = \"Toto\"\n",
    "b = 10\n",
    "print( \"Avant\")\n",
    "print( \"a = \" + str(a))\n",
    "print( \"b = \" + str(b))\n",
    "\n",
    "# à completer\n",
    "buffer = a\n",
    "a = b\n",
    "b = buffer\n",
    "\n",
    "print( \"Après\")\n",
    "print( \"a = \" + str(a))\n",
    "print( \"b = \" + str(b))"
   ]
  },
  {
   "cell_type": "code",
   "execution_count": null,
   "metadata": {},
   "outputs": [],
   "source": [
    "# ------------  TEST/EXEMPLE ---------- #\n",
    "a = \"Toto\"\n",
    "b = 10\n",
    "print( \"Avant\")\n",
    "print( \"a = \" + str(a))\n",
    "print( \"b = \" + str(b))\n",
    "\n",
    "# à completer -----------\n",
    "\n",
    "#             -----------\n",
    "\n",
    "print( \"Après\")\n",
    "print( \"a = \" + str(a))\n",
    "print( \"b = \" + str(b))"
   ]
  },
  {
   "cell_type": "markdown",
   "metadata": {},
   "source": [
    "## Alternative\n",
    "- **fonction booléenne indiquant si une valeur dépasse un seuil ou non**. Définir une fonction `sup_seuil()` qui prend en paramètre une valeur à tester et une valeur seuil et retourne `True` si la valeur testée est supérieur strictement à la valeur de seuil et `False` sinon."
   ]
  },
  {
   "cell_type": "code",
   "execution_count": null,
   "metadata": {},
   "outputs": [],
   "source": [
    "# ------------  CORRECTION ---------- #\n",
    "def sup_seuil( val, seuil):\n",
    "    return( val>seuil )\n",
    "    # et pas\n",
    "    # if (val>seuil) :\n",
    "    #     return(True)\n",
    "    # else :\n",
    "    #     return(False)"
   ]
  },
  {
   "cell_type": "code",
   "execution_count": null,
   "metadata": {},
   "outputs": [],
   "source": [
    "# ------------  TEST/EXEMPLE ---------- #\n",
    "print(sup_seuil( 0, 10))\n",
    "print(sup_seuil( 10, 10))\n",
    "print(sup_seuil( 20, 10))"
   ]
  },
  {
   "cell_type": "markdown",
   "metadata": {},
   "source": [
    "- **fonction indiquant à quel intervalle appartient une valeur**. Définir une fonction `intervalle()` qui prend en paramètre une valeur à tester et 2 tableaux de deux valeurs définissant chacun un intervalle. La fonction retourne `1` si la valeur testée est dans l'intervalle du premier couple, `2` si la valeur testée est dans l'interval du second couple et `0` si il n'appartient à aucun des deux intervalles."
   ]
  },
  {
   "cell_type": "code",
   "execution_count": null,
   "metadata": {},
   "outputs": [],
   "source": [
    "# ------------  CORRECTION ---------- #\n",
    "def intervalle( val, min_max1, min_max2):\n",
    "    if (val >= min_max1[0] and val <= min_max1[1]) :\n",
    "        return(1)\n",
    "    elif (val >= min_max2[0] and val <= min_max2[1]) :\n",
    "        return(2)\n",
    "    else :\n",
    "        return(0)"
   ]
  },
  {
   "cell_type": "code",
   "execution_count": null,
   "metadata": {},
   "outputs": [],
   "source": [
    "# ------------  TEST/EXEMPLE ---------- #\n",
    "print(intervalle( 0,[-10,10], [20, 40]))\n",
    "print(intervalle( 30,[-10,10], [20, 40]))\n",
    "print(intervalle( 15,[-10,10], [20, 40]))"
   ]
  },
  {
   "cell_type": "markdown",
   "metadata": {},
   "source": [
    "## Parcours d'un tableau\n",
    "Pour chaque cas, définir une fonction ou programme remplissant la tâche:\n",
    "- **Recherche du plus grand élément d'un tableau**. Définir une fonction `max()` qui prend en paramètre un tableau d'entier et retourne le plus grand entier du tableau."
   ]
  },
  {
   "cell_type": "code",
   "execution_count": null,
   "metadata": {},
   "outputs": [],
   "source": [
    "# ------------  CORRECTION ---------- #\n",
    "def max( tableau ):\n",
    "    i = 1\n",
    "    max = tableau[0]\n",
    "    while( i < len(tableau)):\n",
    "        if (max < tableau[i]):\n",
    "            max = tableau[i]\n",
    "        i += 1\n",
    "    return(max)"
   ]
  },
  {
   "cell_type": "code",
   "execution_count": null,
   "metadata": {},
   "outputs": [],
   "source": [
    "# ------------  TEST/EXEMPLE ---------- #\n",
    "print(max( [100, -10, 0] ) )\n",
    "print(max( [-10, 100, 0] ) )\n",
    "print(max( [0, -10, 100] ) )"
   ]
  },
  {
   "cell_type": "markdown",
   "metadata": {},
   "source": [
    "- **Recherche de la position du plus grand élément d'un tableau**. Définir une fonction `pos_max()` qui prend en paramètre un tableau d'entier et retourne l'indice de position dans le tableau du plus grand entier de celui-ci."
   ]
  },
  {
   "cell_type": "code",
   "execution_count": null,
   "metadata": {},
   "outputs": [],
   "source": [
    "\n",
    "# ------------  CORRECTION ---------- #\n",
    "def pos_max( tableau ):\n",
    "    i = 0\n",
    "    max = tableau[0]\n",
    "    pos_max = 0\n",
    "    while( i < len(tableau)):\n",
    "        if (max < tableau[i]):\n",
    "            max = tableau[i]\n",
    "            pos_max = i\n",
    "        i += 1\n",
    "    return(pos_max)"
   ]
  },
  {
   "cell_type": "code",
   "execution_count": null,
   "metadata": {},
   "outputs": [],
   "source": [
    "# ------------  TEST/EXEMPLE ---------- #\n",
    "print(pos_max( [100, -10, 0] ) )\n",
    "print(pos_max( [-10, 100, 0] ) )\n",
    "print(pos_max( [0, -10, 100] ) )"
   ]
  },
  {
   "cell_type": "markdown",
   "metadata": {},
   "source": [
    "- **Recherche du dernier élément d'un tableau plus grand qu'un seuil**. Définir une fonction `dernier_plus_grand()` qui prend en paramètre un tableau et un seuil et retourne le dernier élément du tableau plus grand que le seuil si il y en a un et `False` sinon."
   ]
  },
  {
   "cell_type": "code",
   "execution_count": null,
   "metadata": {},
   "outputs": [],
   "source": [
    "# ------------  CORRECTION ---------- #\n",
    "def dernier_plus_grand(tableau, seuil) :\n",
    "    resultat = -1\n",
    "    i = 0\n",
    "    while( i < len(tableau)):\n",
    "        if ( tableau[i] > seuil ):\n",
    "            resultat = tableau[i]\n",
    "        i += 1\n",
    "    return(resultat)"
   ]
  },
  {
   "cell_type": "code",
   "execution_count": null,
   "metadata": {},
   "outputs": [],
   "source": [
    "# ------------  TEST/EXEMPLE ---------- #\n",
    "print(dernier_plus_grand([0, 50, 10, 40, 0], 30))"
   ]
  },
  {
   "cell_type": "markdown",
   "metadata": {},
   "source": [
    "- **Recherche du premier élément d'un tableau plus grand qu'un seuil**. Définir une fonction `premier_plus_grand()` qui prend en paramètre un tableau et un seuil et retourne le premier élément du tableau plus grand que le seuil si il y en a un et `False` sinon."
   ]
  },
  {
   "cell_type": "code",
   "execution_count": null,
   "metadata": {},
   "outputs": [],
   "source": [
    "# ------------  CORRECTION ---------- #\n",
    "def premier_plus_grand(tableau, seuil) :\n",
    "    i = 0\n",
    "    while( i < len(tableau) and tableau[i] <= seuil):\n",
    "        i += 1\n",
    "    if( i < len(tableau)) :\n",
    "        return(tableau[i])\n",
    "    else :\n",
    "        return(False)"
   ]
  },
  {
   "cell_type": "code",
   "execution_count": null,
   "metadata": {},
   "outputs": [],
   "source": [
    "# ------------  TEST/EXEMPLE ---------- #\n",
    "print(premier_plus_grand([0, 50, 10, 40, 0], 30))"
   ]
  },
  {
   "cell_type": "markdown",
   "metadata": {},
   "source": [
    "- **Recherche de la position du premier élément d'un tableau plus grand qu'un seuil**. Définir une fonction `pos_premier_plus_grand()` qui prend en paramètre un tableau et un seuil et retourne l'indice de position dans le tableau du premier élément du tableau plus grand que le seuil si il y en a un et `-1` sinon."
   ]
  },
  {
   "cell_type": "code",
   "execution_count": null,
   "metadata": {},
   "outputs": [],
   "source": [
    "# ------------  CORRECTION ---------- #\n",
    "def pos_premier_plus_grand(tableau, seuil) :\n",
    "    i = 0\n",
    "    while( i < len(tableau) and tableau[i] <= seuil):\n",
    "        i += 1\n",
    "    if( i < len(tableau)) :\n",
    "        return(i)\n",
    "    else :\n",
    "        return(False)"
   ]
  },
  {
   "cell_type": "code",
   "execution_count": null,
   "metadata": {},
   "outputs": [],
   "source": [
    "# ------------  TEST/EXEMPLE ---------- #\n",
    "print(pos_premier_plus_grand([0, 50, 10, 40, 0], 30))\n",
    "print(pos_premier_plus_grand([0, 50, 10, 40, 0], 100))"
   ]
  },
  {
   "cell_type": "markdown",
   "metadata": {},
   "source": [
    "- **Calcul de la somme des éléments d'un tableau**. Definir une fonction `somme()` qui prend en paramètre un tableau et retourne la somme de ses éléments si il n'est pas vide et `False` sinon."
   ]
  },
  {
   "cell_type": "code",
   "execution_count": null,
   "metadata": {},
   "outputs": [],
   "source": [
    "# ------------  CORRECTION ---------- #\n",
    "def somme( tableau ) :\n",
    "    if (len(tableau)>0):\n",
    "        som = 0\n",
    "        i = 0\n",
    "        while( i < len(tableau)):\n",
    "            som += tableau[i]\n",
    "            i += 1\n",
    "        return(som)\n",
    "    else :\n",
    "        return(False)"
   ]
  },
  {
   "cell_type": "code",
   "execution_count": null,
   "metadata": {},
   "outputs": [],
   "source": [
    "# ------------  TEST/EXEMPLE ---------- #\n",
    "print(somme([1,2,1,4]))\n",
    "print(somme([]))"
   ]
  },
  {
   "cell_type": "markdown",
   "metadata": {},
   "source": [
    "- **Calcul de la somme des éléments d'un tableau plus grand qu'un seuil**. Definir une fonction `somme_sup_seuil()` qui prend en paramètre un tableau et un seuil et retourne la somme des éléments du tableau plus grand que le seuil si il n'est pas vide et `False` sinon."
   ]
  },
  {
   "cell_type": "code",
   "execution_count": null,
   "metadata": {},
   "outputs": [],
   "source": [
    "# ------------  CORRECTION ---------- #\n",
    "def somme_sup_seuil( tableau, seuil ) :\n",
    "    if( len(tableau) > 0 ):\n",
    "        som = 0\n",
    "        i = 0\n",
    "        while( i < len(tableau)):\n",
    "            if( tableau[i] > seuil ) :\n",
    "                som += tableau[i]\n",
    "            i += 1\n",
    "        return(som)\n",
    "    else :\n",
    "        return(False)"
   ]
  },
  {
   "cell_type": "code",
   "execution_count": null,
   "metadata": {},
   "outputs": [],
   "source": [
    "# ------------  TEST/EXEMPLE ---------- #\n",
    "print(somme_sup_seuil([1,2,1,4,5], 0))\n",
    "print(somme_sup_seuil([1,2,1,4,5], 3))\n",
    "print(somme_sup_seuil([], 0))"
   ]
  },
  {
   "cell_type": "markdown",
   "metadata": {},
   "source": [
    "## Tableaux d'entiers : Calcul du de la clé d'un numéro de SIREN\n",
    "\n",
    "En France, SIREN (Système d'Identification du Répertoire des\n",
    "ENtreprises) est un code INSEE unique qui sert à identifier les\n",
    "entreprises. Ce numéro est national, invariable et dure le temps de la\n",
    "vie de l'entreprise.  \n",
    "\n",
    "Le numéro SIREN est composé de 8 chiffres, plus un chiffre de contrôle\n",
    "qui permet de vérifier la validité du numéro.\n",
    "\n",
    "La clé de contrôle utilisée pour vérifier l'exactitude d'un identifiant est une\n",
    "clé suivant l'algorithme de Luhn. Le principe  est le\n",
    "suivant : on multiplie les chiffres de rang impair à partir de la\n",
    "droite par 1, ceux de rang pair par 2 ; la somme des chiffres obtenus\n",
    "doit être congrue à zéro modulo 10, c'est-à-dire qu'elle doit être\n",
    "multiple de 10.\n",
    "\n",
    "**Exemple** : `1 3 9 2 8 2 3 7 ?` <br>\n",
    "La somme des chiffres suivants : 7+6+2+16+2+18+3+2  = 56 n'est pas divisible par 10.\n",
    "Pour que cette valeur le soit, il faut rajouter 4.\n",
    "56  + 4 = 60 qui est divisible par 10. Le numero : \n",
    "`1 3 9 2 8 2 3 7 4` est donc un numero de SIREN correct.\n",
    "\n",
    "On représente ce numéro SIREN par un tableau d'entiers; et le\n",
    "nombre. La case d'indice 8 représentera la clé à calculer.\n",
    "\n",
    "Le programme devra : \n",
    "- Demander à l'utilisateur les huit premiers chiffres du numéro de SIREN \n",
    "- Calculer la clé de contrôle et compléter  le tableau dans une\n",
    "fonction `calcul_cle` \n",
    "- Faire un affichage qui permet de\n",
    "valider cette clé, c'est-à-dire d'afficher la somme vue précédemment\n",
    "(en tenant compte de la clé) et vérifier que le nombre est bien\n",
    "divisible par 10 en affichant par exemple le reste de la division par 10.  "
   ]
  },
  {
   "cell_type": "code",
   "execution_count": null,
   "metadata": {},
   "outputs": [],
   "source": [
    "# ------------  CORRECTION ---------- #\n",
    "#numero de Siren\n",
    "def calcul_cle(siren):\n",
    "    somme=0\n",
    "    i=0 \n",
    "    while i < 8 :\n",
    "        somme+=(2-i%2)*siren[i]\n",
    "        i+=1\n",
    "    if(somme%10==0):\n",
    "        siren.append(0)\n",
    "    else : \n",
    "        siren.append(10-somme%10)\n",
    "        somme+=10-somme%10\n",
    "    return(somme)\n",
    "\n",
    "print(\"donner les 8 premiers chiffres d'un numero de SIREN\")\n",
    "ch = input()\n",
    "#Transformation de la chaine de caracteres contenant 8 chiffres\n",
    "#en un tableau de 8 cases, chaque case contenant un chiffres (entier)\n",
    "siren=[]\n",
    "i=0\n",
    "while i< 8 :\n",
    "    siren.append(int(ch[i]))\n",
    "    i+=1\n",
    "\n",
    "total=calcul_cle(siren)\n",
    "print(str(total)+ \" est un multiple de 10, le reste dans la division par 10 est \"+ str(total%10))\n",
    "print(\"le numreo de siren est \"+ str(siren))"
   ]
  },
  {
   "cell_type": "markdown",
   "metadata": {},
   "source": [
    "## Manipulation des éléments d'un tableau d'entiers\n",
    "\n",
    "Dans cet exercice, les questions sont indépendantes. On suppose pour\n",
    "chaque fonction que le tableau passé en paramètre est correct.\n",
    "\n",
    "Lors d'une enquête de satisfaction pour un produit, des clients\n",
    "étaient invités à donner une note entière entre 0 et 20. Les 500\n",
    "réponses ont été collectées dans le tableau d'entiers donné ci-dessous."
   ]
  },
  {
   "cell_type": "code",
   "execution_count": null,
   "metadata": {},
   "outputs": [],
   "source": [
    "resultat=[3, 7, 9, 0, 18, 5, 4, 19, 8, 3, 10, 7, 14, 13, 0, 18, 17, 5,\n",
    "16, 4, 5, 1, 20, 6, 16, 10, 13, 12, 6, 5, 20, 8, 9, 15, 3, 17, 12, 10,\n",
    "19, 3, 13, 4, 13, 14 , 17, 17, 15, 14, 18, 6, 17, 9, 9, 6, 15, 17, 11,\n",
    "8, 8, 0, 19, 19, 13, 18, 11, 1, 16, 5, 16, 7, 18, 20, 3, 16, 3, 9, 1,\n",
    "3, 20, 11, 6, 19, 0, 13, 10, 14, 13, 5, 1, 16, 2, 19, 10, 2, 14, 6, 8,\n",
    "15, 4, 6, 8, 20, 4, 2, 0, 18, 19, 20, 13, 1, 13, 16, 12, 12, 7, 19,\n",
    "13, 11, 3, 18, 10, 7, 20, 0, 4, 4, 16, 14, 19, 0, 0, 16, 4, 0, 7, 18,\n",
    "15, 8, 8, 6, 1, 12, 17, 9, 1, 4, 13, 0, 8, 15, 19, 4, 3, 1, 3, 1, 1,\n",
    "1, 6, 10, 15, 8, 14, 17, 14, 3, 5, 0, 19, 6, 8, 13, 14, 2, 1, 12, 4,\n",
    "1, 10, 17, 11, 7, 11, 12, 6, 10, 8, 18, 13, 15, 12, 14, 8, 2, 2, 3,\n",
    "17, 6, 9, 17, 9, 19, 16, 8, 18, 0, 10, 15, 2, 17, 2, 3, 13, 19, 13,\n",
    "12, 12, 2, 2, 4, 17, 17, 17, 2, 11, 19, 13, 8, 0, 9, 8, 5, 4, 13, 9,\n",
    "9, 19, 15, 19, 1, 19, 10, 20, 1, 11, 8, 13, 0, 10, 6, 5, 1, 11, 0, 8,\n",
    "13, 5, 0, 15, 9, 7, 0, 10, 0, 1, 12, 12, 10, 19, 17, 0, 6, 16, 12, 8,\n",
    "12, 14, 13, 15, 20, 7, 17, 1, 18, 15, 13, 6, 14, 18, 8, 13, 14, 8, 14,\n",
    "7, 16, 2, 19, 14, 6, 17, 8, 11, 14, 16, 11, 19, 2, 20, 16, 2, 13, 14,\n",
    "20, 6, 13, 20, 9, 3, 19, 3, 0, 7, 0, 16, 7, 4, 15, 16, 17, 2, 14, 3,\n",
    "15, 12, 16, 18, 1, 5, 9, 2, 1, 5, 9, 5, 13, 10, 11, 16, 6, 16, 8, 13,\n",
    "11, 6, 8, 2, 5, 2, 5, 9, 1, 7, 20, 19, 4, 14, 2, 8, 9, 5, 9, 9, 5, 15,\n",
    "12, 3, 7, 15, 17, 6, 0, 7, 2, 17, 19, 20, 15, 1, 11, 11, 18, 9, 7, 1,\n",
    "1, 17, 1, 17, 10, 2, 5, 1, 14, 7, 2, 3, 0, 4, 2, 9, 17, 3, 6, 7, 18,\n",
    "14, 14, 4, 10, 3, 15, 16, 17, 6, 15, 12, 17, 9, 5, 14, 14, 6, 4, 4, 4,\n",
    "17, 10, 10, 11, 13, 16, 3, 0, 2, 18, 3, 20, 5, 16, 6, 0, 8, 3, 3, 10,\n",
    "2, 0, 6, 11, 12, 9, 18, 8, 6, 2, 0, 0, 19, 12, 17, 5, 19, 12, 17, 4,\n",
    "0, 20, 8, 3, 7, 6, 10, 0, 3, 4, 4, 6, 11, 0, 13, 14, 17, 20, 12, 3,\n",
    "18, 3, 13, 14]"
   ]
  },
  {
   "cell_type": "markdown",
   "metadata": {},
   "source": [
    "On souhaite connaître la répartition précise des notes qui\n",
    "ont été données, c'est-à-dire le nombre de fois que chaque note a\n",
    "été donnée. \n",
    "- Ecrire une fonction qui retourne un tableau de 21\n",
    "éléments indicés de 0 à 20 dont la `n`-ième composante contiendra le\n",
    "nombre de fois où la note `n` a été donnée."
   ]
  },
  {
   "cell_type": "code",
   "execution_count": null,
   "metadata": {},
   "outputs": [],
   "source": [
    "# ------------  CORRECTION ---------- #\n",
    "def repartitionNotes(votants):\n",
    "    t=[]\n",
    "    i=0\n",
    "    while i <=20 :\n",
    "        t+=[0]\n",
    "        i+=1\n",
    "    i=0\n",
    "    while i < len(votants) :\n",
    "        t[votants[i]] += 1\n",
    "        i+=1\n",
    "    return t\n",
    "\n",
    "print(repartitionNotes(resultat))"
   ]
  },
  {
   "cell_type": "markdown",
   "metadata": {},
   "source": [
    "On souhaite connaître les notes qui ont été données le plus\n",
    "et moins fréquemment. \n",
    "- Ecrire une fonction qui à partir d'un tableau de notes affiche les notes qui ont été données le\n",
    "plus et le moins souvent ainsi que le nombre de fois qu'elles ont\n",
    "  été données. Utiliser cette fonction pour afficher les notes données\n",
    "  le plus et le moins fréquemment, ainsi que le nombre de fois\n",
    "  qu'elles ont été utilisées dans le cas de l'enquête mentionnée ci-dessus.\n",
    "\n",
    "L'exemple a été choisi afin que le maximum et le minimum des fréquences soient uniques."
   ]
  },
  {
   "cell_type": "code",
   "execution_count": null,
   "metadata": {},
   "outputs": [],
   "source": [
    "# ------------  CORRECTION ---------- #\n",
    "def max_tab(votants):\n",
    "    t = repartitionNotes(votants)\n",
    "    res=[0,-1]\n",
    "    i=0 \n",
    "    while i<=20 :\n",
    "        if t[i] > res[0]:\n",
    "            res=[t[i], i]\n",
    "        i+=1\n",
    "    return res\n",
    "\n",
    "def min_tab(votants):\n",
    "    t = repartitionNotes(votants)\n",
    "    res=[len(votants)+1,-1]\n",
    "    i=0\n",
    "    while i <=20 :\n",
    "        if t[i] < res[0]:\n",
    "            res=[t[i], i]\n",
    "        i+=1\n",
    "    return res\n",
    "\n",
    "maxi=max_tab(resultat)\n",
    "mini=min_tab(resultat)\n",
    "print('la note la moins fréquente est '+ str(mini[1]) +', elle a été donnée '+ str(mini[0])+' fois.')\n",
    "print('la note la plus fréquente est '+ str(maxi[1]) +', elle a été donneé '+ str(maxi[0])+' fois.')"
   ]
  },
  {
   "cell_type": "markdown",
   "metadata": {},
   "source": [
    "Afin d'avoir une vision plus précise, on souhaite obtenir le pourcentage de personnes\n",
    "étant très satisfaites (note entre 16 et 20), plutôt satisfaites (note entre 11 et 15),\n",
    "plutôt insatisfaites (note entre 6 et 10) et pas du tout satisfaites (note entre 0 et 5).\n",
    "Pour cela, créer une fonction prenant en paramètre le tableau retourné par la fonction de\n",
    "la question 1 et retournant un tableau de 4 cases, chaque case contenant le pourcentage\n",
    "de satisfaction."
   ]
  },
  {
   "cell_type": "code",
   "execution_count": null,
   "metadata": {},
   "outputs": [],
   "source": [
    "# ------------  CORRECTION ---------- #\n",
    "def calculSatisfaction(votants):\n",
    "    t = [votants[0], 0, 0, 0]\n",
    "    i=1\n",
    "    while i <=20 :\n",
    "        t[(i-1)/5] += votants[i]\n",
    "        i+=1\n",
    "    i=0\n",
    "    while i< 4 :\n",
    "        t[i] = t[i]/5.0\n",
    "    return t"
   ]
  },
  {
   "cell_type": "markdown",
   "metadata": {},
   "source": [
    "Pour simplifier la lecture des résultats, écrire les pourcentage de satisfaction sous\n",
    "la forme de graphique selon :\n",
    "```\n",
    "Tres satisfaites        : *******************************\n",
    "Plutot satisfaites      : ***********************\n",
    "Plutot instatisfaites   : **********************\n",
    "Tres insatisfaites      : **********************\n",
    "```\n",
    "où le nombre d'étoiles de chaque ligne correspond à la partie entière inférieure du\n",
    "pourcentage de satisfaction associé.\n",
    "\n",
    "Pour cela, créer une fonction prenant en paramètre le tableau de pourcentage et affichant\n",
    "sous forme graphique les résultats.\n",
    "\n",
    "On rappelle que quand le paramètre passé à la fonction `int` est\n",
    "un nombre réel (à virgule flottante) `x` , la fonction retourne la\n",
    "valeur obtenue en tronquant la partie décimale de `x`. "
   ]
  },
  {
   "cell_type": "code",
   "execution_count": null,
   "metadata": {},
   "outputs": [],
   "source": [
    "# ------------  CORRECTION ---------- #\n",
    "def affichePourcentageGraphique(pourcentages):\n",
    "    ttt = ['Tres satisfaites       ',  'Plutot satisfaites     ',  'Plutot instatisfaites ',  'Tres insatisfaites     ']\n",
    "    i=0\n",
    "    while i< 4 :\n",
    "        s = ''\n",
    "        j=0\n",
    "        while j < int(pourcentages[i]) :\n",
    "            s+='*'\n",
    "            j+=1\n",
    "        print (ttt[i] + ' : ' + s)\n",
    "        i+=1"
   ]
  },
  {
   "cell_type": "markdown",
   "metadata": {},
   "source": [
    "## Manipulation de chaînes de caractères \n",
    "\n",
    "- Définir une fonction `compteMots(phrase)` qui renvoie le\n",
    "nombre de mots contenus dans la phrase `phrase` (une phrase est un\n",
    "chaîne de caractères qui contient éventuellement des espaces).  \n",
    "\n",
    "On considère comme mots les ensembles de caractères inclus entre des\n",
    "espaces. On suppose qu'il n'y a jamais deux espaces consécutifs.\n"
   ]
  },
  {
   "cell_type": "code",
   "execution_count": null,
   "metadata": {},
   "outputs": [],
   "source": [
    "# ------------  CORRECTION ---------- #\n",
    "def compteMots(phrase):\n",
    "    #comptage du nombre de mots dans la phrase phrase \n",
    "    if len(phrase) ==0:\n",
    "        return 0 \n",
    "    nm = 1\n",
    "    i=0\n",
    "    while i < len(phrase):\n",
    "        if phrase[i] == \" \":\n",
    "            nm = nm + 1\n",
    "        i+=1\n",
    "    return nm\n"
   ]
  },
  {
   "cell_type": "markdown",
   "metadata": {},
   "source": [
    "- Ecrire une fonction `estUneMaj()` qui renvoie `True`si l'argument transmis est une majuscule. \n",
    "On ne tiendra pas compte des majuscules accentuées."
   ]
  },
  {
   "cell_type": "code",
   "execution_count": null,
   "metadata": {},
   "outputs": [],
   "source": [
    "# ------------  CORRECTION ---------- #\n",
    "def estUneMaj(car):\n",
    "    #renvoie True si le caractère car est une majuscule\" \n",
    "     if car >= 'A' and car <='Z':\n",
    "        return True\n",
    "     else:\n",
    "        return False"
   ]
  },
  {
   "cell_type": "markdown",
   "metadata": {},
   "source": [
    "- Ecrire une fonction `chaineTableau()` qui convertit\n",
    "une phrase en un tableau de mots. On n'utilisera pas de fonction\n",
    "prédéfinie en Python On supposera à nouveau qu'il n'y a jamais deux\n",
    "espaces consécutifs."
   ]
  },
  {
   "cell_type": "code",
   "execution_count": null,
   "metadata": {},
   "outputs": [],
   "source": [
    "# ------------  CORRECTION ---------- #\n",
    "def chaineTableau(ch):\n",
    "    #convertit la chaine ch en une liste de mots\"\n",
    "    liste =[]\n",
    "    ct =''\n",
    "    i=0\n",
    "    while i<len(ch):\n",
    "        if ch[i] == \" \":\n",
    "            liste+=[ct]\n",
    "            ct = \"\"\n",
    "        else:\n",
    "            ct = ct + ch[i]\n",
    "        i+=1\n",
    "     # Ne pas oublier le mot restant après le dernier espace ! :\n",
    "    if ct!='': # vérifier si ct n'est pas une chaine vide\n",
    "        liste+=[ct]\n",
    "    return liste"
   ]
  },
  {
   "cell_type": "markdown",
   "metadata": {},
   "source": [
    "- En utilisant les fonctions précédemment définies, écrire une fonction `compteMaj()`\n",
    " qui renvoie le nombre de mots commençant par majuscule dans une phrase passée \n",
    "en argument."
   ]
  },
  {
   "cell_type": "code",
   "execution_count": null,
   "metadata": {},
   "outputs": [],
   "source": [
    "# ------------  CORRECTION ---------- #\n",
    "def compteMaj(ch):\n",
    "    #comptage des mots débutant par une majuscule dans la chaine ch\"\n",
    "    c= 0\n",
    "    lst = chaineTableau(ch) \n",
    "    i=0\n",
    "    while i< len(lst):\n",
    "        if estUneMaj(mot[0]):\n",
    "            c = c +1\n",
    "        i+=1\n",
    "    return c"
   ]
  },
  {
   "cell_type": "markdown",
   "metadata": {},
   "source": [
    "-  En utilisant les fonctions précédemment définies, écrire une\n",
    "fonction `proportionMaj()}` qui affiche la proportion de mots commençant par une\n",
    "majuscule parmi tous les mots de la phrase. On veillera à obtenir le pourcentage précis et non l'arrondi associé.\n"
   ]
  },
  {
   "cell_type": "code",
   "execution_count": null,
   "metadata": {},
   "outputs": [],
   "source": [
    "# ------------  CORRECTION ---------- #\n",
    "def proportionMaj(ch):\n",
    "    nbmajs=compteMaj(ch)\n",
    "    nbmots= compteMots(ch)\n",
    "    res=nbmajs*100.0/nbmots\n",
    "    print('le pourcentage est '+str(res)+'%')"
   ]
  },
  {
   "cell_type": "markdown",
   "metadata": {},
   "source": [
    "- En utilisant les fonctions précédemment définies, écrire une fonction `longueurMots()`\n",
    " qui renvoie la somme des longueurs desmots d'une phrase passée en argument."
   ]
  },
  {
   "cell_type": "code",
   "execution_count": null,
   "metadata": {},
   "outputs": [],
   "source": [
    "# ------------  CORRECTION ---------- #\n",
    "def longueurMots(ch):\n",
    "    somme= 0\n",
    "    lst = chaineTableau(ch) \n",
    "    i=0\n",
    "    while i<len(lst):\n",
    "        somme+= len(lst[i])\n",
    "        i+=1\n",
    "    return somme"
   ]
  },
  {
   "cell_type": "markdown",
   "metadata": {},
   "source": [
    "- En utilisant les fonctions précédemment définies, écrire une\n",
    "fonction `longueurMoy()` qui retourne la longueur moyenne des mots d'une phrase passée en argument."
   ]
  },
  {
   "cell_type": "code",
   "execution_count": null,
   "metadata": {},
   "outputs": [],
   "source": [
    "# ------------  CORRECTION ---------- #\n",
    "def longueurMoy(ch):\n",
    "    lgmots=longueurMots(ch)\n",
    "    nbmots= compteMots(ch)\n",
    "    res=float(lgmots)/nbmots"
   ]
  },
  {
   "cell_type": "markdown",
   "metadata": {},
   "source": [
    "- Ecrire un programme qui permet la saisie d'une phrase, affiche la proportion de mots commençant par une majuscule ainsi que  la longueur moyenne des mots de la phrase.  "
   ]
  },
  {
   "cell_type": "code",
   "execution_count": null,
   "metadata": {},
   "outputs": [],
   "source": [
    "# ------------  CORRECTION ---------- #\n",
    "phrase=input('Phrase ?') \n",
    "proportionMaj(phrase)\n",
    "print('la longueur moyenne des mots de la phrase est '+ str(longueurMoy(phrase)))"
   ]
  },
  {
   "cell_type": "markdown",
   "metadata": {},
   "source": [
    "## Chaines de caractères : Suite de Conway\n",
    "\n",
    "La suite de Conway a pour premier terme le caractère '1'.  A\n",
    "chaque itération, on lit de gauche à droite la totalité du terme\n",
    "courant. On compte le nombre de caractères identiques et on code cette\n",
    "information sous la forme \"nombre\" suivi du \"symbole\". Par exemple\n",
    "'222' est codé comme '32' puis qu'il y a trois symboles '2'. Ainsi les\n",
    "6 premiers termes de la suite de Conway sont:\n",
    "```\n",
    "1\n",
    "11\n",
    "21\n",
    "1211\n",
    "111221\n",
    "312211\n",
    "```\n",
    "\n",
    "Le but de cet exercice est d'écrire un programme qui affiche les `n`\n",
    "premiers termes de la suite de Conway, l'entier  `n` étant choisi\n",
    "par l'utilisateur.\n",
    "\n",
    "- Ecrire une fonction `saisie()`\n",
    "permettant la saisie d'un nombre entier `n` strictement positif.  La\n",
    "fonction redemandera un entier à l'utilisateur jusqu'à ce que le\n",
    "nombre proposé soit correct."
   ]
  },
  {
   "cell_type": "code",
   "execution_count": null,
   "metadata": {},
   "outputs": [],
   "source": [
    "# ------------  CORRECTION ---------- #\n",
    "def saisie(): \n",
    "    n=0\n",
    "    while n <= 0 :\n",
    "        print('Donner un entier n.')\n",
    "        n=int(input())\n",
    "    return(n)"
   ]
  },
  {
   "cell_type": "markdown",
   "metadata": {},
   "source": [
    "- Ecrire une fonction `codage_c()` qui prend en paramètre\n",
    "une chaîne de caractères formée de chiffres et la transforme en\n",
    "une chaîne codant les plages successives de chiffres identiques sous\n",
    "la forme \"nombre\" suivi du \"chiffre\". Par exemple,\n",
    "`codage_c('3321115')` renvoie `'23123115'."
   ]
  },
  {
   "cell_type": "code",
   "execution_count": null,
   "metadata": {},
   "outputs": [],
   "source": [
    "# ------------  CORRECTION ---------- #\n",
    "def codage_conway(chaine):\n",
    "    codage=''\n",
    "    car=chaine[0]\n",
    "    compt=1\n",
    "    i=1\n",
    "    while (i<len(chaine)):\n",
    "        if (car==chaine[i]):\n",
    "            compt+=1\n",
    "        else:\n",
    "            codage = codage+str(compt)+car\n",
    "            car=chaine[i]\n",
    "            compt=1\n",
    "        i+=1\n",
    "    codage = codage+str(compt)+car\n",
    "    return codage"
   ]
  },
  {
   "cell_type": "markdown",
   "metadata": {},
   "source": [
    "- Ecrire une fonction `conway()` qui prend comme\n",
    "paramètre un entier `n` et affiche les `n` premiers termes de la suite\n",
    "de Conway. On rappelle que le premier terme est égal à la chaîne de\n",
    "caractères `'1'`.  On ne vérifiera pas que `n` est strictement\n",
    "positif."
   ]
  },
  {
   "cell_type": "code",
   "execution_count": null,
   "metadata": {},
   "outputs": [],
   "source": [
    "# ------------  CORRECTION ---------- #\n",
    "#affichage des n premiers termes de la suite de conway\n",
    "def conway(n):\n",
    "    terme='1'\n",
    "    i=0\n",
    "    while i < n :\n",
    "        print(terme)\n",
    "        terme=codage_c(terme)\n",
    "    i+=1"
   ]
  },
  {
   "cell_type": "markdown",
   "metadata": {},
   "source": [
    "- En utilisant les fonctions définies dasn les questions\n",
    "précédentes, écrire un programme qui permet la saisie d'un entier `n`\n",
    "strictement positif et affiche les $n$ premier termes de la suite de\n",
    "Conway."
   ]
  },
  {
   "cell_type": "code",
   "execution_count": null,
   "metadata": {},
   "outputs": [],
   "source": [
    "# ------------  CORRECTION ---------- #\n",
    "n=saisie() \n",
    "print('les '+str(n)+' premiers termes de la suite de Conway sont:') \n",
    "conway(n)"
   ]
  }
 ],
 "metadata": {
  "kernelspec": {
   "display_name": "Python 3",
   "language": "python",
   "name": "python3"
  },
  "language_info": {
   "codemirror_mode": {
    "name": "ipython",
    "version": 3
   },
   "file_extension": ".py",
   "mimetype": "text/x-python",
   "name": "python",
   "nbconvert_exporter": "python",
   "pygments_lexer": "ipython3",
   "version": "3.7.4"
  },
  "latex_envs": {
   "LaTeX_envs_menu_present": true,
   "autoclose": false,
   "autocomplete": true,
   "bibliofile": "biblio.bib",
   "cite_by": "apalike",
   "current_citInitial": 1,
   "eqLabelWithNumbers": true,
   "eqNumInitial": 1,
   "hotkeys": {
    "equation": "Ctrl-E",
    "itemize": "Ctrl-I"
   },
   "labels_anchors": false,
   "latex_user_defs": false,
   "report_style_numbering": false,
   "user_envs_cfg": false
  }
 },
 "nbformat": 4,
 "nbformat_minor": 2
}
