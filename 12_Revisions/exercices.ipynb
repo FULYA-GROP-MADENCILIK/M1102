{
 "cells": [
  {
   "cell_type": "markdown",
   "metadata": {
    "deletable": false,
    "editable": false,
    "run_control": {
     "frozen": true
    }
   },
   "source": [
    "# <center> Chapitre 12 : Gamme d'exercices  </center>\n",
    "\n",
    "Il s'agit de toute une gamme d'exercices de révision à faire selon la maîtrise que vous avez acquise des différentes notions. Certains exercices sont simples et d'autres plus complexes.\n",
    "\n",
    "N'hésitez pas, lors de cette séance à solliciter vos enseignants sur les points, algorithmes ou exercices que vous n'auriez pas compris.\n",
    "\n",
    "## Affectation\n",
    "* **`swap` des valeurs de deux variables**. Définir un programme permettant l'échanger des valeurs de 2 variables `a` et `b`."
   ]
  },
  {
   "cell_type": "code",
   "execution_count": null,
   "metadata": {},
   "outputs": [],
   "source": [
    "# ------------  EXEMPLE ---------- #\n",
    "a = \"Toto\"\n",
    "b = 10\n",
    "print( \"Avant\")\n",
    "print( \"a = \" + str(a))\n",
    "print( \"b = \" + str(b))\n",
    "\n",
    "# à completer -----------\n",
    "\n",
    "\n",
    "#             -----------\n",
    "\n",
    "print( \"Après\")\n",
    "print( \"a = \" + str(a))\n",
    "print( \"b = \" + str(b))"
   ]
  },
  {
   "cell_type": "markdown",
   "metadata": {
    "deletable": false,
    "editable": false,
    "run_control": {
     "frozen": true
    }
   },
   "source": [
    "## Alternative\n",
    "- **fonction booléenne indiquant si une valeur dépasse un seuil ou non**. Définir une fonction `sup_seuil()` qui prend en paramètre une valeur à tester et une valeur seuil et retourne `True` si la valeur testée est supérieur strictement à la valeur de seuil et `False` sinon."
   ]
  },
  {
   "cell_type": "code",
   "execution_count": null,
   "metadata": {},
   "outputs": [],
   "source": [
    "#-------------------------#\n",
    "#    Écrire le code ici   #\n",
    "#-------------------------#\n",
    "\n",
    "\n",
    "\n",
    "    "
   ]
  },
  {
   "cell_type": "code",
   "execution_count": null,
   "metadata": {},
   "outputs": [],
   "source": [
    "# ------------  TEST/EXEMPLE ---------- #\n",
    "def test_sup_seuil():\n",
    "    assert not sup_seuil(0,10)\n",
    "    assert not sup_seuil(10,10)\n",
    "    assert sup_seuil(20,10)\n",
    "    print(\"test ok\")\n",
    "\n",
    "test_sup_seuil()"
   ]
  },
  {
   "cell_type": "markdown",
   "metadata": {
    "deletable": false,
    "editable": false,
    "run_control": {
     "frozen": true
    }
   },
   "source": [
    "- **fonction indiquant à quel intervalle appartient une valeur**. Définir une fonction `intervalle()` qui prend en paramètre une valeur à tester et 2 tableaux de deux valeurs définissant chacun un intervalle. On suppose les deux intervalles disjoints. La fonction retourne `1` si la valeur testée est dans l'intervalle du premier couple, `2` si la valeur testée est dans l'interval du second couple et `0` si il n'appartient à aucun des deux intervalles."
   ]
  },
  {
   "cell_type": "code",
   "execution_count": null,
   "metadata": {},
   "outputs": [],
   "source": [
    "#-------------------------#\n",
    "#    Écrire le code ici   #\n",
    "#-------------------------#\n",
    "\n",
    "\n",
    "\n"
   ]
  },
  {
   "cell_type": "code",
   "execution_count": null,
   "metadata": {},
   "outputs": [],
   "source": [
    "# ------------  TEST/EXEMPLE ---------- #\n",
    "def test_intervalle():\n",
    "    assert intervalle(0,[-10,10],[20,40])==1\n",
    "    assert intervalle(30,[-10,10],[20,40])==2\n",
    "    assert intervalle(15,[-10,10],[20,40])==0\n",
    "    print(\"test ok\")\n",
    "\n",
    "test_intervalle()"
   ]
  },
  {
   "cell_type": "markdown",
   "metadata": {
    "deletable": false,
    "editable": false,
    "run_control": {
     "frozen": true
    }
   },
   "source": [
    "## Parcours d'un tableau\n",
    "Pour chaque cas, définir une fonction ou programme remplissant la tâche:\n",
    "- **Recherche du plus grand élément d'un tableau**. Définir une fonction `max()` qui prend en paramètre un tableau d'entier et retourne le plus grand entier du tableau."
   ]
  },
  {
   "cell_type": "code",
   "execution_count": null,
   "metadata": {},
   "outputs": [],
   "source": [
    "#-------------------------#\n",
    "#    Écrire le code ici   #\n",
    "#-------------------------#\n",
    "\n",
    "\n",
    "\n"
   ]
  },
  {
   "cell_type": "code",
   "execution_count": null,
   "metadata": {},
   "outputs": [],
   "source": [
    "# ------------  TEST/EXEMPLE ---------- #\n",
    "def test_max():\n",
    "    assert max([100, -10, 0])==100\n",
    "    assert max([-10, 100, 0])==100\n",
    "    assert max([0,-10,100])==100\n",
    "    print(\"test_ok\")\n",
    "    \n",
    "test_max()"
   ]
  },
  {
   "cell_type": "markdown",
   "metadata": {
    "deletable": false,
    "editable": false,
    "run_control": {
     "frozen": true
    }
   },
   "source": [
    "- **Recherche de la position du plus grand élément d'un tableau**. Définir une fonction `pos_max()` qui prend en paramètre un tableau d'entier et retourne l'indice de position dans le tableau du plus grand entier de celui-ci."
   ]
  },
  {
   "cell_type": "code",
   "execution_count": null,
   "metadata": {},
   "outputs": [],
   "source": [
    "#-------------------------#\n",
    "#    Écrire le code ici   #\n",
    "#-------------------------#\n",
    "\n",
    "\n",
    "\n"
   ]
  },
  {
   "cell_type": "code",
   "execution_count": null,
   "metadata": {},
   "outputs": [],
   "source": [
    "# ------------  TEST/EXEMPLE ---------- #\n",
    "def test_pos_max():\n",
    "    assert pos_max([100, -10, 0])==0\n",
    "    assert pos_max([-10, 100, 0])==1\n",
    "    assert pos_max([0,-10,100])==2\n",
    "    print(\"test_ok\")\n",
    "    \n",
    "test_pos_max()"
   ]
  },
  {
   "cell_type": "markdown",
   "metadata": {
    "deletable": false,
    "editable": false,
    "run_control": {
     "frozen": true
    }
   },
   "source": [
    "- **Recherche du dernier élément d'un tableau plus grand qu'un seuil**. Définir une fonction `dernier_plus_grand()` qui prend en paramètre un tableau et un seuil et retourne le dernier élément du tableau plus grand ou égal au seuil si il y en a un et `-1` sinon."
   ]
  },
  {
   "cell_type": "code",
   "execution_count": null,
   "metadata": {},
   "outputs": [],
   "source": [
    "#-------------------------#\n",
    "#    Écrire le code ici   #\n",
    "#-------------------------#\n",
    "\n",
    "\n",
    "\n"
   ]
  },
  {
   "cell_type": "code",
   "execution_count": null,
   "metadata": {},
   "outputs": [],
   "source": [
    "# ------------  TEST/EXEMPLE ---------- #\n",
    "def test_dernier_plus_grand():\n",
    "    assert dernier_plus_grand([0, 50, 10, 40, 0], 30)==40\n",
    "    assert dernier_plus_grand([0, 50, 10, 40, 0], 60)==-1\n",
    "    assert dernier_plus_grand([0, 50, 10, 40, 0], 45)==50\n",
    "    print(\"test ok\")\n",
    "    \n",
    "test_dernier_plus_grand()"
   ]
  },
  {
   "cell_type": "markdown",
   "metadata": {
    "deletable": false,
    "editable": false,
    "run_control": {
     "frozen": true
    }
   },
   "source": [
    "- **Recherche du premier élément d'un tableau plus grand qu'un seuil**. Définir une fonction `premier_plus_grand()` qui prend en paramètre un tableau et un seuil et retourne le premier élément du tableau plus grand ou égal au seuil si il y en a un et `-1` sinon."
   ]
  },
  {
   "cell_type": "code",
   "execution_count": null,
   "metadata": {},
   "outputs": [],
   "source": [
    "#-------------------------#\n",
    "#    Écrire le code ici   #\n",
    "#-------------------------#\n",
    "\n",
    "\n",
    "\n"
   ]
  },
  {
   "cell_type": "code",
   "execution_count": null,
   "metadata": {},
   "outputs": [],
   "source": [
    "# ------------  TEST/EXEMPLE ---------- #\n",
    "def test_premier_plus_grand():\n",
    "    assert premier_plus_grand([0, 50, 10, 40, 0], 30)==50\n",
    "    assert premier_plus_grand([0, 50, 10, 40, 0], 60)==-1\n",
    "    assert premier_plus_grand([0, 50, 10, 40, 0], 45)==50\n",
    "    print(\"test ok\")\n",
    "    \n",
    "test_premier_plus_grand()"
   ]
  },
  {
   "cell_type": "markdown",
   "metadata": {
    "deletable": false,
    "editable": false,
    "run_control": {
     "frozen": true
    }
   },
   "source": [
    "- **Recherche de la position du premier élément d'un tableau plus grand qu'un seuil**. Définir une fonction `pos_premier_plus_grand()` qui prend en paramètre un tableau et un seuil et retourne l'indice du premier élément du tableau plus grand ou égal au seuil si il y en a un et `-1` sinon."
   ]
  },
  {
   "cell_type": "code",
   "execution_count": null,
   "metadata": {},
   "outputs": [],
   "source": [
    "#-------------------------#\n",
    "#    Écrire le code ici   #\n",
    "#-------------------------#\n",
    "\n",
    "\n",
    "\n"
   ]
  },
  {
   "cell_type": "code",
   "execution_count": null,
   "metadata": {},
   "outputs": [],
   "source": [
    "# ------------  TEST/EXEMPLE ---------- #\n",
    "def test_pos_premier_plus_grand():\n",
    "    assert pos_premier_plus_grand([0, 50, 10, 40, 0], 30)==1\n",
    "    assert pos_premier_plus_grand([0, 50, 10, 40, 0], 60)==-1\n",
    "    assert pos_premier_plus_grand([0, 50, 10, 40, 0], 45)==1\n",
    "    print(\"test ok\")\n",
    "    \n",
    "test_pos_premier_plus_grand()"
   ]
  },
  {
   "cell_type": "markdown",
   "metadata": {},
   "source": [
    "- **Calcul de la somme des éléments d'un tableau**. Definir une fonction `somme()` qui prend en paramètre un tableau et retourne la somme de ses éléments."
   ]
  },
  {
   "cell_type": "code",
   "execution_count": null,
   "metadata": {},
   "outputs": [],
   "source": [
    "#-------------------------#\n",
    "#    Écrire le code ici   #\n",
    "#-------------------------#\n",
    "\n",
    "\n",
    "\n"
   ]
  },
  {
   "cell_type": "code",
   "execution_count": null,
   "metadata": {},
   "outputs": [],
   "source": [
    "# ------------  TEST/EXEMPLE ---------- #\n",
    "def test_somme():\n",
    "    assert somme([1,2,1,4])==8\n",
    "    assert somme([])==0\n",
    "    assert somme([-1,2,-1,4,-4])==0\n",
    "    print(\"test ok\")\n",
    "    \n",
    "test_somme()   "
   ]
  },
  {
   "cell_type": "markdown",
   "metadata": {},
   "source": [
    "- **Calcul de la somme des éléments d'un tableau plus grand qu'un seuil**. Definir une fonction `somme_sup_seuil()` qui prend en paramètre un tableau et un seuil et retourne la somme des éléments du tableau plus grands ou égaux au seuil. "
   ]
  },
  {
   "cell_type": "code",
   "execution_count": null,
   "metadata": {},
   "outputs": [],
   "source": [
    "#-------------------------#\n",
    "#    Écrire le code ici   #\n",
    "#-------------------------#\n",
    "\n",
    "\n",
    "\n"
   ]
  },
  {
   "cell_type": "code",
   "execution_count": null,
   "metadata": {},
   "outputs": [],
   "source": [
    "# ------------  TEST/EXEMPLE ---------- #\n",
    "def test_somme_sup_seuil():\n",
    "    assert somme_sup_seuil([1,2,1,4,5],0)==13\n",
    "    assert somme_sup_seuil([1,2,1,4,5],3)==9\n",
    "    assert somme_sup_seuil([],0)==0\n",
    "    print(\"test ok\")\n",
    "\n",
    "test_somme_sup_seuil()"
   ]
  },
  {
   "cell_type": "markdown",
   "metadata": {},
   "source": [
    "- **calcul de la clé d'un numéro de SIREN**\n",
    "\n",
    "En France, SIREN (Système d'Identification du Répertoire des\n",
    "ENtreprises) est un code INSEE unique qui sert à identifier les\n",
    "entreprises. Ce numéro est national, invariable et dure le temps de la\n",
    "vie de l'entreprise.  \n",
    "\n",
    "Le numéro SIREN est composé de 8 chiffres, plus un chiffre de contrôle\n",
    "qui permet de vérifier la validité du numéro.\n",
    "\n",
    "La clé de contrôle utilisée pour vérifier l'exactitude d'un identifiant est une\n",
    "clé suivant l'*algorithme de Luhn*. Le principe est le suivant : on additionne les chiffres du code en doublant les chiffres d'indice pair (excepté la clé). La somme obtenue une fois ajoutée la avleur de la clé doit être multiple de 10.\n",
    "\n",
    "**Exemple** :  `1 3 9 2 8 2 3 7 ?`<br>\n",
    "La somme obtenue (sans compter la clé) est : 2\\*1+3+2\\*9+2+2\\*8+2+2\\*3+7 = 56 qui n'est pas divisible par 10.\n",
    "Pour que cette valeur le soit, il faut rajouter 4. 56  + 4 = 60 qui est divisible par 10. Le numero : \n",
    "`1 3 9 2 8 2 3 7 4` est donc un numero de SIREN correct.\n",
    "\n",
    "On représente ce numéro SIREN par un tableau d'entiers. La case d'indice 8 représentera la clé à calculer.\n",
    "\n",
    "\n",
    "- Définir une fonction `calcul_cle` qui prend en paramètre une chaine de caractères de 8 chiffres et qui retourne un tableau d'entier correspondant au numero de SIREN associé.\n",
    "- Ecrire un programme qui demander à l'utilisateur les huit premiers chiffres du numéro de SIREN et affiche le numero complet."
   ]
  },
  {
   "cell_type": "code",
   "execution_count": null,
   "metadata": {},
   "outputs": [],
   "source": [
    "#-------------------------#\n",
    "#    Écrire le code ici   #\n",
    "#-------------------------#\n",
    "\n",
    "\n",
    "\n"
   ]
  },
  {
   "cell_type": "code",
   "execution_count": null,
   "metadata": {},
   "outputs": [],
   "source": [
    "# ------------  TEST/EXEMPLE ---------- #\n",
    "def test_calcul_cle():\n",
    "    assert calcul_cle(\"12345678\")== [1,2,3,4,5,6,7,8,8]\n",
    "    assert calcul_cle(\"13578000\")== [1,3,5,7,8,0,0,0,2]\n",
    "    assert calcul_cle(\"00000000\")== [0,0,0,0,0,0,0,0,0]\n",
    "    print(\"test ok\")\n",
    "\n",
    "test_calcul_cle()"
   ]
  },
  {
   "cell_type": "markdown",
   "metadata": {},
   "source": [
    "- **manipulation des éléments d'un tableau d'entiers**\n",
    "\n",
    "On suppose pour chaque fonction que le tableau passé en paramètre est correct.\n",
    "\n",
    "Lors d'une enquête de satisfaction pour un produit, des clients\n",
    "étaient invités à donner une note entière entre 0 et 20. Les 500\n",
    "réponses ont été collectées dans le tableau d'entiers donné ci-dessous."
   ]
  },
  {
   "cell_type": "code",
   "execution_count": null,
   "metadata": {},
   "outputs": [],
   "source": [
    "resultat=[3, 7, 9, 0, 18, 5, 4, 19, 8, 3, 10, 7, 14, 13, 0, 18, 17, 5,\n",
    "16, 4, 5, 1, 20, 6, 16, 10, 13, 12, 6, 5, 20, 8, 9, 15, 3, 17, 12, 10,\n",
    "19, 3, 13, 4, 13, 14 , 17, 17, 15, 14, 18, 6, 17, 9, 9, 6, 15, 17, 11,\n",
    "8, 8, 0, 19, 19, 13, 18, 11, 1, 16, 5, 16, 7, 18, 20, 3, 16, 3, 9, 1,\n",
    "3, 20, 11, 6, 19, 0, 13, 10, 14, 13, 5, 1, 16, 2, 19, 10, 2, 14, 6, 8,\n",
    "15, 4, 6, 8, 20, 4, 2, 0, 18, 19, 20, 13, 1, 13, 16, 12, 12, 7, 19,\n",
    "13, 11, 3, 18, 10, 7, 20, 0, 4, 4, 16, 14, 19, 0, 0, 16, 4, 0, 7, 18,\n",
    "15, 8, 8, 6, 1, 12, 17, 9, 1, 4, 13, 0, 8, 15, 19, 4, 3, 1, 3, 1, 1,\n",
    "1, 6, 10, 15, 8, 14, 17, 14, 3, 5, 0, 19, 6, 8, 13, 14, 2, 1, 12, 4,\n",
    "1, 10, 17, 11, 7, 11, 12, 6, 10, 8, 18, 13, 15, 12, 14, 8, 2, 2, 3,\n",
    "17, 6, 9, 17, 9, 19, 16, 8, 18, 0, 10, 15, 2, 17, 2, 3, 13, 19, 13,\n",
    "12, 12, 2, 2, 4, 17, 17, 17, 2, 11, 19, 13, 8, 0, 9, 8, 5, 4, 13, 9,\n",
    "9, 19, 15, 19, 1, 19, 10, 20, 1, 11, 8, 13, 0, 10, 6, 5, 1, 11, 0, 8,\n",
    "13, 5, 0, 15, 9, 7, 0, 10, 0, 1, 12, 12, 10, 19, 17, 0, 6, 16, 12, 8,\n",
    "12, 14, 13, 15, 20, 7, 17, 1, 18, 15, 13, 6, 14, 18, 8, 13, 14, 8, 14,\n",
    "7, 16, 2, 19, 14, 6, 17, 8, 11, 14, 16, 11, 19, 2, 20, 16, 2, 13, 14,\n",
    "20, 6, 13, 20, 9, 3, 19, 3, 0, 7, 0, 16, 7, 4, 15, 16, 17, 2, 14, 3,\n",
    "15, 12, 16, 18, 1, 5, 9, 2, 1, 5, 9, 5, 13, 10, 11, 16, 6, 16, 8, 13,\n",
    "11, 6, 8, 2, 5, 2, 5, 9, 1, 7, 20, 19, 4, 14, 2, 8, 9, 5, 9, 9, 5, 15,\n",
    "12, 3, 7, 15, 17, 6, 0, 7, 2, 17, 19, 20, 15, 1, 11, 11, 18, 9, 7, 1,\n",
    "1, 17, 1, 17, 10, 2, 5, 1, 14, 7, 2, 3, 0, 4, 2, 9, 17, 3, 6, 7, 18,\n",
    "14, 14, 4, 10, 3, 15, 16, 17, 6, 15, 12, 17, 9, 5, 14, 14, 6, 4, 4, 4,\n",
    "17, 10, 10, 11, 13, 16, 3, 0, 2, 18, 3, 20, 5, 16, 6, 0, 8, 3, 3, 10,\n",
    "2, 0, 6, 11, 12, 9, 18, 8, 6, 2, 0, 0, 19, 12, 17, 5, 19, 12, 17, 4,\n",
    "0, 20, 8, 3, 7, 6, 10, 0, 3, 4, 4, 6, 11, 0, 13, 14, 17, 20, 12, 3,\n",
    "18, 3, 13, 14]"
   ]
  },
  {
   "cell_type": "markdown",
   "metadata": {},
   "source": [
    "1. On souhaite connaître la répartition précise des notes qui\n",
    "ont été données, c'est-à-dire le nombre de fois que chaque note a\n",
    "été donnée.  <br>\n",
    "Ecrire une fonction `repartitionNotes` qui retourne un tableau de 21 éléments indicés de 0 à 20 dont la `n`-ième composante contiendra le nombre de fois où la note `n` a été donnée."
   ]
  },
  {
   "cell_type": "code",
   "execution_count": null,
   "metadata": {},
   "outputs": [],
   "source": [
    "#-------------------------#\n",
    "#    Écrire le code ici   #\n",
    "#-------------------------#\n",
    "\n",
    "\n",
    "\n"
   ]
  },
  {
   "cell_type": "code",
   "execution_count": null,
   "metadata": {},
   "outputs": [],
   "source": [
    "# ------------  TEST/EXEMPLE ---------- #\n",
    "assert repartitionNotes(resultat)==[31, 26, 26, 28, 23, 21, 28, 19, 28, 23, 21, 18, 21, 29, 26, 20, 22, 30, 18, 25, 17]\n",
    "print(\"test ok\")"
   ]
  },
  {
   "cell_type": "markdown",
   "metadata": {
    "deletable": false,
    "editable": false,
    "run_control": {
     "frozen": true
    }
   },
   "source": [
    "2. On souhaite connaître les notes qui ont été données le plus\n",
    "et moins fréquemment. <br>\n",
    "Ecrire des fonctions `max_tab` et `min_tab`qui à partir d'un tableau de notes retournent chacune un tableau de taille 2 de la forme `[valeur, nbfois]` des notes qui ont été données le plus et le moins souvent ainsi que le nombre de fois qu'elles ont été données. <br>\n",
    "Utiliser cette fonction pour afficher les notes données le plus et le moins fréquemment, ainsi que le nombre de fois qu'elles ont été utilisées dans le cas de l'enquête mentionnée ci-dessus.<br>\n",
    "L'exemple a été choisi afin que le maximum et le minimum des fréquences soient uniques."
   ]
  },
  {
   "cell_type": "code",
   "execution_count": null,
   "metadata": {},
   "outputs": [],
   "source": [
    "#-------------------------#\n",
    "#    Écrire le code ici   #\n",
    "#-------------------------#\n",
    "\n",
    "\n",
    "\n",
    "\n"
   ]
  },
  {
   "cell_type": "code",
   "execution_count": null,
   "metadata": {},
   "outputs": [],
   "source": [
    "# ------------  TEST/EXEMPLE ---------- #\n",
    "assert max_tab(resultat)==[0,31]\n",
    "assert min_tab(resultat)==[20,17]\n",
    "print(\"test ok\")"
   ]
  },
  {
   "cell_type": "markdown",
   "metadata": {
    "deletable": false,
    "editable": false,
    "run_control": {
     "frozen": true
    }
   },
   "source": [
    "3. Afin d'avoir une vision plus précise, on souhaite obtenir le pourcentage de personnes\n",
    "étant très satisfaites (note entre 16 et 20), plutôt satisfaites (note entre 11 et 15),\n",
    "plutôt insatisfaites (note entre 6 et 10) et pas du tout satisfaites (note entre 0 et 5).<br>\n",
    "Pour cela, créer une fonction `calculSatisfaction`prenant en paramètre le tableau retourné par la fonction de\n",
    "la question 1 et retournant un tableau de 4 cases, chaque case contenant le pourcentage par de degré de satisfaction croissant (de pas du tout satisfait à très satisfait)."
   ]
  },
  {
   "cell_type": "code",
   "execution_count": null,
   "metadata": {},
   "outputs": [],
   "source": [
    "#-------------------------#\n",
    "#    Écrire le code ici   #\n",
    "#-------------------------#\n",
    "\n",
    "\n",
    "\n"
   ]
  },
  {
   "cell_type": "code",
   "execution_count": null,
   "metadata": {},
   "outputs": [],
   "source": [
    "# ------------  TEST/EXEMPLE ---------- #\n",
    "assert calculSatisfaction(repartitionNotes(resultat))==[31.0, 23.8, 22.8, 22.4]\n",
    "print(\"test ok\")"
   ]
  },
  {
   "cell_type": "markdown",
   "metadata": {
    "deletable": false,
    "editable": false,
    "run_control": {
     "frozen": true
    }
   },
   "source": [
    "4. Pour simplifier la lecture des résultats, écrire les pourcentage de satisfaction sous\n",
    "la forme de graphique selon :\n",
    "```\n",
    "Tres satisfaites        : *******************************\n",
    "Plutot satisfaites      : ***********************\n",
    "Plutot instatisfaites   : **********************\n",
    "Tres insatisfaites      : **********************\n",
    "```\n",
    "où le nombre d'étoiles de chaque ligne correspond à la partie entière inférieure du\n",
    "pourcentage de satisfaction associé.\n",
    "<br><br>\n",
    "Pour cela, créer une fonction prenant en paramètre le tableau de pourcentage et affichant\n",
    "sous forme graphique les résultats.\n",
    "\n",
    "**Rappel** que quand le paramètre passé à la fonction `int` est\n",
    "un nombre réel (à virgule flottante) `x` , la fonction retourne la\n",
    "valeur obtenue en tronquant la partie décimale de `x`. \n"
   ]
  },
  {
   "cell_type": "code",
   "execution_count": null,
   "metadata": {},
   "outputs": [],
   "source": [
    "#-------------------------#\n",
    "#    Écrire le code ici   #\n",
    "#-------------------------#\n",
    "\n",
    "\n",
    "\n"
   ]
  },
  {
   "cell_type": "code",
   "execution_count": null,
   "metadata": {},
   "outputs": [],
   "source": [
    "# ------------  TEST/EXEMPLE ---------- #\n",
    "pourcentages= calculSatisfaction(repartitionNotes(resultat))\n",
    "affichePourcentageGraphique(pourcentages)"
   ]
  },
  {
   "cell_type": "markdown",
   "metadata": {
    "deletable": false,
    "editable": false,
    "run_control": {
     "frozen": true
    }
   },
   "source": [
    "## Manipulation de chaînes de caractères \n",
    "\n",
    "- **calcul du nombre de mots d'une phrase**\n",
    "\n",
    "    1. Définir une fonction `compteMots(phrase)` qui renvoie le\n",
    "nombre de mots contenus dans la phrase `phrase` (une phrase est un\n",
    "chaîne de caractères qui contient éventuellement des espaces). <br> \n",
    "On considère comme mots les ensembles de caractères inclus entre des espaces. On suppose qu'il n'y a jamais deux espaces consécutifs."
   ]
  },
  {
   "cell_type": "code",
   "execution_count": null,
   "metadata": {},
   "outputs": [],
   "source": [
    "#-------------------------#\n",
    "#    Écrire le code ici   #\n",
    "#-------------------------#\n",
    "\n",
    "\n",
    "\n"
   ]
  },
  {
   "cell_type": "code",
   "execution_count": null,
   "metadata": {},
   "outputs": [],
   "source": [
    "# ------------  TEST/EXEMPLE ---------- #\n",
    "def test_compteMots():\n",
    "    assert compteMots(\"il était une fois\")== 4\n",
    "    assert compteMots(\"je suis étudiant à Villetaneuse\")==5\n",
    "    print(\"test ok\")\n",
    "    \n",
    "test_compteMots()"
   ]
  },
  {
   "cell_type": "markdown",
   "metadata": {
    "deletable": false,
    "editable": false,
    "run_control": {
     "frozen": true
    }
   },
   "source": [
    "2. Ecrire une fonction `estUneMaj()` qui renvoie `True`si l'argument transmis est une majuscule. \n",
    "On ne tiendra pas compte des majuscules accentuées."
   ]
  },
  {
   "cell_type": "code",
   "execution_count": null,
   "metadata": {},
   "outputs": [],
   "source": [
    "#-------------------------#\n",
    "#    Écrire le code ici   #\n",
    "#-------------------------#\n",
    "\n",
    "\n",
    "\n"
   ]
  },
  {
   "cell_type": "code",
   "execution_count": null,
   "metadata": {},
   "outputs": [],
   "source": [
    "# ------------  TEST/EXEMPLE ---------- #\n",
    "def test_estUneMaj():\n",
    "    assert estUneMaj('K')==True\n",
    "    assert estUneMaj('k')==False\n",
    "    assert estUneMaj('1')==False\n",
    "    assert estUneMaj(' ')==False\n",
    "    print(\"test ok\")\n",
    "    \n",
    "test_estUneMaj()"
   ]
  },
  {
   "cell_type": "markdown",
   "metadata": {},
   "source": [
    "3. Ecrire une fonction `chaineTableau()` qui convertit\n",
    "une phrase en un tableau de mots. On n'utilisera pas la fonction `split`  prédéfinie en Python On supposera à nouveau qu'il n'y a jamais deux espaces consécutifs."
   ]
  },
  {
   "cell_type": "code",
   "execution_count": null,
   "metadata": {},
   "outputs": [],
   "source": [
    "#-------------------------#\n",
    "#    Écrire le code ici   #\n",
    "#-------------------------#\n",
    "\n",
    "\n",
    "\n"
   ]
  },
  {
   "cell_type": "code",
   "execution_count": null,
   "metadata": {},
   "outputs": [],
   "source": [
    "# ------------  TEST/EXEMPLE ---------- #\n",
    "def test_chaineTableau():\n",
    "    assert chaineTableau(\"il était une fois\")== ['il','était','une','fois']\n",
    "    assert chaineTableau(\"je suis étudiant à Villetaneuse\")==['je','suis','étudiant','à','Villetaneuse']\n",
    "    print(\"test ok\")\n",
    "    \n",
    "test_chaineTableau()"
   ]
  },
  {
   "cell_type": "markdown",
   "metadata": {
    "deletable": false,
    "editable": false,
    "run_control": {
     "frozen": true
    }
   },
   "source": [
    "4.  En utilisant les fonctions précédemment définies, écrire une fonction `compteMaj()` qui renvoie le nombre de mots commençant par majuscule dans une phrase passée en argument."
   ]
  },
  {
   "cell_type": "code",
   "execution_count": null,
   "metadata": {},
   "outputs": [],
   "source": [
    "#-------------------------#\n",
    "#    Écrire le code ici   #\n",
    "#-------------------------#\n",
    "\n",
    "\n",
    "\n"
   ]
  },
  {
   "cell_type": "code",
   "execution_count": null,
   "metadata": {},
   "outputs": [],
   "source": [
    "# ------------  TEST/EXEMPLE ---------- #\n",
    "def test_compteMaj():\n",
    "    assert compteMaj('World Wildlife Fund')==3\n",
    "    assert compteMaj('Il était une fois')==1\n",
    "    assert compteMaj('12355')==0\n",
    "    assert compteMaj('')==0\n",
    "    print(\"test ok\")\n",
    "    \n",
    "test_compteMaj()"
   ]
  },
  {
   "cell_type": "markdown",
   "metadata": {
    "deletable": false,
    "editable": false,
    "run_control": {
     "frozen": true
    }
   },
   "source": [
    "5.  En utilisant les fonctions précédemment définies, écrire une\n",
    "fonction `proportionMaj()}` qui affiche la proportion de mots commençant par une majuscule parmi tous les mots d'une phrase. "
   ]
  },
  {
   "cell_type": "code",
   "execution_count": null,
   "metadata": {},
   "outputs": [],
   "source": [
    "#-------------------------#\n",
    "#    Écrire le code ici   #\n",
    "#-------------------------#\n",
    "\n",
    "\n",
    "\n"
   ]
  },
  {
   "cell_type": "code",
   "execution_count": null,
   "metadata": {},
   "outputs": [],
   "source": [
    "# ------------  TEST/EXEMPLE ---------- #\n",
    "def test_proportionMaj():\n",
    "    assert proportionMaj('World Wildlife Fund')==100\n",
    "    assert proportionMaj('Il était une fois')== 25\n",
    "    assert proportionMaj('12355')==0\n",
    "    print(\"test ok\")\n",
    "    \n",
    "test_proportionMaj()"
   ]
  },
  {
   "cell_type": "markdown",
   "metadata": {
    "deletable": false,
    "editable": false,
    "run_control": {
     "frozen": true
    }
   },
   "source": [
    "6. En utilisant les fonctions précédemment définies, écrire une fonction `longueurMots()` qui renvoie la somme des longueurs desmots d'une phrase passée en argument."
   ]
  },
  {
   "cell_type": "code",
   "execution_count": null,
   "metadata": {},
   "outputs": [],
   "source": [
    "#-------------------------#\n",
    "#    Écrire le code ici   #\n",
    "#-------------------------#\n",
    "\n",
    "\n",
    "\n"
   ]
  },
  {
   "cell_type": "code",
   "execution_count": null,
   "metadata": {},
   "outputs": [],
   "source": [
    "# ------------  TEST/EXEMPLE ---------- #\n",
    "def test_longueurMots():\n",
    "    assert longueurMots(\"il était une fois\")== 14\n",
    "    assert longueurMots(\"je suis étudiant à Villetaneuse\")==27\n",
    "    print(\"test ok\")\n",
    "    \n",
    "test_longueurMots()"
   ]
  },
  {
   "cell_type": "markdown",
   "metadata": {
    "deletable": false,
    "editable": false,
    "run_control": {
     "frozen": true
    }
   },
   "source": [
    "7. En utilisant les fonctions précédemment définies, écrire une\n",
    "fonction `longueurMoy()` qui retourne la longueur moyenne des mots d'une phrase passée en argument."
   ]
  },
  {
   "cell_type": "code",
   "execution_count": null,
   "metadata": {},
   "outputs": [],
   "source": [
    "#-------------------------#\n",
    "#    Écrire le code ici   #\n",
    "#-------------------------#\n",
    "\n",
    "\n",
    "\n"
   ]
  },
  {
   "cell_type": "code",
   "execution_count": null,
   "metadata": {},
   "outputs": [],
   "source": [
    "# ------------  TEST/EXEMPLE ---------- #\n",
    "from math import *\n",
    "\n",
    "def test_longueurMoy():\n",
    "    assert isclose(longueurMoy(\"il était une fois\"),14/4)\n",
    "    assert isclose(longueurMoy(\"je suis étudiant à Villetaneuse\"),27/5)\n",
    "    print(\"test ok\")\n",
    "    \n",
    "test_longueurMoy()"
   ]
  },
  {
   "cell_type": "markdown",
   "metadata": {},
   "source": [
    "8. Ecrire un programme qui permet la saisie d'une phrase, affiche la proportion de mots commençant par une majuscule ainsi que  la longueur moyenne des mots de la phrase.  "
   ]
  },
  {
   "cell_type": "code",
   "execution_count": null,
   "metadata": {},
   "outputs": [],
   "source": [
    "#-------------------------#\n",
    "#    Écrire le code ici   #\n",
    "#-------------------------#\n",
    "\n",
    "\n",
    "\n"
   ]
  },
  {
   "cell_type": "markdown",
   "metadata": {
    "deletable": false,
    "editable": false,
    "run_control": {
     "frozen": true
    }
   },
   "source": [
    "- **étude de la suite de Conway**\n",
    "\n",
    "La suite de Conway a pour premier terme le caractère '1'.  A\n",
    "chaque itération, on lit de gauche à droite la totalité du terme\n",
    "courant. On compte le nombre de caractères identiques et on code cette\n",
    "information sous la forme \"nombre\" suivi du \"symbole\". Par exemple\n",
    "'222' est codé comme '32' car il y a trois symboles '2'. Ainsi les\n",
    "6 premiers termes de la suite de Conway sont:\n",
    "```\n",
    "1\n",
    "11\n",
    "21\n",
    "1211\n",
    "111221\n",
    "312211\n",
    "```\n",
    "\n",
    "Le but de cet exercice est d'écrire un programme qui affiche les `n`\n",
    "premiers termes de la suite de Conway, l'entier  `n` étant choisi\n",
    "par l'utilisateur.\n",
    "\n",
    "1. Ecrire une fonction `saisie()` permettant la saisie d'un nombre entier `n` strictement positif.  La fonction redemandera un entier à l'utilisateur jusqu'à ce que le nombre proposé soit correct."
   ]
  },
  {
   "cell_type": "code",
   "execution_count": null,
   "metadata": {},
   "outputs": [],
   "source": [
    "#-------------------------#\n",
    "#    Écrire le code ici   #\n",
    "#-------------------------#\n",
    "\n",
    "\n",
    "\n"
   ]
  },
  {
   "cell_type": "markdown",
   "metadata": {},
   "source": [
    "2. Ecrire une fonction `codage_c()` qui prend en paramètre\n",
    "une chaîne de caractères formée de chiffres et la transforme en\n",
    "une chaîne codant les plages successives de chiffres identiques sous\n",
    "la forme \"nombre\" suivi du \"chiffre\". Par exemple,\n",
    "`codage_c('3321115')` renvoie `\"23123115\"`."
   ]
  },
  {
   "cell_type": "code",
   "execution_count": 4,
   "metadata": {},
   "outputs": [],
   "source": [
    "#-------------------------#\n",
    "#    Écrire le code ici   #\n",
    "#-------------------------#\n",
    "\n",
    "\n",
    "\n"
   ]
  },
  {
   "cell_type": "code",
   "execution_count": null,
   "metadata": {},
   "outputs": [],
   "source": [
    "# ------------  TEST/EXEMPLE ---------- #\n",
    "def test_codage_c():\n",
    "    assert codage_c(\"3321115\")==\"23123115\"\n",
    "    assert codage_c(\"312211\")==\"13112221\"\n",
    "    print(\"test ok\")\n",
    "    \n",
    "test_codage_c()"
   ]
  },
  {
   "cell_type": "markdown",
   "metadata": {},
   "source": [
    "3. Ecrire une fonction `conway()` qui prend comme paramètre un entier `n` et affiche les `n` premiers termes de la suite de Conway. On rappelle que le premier terme est égal à la chaîne de caractères `'1'`.  On ne vérifiera pas que `n` est strictement positif."
   ]
  },
  {
   "cell_type": "code",
   "execution_count": null,
   "metadata": {},
   "outputs": [],
   "source": [
    "#-------------------------#\n",
    "#    Écrire le code ici   #\n",
    "#-------------------------#\n",
    "\n",
    "\n",
    "\n"
   ]
  },
  {
   "cell_type": "markdown",
   "metadata": {},
   "source": [
    "4. En utilisant les fonctions définies dans les questions\n",
    "précédentes, écrire un programme qui permet la saisie d'un entier `n` strictement positif et affiche les `n` premiers termes de la suite de Conway."
   ]
  },
  {
   "cell_type": "code",
   "execution_count": null,
   "metadata": {},
   "outputs": [],
   "source": [
    "#-------------------------#\n",
    "#    Écrire le code ici   #\n",
    "#-------------------------#\n",
    "\n",
    "\n",
    "\n"
   ]
  },
  {
   "cell_type": "markdown",
   "metadata": {
    "deletable": false,
    "editable": false,
    "run_control": {
     "frozen": true
    }
   },
   "source": [
    "- **bruit des gouttes d'eau** \n",
    "\n",
    "Définir la fonction `raindrops` prenant en paramètre un entier et retournant une chaîne de caractères.\n",
    "Cette chaîne doit vérifier les règles suivantes :\n",
    "* si le nombre passé en paramère est un multiple de 3, ajouter 'Pling' au résultat,\n",
    "* si le nombre passé en paramère est un multiple de 5, ajouter 'Plang' au résultat,\n",
    "* si le nombre passé en paramère est un multiple de 7, ajouter 'Plong' au résultat,\n",
    "* si le nombre passé en paramère n'est pas multiple de 3, 5 ou 7, le résultat doit être la chaîne correspondant à l'entier passé en paramètre.\n",
    "\n",
    "On testera d'abord la multiplicité par 3, puis par 5, et enfin par 7."
   ]
  },
  {
   "cell_type": "markdown",
   "metadata": {
    "deletable": false,
    "editable": false,
    "run_control": {
     "frozen": true
    }
   },
   "source": [
    "* L'appel de la fonction `raindrops` avec la valeur 28 doit retourner `\"Plong\"`,\n",
    "* l'appel de la fonction `raindrops` avec la valeur 30 doit retourner `\"PlingPlang\"`,\n",
    "* l'appel de la fonction `raindrops` avec la valeur 34 doit retourner `\"34\"`."
   ]
  },
  {
   "cell_type": "code",
   "execution_count": null,
   "metadata": {},
   "outputs": [],
   "source": [
    "#-------------------------#\n",
    "#    Écrire le code ici   #\n",
    "#-------------------------#\n",
    "\n",
    "\n"
   ]
  },
  {
   "cell_type": "code",
   "execution_count": null,
   "metadata": {},
   "outputs": [],
   "source": [
    "# ------------  TEST/EXEMPLE ---------- \n",
    "def test_raindrops():\n",
    "    assert raindrops(1) == \"1\"\n",
    "    assert raindrops(3) == \"Pling\"\n",
    "    assert raindrops(5) == \"Plang\"\n",
    "    assert raindrops(7) == \"Plong\"\n",
    "    assert raindrops(6) == \"Pling\"\n",
    "    assert raindrops(8) == \"8\"\n",
    "    assert raindrops(10) == \"Plang\"\n",
    "    assert raindrops(14) == \"Plong\"\n",
    "    assert raindrops(15) == \"PlingPlang\"\n",
    "    assert raindrops(21) == \"PlingPlong\"\n",
    "    assert raindrops(25) == \"Plang\"\n",
    "    assert raindrops(27) == \"Pling\"\n",
    "    assert raindrops(105) == \"PlingPlangPlong\"\n",
    "    assert raindrops(35) == \"PlangPlong\"\n",
    "    assert raindrops(3125) == \"Plang\"\n",
    "    assert raindrops(52) == \"52\"\n",
    "    print(\"Test de la fonction raindrops : ok\")\n",
    "    \n",
    "test_raindrops()"
   ]
  },
  {
   "cell_type": "markdown",
   "metadata": {
    "deletable": false,
    "editable": false,
    "run_control": {
     "frozen": true
    }
   },
   "source": [
    "## Dictionnaire\n",
    "\n",
    "En cryptographie,le chiffrement de César est une technique de cryptage très simple dans laquelle chaque lettre du texte est remplacée par une autre lettre dans l'alphabet avec un décalage des lettres. <br>\n",
    "Par exemple, avec un décalage de 3, \"A\" serait remplacé par \"D\", \"B\" deviendrait \"E\", etc.<br> \n",
    "La méthode porte le nom de Jules César, qui l'utilisait pour communiquer avec ses généraux.<br>\n",
    "ROT-13 (\"rotation de 13 cases\") est un exemple très utilisé de ce type de chiffrement où le décalage est de 13. En Python, la clé de chiffrement pour ROT-13 peut être représentée au moyen du dictionnaire suivant :"
   ]
  },
  {
   "cell_type": "code",
   "execution_count": null,
   "metadata": {},
   "outputs": [],
   "source": [
    "key = {'a':'n', 'b':'o', 'c':'p', 'd':'q', 'e':'r', 'f':'s', 'g':'t', 'h':'u', \n",
    "       'i':'v', 'j':'w', 'k':'x', 'l':'y', 'm':'z', 'n':'a', 'o':'b', 'p':'c', \n",
    "       'q':'d', 'r':'e', 's':'f', 't':'g', 'u':'h', 'v':'i', 'w':'j', 'x':'k',\n",
    "       'y':'l', 'z':'m', 'A':'N', 'B':'O', 'C':'P', 'D':'Q', 'E':'R', 'F':'S', \n",
    "       'G':'T', 'H':'U', 'I':'V', 'J':'W', 'K':'X', 'L':'Y', 'M':'Z', 'N':'A', \n",
    "       'O':'B', 'P':'C', 'Q':'D', 'R':'E', 'S':'F', 'T':'G', 'U':'H', 'V':'I', \n",
    "       'W':'J', 'X':'K', 'Y':'L', 'Z':'M'}"
   ]
  },
  {
   "cell_type": "markdown",
   "metadata": {},
   "source": [
    "- Ecrire une fonction `cesar(message)` qui permet d'utiliser le dictionnaire `key`et de coder un message grâce à ROT-13 \n",
    "- Coder le message \"Je suis etudiant a l IUT\", puis décoder le message pour vérifier.\n",
    "\n",
    "\n",
    "**NB** :  La méthode `chaine.isalpha()` retourne `True` si tous les caractères de `chaine` sont des lettres et qu'il y a au moins un caractère et `False`dans le cas contraire. "
   ]
  },
  {
   "cell_type": "code",
   "execution_count": null,
   "metadata": {},
   "outputs": [],
   "source": [
    "############################# \n",
    "#   Saisir votre code ici.   #\n",
    "##############################\n",
    "\n",
    "\n"
   ]
  }
 ],
 "metadata": {
  "kernelspec": {
   "display_name": "Python 3",
   "language": "python",
   "name": "python3"
  },
  "language_info": {
   "codemirror_mode": {
    "name": "ipython",
    "version": 3
   },
   "file_extension": ".py",
   "mimetype": "text/x-python",
   "name": "python",
   "nbconvert_exporter": "python",
   "pygments_lexer": "ipython3",
   "version": "3.7.4"
  },
  "latex_envs": {
   "LaTeX_envs_menu_present": true,
   "autoclose": false,
   "autocomplete": true,
   "bibliofile": "biblio.bib",
   "cite_by": "apalike",
   "current_citInitial": 1,
   "eqLabelWithNumbers": true,
   "eqNumInitial": 1,
   "hotkeys": {
    "equation": "Ctrl-E",
    "itemize": "Ctrl-I"
   },
   "labels_anchors": false,
   "latex_user_defs": false,
   "report_style_numbering": false,
   "user_envs_cfg": false
  }
 },
 "nbformat": 4,
 "nbformat_minor": 2
}
